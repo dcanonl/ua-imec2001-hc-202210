{
 "cells": [
  {
   "cell_type": "markdown",
   "metadata": {},
   "source": [
    "Punto 1"
   ]
  },
  {
   "cell_type": "code",
   "execution_count": 2,
   "metadata": {},
   "outputs": [
    {
     "name": "stderr",
     "output_type": "stream",
     "text": [
      "\u001b[32m\u001b[1m  Activating\u001b[22m\u001b[39m project at `c:\\Users\\danie\\OneDrive\\Documentos\\GitHub\\ua-imec2001-hc-202210\\Herrmainetas C\\content\\week2`\n",
      "\u001b[32m\u001b[1m    Updating\u001b[22m\u001b[39m registry at `C:\\Users\\danie\\.julia\\registries\\General.toml`\n",
      "\u001b[32m\u001b[1m   Resolving\u001b[22m\u001b[39m package versions...\n",
      "\u001b[32m\u001b[1m  No Changes\u001b[22m\u001b[39m to `C:\\Users\\danie\\OneDrive\\Documentos\\GitHub\\ua-imec2001-hc-202210\\Herrmainetas C\\content\\week2\\Project.toml`\n",
      "\u001b[32m\u001b[1m  No Changes\u001b[22m\u001b[39m to `C:\\Users\\danie\\OneDrive\\Documentos\\GitHub\\ua-imec2001-hc-202210\\Herrmainetas C\\content\\week2\\Manifest.toml`\n",
      "\u001b[32m\u001b[1m   Resolving\u001b[22m\u001b[39m package versions...\n",
      "\u001b[32m\u001b[1m  No Changes\u001b[22m\u001b[39m to `C:\\Users\\danie\\OneDrive\\Documentos\\GitHub\\ua-imec2001-hc-202210\\Herrmainetas C\\content\\week2\\Project.toml`\n",
      "\u001b[32m\u001b[1m  No Changes\u001b[22m\u001b[39m to `C:\\Users\\danie\\OneDrive\\Documentos\\GitHub\\ua-imec2001-hc-202210\\Herrmainetas C\\content\\week2\\Manifest.toml`\n",
      "\u001b[32m\u001b[1m   Resolving\u001b[22m\u001b[39m package versions...\n",
      "\u001b[32m\u001b[1m  No Changes\u001b[22m\u001b[39m to `C:\\Users\\danie\\OneDrive\\Documentos\\GitHub\\ua-imec2001-hc-202210\\Herrmainetas C\\content\\week2\\Project.toml`\n",
      "\u001b[32m\u001b[1m  No Changes\u001b[22m\u001b[39m to `C:\\Users\\danie\\OneDrive\\Documentos\\GitHub\\ua-imec2001-hc-202210\\Herrmainetas C\\content\\week2\\Manifest.toml`\n"
     ]
    }
   ],
   "source": [
    "using Pkg\n",
    "Pkg.activate(pwd())\n",
    "Pkg.instantiate()\n",
    "Pkg.add(\"XLSX\")\n",
    "Pkg.add(\"CSV\")\n",
    "Pkg.add(\"DataFrames\")\n"
   ]
  },
  {
   "cell_type": "code",
   "execution_count": 3,
   "metadata": {},
   "outputs": [
    {
     "ename": "LoadError",
     "evalue": "EOFError: read end of file",
     "output_type": "error",
     "traceback": [
      "EOFError: read end of file",
      "",
      "Stacktrace:",
      "  [1] unsafe_read(s::IOStream, p::Ptr{UInt8}, nb::UInt64)",
      "    @ Base .\\iostream.jl:427",
      "  [2] unsafe_read",
      "    @ .\\io.jl:724 [inlined]",
      "  [3] read!",
      "    @ .\\io.jl:736 [inlined]",
      "  [4] _find_diroffset(io::IOStream, enddiroffset::Int64)",
      "    @ ZipFile C:\\Users\\danie\\.julia\\packages\\ZipFile\\evaHP\\src\\ZipFile.jl:300",
      "  [5] Reader",
      "    @ C:\\Users\\danie\\.julia\\packages\\ZipFile\\evaHP\\src\\ZipFile.jl:105 [inlined]",
      "  [6] ZipFile.Reader(filename::String)",
      "    @ ZipFile C:\\Users\\danie\\.julia\\packages\\ZipFile\\evaHP\\src\\ZipFile.jl:118",
      "  [7] XLSX.XLSXFile(filepath::String, use_cache::Bool, is_writable::Bool)",
      "    @ XLSX C:\\Users\\danie\\.julia\\packages\\XLSX\\vGPvE\\src\\types.jl:256",
      "  [8] open_or_read_xlsx(filepath::String, read_files::Bool, enable_cache::Bool, read_as_template::Bool)",
      "    @ XLSX C:\\Users\\danie\\.julia\\packages\\XLSX\\vGPvE\\src\\read.jl:190",
      "  [9] openxlsx(f::XLSX.var\"#29#30\"{Nothing, Nothing, Bool, Bool, Bool, Nothing, String}, filepath::String; mode::String, enable_cache::Bool)",
      "    @ XLSX C:\\Users\\danie\\.julia\\packages\\XLSX\\vGPvE\\src\\read.jl:129",
      " [10] #readtable#28",
      "    @ C:\\Users\\danie\\.julia\\packages\\XLSX\\vGPvE\\src\\read.jl:577 [inlined]",
      " [11] top-level scope",
      "    @ In[3]:3",
      " [12] eval",
      "    @ .\\boot.jl:373 [inlined]",
      " [13] include_string(mapexpr::typeof(REPL.softscope), mod::Module, code::String, filename::String)",
      "    @ Base .\\loading.jl:1196"
     ]
    }
   ],
   "source": [
    "using DataFrames, XLSX\n",
    "\n",
    "df = DataFrame(XLSX.readtable(\"./data/SD_5Min.xlsx\", \"Radiacion\", header=true)...)"
   ]
  }
 ],
 "metadata": {
  "interpreter": {
   "hash": "5322818cae43cf6468214953b049884cb6ca7e8071f01fca2a6d6ce521d192bd"
  },
  "kernelspec": {
   "display_name": "Julia 1.7.2",
   "language": "julia",
   "name": "julia-1.7"
  },
  "language_info": {
   "file_extension": ".jl",
   "mimetype": "application/julia",
   "name": "julia",
   "version": "1.7.2"
  },
  "orig_nbformat": 4
 },
 "nbformat": 4,
 "nbformat_minor": 2
}
