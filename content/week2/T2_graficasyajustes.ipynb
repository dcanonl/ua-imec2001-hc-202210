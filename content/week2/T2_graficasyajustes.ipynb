{
 "cells": [
  {
   "cell_type": "markdown",
   "metadata": {},
   "source": [
    "# IMEC2201 Herramientas Computacionales \n",
    "## Taller Semana 2: Visualizaciones y Ajuste de Datos\n",
    "### Fecha Límite Entrega (Bloque Neón): <font color=\"#FF5733\">23.59h de Abril 22, 2022</font>\n",
    "\n",
    "Universidad de los Andes — Abril 6, 2022.\n",
    "\n",
    "___\n",
    "### Tener en Cuenta\n",
    "La entrega del Taller 2 se puede realizar de tres maneras:\n",
    "1. Cargar la solución en su repositorio en GitHub y enviar el enlace del mismo vía Bloque Neón.\n",
    "2. Enviar vía Bloque Neón el archivo en Jupyter Notebook (extensión '.ipynb').\n",
    "3. Enviar vía Bloque Neón el archivo PDF del Jupyter Notebook.\n",
    "___"
   ]
  },
  {
   "cell_type": "markdown",
   "metadata": {},
   "source": [
    "## Ejercicio 1: Correlación Medición-Simulación\n",
    "\n",
    "En la carpeta $\\texttt{data}$ se disponen los archivos `SD_5Min.xlsx` y `solar_production.csv`.\n",
    "\n",
    "- `SD_5Min.xlsx` contiene las **mediciones** de los valores de producción de la planta solar fotovoltaica ubicada en el edificio Santo Domingo de la Universidad de los Andes, desde 1-Agosto-2019 hasta 30-Junio-2021.\n",
    "- `solar_production.csv` contiene los resultados de una **simulación** de la misma planta y con la misma resolución de los datos (i.e., un dato cada cinco minutos), desde 1-Enero-2020 hasta 1-Enero-2021.\n",
    "\n",
    "<div class=\"alert alert-block alert-warning\">\n",
    "    \n",
    "Realice una correlación entre los datos medidos (eje X) y los datos simulados (eje Y) de Potencia AC. Tenga en cuenta:\n",
    "1. ¿Cómo uniría los dos DataFrame en un único DataFrame con base en las fechas indicadas en el archivo `solar_production.csv`? Explore la función `innerjoin()`.\n",
    "2. Cómo realizaría un ajuste lineal de los datos para: <br>\n",
    "    2.1. Extraer parámetros de ecuación de la curva de regresión lineal (pendiente e intercepto). <br>\n",
    "    2.2. Calcular el coeficiente de correlación R2. <br>\n",
    "3. Grafique la correlación entre estos datos y su ajuste lineal, incluyendo en la leyenda la ecuación de la recta y el coeficiente de correlación.\n",
    "\n",
    "**Nota:** Es posible experimentar retardos (lags) en VS Code o Jupyter Notebook por la cantidad de datos con que se trabaja y la alta resolución de las gráficas. Para evitar esto:\n",
    "- Tomar el número de datos que ustedes desean graficar, ya sea modificando el DataFrame desde Julia o modificar el archivo CSV y guardarlo como un archivo aparte del original.\n",
    "- Cambiar el backend de gráficas de Julia. Por ejemplo, para los que conocen matplotlib en Python, desde Julia pueden crear estas gráficas con la librería PyPlot.\n",
    "\n",
    "</div>\n",
    "\n",
    "___\n",
    "\n",
    "**Ejemplo** <br>\n",
    "<font color=\"#FF5733\">Output</font>\n",
    "\n",
    "<img src='./img/Correlation_Pac.png' width='350'/>\n",
    "\n",
    "___"
   ]
  },
  {
   "cell_type": "code",
   "execution_count": 1,
   "metadata": {},
   "outputs": [
    {
     "name": "stderr",
     "output_type": "stream",
     "text": [
      "\u001b[32m\u001b[1m  Activating\u001b[22m\u001b[39m project at `c:\\Users\\danie\\OneDrive\\Documentos\\GitHub\\ua-imec2001-hc-202210\\Herrmainetas C\\content\\week2`\n",
      "\u001b[32m\u001b[1m    Updating\u001b[22m\u001b[39m registry at `C:\\Users\\danie\\.julia\\registries\\General.toml`\n",
      "\u001b[32m\u001b[1m   Resolving\u001b[22m\u001b[39m package versions...\n",
      "\u001b[32m\u001b[1m  No Changes\u001b[22m\u001b[39m to `C:\\Users\\danie\\OneDrive\\Documentos\\GitHub\\ua-imec2001-hc-202210\\Herrmainetas C\\content\\week2\\Project.toml`\n",
      "\u001b[32m\u001b[1m  No Changes\u001b[22m\u001b[39m to `C:\\Users\\danie\\OneDrive\\Documentos\\GitHub\\ua-imec2001-hc-202210\\Herrmainetas C\\content\\week2\\Manifest.toml`\n",
      "\u001b[32m\u001b[1m   Resolving\u001b[22m\u001b[39m package versions...\n",
      "\u001b[32m\u001b[1m  No Changes\u001b[22m\u001b[39m to `C:\\Users\\danie\\OneDrive\\Documentos\\GitHub\\ua-imec2001-hc-202210\\Herrmainetas C\\content\\week2\\Project.toml`\n",
      "\u001b[32m\u001b[1m  No Changes\u001b[22m\u001b[39m to `C:\\Users\\danie\\OneDrive\\Documentos\\GitHub\\ua-imec2001-hc-202210\\Herrmainetas C\\content\\week2\\Manifest.toml`\n",
      "\u001b[32m\u001b[1m   Resolving\u001b[22m\u001b[39m package versions...\n",
      "\u001b[32m\u001b[1m  No Changes\u001b[22m\u001b[39m to `C:\\Users\\danie\\OneDrive\\Documentos\\GitHub\\ua-imec2001-hc-202210\\Herrmainetas C\\content\\week2\\Project.toml`\n",
      "\u001b[32m\u001b[1m  No Changes\u001b[22m\u001b[39m to `C:\\Users\\danie\\OneDrive\\Documentos\\GitHub\\ua-imec2001-hc-202210\\Herrmainetas C\\content\\week2\\Manifest.toml`\n"
     ]
    }
   ],
   "source": [
    "using Pkg\n",
    "Pkg.activate(pwd())\n",
    "Pkg.instantiate()\n",
    "Pkg.add(\"XLSX\")\n",
    "Pkg.add(\"CSV\")\n",
    "Pkg.add(\"DataFrames\")"
   ]
  },
  {
   "cell_type": "code",
   "execution_count": null,
   "metadata": {},
   "outputs": [],
   "source": [
    "using DataFrames, XLSX\n",
    "using DataFrames, CSV\n",
    "df = DataFrame(XLSX.readtable(\"./data/SD_5Min(1).xlsx\", \"Radiacion\", header=true)...)\n",
    "#CSV.File(\"./data/solar_production.csv\", header=1, delim=';')\n",
    "df2 = DataFrame(CSV.File(\"./data/solar_production.csv\", header=1, delim=';'))"
   ]
  },
  {
   "cell_type": "code",
   "execution_count": null,
   "metadata": {},
   "outputs": [],
   "source": [
    "using Dates\n",
    "fecha = []\n",
    "df2[!,1][2][1:19]\n",
    "for i in 1:size(df2[!,1])[1]\n",
    "    push!(fecha,Dates.DateTime(df2[!,1][i][1:19],\"y-m-d H:M:S\"))\n",
    "end\n",
    "df2[:,\"Date\"]= fecha\n",
    "df2 = df2[:,[\"Date\",\"Zenith (deg)\",\"Elevation (deg)\",\"Azimuth (deg)\",\"Airmass Relative (ad)\",\"Airmass Absolute (ad)\",\"Extraterrestrial Radiation (W/m2)\",\"POA (W/m2)\",\"Tmod (C)\",\"Pdc (W)\",\"Pac (W)\",\"Daily Energy (Wh)\",\"Weekly Energy (Wh)\",\"Monthly Energy (Wh)\"]]\n"
   ]
  },
  {
   "cell_type": "code",
   "execution_count": null,
   "metadata": {},
   "outputs": [],
   "source": [
    "using DataFrames\n",
    "df3=innerjoin(df,df2,on=\"Date\")"
   ]
  },
  {
   "cell_type": "code",
   "execution_count": 39,
   "metadata": {},
   "outputs": [],
   "source": [
    "using Plots\n",
    "plot(df3.\"Meteocontrol Irrad (W/m2)\",df3.\"POA (W/m2)\",500)\n",
    "keys"
   ]
  },
  {
   "cell_type": "code",
   "execution_count": null,
   "metadata": {},
   "outputs": [],
   "source": [
    "function p1()\n",
    "    if df2 ∉ \n",
    "end"
   ]
  },
  {
   "cell_type": "markdown",
   "metadata": {},
   "source": [
    "## Ejercicio 2: Comportamiento Estadístico Mensual\n",
    "\n",
    "En la carpeta $\\texttt{data}$ se dispone el archivo `SD_5Min.xlsx` que contiene las **mediciones** de los valores de producción de la planta solar fotovoltaica ubicada en el edificio Santo Domingo de la Universidad de los Andes, desde 1-Agosto-2019 hasta 30-Junio-2021.\n",
    "\n",
    "<div class=\"alert alert-block alert-warning\">\n",
    "    \n",
    "Escriba un algoritmo que permita obtener los valores máximo, promedio y mínimo para todos los días de un mes durante cada instante de tiempo. Es decir:\n",
    "\n",
    "<img src='./img/table_excercise2.png' width='650'/>\n",
    "\n",
    "Note que:\n",
    "- La primera columna contiene las estampas de tiempo para un día completo, es decir, un dato cinco minutal desde las 00:00 hasta las 23:55.\n",
    "- Se tiene una columna de datos de irradiancia por día; es decir, 30 o 31 columnas de datos.\n",
    "- Se agregan las columnas de interés: mínimo, promedio y máximo. Estas son columnas calculadas con las 30 o 31 columnas de datos. Por ejemplo:\n",
    "    - Columna: Mínimo, Fila: 11:55 -> min(800, 700, 880, ..., 630) = 630\n",
    "    - Columna: Promedio, Fila: 12:00 -> mean(850, 680, 930, ..., 720) = 795\n",
    "    - Columna: Máximo, Fila: 12:05 -> max(1010, 810, 850, ..., 760) = 1010\n",
    "- La gráfica se genera al graficar en una misma figura: (i.) Tiempo vs Mín, (ii.) Tiempo vs Prom, (iii.) Tiempo vs. Max.\n",
    "</div>\n",
    "\n",
    "___\n",
    "\n",
    "**Ejemplo** <br>\n",
    "<font color=\"#FF5733\">Output</font>\n",
    "<img src='./img/irradiance_per_minute.png' width='750'/>\n",
    "\n",
    "**Nota:** Solo se solicita la gráfica de los datos mínimo, promedio y máximo, es decir, los marcadores color azul, verde y naranja en esta figura.\n",
    "___"
   ]
  },
  {
   "cell_type": "code",
   "execution_count": null,
   "metadata": {},
   "outputs": [],
   "source": []
  },
  {
   "cell_type": "markdown",
   "metadata": {},
   "source": [
    "## Ejercicio 3: Histogramas y Distribuciones\n",
    "\n",
    "En la carpeta $\\texttt{data}$ se dispone el archivo `SD_5Min.xlsx` que contiene las **mediciones** de los valores de producción de la planta solar fotovoltaica ubicada en el edificio Santo Domingo de la Universidad de los Andes, desde 1-Agosto-2019 hasta 30-Junio-2021. \n",
    "\n",
    "<div class=\"alert alert-block alert-warning\">\n",
    "    \n",
    "Similar al Ejercicio 2, escriba un algoritmo que permita obtener un DataFrame tal que:\n",
    "- La primera columna contiene las estampas de tiempo para un día completo, es decir, un dato cinco minutal desde las 00:00 hasta las 23:55.\n",
    "- Se tiene una columna de datos de irradiancia por día; es decir, 30 o 31 columnas de datos.\n",
    "\n",
    "A partir de este DataFrame, cree un histogramas para tres instantes de tiempo diferentes (es decir, tres histogramas en total) y analice e interprete el resultado.\n",
    "\n",
    "**Nota:** Explore qué es un *QQ-Plot* y cómo implementarlo en Julia.\n",
    "\n",
    "</div>\n",
    "\n",
    "___\n",
    "**Ejemplo** <br>\n",
    "<font color=\"#FF5733\">Output</font>\n",
    "\n",
    "<img src='./img/histograms.png' width='700'/>\n",
    "___"
   ]
  },
  {
   "cell_type": "code",
   "execution_count": null,
   "metadata": {},
   "outputs": [],
   "source": []
  }
 ],
 "metadata": {
  "kernelspec": {
   "display_name": "Julia 1.7.2",
   "language": "julia",
   "name": "julia-1.7"
  },
  "language_info": {
   "file_extension": ".jl",
   "mimetype": "application/julia",
   "name": "julia",
   "version": "1.7.2"
  },
  "toc": {
   "base_numbering": 1,
   "nav_menu": {},
   "number_sections": false,
   "sideBar": true,
   "skip_h1_title": true,
   "title_cell": "Table of Contents",
   "title_sidebar": "Contents",
   "toc_cell": false,
   "toc_position": {},
   "toc_section_display": true,
   "toc_window_display": false
  }
 },
 "nbformat": 4,
 "nbformat_minor": 2
}
