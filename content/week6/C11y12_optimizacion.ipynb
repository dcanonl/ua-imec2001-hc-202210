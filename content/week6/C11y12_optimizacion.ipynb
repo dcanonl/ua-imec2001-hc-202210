{
 "cells": [
  {
   "cell_type": "markdown",
   "metadata": {},
   "source": [
    "# IMEC2201 Herramientas Computacionales \n",
    "## Semana 6: Optimización\n",
    "### Clase 11-12:  Optimización y Sistemas de Bombeo\n",
    "\n",
    "Universidad de los Andes — Mayo 11, 2022.\n",
    "\n",
    "---\n",
    "\n",
    "## TABLA DE CONTENIDO\n",
    "\n",
    "### Sección 1: Optimización [→](#section1)\n",
    "- 1.1. Introducción\n",
    "- 1.2. Cargar Librerías\n",
    "- 1.3. Sintaxis\n",
    "- 1.4. Ejemplo 1\n",
    "- 1.5. Ejemplo 2\n",
    "- 1.6. Ejemplo 3\n",
    "- 1.7. Ejemplo 4\n",
    "\n",
    "### Sección 2: Sistema de Bombeo [→](#section2)\n",
    "- 2.1. Introducción\n",
    "- 2.2. Ejemplo 5\n",
    "___"
   ]
  },
  {
   "cell_type": "markdown",
   "metadata": {},
   "source": [
    "**¡Importante!** Note que la carpeta **week6** contiene dos archivos: `Project.toml` y `Manifest.toml`. Estos configuran el <font color=\"#FF5733\">*ambiente de trabajo*</font> y facilitan el manejo de <font color=\"#FF5733\">librerías</font>.\n",
    "\n",
    "Para inicializar el ambiente desde Julia REPL, dentro de la carpeta **week6**, ejecute lo siguiente:\n",
    "\n",
    "```shell\n",
    "$ (v1.7) pkg > activate .\n",
    "$ (week6) pkg> instantiate\n",
    "```\n",
    "\n",
    "**Nota:** Para acceder al Pkg REPL, escriba el corchete derecho `]` en el Julia REPL. Note que el REPL cambie de color de verde (Julia REPL) a azul (Pkg REPL). Una vez ejecutado el código `activate .`, el prefijo entre paréntesis indica el ambiente activo: cambia de `v1.7` a `week6`.\n",
    "\n",
    "O, desde Jupyter Notebook, ejecute:\n",
    "\n",
    "```julia\n",
    "$ using Pkg\n",
    "$ Pkg.activate()\n",
    "$ Pkg.instantiate()\n",
    "```\n",
    "\n",
    "**Nota:** La activación del ambiente <font color=\"#FF5733\">*precompila*</font> las librerías por lo que puede tardar un momento su ejecución completa.\n",
    "\n",
    "<div class=\"alert alert-block alert-info\">\n",
    "    \n",
    "<i class=\"fa fa-info-circle\" aria-hidden=\"true\"></i>\n",
    "Puede obtener más información en la documentación oficial de la librería [`Pkg.jl`](https://pkgdocs.julialang.org/v1/environments/) y en el documento dando clic [aquí](https://towardsdatascience.com/how-to-setup-project-environments-in-julia-ec8ae73afe9c).\n",
    "</div>"
   ]
  },
  {
   "cell_type": "code",
   "execution_count": 1,
   "metadata": {},
   "outputs": [
    {
     "name": "stderr",
     "output_type": "stream",
     "text": [
      "\u001b[32m\u001b[1m  Activating\u001b[22m\u001b[39m project at `~/Documents/GitHub/ua-imec2001-hc-202210/content/week6`\n"
     ]
    }
   ],
   "source": [
    "using Pkg\n",
    "Pkg.activate(pwd())\n",
    "Pkg.instantiate()"
   ]
  },
  {
   "cell_type": "code",
   "execution_count": 2,
   "metadata": {},
   "outputs": [
    {
     "name": "stdout",
     "output_type": "stream",
     "text": [
      "\u001b[32m\u001b[1m      Status\u001b[22m\u001b[39m `~/Documents/GitHub/ua-imec2001-hc-202210/content/week6/Project.toml`\n",
      " \u001b[90m [a93c6f00] \u001b[39mDataFrames v1.3.4\n",
      " \u001b[90m [39dd38d3] \u001b[39mDierckx v0.5.2\n",
      " \u001b[90m [60bf3e95] \u001b[39mGLPK v1.0.1\n",
      " \u001b[90m [a98d9a8b] \u001b[39mInterpolations v0.13.6\n",
      " \u001b[90m [b6b21f68] \u001b[39mIpopt v1.0.2\n",
      " \u001b[90m [4076af6c] \u001b[39mJuMP v1.0.0\n",
      " \u001b[90m [2774e3e8] \u001b[39mNLsolve v4.5.1\n",
      " \u001b[90m [91a5bcdd] \u001b[39mPlots v1.29.0\n",
      " \u001b[90m [f2b01f46] \u001b[39mRoots v2.0.0\n"
     ]
    }
   ],
   "source": [
    "Pkg.status()"
   ]
  },
  {
   "cell_type": "markdown",
   "metadata": {},
   "source": [
    "<a id=\"section1\"></a>\n",
    "# Sección 1: Optimización"
   ]
  },
  {
   "cell_type": "markdown",
   "metadata": {},
   "source": [
    "## 1.1. Introducción\n",
    "\n",
    "La optimización es la aplicación de **métodos analíticos y numéricos** enfocados a encontrar e identificar al mejor candidato de entre una colección de alternativas. \n",
    "\n",
    "> Un problema de optimización es un problema de decisión.\n",
    "\n",
    "Los elementos que componen un ejercicio de optimización son:\n",
    "\n",
    "- **Variables de decisión:** Selección de las variables independientes que sean adecuadas para caracterizar los posibles diseños candidatos y las condiciones de funcionamiento del sistema. Como variables independientes se sueleng elegir aquellas que tienen un impacto significativo sobre la función objetivo.\n",
    "\n",
    "- **Restricciones:** Establecer mediante ecuaciones las relaciones existentes entre las variables de decisión. Estas relaciones son debidas, por ejemplo, a limitaciones en el sistema, a leyes naturales o a limitaciones tecnológicas.\n",
    "\n",
    "- **Función objetivo:** Elemento utilizado para decidir los valores adecuados de las variables de decisión que resuelven el problema de optimización. La función objetivo permite determinar los mejores valores para las variables de decisión. También se conoce como **criterio de elección**.\n",
    "\n",
    "> En general, la optimización indica los valores de las variables de decisión que producen el mínimo\n",
    "o máximo valor (según el criterio utilizado) de la función objetivo elegida.\n",
    "\n",
    "Algunos ejemplos de optimización son de tipo económico (coste total, beneficio), de tipo tecnológico (energía mínima, máxima capacidad de carga, máxima tasa de producción) o de tipo temporal (tiempo de producción mínimo) entre otros.\n",
    "\n",
    "**Nota:** Únicamente se utilizará **un único criterio de optimización**, no estamos interesados en encontrar una solución que, por ejemplo, minimice el coste, maximice la producción y al mismo tiempo minimice la energía utilizada (los problemas que utilizan varios criterios de búsqueda entran dentro de la llamada optimización multiobjetivo).\n",
    "\n",
    "Entonces:\n",
    "\n",
    "> Un problema de optimización consiste en la búsqueda de valores para unas determinadas variables (variables de decisión) de forma que, cumpliendo un conjunto de requisitos representados mediante ecuaciones y/o inecuaciones algebráicas (restricciones) que limitarán la elección de los valores de las variables de decisión, proporcionan el mejor valor posible para una función (función objetivo) que es utilizada para medir el rendimiento del sistema que se estudia.\n",
    "\n",
    "En otras palabras, buscamos valores que cumplan unas condiciones y minimicen o maximicen una función que caracteriza el sistema.\n",
    "\n",
    "La sintaxis es:\n",
    "\n",
    "$$\n",
    "\\begin{cases}\n",
    "  \\text{Optimizar} & \\rightarrow f(x)\\\\ \n",
    "  \\\\\n",
    "  \\text{Sujeto a (S.T.)} & \\rightarrow \\text{Restricciones}\\\\\n",
    "\\end{cases} \n",
    "$$\n",
    "\n",
    "Emplearemos la librería `JuMP` empleando el solucionador (*solver*) lineal `GLPK` y el no lineal `Ipopt`.\n",
    "\n",
    "---\n",
    "[1] Universidad Politécnica de Cartagena (s.f.). Fundamentos de Optimización, Capítulo 1. DMAE - UPCT."
   ]
  },
  {
   "cell_type": "markdown",
   "metadata": {},
   "source": [
    "## 1.2. Cargar Librerías"
   ]
  },
  {
   "cell_type": "code",
   "execution_count": 1,
   "metadata": {},
   "outputs": [
    {
     "ename": "LoadError",
     "evalue": "ArgumentError: Package JuMP [4076af6c-e467-56ae-b986-b466b2749572] is required but does not seem to be installed:\n - Run `Pkg.instantiate()` to install all recorded dependencies.\n",
     "output_type": "error",
     "traceback": [
      "ArgumentError: Package JuMP [4076af6c-e467-56ae-b986-b466b2749572] is required but does not seem to be installed:\n - Run `Pkg.instantiate()` to install all recorded dependencies.\n",
      "",
      "Stacktrace:",
      " [1] _require(pkg::Base.PkgId)",
      "   @ Base .\\loading.jl:1089",
      " [2] require(uuidkey::Base.PkgId)",
      "   @ Base .\\loading.jl:1013",
      " [3] require(into::Module, mod::Symbol)",
      "   @ Base .\\loading.jl:997",
      " [4] eval",
      "   @ .\\boot.jl:373 [inlined]",
      " [5] include_string(mapexpr::typeof(REPL.softscope), mod::Module, code::String, filename::String)",
      "   @ Base .\\loading.jl:1196"
     ]
    }
   ],
   "source": [
    "using JuMP\n",
    "using GLPK\n",
    "using Ipopt\n",
    "using Plots\n",
    "using Dierckx\n",
    "using DataFrames\n",
    "using Interpolations\n",
    "using Roots \n",
    "using NLsolve "
   ]
  },
  {
   "cell_type": "markdown",
   "metadata": {},
   "source": [
    "## 1.3. Sintaxis\n",
    "\n",
    "Utilizando un ejemplo, entendamos la sintaxis de la librería `JuMP`.\n",
    "\n",
    "En este caso, se busca:\n",
    "\n",
    "$$\n",
    "\\begin{cases}\n",
    "  \\text{Minimizar} & 12x + 20y\\\\ \n",
    "  \\\\\n",
    "  \\text{S.T.} & \\begin{cases}\n",
    "                  6x + 8y >= 100\\\\\n",
    "                  \\\\\n",
    "                  7x + 12y >= 120\\\\\n",
    "                  \\\\\n",
    "                  x >= 0\\\\\n",
    "                  \\\\\n",
    "                  y \\in [0,3]\n",
    "                \\end{cases}\n",
    "\\end{cases} \n",
    "$$\n",
    "\n",
    "Entonces:\n",
    "\n",
    "**Paso 1.** Crear un modelo pasando un optimizador a la función `Model`:\n",
    "```julia\n",
    "model = Model(GLPK.Optimizer)\n",
    "```\n",
    "\n",
    "**Paso 2.** Modelar las variables con el macro `@variable()`. En este caso, las variables son:\n",
    "\n",
    "$$\n",
    "\\begin{cases}\n",
    "  x >= 0\\\\\n",
    "  \\\\\n",
    "  y \\in [0,3]\n",
    "\\end{cases}\n",
    "$$\n",
    "\n",
    "Luego, el código es:\n",
    "\n",
    "```julia\n",
    "@variable(model, x >= 0)\n",
    "@variable(model, 0 <= y <= 3)\n",
    "```\n",
    "\n",
    "**Paso 3.** Definir la función objetivo con el macro `@objective`. En este caso, esta es:\n",
    "\n",
    "$$\n",
    "\\text{Minimizar} \\rightarrow 12x + 20y\n",
    "$$\n",
    "\n",
    "Luego, el código es:\n",
    "\n",
    "```julia\n",
    "@objective(model, Min, 12x + 20y)\n",
    "```\n",
    "\n",
    "Si en lugar de minimizar se desea maximizat, se tiene:\n",
    "\n",
    "```julia\n",
    "@objective(model, Max, 12x + 20y)\n",
    "```\n",
    "\n",
    "Note el cambio del segundo parámetro de `Min` a `Max`.\n",
    "\n",
    "**Paso 4.** Definir las restricciones con el macro `@constraint`. En este caso, estas son:\n",
    "\n",
    "$$\n",
    "\\begin{cases}\n",
    "  6x + 8y >= 100\\\\\n",
    "  \\\\\n",
    "  7x + 12y >= 120\n",
    "\\end{cases}\n",
    "$$\n",
    "\n",
    "Luego, el código es:\n",
    "\n",
    "```julia\n",
    "@constraint(model, c1, 6x + 8y >= 100)\n",
    "@constraint(model, c2, 7x + 12y >= 120)\n",
    "```\n",
    "\n",
    "Siendo `c1` y `c2` son los nombres que les asignamos a las restricciones.\n",
    "\n",
    "**Paso 5.** Resolver el ejercicio de optimización con la función `optimize!()`.\n",
    "\n",
    "```julia\n",
    "optimize!(model)\n",
    "```\n",
    "\n",
    "**Paso 6.** Extraer el resultado o valor objetivo con la función `objective_value(model)`."
   ]
  },
  {
   "cell_type": "code",
   "execution_count": 5,
   "metadata": {},
   "outputs": [
    {
     "data": {
      "text/latex": [
       "$$ \\begin{aligned}\n",
       "\\min\\quad & 12 x + 20 y\\\\\n",
       "\\text{Subject to} \\quad & 6 x + 8 y \\geq 100.0\\\\\n",
       " & 7 x + 12 y \\geq 120.0\\\\\n",
       " & x \\geq 0.0\\\\\n",
       " & y \\geq 0.0\\\\\n",
       " & y \\leq 3.0\\\\\n",
       "\\end{aligned} $$"
      ]
     },
     "metadata": {},
     "output_type": "display_data"
    },
    {
     "name": "stdout",
     "output_type": "stream",
     "text": [
      "objective_value(model) = 204.99999999999997\n",
      "value(x) = 15.000000000000005\n",
      "value(y) = 1.249999999999996\n"
     ]
    },
    {
     "data": {
      "text/plain": [
       "1.249999999999996"
      ]
     },
     "execution_count": 5,
     "metadata": {},
     "output_type": "execute_result"
    }
   ],
   "source": [
    "# Paso 1\n",
    "model = Model(GLPK.Optimizer)\n",
    "\n",
    "# Paso 2\n",
    "@variable(model, x >= 0)\n",
    "@variable(model, 0 <= y <= 3)\n",
    "\n",
    "# Paso 3\n",
    "@objective(model, Min, 12x + 20y)\n",
    "\n",
    "# Paso 4\n",
    "@constraint(model, c1, 6x + 8y >= 100)\n",
    "@constraint(model, c2, 7x + 12y >= 120)\n",
    "print(model)\n",
    "\n",
    "# Paso 5\n",
    "optimize!(model)\n",
    "\n",
    "# Paso 6\n",
    "@show objective_value(model)\n",
    "@show value(x)\n",
    "@show value(y)"
   ]
  },
  {
   "cell_type": "markdown",
   "metadata": {},
   "source": [
    "## 1.4. Ejemplo 1\n",
    "\n",
    "Calcular las dimensiones $x$ y $y$ del rectángulo de mayor área $A$ y de perímetro constante $p$ e igual a 48 m.\n",
    "\n",
    "Organizando el problema, tenemos:\n",
    "\n",
    "$$\n",
    "\\begin{cases}\n",
    "  \\text{Maximizar} & A = x y\\\\ \n",
    "  \\\\\n",
    "  \\text{S.T.} & \\begin{cases}\n",
    "                  2x + 2y = 48\\\\\n",
    "                  \\\\\n",
    "                  x >= 0\\\\\n",
    "                  \\\\\n",
    "                  y >= 0\\\\\n",
    "                \\end{cases}\n",
    "\\end{cases} \n",
    "$$\n",
    "\n",
    "**Nota:** Dado que la función objetivo **no es lineal**, el *solver* a utilizar es `Ipopt` en lugar de `GLPK`. También, note que en lugar de `@objective` y `@constraint`, ahora utilizamos `@NLobjective` y `@NLconstraint`."
   ]
  },
  {
   "cell_type": "code",
   "execution_count": 6,
   "metadata": {},
   "outputs": [
    {
     "data": {
      "text/latex": [
       "$$ \\begin{aligned}\n",
       "\\max\\quad & x * y\\\\\n",
       "\\text{Subject to} \\quad & x \\geq 0.0\\\\\n",
       " & y \\geq 0.0\\\\\n",
       " & (2.0 * x + 2.0 * y) - 48.0 = 0\\\\\n",
       "\\end{aligned} $$"
      ]
     },
     "metadata": {},
     "output_type": "display_data"
    },
    {
     "name": "stdout",
     "output_type": "stream",
     "text": [
      "\n",
      "******************************************************************************\n",
      "This program contains Ipopt, a library for large-scale nonlinear optimization.\n",
      " Ipopt is released as open source code under the Eclipse Public License (EPL).\n",
      "         For more information visit https://github.com/coin-or/Ipopt\n",
      "******************************************************************************\n",
      "\n",
      "This is Ipopt version 3.14.4, running with linear solver MUMPS 5.4.1.\n",
      "\n",
      "Number of nonzeros in equality constraint Jacobian...:        2\n",
      "Number of nonzeros in inequality constraint Jacobian.:        0\n",
      "Number of nonzeros in Lagrangian Hessian.............:        3\n",
      "\n",
      "Total number of variables............................:        2\n",
      "                     variables with only lower bounds:        2\n",
      "                variables with lower and upper bounds:        0\n",
      "                     variables with only upper bounds:        0\n",
      "Total number of equality constraints.................:        1\n",
      "Total number of inequality constraints...............:        0\n",
      "        inequality constraints with only lower bounds:        0\n",
      "   inequality constraints with lower and upper bounds:        0\n",
      "        inequality constraints with only upper bounds:        0\n",
      "\n",
      "iter    objective    inf_pr   inf_du lg(mu)  ||d||  lg(rg) alpha_du alpha_pr  ls\n",
      "   0  9.9999800e-05 4.80e+01 0.00e+00  -1.0 0.00e+00    -  0.00e+00 0.00e+00   0\n",
      "   1  1.4400000e+02 0.00e+00 1.19e+03  -1.0 1.20e+01    -  8.32e-04 1.00e+00f  1\n",
      "   2  1.4400000e+02 0.00e+00 1.00e-06  -1.0 2.97e-25    -  1.00e+00 1.00e+00   0\n",
      "   3  1.4400000e+02 0.00e+00 2.83e-08  -2.5 1.06e-19    -  1.00e+00 1.00e+00   0\n",
      "   4  1.4400000e+02 0.00e+00 1.50e-09  -3.8 3.89e-21    -  1.00e+00 1.00e+00T  0\n",
      "   5  1.4400000e+02 0.00e+00 1.84e-11  -5.7 1.77e-26    -  1.00e+00 1.00e+00T  0\n",
      "   6  1.4400000e+02 0.00e+00 2.52e-14  -8.6 0.00e+00    -  1.00e+00 1.00e+00T  0\n",
      "\n",
      "Number of Iterations....: 6\n",
      "\n",
      "                                   (scaled)                 (unscaled)\n",
      "Objective...............:  -1.4400000000000000e+02    1.4400000000000000e+02\n",
      "Dual infeasibility......:   2.5208135514645952e-14    2.5208135514645952e-14\n",
      "Constraint violation....:   0.0000000000000000e+00    0.0000000000000000e+00\n",
      "Variable bound violation:   0.0000000000000000e+00    0.0000000000000000e+00\n",
      "Complementarity.........:   2.5059035596799853e-09    2.5059035596799853e-09\n",
      "Overall NLP error.......:   2.5059035596799853e-09    2.5059035596799853e-09\n",
      "\n",
      "\n",
      "Number of objective function evaluations             = 7\n",
      "Number of objective gradient evaluations             = 7\n",
      "Number of equality constraint evaluations            = 7\n",
      "Number of inequality constraint evaluations          = 0\n",
      "Number of equality constraint Jacobian evaluations   = 7\n",
      "Number of inequality constraint Jacobian evaluations = 0\n",
      "Number of Lagrangian Hessian evaluations             = 6\n",
      "Total seconds in IPOPT                               = 3.487\n",
      "\n",
      "EXIT: Optimal Solution Found.\n",
      "objective_value(model) = 144.0\n",
      "value(x) = 12.0\n",
      "value(y) = 12.0\n"
     ]
    },
    {
     "data": {
      "text/plain": [
       "12.0"
      ]
     },
     "execution_count": 6,
     "metadata": {},
     "output_type": "execute_result"
    }
   ],
   "source": [
    "# Paso 1\n",
    "model = Model(Ipopt.Optimizer)\n",
    "\n",
    "# Paso 2\n",
    "@variable(model, x >= 0, start = 0)\n",
    "@variable(model, y >= 0, start = 0)\n",
    "\n",
    "# Paso 3\n",
    "@NLobjective(model, Max, x*y) # NLobjective y no objective\n",
    "\n",
    "# Paso 4\n",
    "@NLconstraint(model, c1, 2x + 2y == 48) # NLconstraint y no constraint\n",
    "print(model)\n",
    "\n",
    "# Paso 5\n",
    "optimize!(model)\n",
    "\n",
    "# Paso 6\n",
    "@show objective_value(model)\n",
    "@show value(x)\n",
    "@show value(y)"
   ]
  },
  {
   "cell_type": "markdown",
   "metadata": {},
   "source": [
    "Si realizamos una verificación gráfica, tenemos que:\n",
    "\n",
    "\\begin{cases}\n",
    "  A = x y & (1)\\\\ \n",
    "  \\\\\n",
    "  2x + 2y = 48 & (2)\n",
    "\\end{cases}\n",
    "\n",
    "Despejando $y$ en la Ecuación 2, se tiene:\n",
    "\n",
    "$$\n",
    "y = \\frac{48 - 2x}{2}\n",
    "$$\n",
    "\n",
    "Reemplazando esta respuesta en la Ecuación 1, se tiene:\n",
    "\n",
    "$$\n",
    "A = x \\cdot \\frac{48 - 2x}{2} \\: \\rightarrow \\: \\frac{48x - 2x^2}{2} \\: \\rightarrow \\: 24x - x^2\n",
    "$$"
   ]
  },
  {
   "cell_type": "code",
   "execution_count": 7,
   "metadata": {},
   "outputs": [
    {
     "data": {
      "image/svg+xml": "<?xml version=\"1.0\" encoding=\"utf-8\"?>\n<svg xmlns=\"http://www.w3.org/2000/svg\" xmlns:xlink=\"http://www.w3.org/1999/xlink\" width=\"600\" height=\"400\" viewBox=\"0 0 2400 1600\">\n<defs>\n  <clipPath id=\"clip560\">\n    <rect x=\"0\" y=\"0\" width=\"2400\" height=\"1600\"/>\n  </clipPath>\n</defs>\n<path clip-path=\"url(#clip560)\" d=\"\nM0 1600 L2400 1600 L2400 0 L0 0  Z\n  \" fill=\"#ffffff\" fill-rule=\"evenodd\" fill-opacity=\"1\"/>\n<defs>\n  <clipPath id=\"clip561\">\n    <rect x=\"480\" y=\"0\" width=\"1681\" height=\"1600\"/>\n  </clipPath>\n</defs>\n<path clip-path=\"url(#clip560)\" d=\"\nM232.389 1423.18 L2352.76 1423.18 L2352.76 47.2441 L232.389 47.2441  Z\n  \" fill=\"#ffffff\" fill-rule=\"evenodd\" fill-opacity=\"1\"/>\n<defs>\n  <clipPath id=\"clip562\">\n    <rect x=\"232\" y=\"47\" width=\"2121\" height=\"1377\"/>\n  </clipPath>\n</defs>\n<polyline clip-path=\"url(#clip562)\" style=\"stroke:#000000; stroke-linecap:butt; stroke-linejoin:round; stroke-width:2; stroke-opacity:0.1; fill:none\" points=\"\n  292.4,1423.18 292.4,47.2441 \n  \"/>\n<polyline clip-path=\"url(#clip562)\" style=\"stroke:#000000; stroke-linecap:butt; stroke-linejoin:round; stroke-width:2; stroke-opacity:0.1; fill:none\" points=\"\n  792.486,1423.18 792.486,47.2441 \n  \"/>\n<polyline clip-path=\"url(#clip562)\" style=\"stroke:#000000; stroke-linecap:butt; stroke-linejoin:round; stroke-width:2; stroke-opacity:0.1; fill:none\" points=\"\n  1292.57,1423.18 1292.57,47.2441 \n  \"/>\n<polyline clip-path=\"url(#clip562)\" style=\"stroke:#000000; stroke-linecap:butt; stroke-linejoin:round; stroke-width:2; stroke-opacity:0.1; fill:none\" points=\"\n  1792.66,1423.18 1792.66,47.2441 \n  \"/>\n<polyline clip-path=\"url(#clip562)\" style=\"stroke:#000000; stroke-linecap:butt; stroke-linejoin:round; stroke-width:2; stroke-opacity:0.1; fill:none\" points=\"\n  2292.75,1423.18 2292.75,47.2441 \n  \"/>\n<polyline clip-path=\"url(#clip560)\" style=\"stroke:#000000; stroke-linecap:butt; stroke-linejoin:round; stroke-width:4; stroke-opacity:1; fill:none\" points=\"\n  232.389,1423.18 2352.76,1423.18 \n  \"/>\n<polyline clip-path=\"url(#clip560)\" style=\"stroke:#000000; stroke-linecap:butt; stroke-linejoin:round; stroke-width:4; stroke-opacity:1; fill:none\" points=\"\n  292.4,1423.18 292.4,1404.28 \n  \"/>\n<polyline clip-path=\"url(#clip560)\" style=\"stroke:#000000; stroke-linecap:butt; stroke-linejoin:round; stroke-width:4; stroke-opacity:1; fill:none\" points=\"\n  792.486,1423.18 792.486,1404.28 \n  \"/>\n<polyline clip-path=\"url(#clip560)\" style=\"stroke:#000000; stroke-linecap:butt; stroke-linejoin:round; stroke-width:4; stroke-opacity:1; fill:none\" points=\"\n  1292.57,1423.18 1292.57,1404.28 \n  \"/>\n<polyline clip-path=\"url(#clip560)\" style=\"stroke:#000000; stroke-linecap:butt; stroke-linejoin:round; stroke-width:4; stroke-opacity:1; fill:none\" points=\"\n  1792.66,1423.18 1792.66,1404.28 \n  \"/>\n<polyline clip-path=\"url(#clip560)\" style=\"stroke:#000000; stroke-linecap:butt; stroke-linejoin:round; stroke-width:4; stroke-opacity:1; fill:none\" points=\"\n  2292.75,1423.18 2292.75,1404.28 \n  \"/>\n<path clip-path=\"url(#clip560)\" d=\"M292.4 1454.1 Q288.789 1454.1 286.96 1457.66 Q285.154 1461.2 285.154 1468.33 Q285.154 1475.44 286.96 1479.01 Q288.789 1482.55 292.4 1482.55 Q296.034 1482.55 297.84 1479.01 Q299.668 1475.44 299.668 1468.33 Q299.668 1461.2 297.84 1457.66 Q296.034 1454.1 292.4 1454.1 M292.4 1450.39 Q298.21 1450.39 301.265 1455 Q304.344 1459.58 304.344 1468.33 Q304.344 1477.06 301.265 1481.67 Q298.21 1486.25 292.4 1486.25 Q286.59 1486.25 283.511 1481.67 Q280.455 1477.06 280.455 1468.33 Q280.455 1459.58 283.511 1455 Q286.59 1450.39 292.4 1450.39 Z\" fill=\"#000000\" fill-rule=\"evenodd\" fill-opacity=\"1\" /><path clip-path=\"url(#clip560)\" d=\"M782.764 1451.02 L801.12 1451.02 L801.12 1454.96 L787.046 1454.96 L787.046 1463.43 Q788.065 1463.08 789.083 1462.92 Q790.102 1462.73 791.12 1462.73 Q796.907 1462.73 800.287 1465.9 Q803.667 1469.08 803.667 1474.49 Q803.667 1480.07 800.194 1483.17 Q796.722 1486.25 790.403 1486.25 Q788.227 1486.25 785.958 1485.88 Q783.713 1485.51 781.306 1484.77 L781.306 1480.07 Q783.389 1481.2 785.611 1481.76 Q787.833 1482.32 790.31 1482.32 Q794.315 1482.32 796.653 1480.21 Q798.991 1478.1 798.991 1474.49 Q798.991 1470.88 796.653 1468.77 Q794.315 1466.67 790.31 1466.67 Q788.435 1466.67 786.56 1467.08 Q784.708 1467.5 782.764 1468.38 L782.764 1451.02 Z\" fill=\"#000000\" fill-rule=\"evenodd\" fill-opacity=\"1\" /><path clip-path=\"url(#clip560)\" d=\"M1267.26 1481.64 L1274.9 1481.64 L1274.9 1455.28 L1266.59 1456.95 L1266.59 1452.69 L1274.85 1451.02 L1279.53 1451.02 L1279.53 1481.64 L1287.17 1481.64 L1287.17 1485.58 L1267.26 1485.58 L1267.26 1481.64 Z\" fill=\"#000000\" fill-rule=\"evenodd\" fill-opacity=\"1\" /><path clip-path=\"url(#clip560)\" d=\"M1306.61 1454.1 Q1303 1454.1 1301.17 1457.66 Q1299.37 1461.2 1299.37 1468.33 Q1299.37 1475.44 1301.17 1479.01 Q1303 1482.55 1306.61 1482.55 Q1310.25 1482.55 1312.05 1479.01 Q1313.88 1475.44 1313.88 1468.33 Q1313.88 1461.2 1312.05 1457.66 Q1310.25 1454.1 1306.61 1454.1 M1306.61 1450.39 Q1312.42 1450.39 1315.48 1455 Q1318.56 1459.58 1318.56 1468.33 Q1318.56 1477.06 1315.48 1481.67 Q1312.42 1486.25 1306.61 1486.25 Q1300.8 1486.25 1297.72 1481.67 Q1294.67 1477.06 1294.67 1468.33 Q1294.67 1459.58 1297.72 1455 Q1300.8 1450.39 1306.61 1450.39 Z\" fill=\"#000000\" fill-rule=\"evenodd\" fill-opacity=\"1\" /><path clip-path=\"url(#clip560)\" d=\"M1767.84 1481.64 L1775.48 1481.64 L1775.48 1455.28 L1767.17 1456.95 L1767.17 1452.69 L1775.44 1451.02 L1780.11 1451.02 L1780.11 1481.64 L1787.75 1481.64 L1787.75 1485.58 L1767.84 1485.58 L1767.84 1481.64 Z\" fill=\"#000000\" fill-rule=\"evenodd\" fill-opacity=\"1\" /><path clip-path=\"url(#clip560)\" d=\"M1797.24 1451.02 L1815.6 1451.02 L1815.6 1454.96 L1801.52 1454.96 L1801.52 1463.43 Q1802.54 1463.08 1803.56 1462.92 Q1804.58 1462.73 1805.6 1462.73 Q1811.39 1462.73 1814.77 1465.9 Q1818.15 1469.08 1818.15 1474.49 Q1818.15 1480.07 1814.67 1483.17 Q1811.2 1486.25 1804.88 1486.25 Q1802.71 1486.25 1800.44 1485.88 Q1798.19 1485.51 1795.78 1484.77 L1795.78 1480.07 Q1797.87 1481.2 1800.09 1481.76 Q1802.31 1482.32 1804.79 1482.32 Q1808.79 1482.32 1811.13 1480.21 Q1813.47 1478.1 1813.47 1474.49 Q1813.47 1470.88 1811.13 1468.77 Q1808.79 1466.67 1804.79 1466.67 Q1802.91 1466.67 1801.04 1467.08 Q1799.19 1467.5 1797.24 1468.38 L1797.24 1451.02 Z\" fill=\"#000000\" fill-rule=\"evenodd\" fill-opacity=\"1\" /><path clip-path=\"url(#clip560)\" d=\"M2271.52 1481.64 L2287.84 1481.64 L2287.84 1485.58 L2265.89 1485.58 L2265.89 1481.64 Q2268.56 1478.89 2273.14 1474.26 Q2277.75 1469.61 2278.93 1468.27 Q2281.17 1465.74 2282.05 1464.01 Q2282.95 1462.25 2282.95 1460.56 Q2282.95 1457.8 2281.01 1456.07 Q2279.09 1454.33 2275.99 1454.33 Q2273.79 1454.33 2271.33 1455.09 Q2268.9 1455.86 2266.13 1457.41 L2266.13 1452.69 Q2268.95 1451.55 2271.4 1450.97 Q2273.86 1450.39 2275.89 1450.39 Q2281.26 1450.39 2284.46 1453.08 Q2287.65 1455.77 2287.65 1460.26 Q2287.65 1462.39 2286.84 1464.31 Q2286.06 1466.2 2283.95 1468.8 Q2283.37 1469.47 2280.27 1472.69 Q2277.17 1475.88 2271.52 1481.64 Z\" fill=\"#000000\" fill-rule=\"evenodd\" fill-opacity=\"1\" /><path clip-path=\"url(#clip560)\" d=\"M2307.65 1454.1 Q2304.04 1454.1 2302.21 1457.66 Q2300.41 1461.2 2300.41 1468.33 Q2300.41 1475.44 2302.21 1479.01 Q2304.04 1482.55 2307.65 1482.55 Q2311.29 1482.55 2313.09 1479.01 Q2314.92 1475.44 2314.92 1468.33 Q2314.92 1461.2 2313.09 1457.66 Q2311.29 1454.1 2307.65 1454.1 M2307.65 1450.39 Q2313.46 1450.39 2316.52 1455 Q2319.6 1459.58 2319.6 1468.33 Q2319.6 1477.06 2316.52 1481.67 Q2313.46 1486.25 2307.65 1486.25 Q2301.84 1486.25 2298.76 1481.67 Q2295.71 1477.06 2295.71 1468.33 Q2295.71 1459.58 2298.76 1455 Q2301.84 1450.39 2307.65 1450.39 Z\" fill=\"#000000\" fill-rule=\"evenodd\" fill-opacity=\"1\" /><path clip-path=\"url(#clip560)\" d=\"M1309.19 1532.4 L1296.3 1549.74 L1309.86 1568.04 L1302.95 1568.04 L1292.57 1554.04 L1282.2 1568.04 L1275.29 1568.04 L1289.14 1549.39 L1276.47 1532.4 L1283.37 1532.4 L1292.83 1545.1 L1302.28 1532.4 L1309.19 1532.4 Z\" fill=\"#000000\" fill-rule=\"evenodd\" fill-opacity=\"1\" /><polyline clip-path=\"url(#clip562)\" style=\"stroke:#000000; stroke-linecap:butt; stroke-linejoin:round; stroke-width:2; stroke-opacity:0.1; fill:none\" points=\"\n  232.389,1384.24 2352.76,1384.24 \n  \"/>\n<polyline clip-path=\"url(#clip562)\" style=\"stroke:#000000; stroke-linecap:butt; stroke-linejoin:round; stroke-width:2; stroke-opacity:0.1; fill:none\" points=\"\n  232.389,1113.81 2352.76,1113.81 \n  \"/>\n<polyline clip-path=\"url(#clip562)\" style=\"stroke:#000000; stroke-linecap:butt; stroke-linejoin:round; stroke-width:2; stroke-opacity:0.1; fill:none\" points=\"\n  232.389,843.383 2352.76,843.383 \n  \"/>\n<polyline clip-path=\"url(#clip562)\" style=\"stroke:#000000; stroke-linecap:butt; stroke-linejoin:round; stroke-width:2; stroke-opacity:0.1; fill:none\" points=\"\n  232.389,572.955 2352.76,572.955 \n  \"/>\n<polyline clip-path=\"url(#clip562)\" style=\"stroke:#000000; stroke-linecap:butt; stroke-linejoin:round; stroke-width:2; stroke-opacity:0.1; fill:none\" points=\"\n  232.389,302.528 2352.76,302.528 \n  \"/>\n<polyline clip-path=\"url(#clip560)\" style=\"stroke:#000000; stroke-linecap:butt; stroke-linejoin:round; stroke-width:4; stroke-opacity:1; fill:none\" points=\"\n  232.389,1423.18 232.389,47.2441 \n  \"/>\n<polyline clip-path=\"url(#clip560)\" style=\"stroke:#000000; stroke-linecap:butt; stroke-linejoin:round; stroke-width:4; stroke-opacity:1; fill:none\" points=\"\n  232.389,1384.24 251.287,1384.24 \n  \"/>\n<polyline clip-path=\"url(#clip560)\" style=\"stroke:#000000; stroke-linecap:butt; stroke-linejoin:round; stroke-width:4; stroke-opacity:1; fill:none\" points=\"\n  232.389,1113.81 251.287,1113.81 \n  \"/>\n<polyline clip-path=\"url(#clip560)\" style=\"stroke:#000000; stroke-linecap:butt; stroke-linejoin:round; stroke-width:4; stroke-opacity:1; fill:none\" points=\"\n  232.389,843.383 251.287,843.383 \n  \"/>\n<polyline clip-path=\"url(#clip560)\" style=\"stroke:#000000; stroke-linecap:butt; stroke-linejoin:round; stroke-width:4; stroke-opacity:1; fill:none\" points=\"\n  232.389,572.955 251.287,572.955 \n  \"/>\n<polyline clip-path=\"url(#clip560)\" style=\"stroke:#000000; stroke-linecap:butt; stroke-linejoin:round; stroke-width:4; stroke-opacity:1; fill:none\" points=\"\n  232.389,302.528 251.287,302.528 \n  \"/>\n<path clip-path=\"url(#clip560)\" d=\"M184.445 1370.04 Q180.834 1370.04 179.005 1373.6 Q177.2 1377.14 177.2 1384.27 Q177.2 1391.38 179.005 1394.94 Q180.834 1398.49 184.445 1398.49 Q188.079 1398.49 189.885 1394.94 Q191.713 1391.38 191.713 1384.27 Q191.713 1377.14 189.885 1373.6 Q188.079 1370.04 184.445 1370.04 M184.445 1366.33 Q190.255 1366.33 193.311 1370.94 Q196.389 1375.52 196.389 1384.27 Q196.389 1393 193.311 1397.61 Q190.255 1402.19 184.445 1402.19 Q178.635 1402.19 175.556 1397.61 Q172.501 1393 172.501 1384.27 Q172.501 1375.52 175.556 1370.94 Q178.635 1366.33 184.445 1366.33 Z\" fill=\"#000000\" fill-rule=\"evenodd\" fill-opacity=\"1\" /><path clip-path=\"url(#clip560)\" d=\"M158.45 1112.46 Q161.806 1113.17 163.681 1115.44 Q165.579 1117.71 165.579 1121.04 Q165.579 1126.16 162.061 1128.96 Q158.542 1131.76 152.061 1131.76 Q149.885 1131.76 147.57 1131.32 Q145.279 1130.91 142.825 1130.05 L142.825 1125.54 Q144.769 1126.67 147.084 1127.25 Q149.399 1127.83 151.922 1127.83 Q156.32 1127.83 158.612 1126.09 Q160.927 1124.35 160.927 1121.04 Q160.927 1117.99 158.774 1116.28 Q156.644 1114.54 152.825 1114.54 L148.797 1114.54 L148.797 1110.7 L153.01 1110.7 Q156.459 1110.7 158.288 1109.33 Q160.116 1107.94 160.116 1105.35 Q160.116 1102.69 158.218 1101.28 Q156.343 1099.84 152.825 1099.84 Q150.903 1099.84 148.704 1100.26 Q146.505 1100.67 143.866 1101.55 L143.866 1097.39 Q146.529 1096.65 148.843 1096.28 Q151.181 1095.91 153.241 1095.91 Q158.565 1095.91 161.667 1098.34 Q164.769 1100.74 164.769 1104.86 Q164.769 1107.73 163.126 1109.73 Q161.482 1111.69 158.45 1112.46 Z\" fill=\"#000000\" fill-rule=\"evenodd\" fill-opacity=\"1\" /><path clip-path=\"url(#clip560)\" d=\"M184.445 1099.61 Q180.834 1099.61 179.005 1103.17 Q177.2 1106.72 177.2 1113.85 Q177.2 1120.95 179.005 1124.52 Q180.834 1128.06 184.445 1128.06 Q188.079 1128.06 189.885 1124.52 Q191.713 1120.95 191.713 1113.85 Q191.713 1106.72 189.885 1103.17 Q188.079 1099.61 184.445 1099.61 M184.445 1095.91 Q190.255 1095.91 193.311 1100.51 Q196.389 1105.1 196.389 1113.85 Q196.389 1122.57 193.311 1127.18 Q190.255 1131.76 184.445 1131.76 Q178.635 1131.76 175.556 1127.18 Q172.501 1122.57 172.501 1113.85 Q172.501 1105.1 175.556 1100.51 Q178.635 1095.91 184.445 1095.91 Z\" fill=\"#000000\" fill-rule=\"evenodd\" fill-opacity=\"1\" /><path clip-path=\"url(#clip560)\" d=\"M154.862 841.52 Q151.714 841.52 149.862 843.672 Q148.033 845.825 148.033 849.575 Q148.033 853.302 149.862 855.478 Q151.714 857.631 154.862 857.631 Q158.01 857.631 159.839 855.478 Q161.69 853.302 161.69 849.575 Q161.69 845.825 159.839 843.672 Q158.01 841.52 154.862 841.52 M164.144 826.867 L164.144 831.126 Q162.385 830.293 160.579 829.853 Q158.797 829.413 157.038 829.413 Q152.408 829.413 149.954 832.538 Q147.524 835.663 147.177 841.983 Q148.542 839.969 150.603 838.904 Q152.663 837.816 155.14 837.816 Q160.348 837.816 163.357 840.987 Q166.39 844.135 166.39 849.575 Q166.39 854.899 163.241 858.117 Q160.093 861.334 154.862 861.334 Q148.866 861.334 145.695 856.751 Q142.524 852.145 142.524 843.418 Q142.524 835.223 146.413 830.362 Q150.302 825.478 156.853 825.478 Q158.612 825.478 160.394 825.825 Q162.2 826.172 164.144 826.867 Z\" fill=\"#000000\" fill-rule=\"evenodd\" fill-opacity=\"1\" /><path clip-path=\"url(#clip560)\" d=\"M184.445 829.182 Q180.834 829.182 179.005 832.747 Q177.2 836.288 177.2 843.418 Q177.2 850.524 179.005 854.089 Q180.834 857.631 184.445 857.631 Q188.079 857.631 189.885 854.089 Q191.713 850.524 191.713 843.418 Q191.713 836.288 189.885 832.747 Q188.079 829.182 184.445 829.182 M184.445 825.478 Q190.255 825.478 193.311 830.084 Q196.389 834.668 196.389 843.418 Q196.389 852.145 193.311 856.751 Q190.255 861.334 184.445 861.334 Q178.635 861.334 175.556 856.751 Q172.501 852.145 172.501 843.418 Q172.501 834.668 175.556 830.084 Q178.635 825.478 184.445 825.478 Z\" fill=\"#000000\" fill-rule=\"evenodd\" fill-opacity=\"1\" /><path clip-path=\"url(#clip560)\" d=\"M144.422 589.518 L144.422 585.259 Q146.181 586.092 147.987 586.532 Q149.792 586.972 151.528 586.972 Q156.158 586.972 158.589 583.87 Q161.042 580.745 161.39 574.402 Q160.047 576.393 157.987 577.458 Q155.927 578.522 153.427 578.522 Q148.241 578.522 145.209 575.398 Q142.2 572.249 142.2 566.81 Q142.2 561.486 145.348 558.268 Q148.496 555.05 153.728 555.05 Q159.723 555.05 162.871 559.657 Q166.042 564.24 166.042 572.99 Q166.042 581.161 162.153 586.046 Q158.288 590.907 151.737 590.907 Q149.978 590.907 148.172 590.559 Q146.366 590.212 144.422 589.518 M153.728 574.865 Q156.876 574.865 158.704 572.712 Q160.556 570.56 160.556 566.81 Q160.556 563.083 158.704 560.93 Q156.876 558.754 153.728 558.754 Q150.579 558.754 148.728 560.93 Q146.899 563.083 146.899 566.81 Q146.899 570.56 148.728 572.712 Q150.579 574.865 153.728 574.865 Z\" fill=\"#000000\" fill-rule=\"evenodd\" fill-opacity=\"1\" /><path clip-path=\"url(#clip560)\" d=\"M184.445 558.754 Q180.834 558.754 179.005 562.319 Q177.2 565.861 177.2 572.99 Q177.2 580.097 179.005 583.661 Q180.834 587.203 184.445 587.203 Q188.079 587.203 189.885 583.661 Q191.713 580.097 191.713 572.99 Q191.713 565.861 189.885 562.319 Q188.079 558.754 184.445 558.754 M184.445 555.05 Q190.255 555.05 193.311 559.657 Q196.389 564.24 196.389 572.99 Q196.389 581.717 193.311 586.323 Q190.255 590.907 184.445 590.907 Q178.635 590.907 175.556 586.323 Q172.501 581.717 172.501 572.99 Q172.501 564.24 175.556 559.657 Q178.635 555.05 184.445 555.05 Z\" fill=\"#000000\" fill-rule=\"evenodd\" fill-opacity=\"1\" /><path clip-path=\"url(#clip560)\" d=\"M114.931 315.873 L122.57 315.873 L122.57 289.507 L114.26 291.174 L114.26 286.914 L122.524 285.248 L127.2 285.248 L127.2 315.873 L134.839 315.873 L134.839 319.808 L114.931 319.808 L114.931 315.873 Z\" fill=\"#000000\" fill-rule=\"evenodd\" fill-opacity=\"1\" /><path clip-path=\"url(#clip560)\" d=\"M148.311 315.873 L164.63 315.873 L164.63 319.808 L142.686 319.808 L142.686 315.873 Q145.348 313.118 149.931 308.488 Q154.538 303.836 155.718 302.493 Q157.964 299.97 158.843 298.234 Q159.746 296.475 159.746 294.785 Q159.746 292.03 157.802 290.294 Q155.88 288.558 152.778 288.558 Q150.579 288.558 148.126 289.322 Q145.695 290.086 142.917 291.637 L142.917 286.914 Q145.741 285.78 148.195 285.201 Q150.649 284.623 152.686 284.623 Q158.056 284.623 161.251 287.308 Q164.445 289.993 164.445 294.484 Q164.445 296.613 163.635 298.535 Q162.848 300.433 160.741 303.025 Q160.163 303.697 157.061 306.914 Q153.959 310.109 148.311 315.873 Z\" fill=\"#000000\" fill-rule=\"evenodd\" fill-opacity=\"1\" /><path clip-path=\"url(#clip560)\" d=\"M184.445 288.326 Q180.834 288.326 179.005 291.891 Q177.2 295.433 177.2 302.562 Q177.2 309.669 179.005 313.234 Q180.834 316.775 184.445 316.775 Q188.079 316.775 189.885 313.234 Q191.713 309.669 191.713 302.562 Q191.713 295.433 189.885 291.891 Q188.079 288.326 184.445 288.326 M184.445 284.623 Q190.255 284.623 193.311 289.229 Q196.389 293.813 196.389 302.562 Q196.389 311.289 193.311 315.896 Q190.255 320.479 184.445 320.479 Q178.635 320.479 175.556 315.896 Q172.501 311.289 172.501 302.562 Q172.501 293.813 175.556 289.229 Q178.635 284.623 184.445 284.623 Z\" fill=\"#000000\" fill-rule=\"evenodd\" fill-opacity=\"1\" /><path clip-path=\"url(#clip560)\" d=\"M22.818 735.212 L46.4666 743.933 L46.4666 726.459 L22.818 735.212 M16.4842 738.84 L16.4842 731.552 L64.0042 713.441 L64.0042 720.125 L51.8138 724.454 L51.8138 745.875 L64.0042 750.203 L64.0042 756.983 L16.4842 738.84 Z\" fill=\"#000000\" fill-rule=\"evenodd\" fill-opacity=\"1\" /><polyline clip-path=\"url(#clip562)\" style=\"stroke:#009af9; stroke-linecap:butt; stroke-linejoin:round; stroke-width:4; stroke-opacity:1; fill:none\" points=\"\n  292.4,1384.24 392.417,1176.91 492.434,987.611 592.452,816.34 692.469,663.098 792.486,527.884 892.503,410.699 992.521,311.542 1092.54,230.414 1192.56,167.314 \n  1292.57,122.243 1392.59,95.1999 1492.61,86.1857 1592.62,95.1999 1692.64,122.243 1792.66,167.314 1892.68,230.414 1992.69,311.542 2092.71,410.699 2192.73,527.884 \n  2292.75,663.098 \n  \"/>\n<circle clip-path=\"url(#clip562)\" cx=\"1492.61\" cy=\"86.1857\" r=\"18\" fill=\"#e26f46\" fill-rule=\"evenodd\" fill-opacity=\"1\" stroke=\"#000000\" stroke-opacity=\"1\" stroke-width=\"3.2\"/>\n<path clip-path=\"url(#clip560)\" d=\"\nM1796.88 248.629 L2282.08 248.629 L2282.08 93.1086 L1796.88 93.1086  Z\n  \" fill=\"#ffffff\" fill-rule=\"evenodd\" fill-opacity=\"1\"/>\n<polyline clip-path=\"url(#clip560)\" style=\"stroke:#000000; stroke-linecap:butt; stroke-linejoin:round; stroke-width:4; stroke-opacity:1; fill:none\" points=\"\n  1796.88,248.629 2282.08,248.629 2282.08,93.1086 1796.88,93.1086 1796.88,248.629 \n  \"/>\n<polyline clip-path=\"url(#clip560)\" style=\"stroke:#009af9; stroke-linecap:butt; stroke-linejoin:round; stroke-width:4; stroke-opacity:1; fill:none\" points=\"\n  1820.44,144.949 1961.79,144.949 \n  \"/>\n<path clip-path=\"url(#clip560)\" d=\"M1985.35 127.669 L2007.2 127.669 L2007.2 131.604 L1990.03 131.604 L1990.03 141.835 L2006.49 141.835 L2006.49 145.77 L1990.03 145.77 L1990.03 158.293 L2007.62 158.293 L2007.62 162.229 L1985.35 162.229 L1985.35 127.669 Z\" fill=\"#000000\" fill-rule=\"evenodd\" fill-opacity=\"1\" /><path clip-path=\"url(#clip560)\" d=\"M2033.78 137.298 L2033.78 141.28 Q2031.97 140.284 2030.14 139.798 Q2028.34 139.289 2026.49 139.289 Q2022.34 139.289 2020.05 141.928 Q2017.76 144.544 2017.76 149.289 Q2017.76 154.034 2020.05 156.673 Q2022.34 159.289 2026.49 159.289 Q2028.34 159.289 2030.14 158.803 Q2031.97 158.293 2033.78 157.298 L2033.78 161.233 Q2032 162.067 2030.07 162.483 Q2028.18 162.9 2026.02 162.9 Q2020.17 162.9 2016.72 159.219 Q2013.27 155.539 2013.27 149.289 Q2013.27 142.946 2016.74 139.312 Q2020.24 135.678 2026.3 135.678 Q2028.27 135.678 2030.14 136.095 Q2032.02 136.488 2033.78 137.298 Z\" fill=\"#000000\" fill-rule=\"evenodd\" fill-opacity=\"1\" /><path clip-path=\"url(#clip560)\" d=\"M2040.75 151.997 L2040.75 136.303 L2045.01 136.303 L2045.01 151.835 Q2045.01 155.516 2046.44 157.368 Q2047.88 159.196 2050.75 159.196 Q2054.19 159.196 2056.19 156.997 Q2058.2 154.798 2058.2 151.002 L2058.2 136.303 L2062.46 136.303 L2062.46 162.229 L2058.2 162.229 L2058.2 158.247 Q2056.65 160.608 2054.59 161.766 Q2052.55 162.9 2049.84 162.9 Q2045.38 162.9 2043.06 160.122 Q2040.75 157.344 2040.75 151.997 M2051.46 135.678 L2051.46 135.678 Z\" fill=\"#000000\" fill-rule=\"evenodd\" fill-opacity=\"1\" /><path clip-path=\"url(#clip560)\" d=\"M2083.01 149.196 Q2077.85 149.196 2075.86 150.377 Q2073.87 151.557 2073.87 154.405 Q2073.87 156.673 2075.35 158.016 Q2076.86 159.335 2079.43 159.335 Q2082.97 159.335 2085.1 156.835 Q2087.25 154.312 2087.25 150.145 L2087.25 149.196 L2083.01 149.196 M2091.51 147.437 L2091.51 162.229 L2087.25 162.229 L2087.25 158.293 Q2085.79 160.655 2083.62 161.789 Q2081.44 162.9 2078.29 162.9 Q2074.31 162.9 2071.95 160.678 Q2069.61 158.432 2069.61 154.682 Q2069.61 150.307 2072.53 148.085 Q2075.47 145.863 2081.28 145.863 L2087.25 145.863 L2087.25 145.446 Q2087.25 142.507 2085.31 140.909 Q2083.38 139.289 2079.89 139.289 Q2077.67 139.289 2075.56 139.821 Q2073.45 140.354 2071.51 141.419 L2071.51 137.483 Q2073.85 136.581 2076.05 136.141 Q2078.25 135.678 2080.33 135.678 Q2085.95 135.678 2088.73 138.594 Q2091.51 141.511 2091.51 147.437 Z\" fill=\"#000000\" fill-rule=\"evenodd\" fill-opacity=\"1\" /><path clip-path=\"url(#clip560)\" d=\"M2118.94 137.298 L2118.94 141.28 Q2117.13 140.284 2115.31 139.798 Q2113.5 139.289 2111.65 139.289 Q2107.5 139.289 2105.21 141.928 Q2102.92 144.544 2102.92 149.289 Q2102.92 154.034 2105.21 156.673 Q2107.5 159.289 2111.65 159.289 Q2113.5 159.289 2115.31 158.803 Q2117.13 158.293 2118.94 157.298 L2118.94 161.233 Q2117.16 162.067 2115.24 162.483 Q2113.34 162.9 2111.19 162.9 Q2105.33 162.9 2101.88 159.219 Q2098.43 155.539 2098.43 149.289 Q2098.43 142.946 2101.9 139.312 Q2105.4 135.678 2111.46 135.678 Q2113.43 135.678 2115.31 136.095 Q2117.18 136.488 2118.94 137.298 Z\" fill=\"#000000\" fill-rule=\"evenodd\" fill-opacity=\"1\" /><path clip-path=\"url(#clip560)\" d=\"M2126.35 136.303 L2130.61 136.303 L2130.61 162.229 L2126.35 162.229 L2126.35 136.303 M2126.35 126.21 L2130.61 126.21 L2130.61 131.604 L2126.35 131.604 L2126.35 126.21 Z\" fill=\"#000000\" fill-rule=\"evenodd\" fill-opacity=\"1\" /><path clip-path=\"url(#clip560)\" d=\"M2149.56 139.289 Q2146.14 139.289 2144.15 141.974 Q2142.16 144.636 2142.16 149.289 Q2142.16 153.942 2144.12 156.627 Q2146.12 159.289 2149.56 159.289 Q2152.97 159.289 2154.96 156.604 Q2156.95 153.918 2156.95 149.289 Q2156.95 144.682 2154.96 141.997 Q2152.97 139.289 2149.56 139.289 M2149.56 135.678 Q2155.12 135.678 2158.29 139.289 Q2161.46 142.9 2161.46 149.289 Q2161.46 155.655 2158.29 159.289 Q2155.12 162.9 2149.56 162.9 Q2143.99 162.9 2140.81 159.289 Q2137.67 155.655 2137.67 149.289 Q2137.67 142.9 2140.81 139.289 Q2143.99 135.678 2149.56 135.678 M2152.78 124.312 L2157.39 124.312 L2149.84 133.016 L2146.3 133.016 L2152.78 124.312 Z\" fill=\"#000000\" fill-rule=\"evenodd\" fill-opacity=\"1\" /><path clip-path=\"url(#clip560)\" d=\"M2190.07 146.581 L2190.07 162.229 L2185.81 162.229 L2185.81 146.719 Q2185.81 143.039 2184.38 141.21 Q2182.94 139.382 2180.07 139.382 Q2176.62 139.382 2174.63 141.581 Q2172.64 143.78 2172.64 147.576 L2172.64 162.229 L2168.36 162.229 L2168.36 136.303 L2172.64 136.303 L2172.64 140.331 Q2174.17 137.993 2176.23 136.835 Q2178.31 135.678 2181.02 135.678 Q2185.49 135.678 2187.78 138.456 Q2190.07 141.21 2190.07 146.581 Z\" fill=\"#000000\" fill-rule=\"evenodd\" fill-opacity=\"1\" /><path clip-path=\"url(#clip560)\" d=\"M2215.05 158.293 L2222.69 158.293 L2222.69 131.928 L2214.38 133.595 L2214.38 129.335 L2222.64 127.669 L2227.32 127.669 L2227.32 158.293 L2234.96 158.293 L2234.96 162.229 L2215.05 162.229 L2215.05 158.293 Z\" fill=\"#000000\" fill-rule=\"evenodd\" fill-opacity=\"1\" /><circle clip-path=\"url(#clip560)\" cx=\"1891.11\" cy=\"196.789\" r=\"23\" fill=\"#e26f46\" fill-rule=\"evenodd\" fill-opacity=\"1\" stroke=\"#000000\" stroke-opacity=\"1\" stroke-width=\"4.096\"/>\n<path clip-path=\"url(#clip560)\" d=\"M2007.6 180.643 L2007.6 185.203 Q2004.94 183.93 2002.57 183.305 Q2000.21 182.68 1998.01 182.68 Q1994.2 182.68 1992.11 184.161 Q1990.05 185.643 1990.05 188.374 Q1990.05 190.666 1991.42 191.847 Q1992.81 193.004 1996.65 193.722 L1999.47 194.3 Q2004.7 195.296 2007.18 197.819 Q2009.68 200.319 2009.68 204.532 Q2009.68 209.555 2006.3 212.147 Q2002.95 214.74 1996.44 214.74 Q1993.99 214.74 1991.21 214.184 Q1988.45 213.629 1985.49 212.541 L1985.49 207.726 Q1988.34 209.323 1991.07 210.133 Q1993.8 210.944 1996.44 210.944 Q2000.45 210.944 2002.62 209.37 Q2004.8 207.796 2004.8 204.879 Q2004.8 202.333 2003.22 200.897 Q2001.67 199.462 1998.11 198.745 L1995.26 198.189 Q1990.03 197.147 1987.69 194.925 Q1985.35 192.703 1985.35 188.745 Q1985.35 184.161 1988.57 181.522 Q1991.81 178.884 1997.48 178.884 Q1999.91 178.884 2002.44 179.323 Q2004.96 179.763 2007.6 180.643 Z\" fill=\"#000000\" fill-rule=\"evenodd\" fill-opacity=\"1\" /><path clip-path=\"url(#clip560)\" d=\"M2026.83 191.129 Q2023.41 191.129 2021.42 193.814 Q2019.43 196.476 2019.43 201.129 Q2019.43 205.782 2021.39 208.467 Q2023.38 211.129 2026.83 211.129 Q2030.24 211.129 2032.23 208.444 Q2034.22 205.758 2034.22 201.129 Q2034.22 196.522 2032.23 193.837 Q2030.24 191.129 2026.83 191.129 M2026.83 187.518 Q2032.39 187.518 2035.56 191.129 Q2038.73 194.74 2038.73 201.129 Q2038.73 207.495 2035.56 211.129 Q2032.39 214.74 2026.83 214.74 Q2021.26 214.74 2018.08 211.129 Q2014.94 207.495 2014.94 201.129 Q2014.94 194.74 2018.08 191.129 Q2021.26 187.518 2026.83 187.518 Z\" fill=\"#000000\" fill-rule=\"evenodd\" fill-opacity=\"1\" /><path clip-path=\"url(#clip560)\" d=\"M2045.79 178.05 L2050.05 178.05 L2050.05 214.069 L2045.79 214.069 L2045.79 178.05 Z\" fill=\"#000000\" fill-rule=\"evenodd\" fill-opacity=\"1\" /><path clip-path=\"url(#clip560)\" d=\"M2058.52 203.837 L2058.52 188.143 L2062.78 188.143 L2062.78 203.675 Q2062.78 207.356 2064.22 209.208 Q2065.65 211.036 2068.52 211.036 Q2071.97 211.036 2073.96 208.837 Q2075.98 206.638 2075.98 202.842 L2075.98 188.143 L2080.24 188.143 L2080.24 214.069 L2075.98 214.069 L2075.98 210.087 Q2074.43 212.448 2072.37 213.606 Q2070.33 214.74 2067.62 214.74 Q2063.15 214.74 2060.84 211.962 Q2058.52 209.184 2058.52 203.837 M2069.24 187.518 L2069.24 187.518 Z\" fill=\"#000000\" fill-rule=\"evenodd\" fill-opacity=\"1\" /><path clip-path=\"url(#clip560)\" d=\"M2107.67 189.138 L2107.67 193.12 Q2105.86 192.124 2104.03 191.638 Q2102.23 191.129 2100.38 191.129 Q2096.23 191.129 2093.94 193.768 Q2091.65 196.384 2091.65 201.129 Q2091.65 205.874 2093.94 208.513 Q2096.23 211.129 2100.38 211.129 Q2102.23 211.129 2104.03 210.643 Q2105.86 210.133 2107.67 209.138 L2107.67 213.073 Q2105.88 213.907 2103.96 214.323 Q2102.06 214.74 2099.91 214.74 Q2094.06 214.74 2090.61 211.059 Q2087.16 207.379 2087.16 201.129 Q2087.16 194.786 2090.63 191.152 Q2094.13 187.518 2100.19 187.518 Q2102.16 187.518 2104.03 187.935 Q2105.91 188.328 2107.67 189.138 Z\" fill=\"#000000\" fill-rule=\"evenodd\" fill-opacity=\"1\" /><path clip-path=\"url(#clip560)\" d=\"M2115.07 188.143 L2119.33 188.143 L2119.33 214.069 L2115.07 214.069 L2115.07 188.143 M2115.07 178.05 L2119.33 178.05 L2119.33 183.444 L2115.07 183.444 L2115.07 178.05 Z\" fill=\"#000000\" fill-rule=\"evenodd\" fill-opacity=\"1\" /><path clip-path=\"url(#clip560)\" d=\"M2138.29 191.129 Q2134.87 191.129 2132.87 193.814 Q2130.88 196.476 2130.88 201.129 Q2130.88 205.782 2132.85 208.467 Q2134.84 211.129 2138.29 211.129 Q2141.69 211.129 2143.69 208.444 Q2145.68 205.758 2145.68 201.129 Q2145.68 196.522 2143.69 193.837 Q2141.69 191.129 2138.29 191.129 M2138.29 187.518 Q2143.85 187.518 2147.02 191.129 Q2150.19 194.74 2150.19 201.129 Q2150.19 207.495 2147.02 211.129 Q2143.85 214.74 2138.29 214.74 Q2132.71 214.74 2129.54 211.129 Q2126.39 207.495 2126.39 201.129 Q2126.39 194.74 2129.54 191.129 Q2132.71 187.518 2138.29 187.518 M2141.51 176.152 L2146.12 176.152 L2138.57 184.856 L2135.03 184.856 L2141.51 176.152 Z\" fill=\"#000000\" fill-rule=\"evenodd\" fill-opacity=\"1\" /><path clip-path=\"url(#clip560)\" d=\"M2178.8 198.421 L2178.8 214.069 L2174.54 214.069 L2174.54 198.559 Q2174.54 194.879 2173.11 193.05 Q2171.67 191.222 2168.8 191.222 Q2165.35 191.222 2163.36 193.421 Q2161.37 195.62 2161.37 199.416 L2161.37 214.069 L2157.09 214.069 L2157.09 188.143 L2161.37 188.143 L2161.37 192.171 Q2162.9 189.833 2164.96 188.675 Q2167.04 187.518 2169.75 187.518 Q2174.22 187.518 2176.51 190.296 Q2178.8 193.05 2178.8 198.421 Z\" fill=\"#000000\" fill-rule=\"evenodd\" fill-opacity=\"1\" /></svg>\n"
     },
     "execution_count": 7,
     "metadata": {},
     "output_type": "execute_result"
    }
   ],
   "source": [
    "x = collect(0:1:20)\n",
    "\n",
    "A(x) = 24x - x^2 # Ecuación 1\n",
    "\n",
    "plot(x, A.(x), label=\"Ecuación 1\")\n",
    "plot!([12], [A(12)], seriestype=:scatter, m=:circle, ms=5, label=\"Solución\")\n",
    "\n",
    "xlabel!(\"x\")\n",
    "ylabel!(\"A\")"
   ]
  },
  {
   "cell_type": "markdown",
   "metadata": {},
   "source": [
    "## 1.5. Ejemplo 2\n",
    "\n",
    "Una boya, formada por dos conos rectos de hierro unidos por sus bases, ha de ser construido mediante dos placas circulares de 3 m de hipotenusa. Calcular las dimensiones de la boya para que su volumen sea máximo.\n",
    "\n",
    "<img src='./img/example2.png' width='125' height='125'/>\n",
    "\n",
    "Organizando el problema, tenemos:\n",
    "\n",
    "$$\n",
    "\\begin{cases}\n",
    "  \\text{Maximizar} & V = 2 \\left( \\frac{1}{3} \\pi x^2 y \\right)\\\\ \n",
    "  \\\\\n",
    "  \\text{S.T.} & \\begin{cases}\n",
    "                  x^2 + y^2 = 3^2\\\\\n",
    "                  \\\\\n",
    "                  x >= 0\\\\\n",
    "                  \\\\\n",
    "                  y >= 0\\\\\n",
    "                \\end{cases}\n",
    "\\end{cases} \n",
    "$$\n",
    "\n",
    "**Nota:** Dado que la función objetivo **no es lineal**, el *solver* a utilizar es `Ipopt` en lugar de `GLPK`. También, note que en lugar de `@objective` y `@constraint`, ahora utilizamos `@NLobjective` y `@NLconstraint`."
   ]
  },
  {
   "cell_type": "code",
   "execution_count": 9,
   "metadata": {},
   "outputs": [
    {
     "data": {
      "text/latex": [
       "$$ \\begin{aligned}\n",
       "\\max\\quad & 2.0 * (1.0 / 3.0) * 3.141592653589793 * x ^ {2.0} * y\\\\\n",
       "\\text{Subject to} \\quad & x \\geq 0.0\\\\\n",
       " & y \\geq 0.0\\\\\n",
       " & (x ^ {2.0} + y ^ {2.0}) - 3.0 ^ {2.0} = 0\\\\\n",
       "\\end{aligned} $$"
      ]
     },
     "metadata": {},
     "output_type": "display_data"
    },
    {
     "name": "stdout",
     "output_type": "stream",
     "text": [
      "This is Ipopt version 3.14.4, running with linear solver MUMPS 5.4.1.\n",
      "\n",
      "Number of nonzeros in equality constraint Jacobian...:        2\n",
      "Number of nonzeros in inequality constraint Jacobian.:        0\n",
      "Number of nonzeros in Lagrangian Hessian.............:        5\n",
      "\n",
      "Total number of variables............................:        2\n",
      "                     variables with only lower bounds:        2\n",
      "                variables with lower and upper bounds:        0\n",
      "                     variables with only upper bounds:        0\n",
      "Total number of equality constraints.................:        1\n",
      "Total number of inequality constraints...............:        0\n",
      "        inequality constraints with only lower bounds:        0\n",
      "   inequality constraints with lower and upper bounds:        0\n",
      "        inequality constraints with only upper bounds:        0\n",
      "\n",
      "iter    objective    inf_pr   inf_du lg(mu)  ||d||  lg(rg) alpha_du alpha_pr  ls\n",
      "   0  2.0943888e-06 9.00e+00 1.05e-04  -1.0 0.00e+00    -  0.00e+00 0.00e+00   0\n",
      "   1  2.9829763e+06 2.53e+04 2.53e+08  -1.0 2.25e+02    -  4.40e-05 5.00e-01f  2\n",
      "   2  3.7326985e+05 6.32e+03 2.75e+09  -1.0 5.62e+01   8.0 1.00e+00 1.00e+00h  1\n",
      "   3  4.6857923e+04 1.58e+03 6.87e+08  -1.0 2.81e+01    -  1.00e+00 1.00e+00h  1\n",
      "   4  5.9574018e+03 3.92e+02 1.72e+08  -1.0 1.40e+01    -  1.00e+00 1.00e+00h  1\n",
      "   5  7.9588643e+02 9.59e+01 4.29e+07  -1.0 6.93e+00    -  1.00e+00 1.00e+00h  1\n",
      "   6  1.2734607e+02 2.19e+01 1.07e+07  -1.0 3.31e+00    -  1.00e+00 1.00e+00h  1\n",
      "   7  3.4254587e+01 3.89e+00 2.44e+06  -1.0 1.39e+00    -  1.00e+00 1.00e+00h  1\n",
      "   8  2.0979218e+01 2.93e-01 3.12e+05  -1.0 3.83e-01    -  1.00e+00 1.00e+00h  1\n",
      "   9  2.0003130e+01 2.31e-03 4.85e+03  -1.0 3.40e-02    -  1.00e+00 1.00e+00h  1\n",
      "iter    objective    inf_pr   inf_du lg(mu)  ||d||  lg(rg) alpha_du alpha_pr  ls\n",
      "  10  2.0014757e+01 8.58e-06 5.31e+00  -1.0 2.33e-03    -  1.00e+00 1.00e+00h  1\n",
      "  11  2.2955492e+01 3.34e-01 9.27e-01  -1.0 4.09e-01    -  1.00e+00 1.00e+00f  1\n",
      "  12  2.1790429e+01 6.85e-03 2.93e-02  -1.7 8.01e-02    -  1.00e+00 1.00e+00h  1\n",
      "  13  2.1765612e+01 5.43e-06 3.19e-05  -2.5 2.10e-03    -  1.00e+00 1.00e+00h  1\n",
      "  14  2.1765592e+01 1.64e-09 1.77e-08  -3.8 3.36e-05    -  1.00e+00 1.00e+00h  1\n",
      "  15  2.1765592e+01 5.84e-12 5.30e-11  -5.7 1.97e-06    -  1.00e+00 1.00e+00h  1\n",
      "  16  2.1765592e+01 0.00e+00 2.87e-14  -8.6 2.44e-08    -  1.00e+00 1.00e+00h  1\n",
      "\n",
      "Number of Iterations....: 16\n",
      "\n",
      "                                   (scaled)                 (unscaled)\n",
      "Objective...............:  -2.1765592370810612e+01    2.1765592370810612e+01\n",
      "Dual infeasibility......:   2.8734504298264917e-14    2.8734504298264917e-14\n",
      "Constraint violation....:   0.0000000000000000e+00    0.0000000000000000e+00\n",
      "Variable bound violation:   0.0000000000000000e+00    0.0000000000000000e+00\n",
      "Complementarity.........:   2.5059295651771141e-09    2.5059295651771141e-09\n",
      "Overall NLP error.......:   2.5059295651771141e-09    2.5059295651771141e-09\n",
      "\n",
      "\n",
      "Number of objective function evaluations             = 18\n",
      "Number of objective gradient evaluations             = 17\n",
      "Number of equality constraint evaluations            = 20\n",
      "Number of inequality constraint evaluations          = 0\n",
      "Number of equality constraint Jacobian evaluations   = 17\n",
      "Number of inequality constraint Jacobian evaluations = 0\n",
      "Number of Lagrangian Hessian evaluations             = 16\n",
      "Total seconds in IPOPT                               = 0.046\n",
      "\n",
      "EXIT: Optimal Solution Found.\n",
      "objective_value(model) = 21.765592370810612\n",
      "value(x) = 2.4494897427596762\n",
      "value(y) = 1.7320508076021142\n"
     ]
    },
    {
     "data": {
      "text/plain": [
       "1.7320508076021142"
      ]
     },
     "execution_count": 9,
     "metadata": {},
     "output_type": "execute_result"
    }
   ],
   "source": [
    "# Paso 1\n",
    "model = Model(Ipopt.Optimizer)\n",
    "\n",
    "# Paso 2\n",
    "@variable(model, x >= 0, start = 0)\n",
    "@variable(model, y >= 0, start = 0)\n",
    "\n",
    "# Paso 3\n",
    "@NLobjective(model, Max, 2*(1/3)*π*(x^2)*y)\n",
    "\n",
    "# Paso 4\n",
    "@NLconstraint(model, c1, x^2 + y^2 == 3^2)\n",
    "print(model)\n",
    "\n",
    "# Paso 5\n",
    "optimize!(model)\n",
    "\n",
    "# Paso 6\n",
    "@show objective_value(model)\n",
    "@show value(x)\n",
    "@show value(y)"
   ]
  },
  {
   "cell_type": "markdown",
   "metadata": {},
   "source": [
    "Si realizamos una verificación gráfica, tenemos que:\n",
    "\n",
    "\\begin{cases}\n",
    "  V = 2 \\left( \\frac{1}{3} \\pi x^2 y \\right) & (1)\\\\ \n",
    "  \\\\\n",
    "  x^2 + y^2 = 3^2 & (2)\n",
    "\\end{cases}\n",
    "\n",
    "Despejando $x^2$ en la Ecuación 2, se tiene:\n",
    "\n",
    "$$\n",
    "x^2 = 9 - y^2\n",
    "$$\n",
    "\n",
    "Reemplazando esta respuesta en la Ecuación 1, se tiene:\n",
    "\n",
    "$$\n",
    "V = 2 \\left[ \\frac{1}{3} \\pi (9 - y^2) y \\right] \\: \\rightarrow \\: \\frac{2 \\pi}{3} (9y - y^3)\n",
    "$$"
   ]
  },
  {
   "cell_type": "code",
   "execution_count": 10,
   "metadata": {},
   "outputs": [
    {
     "data": {
      "image/svg+xml": "<?xml version=\"1.0\" encoding=\"utf-8\"?>\n<svg xmlns=\"http://www.w3.org/2000/svg\" xmlns:xlink=\"http://www.w3.org/1999/xlink\" width=\"600\" height=\"400\" viewBox=\"0 0 2400 1600\">\n<defs>\n  <clipPath id=\"clip600\">\n    <rect x=\"0\" y=\"0\" width=\"2400\" height=\"1600\"/>\n  </clipPath>\n</defs>\n<path clip-path=\"url(#clip600)\" d=\"\nM0 1600 L2400 1600 L2400 0 L0 0  Z\n  \" fill=\"#ffffff\" fill-rule=\"evenodd\" fill-opacity=\"1\"/>\n<defs>\n  <clipPath id=\"clip601\">\n    <rect x=\"480\" y=\"0\" width=\"1681\" height=\"1600\"/>\n  </clipPath>\n</defs>\n<path clip-path=\"url(#clip600)\" d=\"\nM407.875 1423.18 L2352.76 1423.18 L2352.76 47.2441 L407.875 47.2441  Z\n  \" fill=\"#ffffff\" fill-rule=\"evenodd\" fill-opacity=\"1\"/>\n<defs>\n  <clipPath id=\"clip602\">\n    <rect x=\"407\" y=\"47\" width=\"1946\" height=\"1377\"/>\n  </clipPath>\n</defs>\n<polyline clip-path=\"url(#clip602)\" style=\"stroke:#000000; stroke-linecap:butt; stroke-linejoin:round; stroke-width:2; stroke-opacity:0.1; fill:none\" points=\"\n  462.918,1423.18 462.918,47.2441 \n  \"/>\n<polyline clip-path=\"url(#clip602)\" style=\"stroke:#000000; stroke-linecap:butt; stroke-linejoin:round; stroke-width:2; stroke-opacity:0.1; fill:none\" points=\"\n  921.617,1423.18 921.617,47.2441 \n  \"/>\n<polyline clip-path=\"url(#clip602)\" style=\"stroke:#000000; stroke-linecap:butt; stroke-linejoin:round; stroke-width:2; stroke-opacity:0.1; fill:none\" points=\"\n  1380.32,1423.18 1380.32,47.2441 \n  \"/>\n<polyline clip-path=\"url(#clip602)\" style=\"stroke:#000000; stroke-linecap:butt; stroke-linejoin:round; stroke-width:2; stroke-opacity:0.1; fill:none\" points=\"\n  1839.01,1423.18 1839.01,47.2441 \n  \"/>\n<polyline clip-path=\"url(#clip602)\" style=\"stroke:#000000; stroke-linecap:butt; stroke-linejoin:round; stroke-width:2; stroke-opacity:0.1; fill:none\" points=\"\n  2297.71,1423.18 2297.71,47.2441 \n  \"/>\n<polyline clip-path=\"url(#clip600)\" style=\"stroke:#000000; stroke-linecap:butt; stroke-linejoin:round; stroke-width:4; stroke-opacity:1; fill:none\" points=\"\n  407.875,1423.18 2352.76,1423.18 \n  \"/>\n<polyline clip-path=\"url(#clip600)\" style=\"stroke:#000000; stroke-linecap:butt; stroke-linejoin:round; stroke-width:4; stroke-opacity:1; fill:none\" points=\"\n  462.918,1423.18 462.918,1404.28 \n  \"/>\n<polyline clip-path=\"url(#clip600)\" style=\"stroke:#000000; stroke-linecap:butt; stroke-linejoin:round; stroke-width:4; stroke-opacity:1; fill:none\" points=\"\n  921.617,1423.18 921.617,1404.28 \n  \"/>\n<polyline clip-path=\"url(#clip600)\" style=\"stroke:#000000; stroke-linecap:butt; stroke-linejoin:round; stroke-width:4; stroke-opacity:1; fill:none\" points=\"\n  1380.32,1423.18 1380.32,1404.28 \n  \"/>\n<polyline clip-path=\"url(#clip600)\" style=\"stroke:#000000; stroke-linecap:butt; stroke-linejoin:round; stroke-width:4; stroke-opacity:1; fill:none\" points=\"\n  1839.01,1423.18 1839.01,1404.28 \n  \"/>\n<polyline clip-path=\"url(#clip600)\" style=\"stroke:#000000; stroke-linecap:butt; stroke-linejoin:round; stroke-width:4; stroke-opacity:1; fill:none\" points=\"\n  2297.71,1423.18 2297.71,1404.28 \n  \"/>\n<path clip-path=\"url(#clip600)\" d=\"M462.918 1454.1 Q459.307 1454.1 457.479 1457.66 Q455.673 1461.2 455.673 1468.33 Q455.673 1475.44 457.479 1479.01 Q459.307 1482.55 462.918 1482.55 Q466.553 1482.55 468.358 1479.01 Q470.187 1475.44 470.187 1468.33 Q470.187 1461.2 468.358 1457.66 Q466.553 1454.1 462.918 1454.1 M462.918 1450.39 Q468.728 1450.39 471.784 1455 Q474.863 1459.58 474.863 1468.33 Q474.863 1477.06 471.784 1481.67 Q468.728 1486.25 462.918 1486.25 Q457.108 1486.25 454.029 1481.67 Q450.974 1477.06 450.974 1468.33 Q450.974 1459.58 454.029 1455 Q457.108 1450.39 462.918 1450.39 Z\" fill=\"#000000\" fill-rule=\"evenodd\" fill-opacity=\"1\" /><path clip-path=\"url(#clip600)\" d=\"M911.895 1451.02 L930.251 1451.02 L930.251 1454.96 L916.177 1454.96 L916.177 1463.43 Q917.195 1463.08 918.214 1462.92 Q919.233 1462.73 920.251 1462.73 Q926.038 1462.73 929.418 1465.9 Q932.797 1469.08 932.797 1474.49 Q932.797 1480.07 929.325 1483.17 Q925.853 1486.25 919.533 1486.25 Q917.358 1486.25 915.089 1485.88 Q912.844 1485.51 910.436 1484.77 L910.436 1480.07 Q912.52 1481.2 914.742 1481.76 Q916.964 1482.32 919.441 1482.32 Q923.445 1482.32 925.783 1480.21 Q928.121 1478.1 928.121 1474.49 Q928.121 1470.88 925.783 1468.77 Q923.445 1466.67 919.441 1466.67 Q917.566 1466.67 915.691 1467.08 Q913.839 1467.5 911.895 1468.38 L911.895 1451.02 Z\" fill=\"#000000\" fill-rule=\"evenodd\" fill-opacity=\"1\" /><path clip-path=\"url(#clip600)\" d=\"M1355 1481.64 L1362.64 1481.64 L1362.64 1455.28 L1354.33 1456.95 L1354.33 1452.69 L1362.6 1451.02 L1367.27 1451.02 L1367.27 1481.64 L1374.91 1481.64 L1374.91 1485.58 L1355 1485.58 L1355 1481.64 Z\" fill=\"#000000\" fill-rule=\"evenodd\" fill-opacity=\"1\" /><path clip-path=\"url(#clip600)\" d=\"M1394.35 1454.1 Q1390.74 1454.1 1388.91 1457.66 Q1387.11 1461.2 1387.11 1468.33 Q1387.11 1475.44 1388.91 1479.01 Q1390.74 1482.55 1394.35 1482.55 Q1397.99 1482.55 1399.79 1479.01 Q1401.62 1475.44 1401.62 1468.33 Q1401.62 1461.2 1399.79 1457.66 Q1397.99 1454.1 1394.35 1454.1 M1394.35 1450.39 Q1400.16 1450.39 1403.22 1455 Q1406.3 1459.58 1406.3 1468.33 Q1406.3 1477.06 1403.22 1481.67 Q1400.16 1486.25 1394.35 1486.25 Q1388.54 1486.25 1385.47 1481.67 Q1382.41 1477.06 1382.41 1468.33 Q1382.41 1459.58 1385.47 1455 Q1388.54 1450.39 1394.35 1450.39 Z\" fill=\"#000000\" fill-rule=\"evenodd\" fill-opacity=\"1\" /><path clip-path=\"url(#clip600)\" d=\"M1814.2 1481.64 L1821.84 1481.64 L1821.84 1455.28 L1813.53 1456.95 L1813.53 1452.69 L1821.79 1451.02 L1826.47 1451.02 L1826.47 1481.64 L1834.11 1481.64 L1834.11 1485.58 L1814.2 1485.58 L1814.2 1481.64 Z\" fill=\"#000000\" fill-rule=\"evenodd\" fill-opacity=\"1\" /><path clip-path=\"url(#clip600)\" d=\"M1843.6 1451.02 L1861.95 1451.02 L1861.95 1454.96 L1847.88 1454.96 L1847.88 1463.43 Q1848.9 1463.08 1849.92 1462.92 Q1850.93 1462.73 1851.95 1462.73 Q1857.74 1462.73 1861.12 1465.9 Q1864.5 1469.08 1864.5 1474.49 Q1864.5 1480.07 1861.03 1483.17 Q1857.56 1486.25 1851.24 1486.25 Q1849.06 1486.25 1846.79 1485.88 Q1844.55 1485.51 1842.14 1484.77 L1842.14 1480.07 Q1844.22 1481.2 1846.44 1481.76 Q1848.67 1482.32 1851.14 1482.32 Q1855.15 1482.32 1857.49 1480.21 Q1859.82 1478.1 1859.82 1474.49 Q1859.82 1470.88 1857.49 1468.77 Q1855.15 1466.67 1851.14 1466.67 Q1849.27 1466.67 1847.39 1467.08 Q1845.54 1467.5 1843.6 1468.38 L1843.6 1451.02 Z\" fill=\"#000000\" fill-rule=\"evenodd\" fill-opacity=\"1\" /><path clip-path=\"url(#clip600)\" d=\"M2276.49 1481.64 L2292.8 1481.64 L2292.8 1485.58 L2270.86 1485.58 L2270.86 1481.64 Q2273.52 1478.89 2278.11 1474.26 Q2282.71 1469.61 2283.89 1468.27 Q2286.14 1465.74 2287.02 1464.01 Q2287.92 1462.25 2287.92 1460.56 Q2287.92 1457.8 2285.98 1456.07 Q2284.05 1454.33 2280.95 1454.33 Q2278.75 1454.33 2276.3 1455.09 Q2273.87 1455.86 2271.09 1457.41 L2271.09 1452.69 Q2273.92 1451.55 2276.37 1450.97 Q2278.82 1450.39 2280.86 1450.39 Q2286.23 1450.39 2289.43 1453.08 Q2292.62 1455.77 2292.62 1460.26 Q2292.62 1462.39 2291.81 1464.31 Q2291.02 1466.2 2288.92 1468.8 Q2288.34 1469.47 2285.24 1472.69 Q2282.13 1475.88 2276.49 1481.64 Z\" fill=\"#000000\" fill-rule=\"evenodd\" fill-opacity=\"1\" /><path clip-path=\"url(#clip600)\" d=\"M2312.62 1454.1 Q2309.01 1454.1 2307.18 1457.66 Q2305.37 1461.2 2305.37 1468.33 Q2305.37 1475.44 2307.18 1479.01 Q2309.01 1482.55 2312.62 1482.55 Q2316.25 1482.55 2318.06 1479.01 Q2319.89 1475.44 2319.89 1468.33 Q2319.89 1461.2 2318.06 1457.66 Q2316.25 1454.1 2312.62 1454.1 M2312.62 1450.39 Q2318.43 1450.39 2321.49 1455 Q2324.56 1459.58 2324.56 1468.33 Q2324.56 1477.06 2321.49 1481.67 Q2318.43 1486.25 2312.62 1486.25 Q2306.81 1486.25 2303.73 1481.67 Q2300.68 1477.06 2300.68 1468.33 Q2300.68 1459.58 2303.73 1455 Q2306.81 1450.39 2312.62 1450.39 Z\" fill=\"#000000\" fill-rule=\"evenodd\" fill-opacity=\"1\" /><path clip-path=\"url(#clip600)\" d=\"M1382 1571.35 Q1379.52 1577.72 1377.16 1579.66 Q1374.81 1581.6 1370.86 1581.6 L1366.18 1581.6 L1366.18 1576.7 L1369.62 1576.7 Q1372.04 1576.7 1373.38 1575.56 Q1374.71 1574.41 1376.34 1570.14 L1377.39 1567.47 L1362.97 1532.4 L1369.18 1532.4 L1380.32 1560.28 L1391.46 1532.4 L1397.66 1532.4 L1382 1571.35 Z\" fill=\"#000000\" fill-rule=\"evenodd\" fill-opacity=\"1\" /><polyline clip-path=\"url(#clip602)\" style=\"stroke:#000000; stroke-linecap:butt; stroke-linejoin:round; stroke-width:2; stroke-opacity:0.1; fill:none\" points=\"\n  407.875,1275.16 2352.76,1275.16 \n  \"/>\n<polyline clip-path=\"url(#clip602)\" style=\"stroke:#000000; stroke-linecap:butt; stroke-linejoin:round; stroke-width:2; stroke-opacity:0.1; fill:none\" points=\"\n  407.875,879.407 2352.76,879.407 \n  \"/>\n<polyline clip-path=\"url(#clip602)\" style=\"stroke:#000000; stroke-linecap:butt; stroke-linejoin:round; stroke-width:2; stroke-opacity:0.1; fill:none\" points=\"\n  407.875,483.658 2352.76,483.658 \n  \"/>\n<polyline clip-path=\"url(#clip602)\" style=\"stroke:#000000; stroke-linecap:butt; stroke-linejoin:round; stroke-width:2; stroke-opacity:0.1; fill:none\" points=\"\n  407.875,87.9084 2352.76,87.9084 \n  \"/>\n<polyline clip-path=\"url(#clip600)\" style=\"stroke:#000000; stroke-linecap:butt; stroke-linejoin:round; stroke-width:4; stroke-opacity:1; fill:none\" points=\"\n  407.875,1423.18 407.875,47.2441 \n  \"/>\n<polyline clip-path=\"url(#clip600)\" style=\"stroke:#000000; stroke-linecap:butt; stroke-linejoin:round; stroke-width:4; stroke-opacity:1; fill:none\" points=\"\n  407.875,1275.16 426.772,1275.16 \n  \"/>\n<polyline clip-path=\"url(#clip600)\" style=\"stroke:#000000; stroke-linecap:butt; stroke-linejoin:round; stroke-width:4; stroke-opacity:1; fill:none\" points=\"\n  407.875,879.407 426.772,879.407 \n  \"/>\n<polyline clip-path=\"url(#clip600)\" style=\"stroke:#000000; stroke-linecap:butt; stroke-linejoin:round; stroke-width:4; stroke-opacity:1; fill:none\" points=\"\n  407.875,483.658 426.772,483.658 \n  \"/>\n<polyline clip-path=\"url(#clip600)\" style=\"stroke:#000000; stroke-linecap:butt; stroke-linejoin:round; stroke-width:4; stroke-opacity:1; fill:none\" points=\"\n  407.875,87.9084 426.772,87.9084 \n  \"/>\n<path clip-path=\"url(#clip600)\" d=\"M114.26 1282.06 L143.936 1282.06 L143.936 1285.99 L114.26 1285.99 L114.26 1282.06 Z\" fill=\"#000000\" fill-rule=\"evenodd\" fill-opacity=\"1\" /><path clip-path=\"url(#clip600)\" d=\"M154.839 1294.95 L162.477 1294.95 L162.477 1268.58 L154.167 1270.25 L154.167 1265.99 L162.431 1264.32 L167.107 1264.32 L167.107 1294.95 L174.746 1294.95 L174.746 1298.88 L154.839 1298.88 L154.839 1294.95 Z\" fill=\"#000000\" fill-rule=\"evenodd\" fill-opacity=\"1\" /><path clip-path=\"url(#clip600)\" d=\"M184.19 1293 L189.075 1293 L189.075 1298.88 L184.19 1298.88 L184.19 1293 Z\" fill=\"#000000\" fill-rule=\"evenodd\" fill-opacity=\"1\" /><path clip-path=\"url(#clip600)\" d=\"M199.306 1264.32 L217.662 1264.32 L217.662 1268.26 L203.588 1268.26 L203.588 1276.73 Q204.607 1276.38 205.625 1276.22 Q206.644 1276.04 207.662 1276.04 Q213.449 1276.04 216.829 1279.21 Q220.209 1282.38 220.209 1287.8 Q220.209 1293.37 216.736 1296.48 Q213.264 1299.56 206.945 1299.56 Q204.769 1299.56 202.5 1299.18 Q200.255 1298.81 197.848 1298.07 L197.848 1293.37 Q199.931 1294.51 202.153 1295.06 Q204.375 1295.62 206.852 1295.62 Q210.857 1295.62 213.195 1293.51 Q215.533 1291.41 215.533 1287.8 Q215.533 1284.18 213.195 1282.08 Q210.857 1279.97 206.852 1279.97 Q204.977 1279.97 203.102 1280.39 Q201.25 1280.81 199.306 1281.68 L199.306 1264.32 Z\" fill=\"#000000\" fill-rule=\"evenodd\" fill-opacity=\"1\" /><path clip-path=\"url(#clip600)\" d=\"M239.422 1267.4 Q235.81 1267.4 233.982 1270.97 Q232.176 1274.51 232.176 1281.64 Q232.176 1288.75 233.982 1292.31 Q235.81 1295.85 239.422 1295.85 Q243.056 1295.85 244.861 1292.31 Q246.69 1288.75 246.69 1281.64 Q246.69 1274.51 244.861 1270.97 Q243.056 1267.4 239.422 1267.4 M239.422 1263.7 Q245.232 1263.7 248.287 1268.31 Q251.366 1272.89 251.366 1281.64 Q251.366 1290.37 248.287 1294.97 Q245.232 1299.56 239.422 1299.56 Q233.611 1299.56 230.533 1294.97 Q227.477 1290.37 227.477 1281.64 Q227.477 1272.89 230.533 1268.31 Q233.611 1263.7 239.422 1263.7 Z\" fill=\"#000000\" fill-rule=\"evenodd\" fill-opacity=\"1\" /><path clip-path=\"url(#clip600)\" d=\"M287.755 1273.42 L277.176 1284.05 L287.755 1294.62 L285 1297.43 L274.375 1286.8 L263.75 1297.43 L261.019 1294.62 L271.574 1284.05 L261.019 1273.42 L263.75 1270.62 L274.375 1281.25 L285 1270.62 L287.755 1273.42 Z\" fill=\"#000000\" fill-rule=\"evenodd\" fill-opacity=\"1\" /><path clip-path=\"url(#clip600)\" d=\"M300.116 1294.95 L307.754 1294.95 L307.754 1268.58 L299.444 1270.25 L299.444 1265.99 L307.708 1264.32 L312.384 1264.32 L312.384 1294.95 L320.023 1294.95 L320.023 1298.88 L300.116 1298.88 L300.116 1294.95 Z\" fill=\"#000000\" fill-rule=\"evenodd\" fill-opacity=\"1\" /><path clip-path=\"url(#clip600)\" d=\"M339.467 1267.4 Q335.856 1267.4 334.027 1270.97 Q332.222 1274.51 332.222 1281.64 Q332.222 1288.75 334.027 1292.31 Q335.856 1295.85 339.467 1295.85 Q343.102 1295.85 344.907 1292.31 Q346.736 1288.75 346.736 1281.64 Q346.736 1274.51 344.907 1270.97 Q343.102 1267.4 339.467 1267.4 M339.467 1263.7 Q345.277 1263.7 348.333 1268.31 Q351.412 1272.89 351.412 1281.64 Q351.412 1290.37 348.333 1294.97 Q345.277 1299.56 339.467 1299.56 Q333.657 1299.56 330.578 1294.97 Q327.523 1290.37 327.523 1281.64 Q327.523 1272.89 330.578 1268.31 Q333.657 1263.7 339.467 1263.7 Z\" fill=\"#000000\" fill-rule=\"evenodd\" fill-opacity=\"1\" /><path clip-path=\"url(#clip600)\" d=\"M364.088 1246.7 L354.496 1261.69 L364.088 1261.69 L364.088 1246.7 M363.091 1243.39 L367.868 1243.39 L367.868 1261.69 L371.875 1261.69 L371.875 1264.85 L367.868 1264.85 L367.868 1271.47 L364.088 1271.47 L364.088 1264.85 L351.412 1264.85 L351.412 1261.19 L363.091 1243.39 Z\" fill=\"#000000\" fill-rule=\"evenodd\" fill-opacity=\"1\" /><path clip-path=\"url(#clip600)\" d=\"M114.26 886.306 L143.936 886.306 L143.936 890.241 L114.26 890.241 L114.26 886.306 Z\" fill=\"#000000\" fill-rule=\"evenodd\" fill-opacity=\"1\" /><path clip-path=\"url(#clip600)\" d=\"M154.839 899.199 L162.477 899.199 L162.477 872.834 L154.167 874.501 L154.167 870.241 L162.431 868.575 L167.107 868.575 L167.107 899.199 L174.746 899.199 L174.746 903.135 L154.839 903.135 L154.839 899.199 Z\" fill=\"#000000\" fill-rule=\"evenodd\" fill-opacity=\"1\" /><path clip-path=\"url(#clip600)\" d=\"M184.19 897.255 L189.075 897.255 L189.075 903.135 L184.19 903.135 L184.19 897.255 Z\" fill=\"#000000\" fill-rule=\"evenodd\" fill-opacity=\"1\" /><path clip-path=\"url(#clip600)\" d=\"M209.26 871.653 Q205.649 871.653 203.82 875.218 Q202.014 878.76 202.014 885.889 Q202.014 892.996 203.82 896.561 Q205.649 900.102 209.26 900.102 Q212.894 900.102 214.699 896.561 Q216.528 892.996 216.528 885.889 Q216.528 878.76 214.699 875.218 Q212.894 871.653 209.26 871.653 M209.26 867.95 Q215.07 867.95 218.125 872.556 Q221.204 877.139 221.204 885.889 Q221.204 894.616 218.125 899.223 Q215.07 903.806 209.26 903.806 Q203.449 903.806 200.371 899.223 Q197.315 894.616 197.315 885.889 Q197.315 877.139 200.371 872.556 Q203.449 867.95 209.26 867.95 Z\" fill=\"#000000\" fill-rule=\"evenodd\" fill-opacity=\"1\" /><path clip-path=\"url(#clip600)\" d=\"M239.422 871.653 Q235.81 871.653 233.982 875.218 Q232.176 878.76 232.176 885.889 Q232.176 892.996 233.982 896.561 Q235.81 900.102 239.422 900.102 Q243.056 900.102 244.861 896.561 Q246.69 892.996 246.69 885.889 Q246.69 878.76 244.861 875.218 Q243.056 871.653 239.422 871.653 M239.422 867.95 Q245.232 867.95 248.287 872.556 Q251.366 877.139 251.366 885.889 Q251.366 894.616 248.287 899.223 Q245.232 903.806 239.422 903.806 Q233.611 903.806 230.533 899.223 Q227.477 894.616 227.477 885.889 Q227.477 877.139 230.533 872.556 Q233.611 867.95 239.422 867.95 Z\" fill=\"#000000\" fill-rule=\"evenodd\" fill-opacity=\"1\" /><path clip-path=\"url(#clip600)\" d=\"M287.755 877.672 L277.176 888.297 L287.755 898.875 L285 901.676 L274.375 891.051 L263.75 901.676 L261.019 898.875 L271.574 888.297 L261.019 877.672 L263.75 874.871 L274.375 885.496 L285 874.871 L287.755 877.672 Z\" fill=\"#000000\" fill-rule=\"evenodd\" fill-opacity=\"1\" /><path clip-path=\"url(#clip600)\" d=\"M300.116 899.199 L307.754 899.199 L307.754 872.834 L299.444 874.501 L299.444 870.241 L307.708 868.575 L312.384 868.575 L312.384 899.199 L320.023 899.199 L320.023 903.135 L300.116 903.135 L300.116 899.199 Z\" fill=\"#000000\" fill-rule=\"evenodd\" fill-opacity=\"1\" /><path clip-path=\"url(#clip600)\" d=\"M339.467 871.653 Q335.856 871.653 334.027 875.218 Q332.222 878.76 332.222 885.889 Q332.222 892.996 334.027 896.561 Q335.856 900.102 339.467 900.102 Q343.102 900.102 344.907 896.561 Q346.736 892.996 346.736 885.889 Q346.736 878.76 344.907 875.218 Q343.102 871.653 339.467 871.653 M339.467 867.95 Q345.277 867.95 348.333 872.556 Q351.412 877.139 351.412 885.889 Q351.412 894.616 348.333 899.223 Q345.277 903.806 339.467 903.806 Q333.657 903.806 330.578 899.223 Q327.523 894.616 327.523 885.889 Q327.523 877.139 330.578 872.556 Q333.657 867.95 339.467 867.95 Z\" fill=\"#000000\" fill-rule=\"evenodd\" fill-opacity=\"1\" /><path clip-path=\"url(#clip600)\" d=\"M364.088 850.954 L354.496 865.944 L364.088 865.944 L364.088 850.954 M363.091 847.644 L367.868 847.644 L367.868 865.944 L371.875 865.944 L371.875 869.104 L367.868 869.104 L367.868 875.724 L364.088 875.724 L364.088 869.104 L351.412 869.104 L351.412 865.436 L363.091 847.644 Z\" fill=\"#000000\" fill-rule=\"evenodd\" fill-opacity=\"1\" /><path clip-path=\"url(#clip600)\" d=\"M116.235 490.557 L145.911 490.557 L145.911 494.492 L116.235 494.492 L116.235 490.557 Z\" fill=\"#000000\" fill-rule=\"evenodd\" fill-opacity=\"1\" /><path clip-path=\"url(#clip600)\" d=\"M156.05 472.825 L174.406 472.825 L174.406 476.76 L160.332 476.76 L160.332 485.233 Q161.35 484.885 162.369 484.723 Q163.387 484.538 164.406 484.538 Q170.193 484.538 173.573 487.709 Q176.952 490.881 176.952 496.297 Q176.952 501.876 173.48 504.978 Q170.008 508.057 163.688 508.057 Q161.513 508.057 159.244 507.686 Q156.999 507.316 154.591 506.575 L154.591 501.876 Q156.675 503.01 158.897 503.566 Q161.119 504.121 163.596 504.121 Q167.6 504.121 169.938 502.015 Q172.276 499.909 172.276 496.297 Q172.276 492.686 169.938 490.58 Q167.6 488.473 163.596 488.473 Q161.721 488.473 159.846 488.89 Q157.994 489.307 156.05 490.186 L156.05 472.825 Z\" fill=\"#000000\" fill-rule=\"evenodd\" fill-opacity=\"1\" /><path clip-path=\"url(#clip600)\" d=\"M186.165 501.506 L191.049 501.506 L191.049 507.385 L186.165 507.385 L186.165 501.506 Z\" fill=\"#000000\" fill-rule=\"evenodd\" fill-opacity=\"1\" /><path clip-path=\"url(#clip600)\" d=\"M211.234 475.904 Q207.623 475.904 205.795 479.469 Q203.989 483.01 203.989 490.14 Q203.989 497.246 205.795 500.811 Q207.623 504.353 211.234 504.353 Q214.869 504.353 216.674 500.811 Q218.503 497.246 218.503 490.14 Q218.503 483.01 216.674 479.469 Q214.869 475.904 211.234 475.904 M211.234 472.2 Q217.045 472.2 220.1 476.807 Q223.179 481.39 223.179 490.14 Q223.179 498.867 220.1 503.473 Q217.045 508.057 211.234 508.057 Q205.424 508.057 202.346 503.473 Q199.29 498.867 199.29 490.14 Q199.29 481.39 202.346 476.807 Q205.424 472.2 211.234 472.2 Z\" fill=\"#000000\" fill-rule=\"evenodd\" fill-opacity=\"1\" /><path clip-path=\"url(#clip600)\" d=\"M241.396 475.904 Q237.785 475.904 235.957 479.469 Q234.151 483.01 234.151 490.14 Q234.151 497.246 235.957 500.811 Q237.785 504.353 241.396 504.353 Q245.031 504.353 246.836 500.811 Q248.665 497.246 248.665 490.14 Q248.665 483.01 246.836 479.469 Q245.031 475.904 241.396 475.904 M241.396 472.2 Q247.206 472.2 250.262 476.807 Q253.341 481.39 253.341 490.14 Q253.341 498.867 250.262 503.473 Q247.206 508.057 241.396 508.057 Q235.586 508.057 232.507 503.473 Q229.452 498.867 229.452 490.14 Q229.452 481.39 232.507 476.807 Q235.586 472.2 241.396 472.2 Z\" fill=\"#000000\" fill-rule=\"evenodd\" fill-opacity=\"1\" /><path clip-path=\"url(#clip600)\" d=\"M289.729 481.922 L279.151 492.547 L289.729 503.126 L286.975 505.927 L276.35 495.302 L265.725 505.927 L262.993 503.126 L273.549 492.547 L262.993 481.922 L265.725 479.122 L276.35 489.747 L286.975 479.122 L289.729 481.922 Z\" fill=\"#000000\" fill-rule=\"evenodd\" fill-opacity=\"1\" /><path clip-path=\"url(#clip600)\" d=\"M302.09 503.45 L309.729 503.45 L309.729 477.085 L301.419 478.751 L301.419 474.492 L309.683 472.825 L314.359 472.825 L314.359 503.45 L321.998 503.45 L321.998 507.385 L302.09 507.385 L302.09 503.45 Z\" fill=\"#000000\" fill-rule=\"evenodd\" fill-opacity=\"1\" /><path clip-path=\"url(#clip600)\" d=\"M341.442 475.904 Q337.831 475.904 336.002 479.469 Q334.197 483.01 334.197 490.14 Q334.197 497.246 336.002 500.811 Q337.831 504.353 341.442 504.353 Q345.076 504.353 346.882 500.811 Q348.711 497.246 348.711 490.14 Q348.711 483.01 346.882 479.469 Q345.076 475.904 341.442 475.904 M341.442 472.2 Q347.252 472.2 350.308 476.807 Q353.386 481.39 353.386 490.14 Q353.386 498.867 350.308 503.473 Q347.252 508.057 341.442 508.057 Q335.632 508.057 332.553 503.473 Q329.498 498.867 329.498 490.14 Q329.498 481.39 332.553 476.807 Q335.632 472.2 341.442 472.2 Z\" fill=\"#000000\" fill-rule=\"evenodd\" fill-opacity=\"1\" /><path clip-path=\"url(#clip600)\" d=\"M366.082 464.835 Q368.809 465.418 370.332 467.261 Q371.875 469.104 371.875 471.812 Q371.875 475.969 369.016 478.245 Q366.157 480.52 360.891 480.52 Q359.123 480.52 357.242 480.163 Q355.38 479.824 353.386 479.129 L353.386 475.461 Q354.966 476.383 356.847 476.853 Q358.728 477.323 360.778 477.323 Q364.351 477.323 366.213 475.912 Q368.094 474.502 368.094 471.812 Q368.094 469.33 366.345 467.938 Q364.615 466.527 361.511 466.527 L358.239 466.527 L358.239 463.405 L361.662 463.405 Q364.464 463.405 365.95 462.296 Q367.436 461.167 367.436 459.061 Q367.436 456.898 365.894 455.751 Q364.37 454.584 361.511 454.584 Q359.95 454.584 358.164 454.923 Q356.377 455.262 354.233 455.976 L354.233 452.591 Q356.396 451.989 358.277 451.688 Q360.176 451.387 361.85 451.387 Q366.176 451.387 368.696 453.362 Q371.216 455.318 371.216 458.666 Q371.216 460.998 369.881 462.615 Q368.546 464.214 366.082 464.835 Z\" fill=\"#000000\" fill-rule=\"evenodd\" fill-opacity=\"1\" /><path clip-path=\"url(#clip600)\" d=\"M359.93 73.7071 Q356.319 73.7071 354.49 77.2719 Q352.685 80.8135 352.685 87.9431 Q352.685 95.0496 354.49 98.6144 Q356.319 102.156 359.93 102.156 Q363.564 102.156 365.37 98.6144 Q367.199 95.0496 367.199 87.9431 Q367.199 80.8135 365.37 77.2719 Q363.564 73.7071 359.93 73.7071 M359.93 70.0034 Q365.74 70.0034 368.796 74.6099 Q371.875 79.1932 371.875 87.9431 Q371.875 96.6699 368.796 101.276 Q365.74 105.86 359.93 105.86 Q354.12 105.86 351.041 101.276 Q347.986 96.6699 347.986 87.9431 Q347.986 79.1932 351.041 74.6099 Q354.12 70.0034 359.93 70.0034 Z\" fill=\"#000000\" fill-rule=\"evenodd\" fill-opacity=\"1\" /><path clip-path=\"url(#clip600)\" d=\"M64.0042 738.84 L16.4842 756.983 L16.4842 750.267 L56.4926 735.212 L16.4842 720.125 L16.4842 713.441 L64.0042 731.552 L64.0042 738.84 Z\" fill=\"#000000\" fill-rule=\"evenodd\" fill-opacity=\"1\" /><polyline clip-path=\"url(#clip602)\" style=\"stroke:#009af9; stroke-linecap:butt; stroke-linejoin:round; stroke-width:4; stroke-opacity:1; fill:none\" points=\"\n  462.918,87.9084 554.658,86.5822 646.398,86.2507 738.137,87.9084 829.877,92.55 921.617,101.17 1013.36,114.763 1105.1,134.324 1196.84,160.848 1288.58,195.328 \n  1380.32,238.76 1472.05,292.138 1563.79,356.458 1655.53,432.712 1747.27,521.897 1839.01,625.007 1930.75,743.036 2022.49,876.979 2114.23,1027.83 2205.97,1196.59 \n  2297.71,1384.24 \n  \"/>\n<circle clip-path=\"url(#clip602)\" cx=\"687.634\" cy=\"86.1857\" r=\"18\" fill=\"#e26f46\" fill-rule=\"evenodd\" fill-opacity=\"1\" stroke=\"#000000\" stroke-opacity=\"1\" stroke-width=\"3.2\"/>\n<path clip-path=\"url(#clip600)\" d=\"\nM1822.22 248.629 L2287.93 248.629 L2287.93 93.1086 L1822.22 93.1086  Z\n  \" fill=\"#ffffff\" fill-rule=\"evenodd\" fill-opacity=\"1\"/>\n<polyline clip-path=\"url(#clip600)\" style=\"stroke:#000000; stroke-linecap:butt; stroke-linejoin:round; stroke-width:4; stroke-opacity:1; fill:none\" points=\"\n  1822.22,248.629 2287.93,248.629 2287.93,93.1086 1822.22,93.1086 1822.22,248.629 \n  \"/>\n<polyline clip-path=\"url(#clip600)\" style=\"stroke:#009af9; stroke-linecap:butt; stroke-linejoin:round; stroke-width:4; stroke-opacity:1; fill:none\" points=\"\n  1843.83,144.949 1973.49,144.949 \n  \"/>\n<path clip-path=\"url(#clip600)\" d=\"M1995.1 127.669 L2016.95 127.669 L2016.95 131.604 L1999.78 131.604 L1999.78 141.835 L2016.24 141.835 L2016.24 145.77 L1999.78 145.77 L1999.78 158.293 L2017.37 158.293 L2017.37 162.229 L1995.1 162.229 L1995.1 127.669 Z\" fill=\"#000000\" fill-rule=\"evenodd\" fill-opacity=\"1\" /><path clip-path=\"url(#clip600)\" d=\"M2043.53 137.298 L2043.53 141.28 Q2041.72 140.284 2039.89 139.798 Q2038.09 139.289 2036.24 139.289 Q2032.09 139.289 2029.8 141.928 Q2027.51 144.544 2027.51 149.289 Q2027.51 154.034 2029.8 156.673 Q2032.09 159.289 2036.24 159.289 Q2038.09 159.289 2039.89 158.803 Q2041.72 158.293 2043.53 157.298 L2043.53 161.233 Q2041.75 162.067 2039.82 162.483 Q2037.93 162.9 2035.77 162.9 Q2029.92 162.9 2026.47 159.219 Q2023.02 155.539 2023.02 149.289 Q2023.02 142.946 2026.49 139.312 Q2029.99 135.678 2036.05 135.678 Q2038.02 135.678 2039.89 136.095 Q2041.77 136.488 2043.53 137.298 Z\" fill=\"#000000\" fill-rule=\"evenodd\" fill-opacity=\"1\" /><path clip-path=\"url(#clip600)\" d=\"M2050.5 151.997 L2050.5 136.303 L2054.75 136.303 L2054.75 151.835 Q2054.75 155.516 2056.19 157.368 Q2057.62 159.196 2060.49 159.196 Q2063.94 159.196 2065.93 156.997 Q2067.95 154.798 2067.95 151.002 L2067.95 136.303 L2072.21 136.303 L2072.21 162.229 L2067.95 162.229 L2067.95 158.247 Q2066.4 160.608 2064.34 161.766 Q2062.3 162.9 2059.59 162.9 Q2055.12 162.9 2052.81 160.122 Q2050.5 157.344 2050.5 151.997 M2061.21 135.678 L2061.21 135.678 Z\" fill=\"#000000\" fill-rule=\"evenodd\" fill-opacity=\"1\" /><path clip-path=\"url(#clip600)\" d=\"M2092.76 149.196 Q2087.6 149.196 2085.61 150.377 Q2083.62 151.557 2083.62 154.405 Q2083.62 156.673 2085.1 158.016 Q2086.61 159.335 2089.18 159.335 Q2092.72 159.335 2094.85 156.835 Q2097 154.312 2097 150.145 L2097 149.196 L2092.76 149.196 M2101.26 147.437 L2101.26 162.229 L2097 162.229 L2097 158.293 Q2095.54 160.655 2093.37 161.789 Q2091.19 162.9 2088.04 162.9 Q2084.06 162.9 2081.7 160.678 Q2079.36 158.432 2079.36 154.682 Q2079.36 150.307 2082.28 148.085 Q2085.22 145.863 2091.03 145.863 L2097 145.863 L2097 145.446 Q2097 142.507 2095.05 140.909 Q2093.13 139.289 2089.64 139.289 Q2087.42 139.289 2085.31 139.821 Q2083.2 140.354 2081.26 141.419 L2081.26 137.483 Q2083.6 136.581 2085.8 136.141 Q2087.99 135.678 2090.08 135.678 Q2095.7 135.678 2098.48 138.594 Q2101.26 141.511 2101.26 147.437 Z\" fill=\"#000000\" fill-rule=\"evenodd\" fill-opacity=\"1\" /><path clip-path=\"url(#clip600)\" d=\"M2128.69 137.298 L2128.69 141.28 Q2126.88 140.284 2125.05 139.798 Q2123.25 139.289 2121.4 139.289 Q2117.25 139.289 2114.96 141.928 Q2112.67 144.544 2112.67 149.289 Q2112.67 154.034 2114.96 156.673 Q2117.25 159.289 2121.4 159.289 Q2123.25 159.289 2125.05 158.803 Q2126.88 158.293 2128.69 157.298 L2128.69 161.233 Q2126.91 162.067 2124.99 162.483 Q2123.09 162.9 2120.93 162.9 Q2115.08 162.9 2111.63 159.219 Q2108.18 155.539 2108.18 149.289 Q2108.18 142.946 2111.65 139.312 Q2115.15 135.678 2121.21 135.678 Q2123.18 135.678 2125.05 136.095 Q2126.93 136.488 2128.69 137.298 Z\" fill=\"#000000\" fill-rule=\"evenodd\" fill-opacity=\"1\" /><path clip-path=\"url(#clip600)\" d=\"M2136.1 136.303 L2140.36 136.303 L2140.36 162.229 L2136.1 162.229 L2136.1 136.303 M2136.1 126.21 L2140.36 126.21 L2140.36 131.604 L2136.1 131.604 L2136.1 126.21 Z\" fill=\"#000000\" fill-rule=\"evenodd\" fill-opacity=\"1\" /><path clip-path=\"url(#clip600)\" d=\"M2159.31 139.289 Q2155.89 139.289 2153.9 141.974 Q2151.91 144.636 2151.91 149.289 Q2151.91 153.942 2153.87 156.627 Q2155.86 159.289 2159.31 159.289 Q2162.72 159.289 2164.71 156.604 Q2166.7 153.918 2166.7 149.289 Q2166.7 144.682 2164.71 141.997 Q2162.72 139.289 2159.31 139.289 M2159.31 135.678 Q2164.87 135.678 2168.04 139.289 Q2171.21 142.9 2171.21 149.289 Q2171.21 155.655 2168.04 159.289 Q2164.87 162.9 2159.31 162.9 Q2153.74 162.9 2150.56 159.289 Q2147.42 155.655 2147.42 149.289 Q2147.42 142.9 2150.56 139.289 Q2153.74 135.678 2159.31 135.678 M2162.53 124.312 L2167.14 124.312 L2159.59 133.016 L2156.05 133.016 L2162.53 124.312 Z\" fill=\"#000000\" fill-rule=\"evenodd\" fill-opacity=\"1\" /><path clip-path=\"url(#clip600)\" d=\"M2199.82 146.581 L2199.82 162.229 L2195.56 162.229 L2195.56 146.719 Q2195.56 143.039 2194.13 141.21 Q2192.69 139.382 2189.82 139.382 Q2186.37 139.382 2184.38 141.581 Q2182.39 143.78 2182.39 147.576 L2182.39 162.229 L2178.11 162.229 L2178.11 136.303 L2182.39 136.303 L2182.39 140.331 Q2183.92 137.993 2185.98 136.835 Q2188.06 135.678 2190.77 135.678 Q2195.24 135.678 2197.53 138.456 Q2199.82 141.21 2199.82 146.581 Z\" fill=\"#000000\" fill-rule=\"evenodd\" fill-opacity=\"1\" /><path clip-path=\"url(#clip600)\" d=\"M2224.8 158.293 L2232.44 158.293 L2232.44 131.928 L2224.13 133.595 L2224.13 129.335 L2232.39 127.669 L2237.07 127.669 L2237.07 158.293 L2244.71 158.293 L2244.71 162.229 L2224.8 162.229 L2224.8 158.293 Z\" fill=\"#000000\" fill-rule=\"evenodd\" fill-opacity=\"1\" /><circle clip-path=\"url(#clip600)\" cx=\"1908.66\" cy=\"196.789\" r=\"23\" fill=\"#e26f46\" fill-rule=\"evenodd\" fill-opacity=\"1\" stroke=\"#000000\" stroke-opacity=\"1\" stroke-width=\"4.096\"/>\n<path clip-path=\"url(#clip600)\" d=\"M2017.35 180.643 L2017.35 185.203 Q2014.69 183.93 2012.32 183.305 Q2009.96 182.68 2007.76 182.68 Q2003.94 182.68 2001.86 184.161 Q1999.8 185.643 1999.8 188.374 Q1999.8 190.666 2001.17 191.847 Q2002.56 193.004 2006.4 193.722 L2009.22 194.3 Q2014.45 195.296 2016.93 197.819 Q2019.43 200.319 2019.43 204.532 Q2019.43 209.555 2016.05 212.147 Q2012.69 214.74 2006.19 214.74 Q2003.74 214.74 2000.96 214.184 Q1998.2 213.629 1995.24 212.541 L1995.24 207.726 Q1998.09 209.323 2000.82 210.133 Q2003.55 210.944 2006.19 210.944 Q2010.19 210.944 2012.37 209.37 Q2014.55 207.796 2014.55 204.879 Q2014.55 202.333 2012.97 200.897 Q2011.42 199.462 2007.86 198.745 L2005.01 198.189 Q1999.78 197.147 1997.44 194.925 Q1995.1 192.703 1995.1 188.745 Q1995.1 184.161 1998.32 181.522 Q2001.56 178.884 2007.23 178.884 Q2009.66 178.884 2012.19 179.323 Q2014.71 179.763 2017.35 180.643 Z\" fill=\"#000000\" fill-rule=\"evenodd\" fill-opacity=\"1\" /><path clip-path=\"url(#clip600)\" d=\"M2036.58 191.129 Q2033.16 191.129 2031.17 193.814 Q2029.18 196.476 2029.18 201.129 Q2029.18 205.782 2031.14 208.467 Q2033.13 211.129 2036.58 211.129 Q2039.99 211.129 2041.98 208.444 Q2043.97 205.758 2043.97 201.129 Q2043.97 196.522 2041.98 193.837 Q2039.99 191.129 2036.58 191.129 M2036.58 187.518 Q2042.14 187.518 2045.31 191.129 Q2048.48 194.74 2048.48 201.129 Q2048.48 207.495 2045.31 211.129 Q2042.14 214.74 2036.58 214.74 Q2031 214.74 2027.83 211.129 Q2024.68 207.495 2024.68 201.129 Q2024.68 194.74 2027.83 191.129 Q2031 187.518 2036.58 187.518 Z\" fill=\"#000000\" fill-rule=\"evenodd\" fill-opacity=\"1\" /><path clip-path=\"url(#clip600)\" d=\"M2055.54 178.05 L2059.8 178.05 L2059.8 214.069 L2055.54 214.069 L2055.54 178.05 Z\" fill=\"#000000\" fill-rule=\"evenodd\" fill-opacity=\"1\" /><path clip-path=\"url(#clip600)\" d=\"M2068.27 203.837 L2068.27 188.143 L2072.53 188.143 L2072.53 203.675 Q2072.53 207.356 2073.97 209.208 Q2075.4 211.036 2078.27 211.036 Q2081.72 211.036 2083.71 208.837 Q2085.73 206.638 2085.73 202.842 L2085.73 188.143 L2089.99 188.143 L2089.99 214.069 L2085.73 214.069 L2085.73 210.087 Q2084.18 212.448 2082.12 213.606 Q2080.08 214.74 2077.37 214.74 Q2072.9 214.74 2070.59 211.962 Q2068.27 209.184 2068.27 203.837 M2078.99 187.518 L2078.99 187.518 Z\" fill=\"#000000\" fill-rule=\"evenodd\" fill-opacity=\"1\" /><path clip-path=\"url(#clip600)\" d=\"M2117.42 189.138 L2117.42 193.12 Q2115.61 192.124 2113.78 191.638 Q2111.98 191.129 2110.12 191.129 Q2105.98 191.129 2103.69 193.768 Q2101.4 196.384 2101.4 201.129 Q2101.4 205.874 2103.69 208.513 Q2105.98 211.129 2110.12 211.129 Q2111.98 211.129 2113.78 210.643 Q2115.61 210.133 2117.42 209.138 L2117.42 213.073 Q2115.63 213.907 2113.71 214.323 Q2111.81 214.74 2109.66 214.74 Q2103.8 214.74 2100.36 211.059 Q2096.91 207.379 2096.91 201.129 Q2096.91 194.786 2100.38 191.152 Q2103.87 187.518 2109.94 187.518 Q2111.91 187.518 2113.78 187.935 Q2115.66 188.328 2117.42 189.138 Z\" fill=\"#000000\" fill-rule=\"evenodd\" fill-opacity=\"1\" /><path clip-path=\"url(#clip600)\" d=\"M2124.82 188.143 L2129.08 188.143 L2129.08 214.069 L2124.82 214.069 L2124.82 188.143 M2124.82 178.05 L2129.08 178.05 L2129.08 183.444 L2124.82 183.444 L2124.82 178.05 Z\" fill=\"#000000\" fill-rule=\"evenodd\" fill-opacity=\"1\" /><path clip-path=\"url(#clip600)\" d=\"M2148.04 191.129 Q2144.61 191.129 2142.62 193.814 Q2140.63 196.476 2140.63 201.129 Q2140.63 205.782 2142.6 208.467 Q2144.59 211.129 2148.04 211.129 Q2151.44 211.129 2153.43 208.444 Q2155.43 205.758 2155.43 201.129 Q2155.43 196.522 2153.43 193.837 Q2151.44 191.129 2148.04 191.129 M2148.04 187.518 Q2153.6 187.518 2156.77 191.129 Q2159.94 194.74 2159.94 201.129 Q2159.94 207.495 2156.77 211.129 Q2153.6 214.74 2148.04 214.74 Q2142.46 214.74 2139.29 211.129 Q2136.14 207.495 2136.14 201.129 Q2136.14 194.74 2139.29 191.129 Q2142.46 187.518 2148.04 187.518 M2151.26 176.152 L2155.86 176.152 L2148.32 184.856 L2144.78 184.856 L2151.26 176.152 Z\" fill=\"#000000\" fill-rule=\"evenodd\" fill-opacity=\"1\" /><path clip-path=\"url(#clip600)\" d=\"M2188.55 198.421 L2188.55 214.069 L2184.29 214.069 L2184.29 198.559 Q2184.29 194.879 2182.86 193.05 Q2181.42 191.222 2178.55 191.222 Q2175.1 191.222 2173.11 193.421 Q2171.12 195.62 2171.12 199.416 L2171.12 214.069 L2166.84 214.069 L2166.84 188.143 L2171.12 188.143 L2171.12 192.171 Q2172.65 189.833 2174.71 188.675 Q2176.79 187.518 2179.5 187.518 Q2183.97 187.518 2186.26 190.296 Q2188.55 193.05 2188.55 198.421 Z\" fill=\"#000000\" fill-rule=\"evenodd\" fill-opacity=\"1\" /></svg>\n"
     },
     "execution_count": 10,
     "metadata": {},
     "output_type": "execute_result"
    }
   ],
   "source": [
    "y = collect(0:1:20)\n",
    "\n",
    "V(y) = (2*π/3) * (9*y - y^3) # Ecuación 1\n",
    "\n",
    "plot(y, V.(y), label=\"Ecuación 1\")\n",
    "plot!([sqrt(6)], [V(sqrt(3))], seriestype=:scatter, m=:circle, ms=5, label=\"Solución\")\n",
    "\n",
    "xlabel!(\"y\")\n",
    "ylabel!(\"V\")"
   ]
  },
  {
   "cell_type": "markdown",
   "metadata": {},
   "source": [
    "## 1.6. Ejemplo 3\n",
    "\n",
    "Dada una mochila con una capacidad de 15 kg que puedo llenar con cajas de distinto peso y valor, ¿qué cajas elijo de modo de maximizar mis ganancias y no exceder los 15 kg de peso permitidos?\n",
    "\n",
    "<img src='./img/example3.png' width='300' height='300'/>\n",
    "\n",
    "Organizando el problema, tenemos:\n",
    "\n",
    "$$\n",
    "\\begin{cases}\n",
    "  \\text{Maximizar} & 4*verde + 2*azul + naranja + 10*amarillo + 2*gris\\\\ \n",
    "  \\\\\n",
    "  \\text{S.T.} & \\begin{cases}\n",
    "                  12*\\text{verde} + 2*\\text{azul} + \\text{naranja} + 4*\\text{amarillo} + \\text{gris} <= 15\\\\\n",
    "                  \\\\\n",
    "                  \\text{verde}, \\text{azul}, \\text{naranja}, \\text{amarillo}, \\text{gris} \\in {0, 1}\\\\\n",
    "                \\end{cases}\n",
    "\\end{cases} \n",
    "$$"
   ]
  },
  {
   "cell_type": "code",
   "execution_count": 11,
   "metadata": {},
   "outputs": [
    {
     "data": {
      "text/latex": [
       "$$ \\begin{aligned}\n",
       "\\max\\quad & 4 verde + 2 azul + naranja + 10 amarillo + 2 gris\\\\\n",
       "\\text{Subject to} \\quad & 12 verde + 2 azul + naranja + 4 amarillo + gris \\leq 15.0\\\\\n",
       " & verde \\in \\{0, 1\\}\\\\\n",
       " & azul \\in \\{0, 1\\}\\\\\n",
       " & naranja \\in \\{0, 1\\}\\\\\n",
       " & amarillo \\in \\{0, 1\\}\\\\\n",
       " & gris \\in \\{0, 1\\}\\\\\n",
       "\\end{aligned} $$"
      ]
     },
     "metadata": {},
     "output_type": "display_data"
    },
    {
     "name": "stdout",
     "output_type": "stream",
     "text": [
      "objective_value(model) = 15.0\n",
      "value(verde) = 0.0\n",
      "value(azul) = 1.0\n",
      "value(naranja) = 1.0\n",
      "value(amarillo) = 1.0\n",
      "value(gris) = 1.0\n"
     ]
    },
    {
     "data": {
      "text/plain": [
       "1.0"
      ]
     },
     "execution_count": 11,
     "metadata": {},
     "output_type": "execute_result"
    }
   ],
   "source": [
    "# Paso 1\n",
    "model = Model(GLPK.Optimizer)\n",
    "\n",
    "# Paso 2\n",
    "@variable(model, verde, Bin) # Binary (e.g., 0 o 1)\n",
    "@variable(model, azul, Bin)\n",
    "@variable(model, naranja, Bin)\n",
    "@variable(model, amarillo, Bin)\n",
    "@variable(model, gris, Bin)\n",
    "\n",
    "# Paso 3\n",
    "@objective(model, Max, verde*4 + azul*2 + naranja*1 + amarillo*10 + gris*2)\n",
    "\n",
    "# Paso 4\n",
    "@constraint(model, peso, verde*12 + azul*2 + naranja*1 + amarillo*4 + gris*1 <= 15)\n",
    "print(model)\n",
    "\n",
    "# Paso 5\n",
    "optimize!(model)\n",
    "\n",
    "# Paso 6\n",
    "@show objective_value(model)\n",
    "@show value(verde)\n",
    "@show value(azul)\n",
    "@show value(naranja)\n",
    "@show value(amarillo)\n",
    "@show value(gris)"
   ]
  },
  {
   "cell_type": "markdown",
   "metadata": {},
   "source": [
    "## 1.7. Ejemplo 4\n",
    "\n",
    "Una empresa de alquiler de automóviles cobra entre 50 USD por día y 200 USD por día. La curva de demanda de sus automóviles es $Q(P) = 1000 - 5P$. ¿Qué precio deberían cobrar para maximizar sus ingresos?\n",
    "\n",
    "Organizando el problema, tenemos:\n",
    "\n",
    "$$\n",
    "\\begin{cases}\n",
    "  \\text{Maximizar} & Ganancia = P * Q\\\\ \n",
    "  \\\\\n",
    "  \\text{S.T.} & \\begin{cases}\n",
    "                  50 <= P <= 200\\\\\n",
    "                  \\\\\n",
    "                  Q(P) = 1000 - 5P\\\\\n",
    "                \\end{cases}\n",
    "\\end{cases} \n",
    "$$\n",
    "\n",
    "**Nota:** Dado que la función objetivo **no es lineal**, el *solver* a utilizar es `Ipopt` en lugar de `GLPK`. También, note que en lugar de `@objective` y `@constraint`, ahora utilizamos `@NLobjective` y `@NLconstraint`."
   ]
  },
  {
   "cell_type": "code",
   "execution_count": 13,
   "metadata": {},
   "outputs": [
    {
     "data": {
      "text/latex": [
       "$$ \\begin{aligned}\n",
       "\\max\\quad & P * (1000.0 - 5.0 * P)\\\\\n",
       "\\text{Subject to} \\quad & P \\geq 50.0\\\\\n",
       " & P \\leq 200.0\\\\\n",
       "\\end{aligned} $$"
      ]
     },
     "metadata": {},
     "output_type": "display_data"
    },
    {
     "name": "stdout",
     "output_type": "stream",
     "text": [
      "This is Ipopt version 3.14.4, running with linear solver MUMPS 5.4.1.\n",
      "\n",
      "Number of nonzeros in equality constraint Jacobian...:        0\n",
      "Number of nonzeros in inequality constraint Jacobian.:        0\n",
      "Number of nonzeros in Lagrangian Hessian.............:        1\n",
      "\n",
      "Total number of variables............................:        1\n",
      "                     variables with only lower bounds:        0\n",
      "                variables with lower and upper bounds:        1\n",
      "                     variables with only upper bounds:        0\n",
      "Total number of equality constraints.................:        0\n",
      "Total number of inequality constraints...............:        0\n",
      "        inequality constraints with only lower bounds:        0\n",
      "   inequality constraints with lower and upper bounds:        0\n",
      "        inequality constraints with only upper bounds:        0\n",
      "\n",
      "iter    objective    inf_pr   inf_du lg(mu)  ||d||  lg(rg) alpha_du alpha_pr  ls\n",
      "   0  3.7748750e+04 0.00e+00 9.90e+01  -1.0 0.00e+00    -  0.00e+00 0.00e+00   0\n",
      "   1  4.6939274e+04 0.00e+00 4.85e+01  -1.0 2.48e+01    -  1.97e-02 1.00e+00f  1\n",
      "   2  4.9999950e+04 0.00e+00 2.88e-01  -1.0 2.46e+01    -  6.27e-01 1.00e+00f  1\n",
      "   3  5.0000000e+04 0.00e+00 3.42e-03  -1.0 1.01e-01    -  9.93e-01 1.00e+00f  1\n",
      "   4  5.0000000e+04 0.00e+00 1.23e-14  -1.7 1.56e-04    -  1.00e+00 1.00e+00f  1\n",
      "   5  5.0000000e+04 0.00e+00 1.39e-14  -3.8 9.93e-05    -  1.00e+00 1.00e+00f  1\n",
      "   6  5.0000000e+04 0.00e+00 1.39e-14  -5.7 7.43e-07    -  1.00e+00 1.00e+00f  1\n",
      "   7  5.0000000e+04 0.00e+00 2.47e-15  -8.6 9.21e-09    -  1.00e+00 1.00e+00f  1\n",
      "\n",
      "Number of Iterations....: 7\n",
      "\n",
      "                                   (scaled)                 (unscaled)\n",
      "Objective...............:  -1.0000000000000000e+04    5.0000000000000000e+04\n",
      "Dual infeasibility......:   2.4650491559103079e-15    1.2325245779551539e-14\n",
      "Constraint violation....:   0.0000000000000000e+00    0.0000000000000000e+00\n",
      "Variable bound violation:   0.0000000000000000e+00    0.0000000000000000e+00\n",
      "Complementarity.........:   2.5059038991287164e-09    1.2529519495643582e-08\n",
      "Overall NLP error.......:   2.5059038991287164e-09    1.2529519495643582e-08\n",
      "\n",
      "\n",
      "Number of objective function evaluations             = 8\n",
      "Number of objective gradient evaluations             = 8\n",
      "Number of equality constraint evaluations            = 0\n",
      "Number of inequality constraint evaluations          = 0\n",
      "Number of equality constraint Jacobian evaluations   = 0\n",
      "Number of inequality constraint Jacobian evaluations = 0\n",
      "Number of Lagrangian Hessian evaluations             = 7\n",
      "Total seconds in IPOPT                               = 0.005\n",
      "\n",
      "EXIT: Optimal Solution Found.\n",
      "objective_value(model) = 50000.0\n",
      "value(P) = 100.00000000001253\n"
     ]
    },
    {
     "data": {
      "text/plain": [
       "100.00000000001253"
      ]
     },
     "execution_count": 13,
     "metadata": {},
     "output_type": "execute_result"
    }
   ],
   "source": [
    "# Paso 1\n",
    "model = Model(Ipopt.Optimizer)\n",
    "\n",
    "# Paso 2\n",
    "@variable(model, 50 <= P <= 200, start = 50)\n",
    "\n",
    "# Paso 3\n",
    "@NLobjective(model, Max, P * (1000 - 5P)) # Revenue = P * Q\n",
    "\n",
    "# Paso 4\n",
    "# @constraint() # No hay a parte de los costos de alquiler\n",
    "print(model)\n",
    "\n",
    "# Paso 5\n",
    "optimize!(model)\n",
    "\n",
    "# Paso 6\n",
    "@show objective_value(model)\n",
    "@show value(P)"
   ]
  },
  {
   "cell_type": "code",
   "execution_count": 14,
   "metadata": {},
   "outputs": [
    {
     "data": {
      "image/svg+xml": "<?xml version=\"1.0\" encoding=\"utf-8\"?>\n<svg xmlns=\"http://www.w3.org/2000/svg\" xmlns:xlink=\"http://www.w3.org/1999/xlink\" width=\"600\" height=\"400\" viewBox=\"0 0 2400 1600\">\n<defs>\n  <clipPath id=\"clip640\">\n    <rect x=\"0\" y=\"0\" width=\"2400\" height=\"1600\"/>\n  </clipPath>\n</defs>\n<path clip-path=\"url(#clip640)\" d=\"\nM0 1600 L2400 1600 L2400 0 L0 0  Z\n  \" fill=\"#ffffff\" fill-rule=\"evenodd\" fill-opacity=\"1\"/>\n<defs>\n  <clipPath id=\"clip641\">\n    <rect x=\"480\" y=\"0\" width=\"1681\" height=\"1600\"/>\n  </clipPath>\n</defs>\n<path clip-path=\"url(#clip640)\" d=\"\nM340.699 1423.18 L2352.76 1423.18 L2352.76 47.2441 L340.699 47.2441  Z\n  \" fill=\"#ffffff\" fill-rule=\"evenodd\" fill-opacity=\"1\"/>\n<defs>\n  <clipPath id=\"clip642\">\n    <rect x=\"340\" y=\"47\" width=\"2013\" height=\"1377\"/>\n  </clipPath>\n</defs>\n<polyline clip-path=\"url(#clip642)\" style=\"stroke:#000000; stroke-linecap:butt; stroke-linejoin:round; stroke-width:2; stroke-opacity:0.1; fill:none\" points=\"\n  524.188,1423.18 524.188,47.2441 \n  \"/>\n<polyline clip-path=\"url(#clip642)\" style=\"stroke:#000000; stroke-linecap:butt; stroke-linejoin:round; stroke-width:2; stroke-opacity:0.1; fill:none\" points=\"\n  903.822,1423.18 903.822,47.2441 \n  \"/>\n<polyline clip-path=\"url(#clip642)\" style=\"stroke:#000000; stroke-linecap:butt; stroke-linejoin:round; stroke-width:2; stroke-opacity:0.1; fill:none\" points=\"\n  1283.46,1423.18 1283.46,47.2441 \n  \"/>\n<polyline clip-path=\"url(#clip642)\" style=\"stroke:#000000; stroke-linecap:butt; stroke-linejoin:round; stroke-width:2; stroke-opacity:0.1; fill:none\" points=\"\n  1663.09,1423.18 1663.09,47.2441 \n  \"/>\n<polyline clip-path=\"url(#clip642)\" style=\"stroke:#000000; stroke-linecap:butt; stroke-linejoin:round; stroke-width:2; stroke-opacity:0.1; fill:none\" points=\"\n  2042.72,1423.18 2042.72,47.2441 \n  \"/>\n<polyline clip-path=\"url(#clip640)\" style=\"stroke:#000000; stroke-linecap:butt; stroke-linejoin:round; stroke-width:4; stroke-opacity:1; fill:none\" points=\"\n  340.699,1423.18 2352.76,1423.18 \n  \"/>\n<polyline clip-path=\"url(#clip640)\" style=\"stroke:#000000; stroke-linecap:butt; stroke-linejoin:round; stroke-width:4; stroke-opacity:1; fill:none\" points=\"\n  524.188,1423.18 524.188,1404.28 \n  \"/>\n<polyline clip-path=\"url(#clip640)\" style=\"stroke:#000000; stroke-linecap:butt; stroke-linejoin:round; stroke-width:4; stroke-opacity:1; fill:none\" points=\"\n  903.822,1423.18 903.822,1404.28 \n  \"/>\n<polyline clip-path=\"url(#clip640)\" style=\"stroke:#000000; stroke-linecap:butt; stroke-linejoin:round; stroke-width:4; stroke-opacity:1; fill:none\" points=\"\n  1283.46,1423.18 1283.46,1404.28 \n  \"/>\n<polyline clip-path=\"url(#clip640)\" style=\"stroke:#000000; stroke-linecap:butt; stroke-linejoin:round; stroke-width:4; stroke-opacity:1; fill:none\" points=\"\n  1663.09,1423.18 1663.09,1404.28 \n  \"/>\n<polyline clip-path=\"url(#clip640)\" style=\"stroke:#000000; stroke-linecap:butt; stroke-linejoin:round; stroke-width:4; stroke-opacity:1; fill:none\" points=\"\n  2042.72,1423.18 2042.72,1404.28 \n  \"/>\n<path clip-path=\"url(#clip640)\" d=\"M509.594 1466.44 Q506.445 1466.44 504.594 1468.59 Q502.765 1470.74 502.765 1474.49 Q502.765 1478.22 504.594 1480.39 Q506.445 1482.55 509.594 1482.55 Q512.742 1482.55 514.57 1480.39 Q516.422 1478.22 516.422 1474.49 Q516.422 1470.74 514.57 1468.59 Q512.742 1466.44 509.594 1466.44 M518.876 1451.78 L518.876 1456.04 Q517.117 1455.21 515.311 1454.77 Q513.529 1454.33 511.77 1454.33 Q507.14 1454.33 504.686 1457.45 Q502.256 1460.58 501.908 1466.9 Q503.274 1464.89 505.334 1463.82 Q507.395 1462.73 509.871 1462.73 Q515.08 1462.73 518.089 1465.9 Q521.121 1469.05 521.121 1474.49 Q521.121 1479.82 517.973 1483.03 Q514.825 1486.25 509.594 1486.25 Q503.598 1486.25 500.427 1481.67 Q497.256 1477.06 497.256 1468.33 Q497.256 1460.14 501.145 1455.28 Q505.033 1450.39 511.584 1450.39 Q513.344 1450.39 515.126 1450.74 Q516.932 1451.09 518.876 1451.78 Z\" fill=\"#000000\" fill-rule=\"evenodd\" fill-opacity=\"1\" /><path clip-path=\"url(#clip640)\" d=\"M539.177 1454.1 Q535.566 1454.1 533.737 1457.66 Q531.931 1461.2 531.931 1468.33 Q531.931 1475.44 533.737 1479.01 Q535.566 1482.55 539.177 1482.55 Q542.811 1482.55 544.617 1479.01 Q546.445 1475.44 546.445 1468.33 Q546.445 1461.2 544.617 1457.66 Q542.811 1454.1 539.177 1454.1 M539.177 1450.39 Q544.987 1450.39 548.042 1455 Q551.121 1459.58 551.121 1468.33 Q551.121 1477.06 548.042 1481.67 Q544.987 1486.25 539.177 1486.25 Q533.367 1486.25 530.288 1481.67 Q527.232 1477.06 527.232 1468.33 Q527.232 1459.58 530.288 1455 Q533.367 1450.39 539.177 1450.39 Z\" fill=\"#000000\" fill-rule=\"evenodd\" fill-opacity=\"1\" /><path clip-path=\"url(#clip640)\" d=\"M878.949 1484.86 L878.949 1480.6 Q880.709 1481.44 882.514 1481.88 Q884.32 1482.32 886.056 1482.32 Q890.685 1482.32 893.116 1479.21 Q895.57 1476.09 895.917 1469.75 Q894.574 1471.74 892.514 1472.8 Q890.454 1473.87 887.954 1473.87 Q882.769 1473.87 879.736 1470.74 Q876.727 1467.59 876.727 1462.15 Q876.727 1456.83 879.875 1453.61 Q883.023 1450.39 888.255 1450.39 Q894.25 1450.39 897.398 1455 Q900.57 1459.58 900.57 1468.33 Q900.57 1476.51 896.681 1481.39 Q892.815 1486.25 886.264 1486.25 Q884.505 1486.25 882.699 1485.9 Q880.894 1485.56 878.949 1484.86 M888.255 1470.21 Q891.403 1470.21 893.232 1468.06 Q895.083 1465.9 895.083 1462.15 Q895.083 1458.43 893.232 1456.27 Q891.403 1454.1 888.255 1454.1 Q885.107 1454.1 883.255 1456.27 Q881.426 1458.43 881.426 1462.15 Q881.426 1465.9 883.255 1468.06 Q885.107 1470.21 888.255 1470.21 Z\" fill=\"#000000\" fill-rule=\"evenodd\" fill-opacity=\"1\" /><path clip-path=\"url(#clip640)\" d=\"M918.972 1454.1 Q915.361 1454.1 913.532 1457.66 Q911.727 1461.2 911.727 1468.33 Q911.727 1475.44 913.532 1479.01 Q915.361 1482.55 918.972 1482.55 Q922.606 1482.55 924.412 1479.01 Q926.241 1475.44 926.241 1468.33 Q926.241 1461.2 924.412 1457.66 Q922.606 1454.1 918.972 1454.1 M918.972 1450.39 Q924.782 1450.39 927.838 1455 Q930.917 1459.58 930.917 1468.33 Q930.917 1477.06 927.838 1481.67 Q924.782 1486.25 918.972 1486.25 Q913.162 1486.25 910.083 1481.67 Q907.028 1477.06 907.028 1468.33 Q907.028 1459.58 910.083 1455 Q913.162 1450.39 918.972 1450.39 Z\" fill=\"#000000\" fill-rule=\"evenodd\" fill-opacity=\"1\" /><path clip-path=\"url(#clip640)\" d=\"M1243.06 1481.64 L1250.7 1481.64 L1250.7 1455.28 L1242.39 1456.95 L1242.39 1452.69 L1250.65 1451.02 L1255.33 1451.02 L1255.33 1481.64 L1262.97 1481.64 L1262.97 1485.58 L1243.06 1485.58 L1243.06 1481.64 Z\" fill=\"#000000\" fill-rule=\"evenodd\" fill-opacity=\"1\" /><path clip-path=\"url(#clip640)\" d=\"M1276.44 1481.64 L1292.76 1481.64 L1292.76 1485.58 L1270.82 1485.58 L1270.82 1481.64 Q1273.48 1478.89 1278.06 1474.26 Q1282.67 1469.61 1283.85 1468.27 Q1286.09 1465.74 1286.97 1464.01 Q1287.88 1462.25 1287.88 1460.56 Q1287.88 1457.8 1285.93 1456.07 Q1284.01 1454.33 1280.91 1454.33 Q1278.71 1454.33 1276.26 1455.09 Q1273.83 1455.86 1271.05 1457.41 L1271.05 1452.69 Q1273.87 1451.55 1276.33 1450.97 Q1278.78 1450.39 1280.82 1450.39 Q1286.19 1450.39 1289.38 1453.08 Q1292.58 1455.77 1292.58 1460.26 Q1292.58 1462.39 1291.77 1464.31 Q1290.98 1466.2 1288.87 1468.8 Q1288.29 1469.47 1285.19 1472.69 Q1282.09 1475.88 1276.44 1481.64 Z\" fill=\"#000000\" fill-rule=\"evenodd\" fill-opacity=\"1\" /><path clip-path=\"url(#clip640)\" d=\"M1312.58 1454.1 Q1308.96 1454.1 1307.14 1457.66 Q1305.33 1461.2 1305.33 1468.33 Q1305.33 1475.44 1307.14 1479.01 Q1308.96 1482.55 1312.58 1482.55 Q1316.21 1482.55 1318.02 1479.01 Q1319.84 1475.44 1319.84 1468.33 Q1319.84 1461.2 1318.02 1457.66 Q1316.21 1454.1 1312.58 1454.1 M1312.58 1450.39 Q1318.39 1450.39 1321.44 1455 Q1324.52 1459.58 1324.52 1468.33 Q1324.52 1477.06 1321.44 1481.67 Q1318.39 1486.25 1312.58 1486.25 Q1306.77 1486.25 1303.69 1481.67 Q1300.63 1477.06 1300.63 1468.33 Q1300.63 1459.58 1303.69 1455 Q1306.77 1450.39 1312.58 1450.39 Z\" fill=\"#000000\" fill-rule=\"evenodd\" fill-opacity=\"1\" /><path clip-path=\"url(#clip640)\" d=\"M1622.7 1481.64 L1630.33 1481.64 L1630.33 1455.28 L1622.02 1456.95 L1622.02 1452.69 L1630.29 1451.02 L1634.96 1451.02 L1634.96 1481.64 L1642.6 1481.64 L1642.6 1485.58 L1622.7 1485.58 L1622.7 1481.64 Z\" fill=\"#000000\" fill-rule=\"evenodd\" fill-opacity=\"1\" /><path clip-path=\"url(#clip640)\" d=\"M1652.09 1451.02 L1670.45 1451.02 L1670.45 1454.96 L1656.38 1454.96 L1656.38 1463.43 Q1657.39 1463.08 1658.41 1462.92 Q1659.43 1462.73 1660.45 1462.73 Q1666.24 1462.73 1669.62 1465.9 Q1673 1469.08 1673 1474.49 Q1673 1480.07 1669.52 1483.17 Q1666.05 1486.25 1659.73 1486.25 Q1657.56 1486.25 1655.29 1485.88 Q1653.04 1485.51 1650.63 1484.77 L1650.63 1480.07 Q1652.72 1481.2 1654.94 1481.76 Q1657.16 1482.32 1659.64 1482.32 Q1663.64 1482.32 1665.98 1480.21 Q1668.32 1478.1 1668.32 1474.49 Q1668.32 1470.88 1665.98 1468.77 Q1663.64 1466.67 1659.64 1466.67 Q1657.76 1466.67 1655.89 1467.08 Q1654.04 1467.5 1652.09 1468.38 L1652.09 1451.02 Z\" fill=\"#000000\" fill-rule=\"evenodd\" fill-opacity=\"1\" /><path clip-path=\"url(#clip640)\" d=\"M1692.21 1454.1 Q1688.6 1454.1 1686.77 1457.66 Q1684.96 1461.2 1684.96 1468.33 Q1684.96 1475.44 1686.77 1479.01 Q1688.6 1482.55 1692.21 1482.55 Q1695.84 1482.55 1697.65 1479.01 Q1699.48 1475.44 1699.48 1468.33 Q1699.48 1461.2 1697.65 1457.66 Q1695.84 1454.1 1692.21 1454.1 M1692.21 1450.39 Q1698.02 1450.39 1701.07 1455 Q1704.15 1459.58 1704.15 1468.33 Q1704.15 1477.06 1701.07 1481.67 Q1698.02 1486.25 1692.21 1486.25 Q1686.4 1486.25 1683.32 1481.67 Q1680.26 1477.06 1680.26 1468.33 Q1680.26 1459.58 1683.32 1455 Q1686.4 1450.39 1692.21 1450.39 Z\" fill=\"#000000\" fill-rule=\"evenodd\" fill-opacity=\"1\" /><path clip-path=\"url(#clip640)\" d=\"M2002.33 1481.64 L2009.97 1481.64 L2009.97 1455.28 L2001.66 1456.95 L2001.66 1452.69 L2009.92 1451.02 L2014.6 1451.02 L2014.6 1481.64 L2022.24 1481.64 L2022.24 1485.58 L2002.33 1485.58 L2002.33 1481.64 Z\" fill=\"#000000\" fill-rule=\"evenodd\" fill-opacity=\"1\" /><path clip-path=\"url(#clip640)\" d=\"M2041.68 1469.17 Q2038.35 1469.17 2036.43 1470.95 Q2034.53 1472.73 2034.53 1475.86 Q2034.53 1478.98 2036.43 1480.77 Q2038.35 1482.55 2041.68 1482.55 Q2045.01 1482.55 2046.93 1480.77 Q2048.86 1478.96 2048.86 1475.86 Q2048.86 1472.73 2046.93 1470.95 Q2045.04 1469.17 2041.68 1469.17 M2037 1467.18 Q2034 1466.44 2032.31 1464.38 Q2030.64 1462.32 2030.64 1459.35 Q2030.64 1455.21 2033.58 1452.8 Q2036.54 1450.39 2041.68 1450.39 Q2046.84 1450.39 2049.78 1452.8 Q2052.72 1455.21 2052.72 1459.35 Q2052.72 1462.32 2051.03 1464.38 Q2049.37 1466.44 2046.38 1467.18 Q2049.76 1467.96 2051.63 1470.26 Q2053.53 1472.55 2053.53 1475.86 Q2053.53 1480.88 2050.45 1483.57 Q2047.4 1486.25 2041.68 1486.25 Q2035.96 1486.25 2032.88 1483.57 Q2029.83 1480.88 2029.83 1475.86 Q2029.83 1472.55 2031.73 1470.26 Q2033.62 1467.96 2037 1467.18 M2035.29 1459.79 Q2035.29 1462.48 2036.96 1463.98 Q2038.65 1465.49 2041.68 1465.49 Q2044.69 1465.49 2046.38 1463.98 Q2048.09 1462.48 2048.09 1459.79 Q2048.09 1457.11 2046.38 1455.6 Q2044.69 1454.1 2041.68 1454.1 Q2038.65 1454.1 2036.96 1455.6 Q2035.29 1457.11 2035.29 1459.79 Z\" fill=\"#000000\" fill-rule=\"evenodd\" fill-opacity=\"1\" /><path clip-path=\"url(#clip640)\" d=\"M2071.84 1454.1 Q2068.23 1454.1 2066.4 1457.66 Q2064.6 1461.2 2064.6 1468.33 Q2064.6 1475.44 2066.4 1479.01 Q2068.23 1482.55 2071.84 1482.55 Q2075.48 1482.55 2077.28 1479.01 Q2079.11 1475.44 2079.11 1468.33 Q2079.11 1461.2 2077.28 1457.66 Q2075.48 1454.1 2071.84 1454.1 M2071.84 1450.39 Q2077.65 1450.39 2080.71 1455 Q2083.79 1459.58 2083.79 1468.33 Q2083.79 1477.06 2080.71 1481.67 Q2077.65 1486.25 2071.84 1486.25 Q2066.03 1486.25 2062.95 1481.67 Q2059.9 1477.06 2059.9 1468.33 Q2059.9 1459.58 2062.95 1455 Q2066.03 1450.39 2071.84 1450.39 Z\" fill=\"#000000\" fill-rule=\"evenodd\" fill-opacity=\"1\" /><path clip-path=\"url(#clip640)\" d=\"M1142.09 1545.76 Q1144.15 1546.46 1146.1 1548.76 Q1148.07 1551.05 1150.04 1555.06 L1156.57 1568.04 L1149.66 1568.04 L1143.58 1555.85 Q1141.23 1551.08 1139 1549.52 Q1136.8 1547.96 1132.98 1547.96 L1125.98 1547.96 L1125.98 1568.04 L1119.55 1568.04 L1119.55 1520.52 L1134.07 1520.52 Q1142.21 1520.52 1146.22 1523.93 Q1150.23 1527.34 1150.23 1534.21 Q1150.23 1538.7 1148.13 1541.66 Q1146.06 1544.62 1142.09 1545.76 M1125.98 1525.81 L1125.98 1542.68 L1134.07 1542.68 Q1138.71 1542.68 1141.07 1540.54 Q1143.45 1538.38 1143.45 1534.21 Q1143.45 1530.04 1141.07 1527.94 Q1138.71 1525.81 1134.07 1525.81 L1125.98 1525.81 Z\" fill=\"#000000\" fill-rule=\"evenodd\" fill-opacity=\"1\" /><path clip-path=\"url(#clip640)\" d=\"M1192.15 1548.76 L1192.15 1551.62 L1165.23 1551.62 Q1165.61 1557.67 1168.85 1560.85 Q1172.13 1564 1177.96 1564 Q1181.33 1564 1184.48 1563.17 Q1187.66 1562.35 1190.78 1560.69 L1190.78 1566.23 Q1187.63 1567.57 1184.32 1568.27 Q1181.01 1568.97 1177.61 1568.97 Q1169.08 1568.97 1164.08 1564 Q1159.11 1559.04 1159.11 1550.57 Q1159.11 1541.82 1163.82 1536.69 Q1168.57 1531.54 1176.59 1531.54 Q1183.78 1531.54 1187.95 1536.18 Q1192.15 1540.8 1192.15 1548.76 M1186.3 1547.04 Q1186.23 1542.23 1183.59 1539.37 Q1180.98 1536.5 1176.65 1536.5 Q1171.75 1536.5 1168.79 1539.27 Q1165.86 1542.04 1165.42 1547.07 L1186.3 1547.04 Z\" fill=\"#000000\" fill-rule=\"evenodd\" fill-opacity=\"1\" /><path clip-path=\"url(#clip640)\" d=\"M1197.56 1532.4 L1203.77 1532.4 L1214.91 1562.31 L1226.05 1532.4 L1232.26 1532.4 L1218.89 1568.04 L1210.93 1568.04 L1197.56 1532.4 Z\" fill=\"#000000\" fill-rule=\"evenodd\" fill-opacity=\"1\" /><path clip-path=\"url(#clip640)\" d=\"M1270.83 1548.76 L1270.83 1551.62 L1243.91 1551.62 Q1244.29 1557.67 1247.53 1560.85 Q1250.81 1564 1256.64 1564 Q1260.01 1564 1263.16 1563.17 Q1266.34 1562.35 1269.46 1560.69 L1269.46 1566.23 Q1266.31 1567.57 1263 1568.27 Q1259.69 1568.97 1256.29 1568.97 Q1247.76 1568.97 1242.76 1564 Q1237.79 1559.04 1237.79 1550.57 Q1237.79 1541.82 1242.5 1536.69 Q1247.25 1531.54 1255.27 1531.54 Q1262.46 1531.54 1266.63 1536.18 Q1270.83 1540.8 1270.83 1548.76 M1264.98 1547.04 Q1264.91 1542.23 1262.27 1539.37 Q1259.66 1536.5 1255.33 1536.5 Q1250.43 1536.5 1247.47 1539.27 Q1244.54 1542.04 1244.1 1547.07 L1264.98 1547.04 Z\" fill=\"#000000\" fill-rule=\"evenodd\" fill-opacity=\"1\" /><path clip-path=\"url(#clip640)\" d=\"M1310.08 1546.53 L1310.08 1568.04 L1304.22 1568.04 L1304.22 1546.72 Q1304.22 1541.66 1302.25 1539.14 Q1300.27 1536.63 1296.33 1536.63 Q1291.58 1536.63 1288.85 1539.65 Q1286.11 1542.68 1286.11 1547.9 L1286.11 1568.04 L1280.22 1568.04 L1280.22 1532.4 L1286.11 1532.4 L1286.11 1537.93 Q1288.21 1534.72 1291.04 1533.13 Q1293.91 1531.54 1297.63 1531.54 Q1303.77 1531.54 1306.93 1535.36 Q1310.08 1539.14 1310.08 1546.53 Z\" fill=\"#000000\" fill-rule=\"evenodd\" fill-opacity=\"1\" /><path clip-path=\"url(#clip640)\" d=\"M1321.15 1553.98 L1321.15 1532.4 L1327.01 1532.4 L1327.01 1553.75 Q1327.01 1558.81 1328.98 1561.36 Q1330.96 1563.87 1334.9 1563.87 Q1339.65 1563.87 1342.38 1560.85 Q1345.15 1557.83 1345.15 1552.61 L1345.15 1532.4 L1351.01 1532.4 L1351.01 1568.04 L1345.15 1568.04 L1345.15 1562.57 Q1343.02 1565.82 1340.19 1567.41 Q1337.39 1568.97 1333.66 1568.97 Q1327.52 1568.97 1324.34 1565.15 Q1321.15 1561.33 1321.15 1553.98 M1335.89 1531.54 L1335.89 1531.54 Z\" fill=\"#000000\" fill-rule=\"evenodd\" fill-opacity=\"1\" /><path clip-path=\"url(#clip640)\" d=\"M1393.56 1548.76 L1393.56 1551.62 L1366.64 1551.62 Q1367.02 1557.67 1370.26 1560.85 Q1373.54 1564 1379.37 1564 Q1382.74 1564 1385.89 1563.17 Q1389.08 1562.35 1392.19 1560.69 L1392.19 1566.23 Q1389.04 1567.57 1385.73 1568.27 Q1382.42 1568.97 1379.02 1568.97 Q1370.49 1568.97 1365.49 1564 Q1360.53 1559.04 1360.53 1550.57 Q1360.53 1541.82 1365.24 1536.69 Q1369.98 1531.54 1378 1531.54 Q1385.19 1531.54 1389.36 1536.18 Q1393.56 1540.8 1393.56 1548.76 M1387.71 1547.04 Q1387.64 1542.23 1385 1539.37 Q1382.39 1536.5 1378.06 1536.5 Q1373.16 1536.5 1370.2 1539.27 Q1367.27 1542.04 1366.83 1547.07 L1387.71 1547.04 Z\" fill=\"#000000\" fill-rule=\"evenodd\" fill-opacity=\"1\" /><path clip-path=\"url(#clip640)\" d=\"M1404.67 1559.96 L1411.39 1559.96 L1411.39 1565.43 L1406.17 1575.62 L1402.06 1575.62 L1404.67 1565.43 L1404.67 1559.96 Z\" fill=\"#000000\" fill-rule=\"evenodd\" fill-opacity=\"1\" /><path clip-path=\"url(#clip640)\" d=\"M1444.14 1520.52 L1450.6 1520.52 L1450.6 1549.39 Q1450.6 1557.03 1453.37 1560.4 Q1456.14 1563.75 1462.34 1563.75 Q1468.52 1563.75 1471.29 1560.4 Q1474.06 1557.03 1474.06 1549.39 L1474.06 1520.52 L1480.52 1520.52 L1480.52 1550.19 Q1480.52 1559.48 1475.9 1564.22 Q1471.32 1568.97 1462.34 1568.97 Q1453.34 1568.97 1448.72 1564.22 Q1444.14 1559.48 1444.14 1550.19 L1444.14 1520.52 Z\" fill=\"#000000\" fill-rule=\"evenodd\" fill-opacity=\"1\" /><path clip-path=\"url(#clip640)\" d=\"M1521.07 1522.08 L1521.07 1528.35 Q1517.41 1526.6 1514.16 1525.74 Q1510.91 1524.88 1507.89 1524.88 Q1502.64 1524.88 1499.77 1526.92 Q1496.94 1528.96 1496.94 1532.71 Q1496.94 1535.87 1498.82 1537.49 Q1500.73 1539.08 1506.01 1540.07 L1509.9 1540.86 Q1517.09 1542.23 1520.5 1545.7 Q1523.93 1549.14 1523.93 1554.93 Q1523.93 1561.84 1519.29 1565.4 Q1514.67 1568.97 1505.73 1568.97 Q1502.35 1568.97 1498.53 1568.2 Q1494.75 1567.44 1490.67 1565.94 L1490.67 1559.32 Q1494.59 1561.52 1498.34 1562.63 Q1502.1 1563.75 1505.73 1563.75 Q1511.23 1563.75 1514.23 1561.58 Q1517.22 1559.42 1517.22 1555.41 Q1517.22 1551.91 1515.05 1549.93 Q1512.92 1547.96 1508.02 1546.97 L1504.1 1546.21 Q1496.91 1544.78 1493.7 1541.72 Q1490.48 1538.67 1490.48 1533.22 Q1490.48 1526.92 1494.91 1523.29 Q1499.36 1519.66 1507.16 1519.66 Q1510.5 1519.66 1513.97 1520.27 Q1517.44 1520.87 1521.07 1522.08 Z\" fill=\"#000000\" fill-rule=\"evenodd\" fill-opacity=\"1\" /><path clip-path=\"url(#clip640)\" d=\"M1540.39 1525.81 L1540.39 1562.76 L1548.15 1562.76 Q1557.99 1562.76 1562.54 1558.3 Q1567.12 1553.85 1567.12 1544.24 Q1567.12 1534.69 1562.54 1530.26 Q1557.99 1525.81 1548.15 1525.81 L1540.39 1525.81 M1533.96 1520.52 L1547.17 1520.52 Q1560.98 1520.52 1567.44 1526.28 Q1573.9 1532.01 1573.9 1544.24 Q1573.9 1556.52 1567.41 1562.28 Q1560.92 1568.04 1547.17 1568.04 L1533.96 1568.04 L1533.96 1520.52 Z\" fill=\"#000000\" fill-rule=\"evenodd\" fill-opacity=\"1\" /><polyline clip-path=\"url(#clip642)\" style=\"stroke:#000000; stroke-linecap:butt; stroke-linejoin:round; stroke-width:2; stroke-opacity:0.1; fill:none\" points=\"\n  340.699,1384.24 2352.76,1384.24 \n  \"/>\n<polyline clip-path=\"url(#clip642)\" style=\"stroke:#000000; stroke-linecap:butt; stroke-linejoin:round; stroke-width:2; stroke-opacity:0.1; fill:none\" points=\"\n  340.699,1124.63 2352.76,1124.63 \n  \"/>\n<polyline clip-path=\"url(#clip642)\" style=\"stroke:#000000; stroke-linecap:butt; stroke-linejoin:round; stroke-width:2; stroke-opacity:0.1; fill:none\" points=\"\n  340.699,865.017 2352.76,865.017 \n  \"/>\n<polyline clip-path=\"url(#clip642)\" style=\"stroke:#000000; stroke-linecap:butt; stroke-linejoin:round; stroke-width:2; stroke-opacity:0.1; fill:none\" points=\"\n  340.699,605.407 2352.76,605.407 \n  \"/>\n<polyline clip-path=\"url(#clip642)\" style=\"stroke:#000000; stroke-linecap:butt; stroke-linejoin:round; stroke-width:2; stroke-opacity:0.1; fill:none\" points=\"\n  340.699,345.796 2352.76,345.796 \n  \"/>\n<polyline clip-path=\"url(#clip642)\" style=\"stroke:#000000; stroke-linecap:butt; stroke-linejoin:round; stroke-width:2; stroke-opacity:0.1; fill:none\" points=\"\n  340.699,86.1857 2352.76,86.1857 \n  \"/>\n<polyline clip-path=\"url(#clip640)\" style=\"stroke:#000000; stroke-linecap:butt; stroke-linejoin:round; stroke-width:4; stroke-opacity:1; fill:none\" points=\"\n  340.699,1423.18 340.699,47.2441 \n  \"/>\n<polyline clip-path=\"url(#clip640)\" style=\"stroke:#000000; stroke-linecap:butt; stroke-linejoin:round; stroke-width:4; stroke-opacity:1; fill:none\" points=\"\n  340.699,1384.24 359.597,1384.24 \n  \"/>\n<polyline clip-path=\"url(#clip640)\" style=\"stroke:#000000; stroke-linecap:butt; stroke-linejoin:round; stroke-width:4; stroke-opacity:1; fill:none\" points=\"\n  340.699,1124.63 359.597,1124.63 \n  \"/>\n<polyline clip-path=\"url(#clip640)\" style=\"stroke:#000000; stroke-linecap:butt; stroke-linejoin:round; stroke-width:4; stroke-opacity:1; fill:none\" points=\"\n  340.699,865.017 359.597,865.017 \n  \"/>\n<polyline clip-path=\"url(#clip640)\" style=\"stroke:#000000; stroke-linecap:butt; stroke-linejoin:round; stroke-width:4; stroke-opacity:1; fill:none\" points=\"\n  340.699,605.407 359.597,605.407 \n  \"/>\n<polyline clip-path=\"url(#clip640)\" style=\"stroke:#000000; stroke-linecap:butt; stroke-linejoin:round; stroke-width:4; stroke-opacity:1; fill:none\" points=\"\n  340.699,345.796 359.597,345.796 \n  \"/>\n<polyline clip-path=\"url(#clip640)\" style=\"stroke:#000000; stroke-linecap:butt; stroke-linejoin:round; stroke-width:4; stroke-opacity:1; fill:none\" points=\"\n  340.699,86.1857 359.597,86.1857 \n  \"/>\n<path clip-path=\"url(#clip640)\" d=\"M292.755 1370.04 Q289.143 1370.04 287.315 1373.6 Q285.509 1377.14 285.509 1384.27 Q285.509 1391.38 287.315 1394.94 Q289.143 1398.49 292.755 1398.49 Q296.389 1398.49 298.194 1394.94 Q300.023 1391.38 300.023 1384.27 Q300.023 1377.14 298.194 1373.6 Q296.389 1370.04 292.755 1370.04 M292.755 1366.33 Q298.565 1366.33 301.62 1370.94 Q304.699 1375.52 304.699 1384.27 Q304.699 1393 301.62 1397.61 Q298.565 1402.19 292.755 1402.19 Q286.944 1402.19 283.866 1397.61 Q280.81 1393 280.81 1384.27 Q280.81 1375.52 283.866 1370.94 Q286.944 1366.33 292.755 1366.33 Z\" fill=\"#000000\" fill-rule=\"evenodd\" fill-opacity=\"1\" /><path clip-path=\"url(#clip640)\" d=\"M117.825 1144.42 L125.464 1144.42 L125.464 1118.05 L117.154 1119.72 L117.154 1115.46 L125.418 1113.8 L130.093 1113.8 L130.093 1144.42 L137.732 1144.42 L137.732 1148.36 L117.825 1148.36 L117.825 1144.42 Z\" fill=\"#000000\" fill-rule=\"evenodd\" fill-opacity=\"1\" /><path clip-path=\"url(#clip640)\" d=\"M147.177 1142.48 L152.061 1142.48 L152.061 1148.36 L147.177 1148.36 L147.177 1142.48 Z\" fill=\"#000000\" fill-rule=\"evenodd\" fill-opacity=\"1\" /><path clip-path=\"url(#clip640)\" d=\"M172.246 1116.87 Q168.635 1116.87 166.806 1120.44 Q165.001 1123.98 165.001 1131.11 Q165.001 1138.22 166.806 1141.78 Q168.635 1145.32 172.246 1145.32 Q175.88 1145.32 177.686 1141.78 Q179.514 1138.22 179.514 1131.11 Q179.514 1123.98 177.686 1120.44 Q175.88 1116.87 172.246 1116.87 M172.246 1113.17 Q178.056 1113.17 181.112 1117.78 Q184.19 1122.36 184.19 1131.11 Q184.19 1139.84 181.112 1144.44 Q178.056 1149.03 172.246 1149.03 Q166.436 1149.03 163.357 1144.44 Q160.302 1139.84 160.302 1131.11 Q160.302 1122.36 163.357 1117.78 Q166.436 1113.17 172.246 1113.17 Z\" fill=\"#000000\" fill-rule=\"evenodd\" fill-opacity=\"1\" /><path clip-path=\"url(#clip640)\" d=\"M220.579 1122.89 L210 1133.52 L220.579 1144.1 L217.824 1146.9 L207.199 1136.27 L196.575 1146.9 L193.843 1144.1 L204.399 1133.52 L193.843 1122.89 L196.575 1120.09 L207.199 1130.72 L217.824 1120.09 L220.579 1122.89 Z\" fill=\"#000000\" fill-rule=\"evenodd\" fill-opacity=\"1\" /><path clip-path=\"url(#clip640)\" d=\"M232.94 1144.42 L240.579 1144.42 L240.579 1118.05 L232.269 1119.72 L232.269 1115.46 L240.533 1113.8 L245.209 1113.8 L245.209 1144.42 L252.847 1144.42 L252.847 1148.36 L232.94 1148.36 L232.94 1144.42 Z\" fill=\"#000000\" fill-rule=\"evenodd\" fill-opacity=\"1\" /><path clip-path=\"url(#clip640)\" d=\"M272.292 1116.87 Q268.681 1116.87 266.852 1120.44 Q265.046 1123.98 265.046 1131.11 Q265.046 1138.22 266.852 1141.78 Q268.681 1145.32 272.292 1145.32 Q275.926 1145.32 277.732 1141.78 Q279.56 1138.22 279.56 1131.11 Q279.56 1123.98 277.732 1120.44 Q275.926 1116.87 272.292 1116.87 M272.292 1113.17 Q278.102 1113.17 281.157 1117.78 Q284.236 1122.36 284.236 1131.11 Q284.236 1139.84 281.157 1144.44 Q278.102 1149.03 272.292 1149.03 Q266.482 1149.03 263.403 1144.44 Q260.347 1139.84 260.347 1131.11 Q260.347 1122.36 263.403 1117.78 Q266.482 1113.17 272.292 1113.17 Z\" fill=\"#000000\" fill-rule=\"evenodd\" fill-opacity=\"1\" /><path clip-path=\"url(#clip640)\" d=\"M296.913 1096.18 L287.321 1111.16 L296.913 1111.16 L296.913 1096.18 M295.916 1092.86 L300.693 1092.86 L300.693 1111.16 L304.699 1111.16 L304.699 1114.32 L300.693 1114.32 L300.693 1120.94 L296.913 1120.94 L296.913 1114.32 L284.236 1114.32 L284.236 1110.66 L295.916 1092.86 Z\" fill=\"#000000\" fill-rule=\"evenodd\" fill-opacity=\"1\" /><path clip-path=\"url(#clip640)\" d=\"M121.043 884.81 L137.362 884.81 L137.362 888.745 L115.418 888.745 L115.418 884.81 Q118.08 882.055 122.663 877.425 Q127.269 872.773 128.45 871.43 Q130.695 868.907 131.575 867.171 Q132.478 865.412 132.478 863.722 Q132.478 860.967 130.533 859.231 Q128.612 857.495 125.51 857.495 Q123.311 857.495 120.857 858.259 Q118.427 859.023 115.649 860.574 L115.649 855.851 Q118.473 854.717 120.927 854.139 Q123.38 853.56 125.418 853.56 Q130.788 853.56 133.982 856.245 Q137.177 858.93 137.177 863.421 Q137.177 865.551 136.367 867.472 Q135.579 869.37 133.473 871.963 Q132.894 872.634 129.792 875.851 Q126.691 879.046 121.043 884.81 Z\" fill=\"#000000\" fill-rule=\"evenodd\" fill-opacity=\"1\" /><path clip-path=\"url(#clip640)\" d=\"M147.177 882.865 L152.061 882.865 L152.061 888.745 L147.177 888.745 L147.177 882.865 Z\" fill=\"#000000\" fill-rule=\"evenodd\" fill-opacity=\"1\" /><path clip-path=\"url(#clip640)\" d=\"M172.246 857.264 Q168.635 857.264 166.806 860.828 Q165.001 864.37 165.001 871.5 Q165.001 878.606 166.806 882.171 Q168.635 885.712 172.246 885.712 Q175.88 885.712 177.686 882.171 Q179.514 878.606 179.514 871.5 Q179.514 864.37 177.686 860.828 Q175.88 857.264 172.246 857.264 M172.246 853.56 Q178.056 853.56 181.112 858.166 Q184.19 862.75 184.19 871.5 Q184.19 880.226 181.112 884.833 Q178.056 889.416 172.246 889.416 Q166.436 889.416 163.357 884.833 Q160.302 880.226 160.302 871.5 Q160.302 862.75 163.357 858.166 Q166.436 853.56 172.246 853.56 Z\" fill=\"#000000\" fill-rule=\"evenodd\" fill-opacity=\"1\" /><path clip-path=\"url(#clip640)\" d=\"M220.579 863.282 L210 873.907 L220.579 884.486 L217.824 887.287 L207.199 876.662 L196.575 887.287 L193.843 884.486 L204.399 873.907 L193.843 863.282 L196.575 860.481 L207.199 871.106 L217.824 860.481 L220.579 863.282 Z\" fill=\"#000000\" fill-rule=\"evenodd\" fill-opacity=\"1\" /><path clip-path=\"url(#clip640)\" d=\"M232.94 884.81 L240.579 884.81 L240.579 858.444 L232.269 860.111 L232.269 855.851 L240.533 854.185 L245.209 854.185 L245.209 884.81 L252.847 884.81 L252.847 888.745 L232.94 888.745 L232.94 884.81 Z\" fill=\"#000000\" fill-rule=\"evenodd\" fill-opacity=\"1\" /><path clip-path=\"url(#clip640)\" d=\"M272.292 857.264 Q268.681 857.264 266.852 860.828 Q265.046 864.37 265.046 871.5 Q265.046 878.606 266.852 882.171 Q268.681 885.712 272.292 885.712 Q275.926 885.712 277.732 882.171 Q279.56 878.606 279.56 871.5 Q279.56 864.37 277.732 860.828 Q275.926 857.264 272.292 857.264 M272.292 853.56 Q278.102 853.56 281.157 858.166 Q284.236 862.75 284.236 871.5 Q284.236 880.226 281.157 884.833 Q278.102 889.416 272.292 889.416 Q266.482 889.416 263.403 884.833 Q260.347 880.226 260.347 871.5 Q260.347 862.75 263.403 858.166 Q266.482 853.56 272.292 853.56 Z\" fill=\"#000000\" fill-rule=\"evenodd\" fill-opacity=\"1\" /><path clip-path=\"url(#clip640)\" d=\"M296.913 836.565 L287.321 851.554 L296.913 851.554 L296.913 836.565 M295.916 833.254 L300.693 833.254 L300.693 851.554 L304.699 851.554 L304.699 854.714 L300.693 854.714 L300.693 861.334 L296.913 861.334 L296.913 854.714 L284.236 854.714 L284.236 851.047 L295.916 833.254 Z\" fill=\"#000000\" fill-rule=\"evenodd\" fill-opacity=\"1\" /><path clip-path=\"url(#clip640)\" d=\"M131.181 610.5 Q134.538 611.218 136.413 613.486 Q138.311 615.755 138.311 619.088 Q138.311 624.204 134.792 627.005 Q131.274 629.806 124.793 629.806 Q122.617 629.806 120.302 629.366 Q118.01 628.949 115.556 628.093 L115.556 623.579 Q117.501 624.713 119.816 625.292 Q122.13 625.87 124.654 625.87 Q129.052 625.87 131.343 624.134 Q133.658 622.398 133.658 619.088 Q133.658 616.033 131.505 614.32 Q129.376 612.583 125.556 612.583 L121.529 612.583 L121.529 608.741 L125.742 608.741 Q129.191 608.741 131.019 607.375 Q132.848 605.986 132.848 603.394 Q132.848 600.732 130.95 599.32 Q129.075 597.884 125.556 597.884 Q123.635 597.884 121.436 598.301 Q119.237 598.718 116.598 599.597 L116.598 595.431 Q119.26 594.69 121.575 594.32 Q123.913 593.949 125.973 593.949 Q131.297 593.949 134.399 596.38 Q137.501 598.787 137.501 602.908 Q137.501 605.778 135.857 607.769 Q134.214 609.736 131.181 610.5 Z\" fill=\"#000000\" fill-rule=\"evenodd\" fill-opacity=\"1\" /><path clip-path=\"url(#clip640)\" d=\"M147.177 623.255 L152.061 623.255 L152.061 629.134 L147.177 629.134 L147.177 623.255 Z\" fill=\"#000000\" fill-rule=\"evenodd\" fill-opacity=\"1\" /><path clip-path=\"url(#clip640)\" d=\"M172.246 597.653 Q168.635 597.653 166.806 601.218 Q165.001 604.759 165.001 611.889 Q165.001 618.995 166.806 622.56 Q168.635 626.102 172.246 626.102 Q175.88 626.102 177.686 622.56 Q179.514 618.995 179.514 611.889 Q179.514 604.759 177.686 601.218 Q175.88 597.653 172.246 597.653 M172.246 593.949 Q178.056 593.949 181.112 598.556 Q184.19 603.139 184.19 611.889 Q184.19 620.616 181.112 625.222 Q178.056 629.806 172.246 629.806 Q166.436 629.806 163.357 625.222 Q160.302 620.616 160.302 611.889 Q160.302 603.139 163.357 598.556 Q166.436 593.949 172.246 593.949 Z\" fill=\"#000000\" fill-rule=\"evenodd\" fill-opacity=\"1\" /><path clip-path=\"url(#clip640)\" d=\"M220.579 603.671 L210 614.296 L220.579 624.875 L217.824 627.676 L207.199 617.051 L196.575 627.676 L193.843 624.875 L204.399 614.296 L193.843 603.671 L196.575 600.871 L207.199 611.496 L217.824 600.871 L220.579 603.671 Z\" fill=\"#000000\" fill-rule=\"evenodd\" fill-opacity=\"1\" /><path clip-path=\"url(#clip640)\" d=\"M232.94 625.199 L240.579 625.199 L240.579 598.834 L232.269 600.5 L232.269 596.241 L240.533 594.574 L245.209 594.574 L245.209 625.199 L252.847 625.199 L252.847 629.134 L232.94 629.134 L232.94 625.199 Z\" fill=\"#000000\" fill-rule=\"evenodd\" fill-opacity=\"1\" /><path clip-path=\"url(#clip640)\" d=\"M272.292 597.653 Q268.681 597.653 266.852 601.218 Q265.046 604.759 265.046 611.889 Q265.046 618.995 266.852 622.56 Q268.681 626.102 272.292 626.102 Q275.926 626.102 277.732 622.56 Q279.56 618.995 279.56 611.889 Q279.56 604.759 277.732 601.218 Q275.926 597.653 272.292 597.653 M272.292 593.949 Q278.102 593.949 281.157 598.556 Q284.236 603.139 284.236 611.889 Q284.236 620.616 281.157 625.222 Q278.102 629.806 272.292 629.806 Q266.482 629.806 263.403 625.222 Q260.347 620.616 260.347 611.889 Q260.347 603.139 263.403 598.556 Q266.482 593.949 272.292 593.949 Z\" fill=\"#000000\" fill-rule=\"evenodd\" fill-opacity=\"1\" /><path clip-path=\"url(#clip640)\" d=\"M296.913 576.954 L287.321 591.944 L296.913 591.944 L296.913 576.954 M295.916 573.644 L300.693 573.644 L300.693 591.944 L304.699 591.944 L304.699 595.104 L300.693 595.104 L300.693 601.724 L296.913 601.724 L296.913 595.104 L284.236 595.104 L284.236 591.436 L295.916 573.644 Z\" fill=\"#000000\" fill-rule=\"evenodd\" fill-opacity=\"1\" /><path clip-path=\"url(#clip640)\" d=\"M129.862 339.038 L118.056 357.487 L129.862 357.487 L129.862 339.038 M128.635 334.964 L134.515 334.964 L134.515 357.487 L139.445 357.487 L139.445 361.376 L134.515 361.376 L134.515 369.524 L129.862 369.524 L129.862 361.376 L114.26 361.376 L114.26 356.862 L128.635 334.964 Z\" fill=\"#000000\" fill-rule=\"evenodd\" fill-opacity=\"1\" /><path clip-path=\"url(#clip640)\" d=\"M147.177 363.644 L152.061 363.644 L152.061 369.524 L147.177 369.524 L147.177 363.644 Z\" fill=\"#000000\" fill-rule=\"evenodd\" fill-opacity=\"1\" /><path clip-path=\"url(#clip640)\" d=\"M172.246 338.042 Q168.635 338.042 166.806 341.607 Q165.001 345.149 165.001 352.279 Q165.001 359.385 166.806 362.95 Q168.635 366.491 172.246 366.491 Q175.88 366.491 177.686 362.95 Q179.514 359.385 179.514 352.279 Q179.514 345.149 177.686 341.607 Q175.88 338.042 172.246 338.042 M172.246 334.339 Q178.056 334.339 181.112 338.945 Q184.19 343.529 184.19 352.279 Q184.19 361.005 181.112 365.612 Q178.056 370.195 172.246 370.195 Q166.436 370.195 163.357 365.612 Q160.302 361.005 160.302 352.279 Q160.302 343.529 163.357 338.945 Q166.436 334.339 172.246 334.339 Z\" fill=\"#000000\" fill-rule=\"evenodd\" fill-opacity=\"1\" /><path clip-path=\"url(#clip640)\" d=\"M220.579 344.061 L210 354.686 L220.579 365.265 L217.824 368.065 L207.199 357.441 L196.575 368.065 L193.843 365.265 L204.399 354.686 L193.843 344.061 L196.575 341.26 L207.199 351.885 L217.824 341.26 L220.579 344.061 Z\" fill=\"#000000\" fill-rule=\"evenodd\" fill-opacity=\"1\" /><path clip-path=\"url(#clip640)\" d=\"M232.94 365.589 L240.579 365.589 L240.579 339.223 L232.269 340.89 L232.269 336.63 L240.533 334.964 L245.209 334.964 L245.209 365.589 L252.847 365.589 L252.847 369.524 L232.94 369.524 L232.94 365.589 Z\" fill=\"#000000\" fill-rule=\"evenodd\" fill-opacity=\"1\" /><path clip-path=\"url(#clip640)\" d=\"M272.292 338.042 Q268.681 338.042 266.852 341.607 Q265.046 345.149 265.046 352.279 Q265.046 359.385 266.852 362.95 Q268.681 366.491 272.292 366.491 Q275.926 366.491 277.732 362.95 Q279.56 359.385 279.56 352.279 Q279.56 345.149 277.732 341.607 Q275.926 338.042 272.292 338.042 M272.292 334.339 Q278.102 334.339 281.157 338.945 Q284.236 343.529 284.236 352.279 Q284.236 361.005 281.157 365.612 Q278.102 370.195 272.292 370.195 Q266.482 370.195 263.403 365.612 Q260.347 361.005 260.347 352.279 Q260.347 343.529 263.403 338.945 Q266.482 334.339 272.292 334.339 Z\" fill=\"#000000\" fill-rule=\"evenodd\" fill-opacity=\"1\" /><path clip-path=\"url(#clip640)\" d=\"M296.913 317.344 L287.321 332.333 L296.913 332.333 L296.913 317.344 M295.916 314.033 L300.693 314.033 L300.693 332.333 L304.699 332.333 L304.699 335.493 L300.693 335.493 L300.693 342.113 L296.913 342.113 L296.913 335.493 L284.236 335.493 L284.236 331.826 L295.916 314.033 Z\" fill=\"#000000\" fill-rule=\"evenodd\" fill-opacity=\"1\" /><path clip-path=\"url(#clip640)\" d=\"M117.061 75.3533 L135.417 75.3533 L135.417 79.2884 L121.343 79.2884 L121.343 87.7606 Q122.362 87.4134 123.38 87.2514 Q124.399 87.0662 125.418 87.0662 Q131.205 87.0662 134.584 90.2375 Q137.964 93.4087 137.964 98.8254 Q137.964 104.404 134.492 107.506 Q131.019 110.585 124.7 110.585 Q122.524 110.585 120.255 110.214 Q118.01 109.844 115.603 109.103 L115.603 104.404 Q117.686 105.538 119.908 106.094 Q122.13 106.649 124.607 106.649 Q128.612 106.649 130.95 104.543 Q133.288 102.436 133.288 98.8254 Q133.288 95.2143 130.95 93.1078 Q128.612 91.0013 124.607 91.0013 Q122.732 91.0013 120.857 91.418 Q119.006 91.8347 117.061 92.7143 L117.061 75.3533 Z\" fill=\"#000000\" fill-rule=\"evenodd\" fill-opacity=\"1\" /><path clip-path=\"url(#clip640)\" d=\"M147.177 104.034 L152.061 104.034 L152.061 109.913 L147.177 109.913 L147.177 104.034 Z\" fill=\"#000000\" fill-rule=\"evenodd\" fill-opacity=\"1\" /><path clip-path=\"url(#clip640)\" d=\"M172.246 78.432 Q168.635 78.432 166.806 81.9968 Q165.001 85.5384 165.001 92.668 Q165.001 99.7744 166.806 103.339 Q168.635 106.881 172.246 106.881 Q175.88 106.881 177.686 103.339 Q179.514 99.7744 179.514 92.668 Q179.514 85.5384 177.686 81.9968 Q175.88 78.432 172.246 78.432 M172.246 74.7283 Q178.056 74.7283 181.112 79.3347 Q184.19 83.918 184.19 92.668 Q184.19 101.395 181.112 106.001 Q178.056 110.585 172.246 110.585 Q166.436 110.585 163.357 106.001 Q160.302 101.395 160.302 92.668 Q160.302 83.918 163.357 79.3347 Q166.436 74.7283 172.246 74.7283 Z\" fill=\"#000000\" fill-rule=\"evenodd\" fill-opacity=\"1\" /><path clip-path=\"url(#clip640)\" d=\"M220.579 84.4504 L210 95.0754 L220.579 105.654 L217.824 108.455 L207.199 97.83 L196.575 108.455 L193.843 105.654 L204.399 95.0754 L193.843 84.4504 L196.575 81.6495 L207.199 92.2745 L217.824 81.6495 L220.579 84.4504 Z\" fill=\"#000000\" fill-rule=\"evenodd\" fill-opacity=\"1\" /><path clip-path=\"url(#clip640)\" d=\"M232.94 105.978 L240.579 105.978 L240.579 79.6125 L232.269 81.2792 L232.269 77.0199 L240.533 75.3533 L245.209 75.3533 L245.209 105.978 L252.847 105.978 L252.847 109.913 L232.94 109.913 L232.94 105.978 Z\" fill=\"#000000\" fill-rule=\"evenodd\" fill-opacity=\"1\" /><path clip-path=\"url(#clip640)\" d=\"M272.292 78.432 Q268.681 78.432 266.852 81.9968 Q265.046 85.5384 265.046 92.668 Q265.046 99.7744 266.852 103.339 Q268.681 106.881 272.292 106.881 Q275.926 106.881 277.732 103.339 Q279.56 99.7744 279.56 92.668 Q279.56 85.5384 277.732 81.9968 Q275.926 78.432 272.292 78.432 M272.292 74.7283 Q278.102 74.7283 281.157 79.3347 Q284.236 83.918 284.236 92.668 Q284.236 101.395 281.157 106.001 Q278.102 110.585 272.292 110.585 Q266.482 110.585 263.403 106.001 Q260.347 101.395 260.347 92.668 Q260.347 83.918 263.403 79.3347 Q266.482 74.7283 272.292 74.7283 Z\" fill=\"#000000\" fill-rule=\"evenodd\" fill-opacity=\"1\" /><path clip-path=\"url(#clip640)\" d=\"M296.913 57.733 L287.321 72.7228 L296.913 72.7228 L296.913 57.733 M295.916 54.4229 L300.693 54.4229 L300.693 72.7228 L304.699 72.7228 L304.699 75.8825 L300.693 75.8825 L300.693 82.5029 L296.913 82.5029 L296.913 75.8825 L284.236 75.8825 L284.236 72.215 L295.916 54.4229 Z\" fill=\"#000000\" fill-rule=\"evenodd\" fill-opacity=\"1\" /><path clip-path=\"url(#clip640)\" d=\"M21.7677 893.527 L39.6235 893.527 L39.6235 885.443 Q39.6235 880.955 37.3 878.504 Q34.9765 876.053 30.6797 876.053 Q26.4147 876.053 24.0912 878.504 Q21.7677 880.955 21.7677 885.443 L21.7677 893.527 M16.4842 899.956 L16.4842 885.443 Q16.4842 877.454 20.1126 873.38 Q23.7092 869.274 30.6797 869.274 Q37.7138 869.274 41.3104 873.38 Q44.907 877.454 44.907 885.443 L44.907 893.527 L64.0042 893.527 L64.0042 899.956 L16.4842 899.956 Z\" fill=\"#000000\" fill-rule=\"evenodd\" fill-opacity=\"1\" /><path clip-path=\"url(#clip640)\" d=\"M33.8307 841.392 Q33.2578 842.379 33.0032 843.556 Q32.7167 844.702 32.7167 846.103 Q32.7167 851.068 35.9632 853.741 Q39.1779 856.383 45.2253 856.383 L64.0042 856.383 L64.0042 862.271 L28.3562 862.271 L28.3562 856.383 L33.8944 856.383 Q30.6479 854.537 29.0883 851.577 Q27.4968 848.617 27.4968 844.384 Q27.4968 843.779 27.5923 843.047 Q27.656 842.315 27.8151 841.424 L33.8307 841.392 Z\" fill=\"#000000\" fill-rule=\"evenodd\" fill-opacity=\"1\" /><path clip-path=\"url(#clip640)\" d=\"M28.3562 835.249 L28.3562 829.393 L64.0042 829.393 L64.0042 835.249 L28.3562 835.249 M14.479 835.249 L14.479 829.393 L21.895 829.393 L21.895 835.249 L14.479 835.249 Z\" fill=\"#000000\" fill-rule=\"evenodd\" fill-opacity=\"1\" /><path clip-path=\"url(#clip640)\" d=\"M29.7248 791.485 L35.1993 791.485 Q33.8307 793.967 33.1623 796.482 Q32.4621 798.965 32.4621 801.511 Q32.4621 807.208 36.0905 810.359 Q39.6872 813.51 46.212 813.51 Q52.7369 813.51 56.3653 810.359 Q59.9619 807.208 59.9619 801.511 Q59.9619 798.965 59.2935 796.482 Q58.5933 793.967 57.2247 791.485 L62.6355 791.485 Q63.7814 793.936 64.3543 796.577 Q64.9272 799.187 64.9272 802.147 Q64.9272 810.2 59.8664 814.942 Q54.8057 819.685 46.212 819.685 Q37.491 819.685 32.4939 814.911 Q27.4968 810.105 27.4968 801.765 Q27.4968 799.06 28.0697 796.482 Q28.6108 793.904 29.7248 791.485 Z\" fill=\"#000000\" fill-rule=\"evenodd\" fill-opacity=\"1\" /><path clip-path=\"url(#clip640)\" d=\"M44.7161 750.808 L47.5806 750.808 L47.5806 777.735 Q53.6281 777.353 56.8109 774.106 Q59.9619 770.828 59.9619 765.003 Q59.9619 761.63 59.1344 758.479 Q58.3069 755.296 56.6518 752.177 L62.1899 752.177 Q63.5267 755.328 64.227 758.638 Q64.9272 761.948 64.9272 765.354 Q64.9272 773.884 59.9619 778.881 Q54.9967 783.846 46.5303 783.846 Q37.7774 783.846 32.6531 779.135 Q27.4968 774.393 27.4968 766.372 Q27.4968 759.179 32.1438 755.009 Q36.7589 750.808 44.7161 750.808 M42.9973 756.664 Q38.1912 756.728 35.3266 759.37 Q32.4621 761.98 32.4621 766.308 Q32.4621 771.21 35.2312 774.17 Q38.0002 777.098 43.0292 777.544 L42.9973 756.664 Z\" fill=\"#000000\" fill-rule=\"evenodd\" fill-opacity=\"1\" /><path clip-path=\"url(#clip640)\" d=\"M55.9197 739.7 L55.9197 732.984 L61.3942 732.984 L71.5793 738.204 L71.5793 742.31 L61.3942 739.7 L55.9197 739.7 Z\" fill=\"#000000\" fill-rule=\"evenodd\" fill-opacity=\"1\" /><path clip-path=\"url(#clip640)\" d=\"M16.4842 700.232 L16.4842 693.771 L45.3526 693.771 Q52.9915 693.771 56.3653 691.002 Q59.7073 688.233 59.7073 682.026 Q59.7073 675.852 56.3653 673.083 Q52.9915 670.314 45.3526 670.314 L16.4842 670.314 L16.4842 663.852 L46.1484 663.852 Q55.4423 663.852 60.1847 668.468 Q64.9272 673.051 64.9272 682.026 Q64.9272 691.034 60.1847 695.649 Q55.4423 700.232 46.1484 700.232 L16.4842 700.232 Z\" fill=\"#000000\" fill-rule=\"evenodd\" fill-opacity=\"1\" /><path clip-path=\"url(#clip640)\" d=\"M18.0438 623.303 L24.314 623.303 Q22.5634 626.963 21.704 630.21 Q20.8447 633.456 20.8447 636.48 Q20.8447 641.732 22.8817 644.596 Q24.9187 647.429 28.6745 647.429 Q31.8255 647.429 33.4488 645.551 Q35.0402 643.641 36.0269 638.358 L36.8226 634.475 Q38.1912 627.281 41.6605 623.876 Q45.098 620.438 50.8908 620.438 Q57.7976 620.438 61.3624 625.085 Q64.9272 629.7 64.9272 638.644 Q64.9272 642.018 64.1633 645.837 Q63.3994 649.625 61.9035 653.699 L55.2831 653.699 Q57.4793 649.784 58.5933 646.028 Q59.7073 642.273 59.7073 638.644 Q59.7073 633.138 57.543 630.146 Q55.3786 627.154 51.3682 627.154 Q47.8671 627.154 45.8937 629.318 Q43.9204 631.451 42.9337 636.353 L42.1698 640.267 Q40.7375 647.461 37.682 650.675 Q34.6264 653.89 29.1837 653.89 Q22.8817 653.89 19.2532 649.466 Q15.6248 645.01 15.6248 637.212 Q15.6248 633.87 16.2295 630.401 Q16.8343 626.931 18.0438 623.303 Z\" fill=\"#000000\" fill-rule=\"evenodd\" fill-opacity=\"1\" /><path clip-path=\"url(#clip640)\" d=\"M21.7677 603.983 L58.7206 603.983 L58.7206 596.217 Q58.7206 586.382 54.2646 581.83 Q49.8086 577.247 40.1964 577.247 Q30.6479 577.247 26.2237 581.83 Q21.7677 586.382 21.7677 596.217 L21.7677 603.983 M16.4842 610.412 L16.4842 597.203 Q16.4842 583.39 22.2451 576.929 Q27.9743 570.467 40.1964 570.467 Q52.4822 570.467 58.2432 576.961 Q64.0042 583.454 64.0042 597.203 L64.0042 610.412 L16.4842 610.412 Z\" fill=\"#000000\" fill-rule=\"evenodd\" fill-opacity=\"1\" /><polyline clip-path=\"url(#clip642)\" style=\"stroke:#009af9; stroke-linecap:butt; stroke-linejoin:round; stroke-width:4; stroke-opacity:1; fill:none\" points=\"\n  397.644,410.699 410.298,397.848 422.953,385.257 435.607,372.925 448.262,360.854 460.916,349.041 473.571,337.489 486.225,326.196 498.88,315.162 511.534,304.388 \n  524.188,293.874 536.843,283.619 549.497,273.624 562.152,263.889 574.806,254.413 587.461,245.197 600.115,236.241 612.77,227.544 625.424,219.106 638.078,210.929 \n  650.733,203.01 663.387,195.352 676.042,187.953 688.696,180.814 701.351,173.934 714.005,167.314 726.66,160.954 739.314,154.853 751.968,149.011 764.623,143.43 \n  777.277,138.108 789.932,133.045 802.586,128.243 815.241,123.699 827.895,119.416 840.55,115.392 853.204,111.628 865.858,108.123 878.513,104.878 891.167,101.892 \n  903.822,99.1662 916.476,96.6999 929.131,94.4932 941.785,92.5461 954.44,90.8587 967.094,89.4308 979.748,88.2626 992.403,87.3539 1005.06,86.7049 1017.71,86.3155 \n  1030.37,86.1857 1043.02,86.3155 1055.68,86.7049 1068.33,87.3539 1080.98,88.2626 1093.64,89.4308 1106.29,90.8587 1118.95,92.5461 1131.6,94.4932 1144.26,96.6999 \n  1156.91,99.1662 1169.57,101.892 1182.22,104.878 1194.87,108.123 1207.53,111.628 1220.18,115.392 1232.84,119.416 1245.49,123.699 1258.15,128.243 1270.8,133.045 \n  1283.46,138.108 1296.11,143.43 1308.76,149.011 1321.42,154.853 1334.07,160.954 1346.73,167.314 1359.38,173.934 1372.04,180.814 1384.69,187.953 1397.35,195.352 \n  1410,203.01 1422.65,210.929 1435.31,219.106 1447.96,227.544 1460.62,236.241 1473.27,245.197 1485.93,254.413 1498.58,263.889 1511.24,273.624 1523.89,283.619 \n  1536.54,293.874 1549.2,304.388 1561.85,315.162 1574.51,326.196 1587.16,337.489 1599.82,349.041 1612.47,360.854 1625.13,372.925 1637.78,385.257 1650.43,397.848 \n  1663.09,410.699 1675.74,423.809 1688.4,437.179 1701.05,450.809 1713.71,464.698 1726.36,478.847 1739.02,493.255 1751.67,507.923 1764.32,522.851 1776.98,538.038 \n  1789.63,553.485 1802.29,569.191 1814.94,585.157 1827.6,601.383 1840.25,617.868 1852.91,634.613 1865.56,651.617 1878.21,668.881 1890.87,686.405 1903.52,704.189 \n  1916.18,722.231 1928.83,740.534 1941.49,759.096 1954.14,777.918 1966.8,796.999 1979.45,816.34 1992.1,835.941 2004.76,855.801 2017.41,875.921 2030.07,896.3 \n  2042.72,916.939 2055.38,937.838 2068.03,958.996 2080.69,980.414 2093.34,1002.09 2105.99,1024.03 2118.65,1046.23 2131.3,1068.68 2143.96,1091.4 2156.61,1114.37 \n  2169.27,1137.61 2181.92,1161.1 2194.58,1184.86 2207.23,1208.87 2219.88,1233.14 2232.54,1257.68 2245.19,1282.47 2257.85,1307.52 2270.5,1332.84 2283.16,1358.41 \n  2295.81,1384.24 \n  \"/>\n<circle clip-path=\"url(#clip642)\" cx=\"1030.37\" cy=\"86.1857\" r=\"18\" fill=\"#e26f46\" fill-rule=\"evenodd\" fill-opacity=\"1\" stroke=\"#000000\" stroke-opacity=\"1\" stroke-width=\"3.2\"/>\n<path clip-path=\"url(#clip640)\" d=\"\nM1812.52 248.629 L2285.69 248.629 L2285.69 93.1086 L1812.52 93.1086  Z\n  \" fill=\"#ffffff\" fill-rule=\"evenodd\" fill-opacity=\"1\"/>\n<polyline clip-path=\"url(#clip640)\" style=\"stroke:#000000; stroke-linecap:butt; stroke-linejoin:round; stroke-width:4; stroke-opacity:1; fill:none\" points=\"\n  1812.52,248.629 2285.69,248.629 2285.69,93.1086 1812.52,93.1086 1812.52,248.629 \n  \"/>\n<polyline clip-path=\"url(#clip640)\" style=\"stroke:#009af9; stroke-linecap:butt; stroke-linejoin:round; stroke-width:4; stroke-opacity:1; fill:none\" points=\"\n  1834.88,144.949 1969.01,144.949 \n  \"/>\n<path clip-path=\"url(#clip640)\" d=\"M1991.37 127.669 L2013.22 127.669 L2013.22 131.604 L1996.05 131.604 L1996.05 141.835 L2012.5 141.835 L2012.5 145.77 L1996.05 145.77 L1996.05 158.293 L2013.64 158.293 L2013.64 162.229 L1991.37 162.229 L1991.37 127.669 Z\" fill=\"#000000\" fill-rule=\"evenodd\" fill-opacity=\"1\" /><path clip-path=\"url(#clip640)\" d=\"M2039.8 137.298 L2039.8 141.28 Q2037.99 140.284 2036.16 139.798 Q2034.36 139.289 2032.5 139.289 Q2028.36 139.289 2026.07 141.928 Q2023.78 144.544 2023.78 149.289 Q2023.78 154.034 2026.07 156.673 Q2028.36 159.289 2032.5 159.289 Q2034.36 159.289 2036.16 158.803 Q2037.99 158.293 2039.8 157.298 L2039.8 161.233 Q2038.01 162.067 2036.09 162.483 Q2034.19 162.9 2032.04 162.9 Q2026.18 162.9 2022.74 159.219 Q2019.29 155.539 2019.29 149.289 Q2019.29 142.946 2022.76 139.312 Q2026.25 135.678 2032.32 135.678 Q2034.29 135.678 2036.16 136.095 Q2038.04 136.488 2039.8 137.298 Z\" fill=\"#000000\" fill-rule=\"evenodd\" fill-opacity=\"1\" /><path clip-path=\"url(#clip640)\" d=\"M2046.76 151.997 L2046.76 136.303 L2051.02 136.303 L2051.02 151.835 Q2051.02 155.516 2052.46 157.368 Q2053.89 159.196 2056.76 159.196 Q2060.21 159.196 2062.2 156.997 Q2064.22 154.798 2064.22 151.002 L2064.22 136.303 L2068.48 136.303 L2068.48 162.229 L2064.22 162.229 L2064.22 158.247 Q2062.67 160.608 2060.61 161.766 Q2058.57 162.9 2055.86 162.9 Q2051.39 162.9 2049.08 160.122 Q2046.76 157.344 2046.76 151.997 M2057.48 135.678 L2057.48 135.678 Z\" fill=\"#000000\" fill-rule=\"evenodd\" fill-opacity=\"1\" /><path clip-path=\"url(#clip640)\" d=\"M2089.03 149.196 Q2083.87 149.196 2081.88 150.377 Q2079.89 151.557 2079.89 154.405 Q2079.89 156.673 2081.37 158.016 Q2082.87 159.335 2085.44 159.335 Q2088.99 159.335 2091.11 156.835 Q2093.27 154.312 2093.27 150.145 L2093.27 149.196 L2089.03 149.196 M2097.53 147.437 L2097.53 162.229 L2093.27 162.229 L2093.27 158.293 Q2091.81 160.655 2089.63 161.789 Q2087.46 162.9 2084.31 162.9 Q2080.33 162.9 2077.97 160.678 Q2075.63 158.432 2075.63 154.682 Q2075.63 150.307 2078.55 148.085 Q2081.49 145.863 2087.3 145.863 L2093.27 145.863 L2093.27 145.446 Q2093.27 142.507 2091.32 140.909 Q2089.4 139.289 2085.91 139.289 Q2083.68 139.289 2081.58 139.821 Q2079.47 140.354 2077.53 141.419 L2077.53 137.483 Q2079.86 136.581 2082.06 136.141 Q2084.26 135.678 2086.35 135.678 Q2091.97 135.678 2094.75 138.594 Q2097.53 141.511 2097.53 147.437 Z\" fill=\"#000000\" fill-rule=\"evenodd\" fill-opacity=\"1\" /><path clip-path=\"url(#clip640)\" d=\"M2124.96 137.298 L2124.96 141.28 Q2123.15 140.284 2121.32 139.798 Q2119.52 139.289 2117.67 139.289 Q2113.52 139.289 2111.23 141.928 Q2108.94 144.544 2108.94 149.289 Q2108.94 154.034 2111.23 156.673 Q2113.52 159.289 2117.67 159.289 Q2119.52 159.289 2121.32 158.803 Q2123.15 158.293 2124.96 157.298 L2124.96 161.233 Q2123.17 162.067 2121.25 162.483 Q2119.36 162.9 2117.2 162.9 Q2111.35 162.9 2107.9 159.219 Q2104.45 155.539 2104.45 149.289 Q2104.45 142.946 2107.92 139.312 Q2111.42 135.678 2117.48 135.678 Q2119.45 135.678 2121.32 136.095 Q2123.2 136.488 2124.96 137.298 Z\" fill=\"#000000\" fill-rule=\"evenodd\" fill-opacity=\"1\" /><path clip-path=\"url(#clip640)\" d=\"M2132.36 136.303 L2136.62 136.303 L2136.62 162.229 L2132.36 162.229 L2132.36 136.303 M2132.36 126.21 L2136.62 126.21 L2136.62 131.604 L2132.36 131.604 L2132.36 126.21 Z\" fill=\"#000000\" fill-rule=\"evenodd\" fill-opacity=\"1\" /><path clip-path=\"url(#clip640)\" d=\"M2155.58 139.289 Q2152.16 139.289 2150.17 141.974 Q2148.17 144.636 2148.17 149.289 Q2148.17 153.942 2150.14 156.627 Q2152.13 159.289 2155.58 159.289 Q2158.98 159.289 2160.98 156.604 Q2162.97 153.918 2162.97 149.289 Q2162.97 144.682 2160.98 141.997 Q2158.98 139.289 2155.58 139.289 M2155.58 135.678 Q2161.14 135.678 2164.31 139.289 Q2167.48 142.9 2167.48 149.289 Q2167.48 155.655 2164.31 159.289 Q2161.14 162.9 2155.58 162.9 Q2150 162.9 2146.83 159.289 Q2143.68 155.655 2143.68 149.289 Q2143.68 142.9 2146.83 139.289 Q2150 135.678 2155.58 135.678 M2158.8 124.312 L2163.41 124.312 L2155.86 133.016 L2152.32 133.016 L2158.8 124.312 Z\" fill=\"#000000\" fill-rule=\"evenodd\" fill-opacity=\"1\" /><path clip-path=\"url(#clip640)\" d=\"M2196.09 146.581 L2196.09 162.229 L2191.83 162.229 L2191.83 146.719 Q2191.83 143.039 2190.4 141.21 Q2188.96 139.382 2186.09 139.382 Q2182.64 139.382 2180.65 141.581 Q2178.66 143.78 2178.66 147.576 L2178.66 162.229 L2174.38 162.229 L2174.38 136.303 L2178.66 136.303 L2178.66 140.331 Q2180.19 137.993 2182.25 136.835 Q2184.33 135.678 2187.04 135.678 Q2191.51 135.678 2193.8 138.456 Q2196.09 141.21 2196.09 146.581 Z\" fill=\"#000000\" fill-rule=\"evenodd\" fill-opacity=\"1\" /><path clip-path=\"url(#clip640)\" d=\"M2221.07 158.293 L2228.71 158.293 L2228.71 131.928 L2220.4 133.595 L2220.4 129.335 L2228.66 127.669 L2233.34 127.669 L2233.34 158.293 L2240.97 158.293 L2240.97 162.229 L2221.07 162.229 L2221.07 158.293 Z\" fill=\"#000000\" fill-rule=\"evenodd\" fill-opacity=\"1\" /><circle clip-path=\"url(#clip640)\" cx=\"1901.95\" cy=\"196.789\" r=\"23\" fill=\"#e26f46\" fill-rule=\"evenodd\" fill-opacity=\"1\" stroke=\"#000000\" stroke-opacity=\"1\" stroke-width=\"4.096\"/>\n<path clip-path=\"url(#clip640)\" d=\"M2013.62 180.643 L2013.62 185.203 Q2010.95 183.93 2008.59 183.305 Q2006.23 182.68 2004.03 182.68 Q2000.21 182.68 1998.13 184.161 Q1996.07 185.643 1996.07 188.374 Q1996.07 190.666 1997.43 191.847 Q1998.82 193.004 2002.67 193.722 L2005.49 194.3 Q2010.72 195.296 2013.2 197.819 Q2015.7 200.319 2015.7 204.532 Q2015.7 209.555 2012.32 212.147 Q2008.96 214.74 2002.46 214.74 Q2000 214.74 1997.23 214.184 Q1994.47 213.629 1991.51 212.541 L1991.51 207.726 Q1994.36 209.323 1997.09 210.133 Q1999.82 210.944 2002.46 210.944 Q2006.46 210.944 2008.64 209.37 Q2010.81 207.796 2010.81 204.879 Q2010.81 202.333 2009.24 200.897 Q2007.69 199.462 2004.12 198.745 L2001.28 198.189 Q1996.05 197.147 1993.71 194.925 Q1991.37 192.703 1991.37 188.745 Q1991.37 184.161 1994.59 181.522 Q1997.83 178.884 2003.5 178.884 Q2005.93 178.884 2008.45 179.323 Q2010.98 179.763 2013.62 180.643 Z\" fill=\"#000000\" fill-rule=\"evenodd\" fill-opacity=\"1\" /><path clip-path=\"url(#clip640)\" d=\"M2032.85 191.129 Q2029.43 191.129 2027.43 193.814 Q2025.44 196.476 2025.44 201.129 Q2025.44 205.782 2027.41 208.467 Q2029.4 211.129 2032.85 211.129 Q2036.25 211.129 2038.24 208.444 Q2040.24 205.758 2040.24 201.129 Q2040.24 196.522 2038.24 193.837 Q2036.25 191.129 2032.85 191.129 M2032.85 187.518 Q2038.41 187.518 2041.58 191.129 Q2044.75 194.74 2044.75 201.129 Q2044.75 207.495 2041.58 211.129 Q2038.41 214.74 2032.85 214.74 Q2027.27 214.74 2024.1 211.129 Q2020.95 207.495 2020.95 201.129 Q2020.95 194.74 2024.1 191.129 Q2027.27 187.518 2032.85 187.518 Z\" fill=\"#000000\" fill-rule=\"evenodd\" fill-opacity=\"1\" /><path clip-path=\"url(#clip640)\" d=\"M2051.81 178.05 L2056.07 178.05 L2056.07 214.069 L2051.81 214.069 L2051.81 178.05 Z\" fill=\"#000000\" fill-rule=\"evenodd\" fill-opacity=\"1\" /><path clip-path=\"url(#clip640)\" d=\"M2064.54 203.837 L2064.54 188.143 L2068.8 188.143 L2068.8 203.675 Q2068.8 207.356 2070.24 209.208 Q2071.67 211.036 2074.54 211.036 Q2077.99 211.036 2079.98 208.837 Q2081.99 206.638 2081.99 202.842 L2081.99 188.143 L2086.25 188.143 L2086.25 214.069 L2081.99 214.069 L2081.99 210.087 Q2080.44 212.448 2078.38 213.606 Q2076.35 214.74 2073.64 214.74 Q2069.17 214.74 2066.86 211.962 Q2064.54 209.184 2064.54 203.837 M2075.26 187.518 L2075.26 187.518 Z\" fill=\"#000000\" fill-rule=\"evenodd\" fill-opacity=\"1\" /><path clip-path=\"url(#clip640)\" d=\"M2113.68 189.138 L2113.68 193.12 Q2111.88 192.124 2110.05 191.638 Q2108.24 191.129 2106.39 191.129 Q2102.25 191.129 2099.96 193.768 Q2097.67 196.384 2097.67 201.129 Q2097.67 205.874 2099.96 208.513 Q2102.25 211.129 2106.39 211.129 Q2108.24 211.129 2110.05 210.643 Q2111.88 210.133 2113.68 209.138 L2113.68 213.073 Q2111.9 213.907 2109.98 214.323 Q2108.08 214.74 2105.93 214.74 Q2100.07 214.74 2096.62 211.059 Q2093.17 207.379 2093.17 201.129 Q2093.17 194.786 2096.65 191.152 Q2100.14 187.518 2106.21 187.518 Q2108.17 187.518 2110.05 187.935 Q2111.92 188.328 2113.68 189.138 Z\" fill=\"#000000\" fill-rule=\"evenodd\" fill-opacity=\"1\" /><path clip-path=\"url(#clip640)\" d=\"M2121.09 188.143 L2125.35 188.143 L2125.35 214.069 L2121.09 214.069 L2121.09 188.143 M2121.09 178.05 L2125.35 178.05 L2125.35 183.444 L2121.09 183.444 L2121.09 178.05 Z\" fill=\"#000000\" fill-rule=\"evenodd\" fill-opacity=\"1\" /><path clip-path=\"url(#clip640)\" d=\"M2144.31 191.129 Q2140.88 191.129 2138.89 193.814 Q2136.9 196.476 2136.9 201.129 Q2136.9 205.782 2138.87 208.467 Q2140.86 211.129 2144.31 211.129 Q2147.71 211.129 2149.7 208.444 Q2151.69 205.758 2151.69 201.129 Q2151.69 196.522 2149.7 193.837 Q2147.71 191.129 2144.31 191.129 M2144.31 187.518 Q2149.86 187.518 2153.04 191.129 Q2156.21 194.74 2156.21 201.129 Q2156.21 207.495 2153.04 211.129 Q2149.86 214.74 2144.31 214.74 Q2138.73 214.74 2135.56 211.129 Q2132.41 207.495 2132.41 201.129 Q2132.41 194.74 2135.56 191.129 Q2138.73 187.518 2144.31 187.518 M2147.53 176.152 L2152.13 176.152 L2144.59 184.856 L2141.04 184.856 L2147.53 176.152 Z\" fill=\"#000000\" fill-rule=\"evenodd\" fill-opacity=\"1\" /><path clip-path=\"url(#clip640)\" d=\"M2184.82 198.421 L2184.82 214.069 L2180.56 214.069 L2180.56 198.559 Q2180.56 194.879 2179.12 193.05 Q2177.69 191.222 2174.82 191.222 Q2171.37 191.222 2169.38 193.421 Q2167.39 195.62 2167.39 199.416 L2167.39 214.069 L2163.11 214.069 L2163.11 188.143 L2167.39 188.143 L2167.39 192.171 Q2168.92 189.833 2170.98 188.675 Q2173.06 187.518 2175.77 187.518 Q2180.23 187.518 2182.53 190.296 Q2184.82 193.05 2184.82 198.421 Z\" fill=\"#000000\" fill-rule=\"evenodd\" fill-opacity=\"1\" /></svg>\n"
     },
     "execution_count": 14,
     "metadata": {},
     "output_type": "execute_result"
    }
   ],
   "source": [
    "P = collect(50:1:200)\n",
    "\n",
    "revenue(P) = P * (1000 - 5P) # Ecuación 1\n",
    "\n",
    "plot(P, revenue.(P), label=\"Ecuación 1\")\n",
    "plot!([100], [revenue(100)], seriestype=:scatter, m=:circle, ms=5, label=\"Solución\")\n",
    "\n",
    "xlabel!(\"Revenue, USD\")\n",
    "ylabel!(\"Price, USD\")"
   ]
  },
  {
   "cell_type": "markdown",
   "metadata": {},
   "source": [
    "<a id=\"section2\"></a>\n",
    "# Sección 2: Sistema de Bombeo"
   ]
  },
  {
   "cell_type": "markdown",
   "metadata": {},
   "source": [
    "## 2.1. Introducción\n",
    "\n",
    "Recordemos lo que conversamos de las bombas centrífugas.\n",
    "\n",
    "La potencia que la bomba centrífuga le añade al fluido (conocida como **potencia hidráulica** $P_w$), es:\n",
    "\n",
    "$$\n",
    "P_w = \\rho g Q H\n",
    "$$\n",
    "\n",
    "Donde $\\rho$ es la densidad del fluido, $g$ la gravedad, $Q$ el caudal y $H$ la altura manométrica, definida como:\n",
    "\n",
    "$$\n",
    "H = \\frac{\\Delta p}{\\rho g}\n",
    "$$\n",
    "\n",
    "Siendo $\\Delta p$ el cambio de presión entre la entrada y salida de la bomba centrífuga.\n",
    "\n",
    "Cuando bombeamos un fluido en una tubería, debemos tener presente la fricción dada por las paredes del conducto causan una pérdida de carga $h_f$.\n",
    "\n",
    "$$\n",
    "h_f = f \\frac{L}{D} \\frac{V^2}{2g}\n",
    "$$\n",
    "\n",
    "Siendo $f$ el **coeficiente de fricción de Darcy** y $g$ la gravedad.\n",
    "\n",
    "Entonces, estas pérdidas por fricción en la tubería afecta la cabeza manométrica así: $H - h_f$.\n",
    "\n",
    "En general, el coeficiente de fricción de Darcy es función del número de Reynolds $Re$ y la rugosidad de la pared $\\varepsilon$.\n",
    "\n",
    "El número de Reynolds $Re$ una relación entre las *fuerzas de inercia* y las *fuerzas viscosas* de un fluido que permiten determinar si el flujo es laminar o turbulento.\n",
    "\n",
    "$$\n",
    "Re = \\frac{\\rho V D}{\\mu} = \\frac{V D}{\\nu}\n",
    "$$\n",
    "\n",
    "Siendo $\\rho$ la densidad del fluido, $V$ la velocidad de flujo, $D$ el diámetro interno de la tubería, $\\mu$ la viscosidad dinámica del fluido y $\\nu$ la viscosidad cinemática del fluido.\n",
    "\n",
    "Típicamente:\n",
    "- Flujo laminar cuando $Re <= 2300$. Para este caso, el coeficiente de fricción de Darcy es:\n",
    "\n",
    "$$\n",
    "f = \\frac{64}{Re}\n",
    "$$\n",
    "\n",
    "- Flujo turbulento cuando $Re > 2300$. Para este caso, el coeficiente de fricción de Darcy es:\n",
    "\n",
    "$$\n",
    "\\frac{1}{\\sqrt{f}} = -2 \\: \\text{log} \\left( \\frac{\\varepsilon / D}{3.7} + \\frac{2.51}{Re \\sqrt{f}} \\right)\n",
    "$$\n",
    "\n",
    "Esta ecuación es también conocida como la *ecuación de Colebrook*.\n",
    "\n",
    "\n",
    "Ahora bien, para que la bomba centrífuga le añada energía al fluido, debe haber un recurso que, asimismo, le suministre energía al dispositivo. Esto último es conocido como **potencia mecánica** $P_f$ y es el producto entre la velocidad de rotación del eje de la bomba $w$ y el torque en el mismo $T$.\n",
    "\n",
    "$$\n",
    "P_f = w T\n",
    "$$\n",
    "\n",
    "Luego, si el insumo es $P_f$ y la salida es $P_w$, la eficiencia de la bomba es la relación entre estos parámetros, es decir:\n",
    "\n",
    "$$\n",
    "\\eta = \\frac{P_w}{P_f} = \\frac{\\rho g Q H}{w T}\n",
    "$$\n",
    "\n",
    "Entonces, el rendimiento de la bomba centrífuga depende de tres factores: volumétrico, hidráulico y mecánico.\n",
    "\n",
    "<img src='./img/curvas_teoricas.png' width='400' height='400' />\n",
    "\n",
    "En la práctica, aunque las curvas de la altura manométrica $H$ aparecen explícitamente, las de potencia $P_f$ y rendimiento $\\eta$ deben deducirse a partir de los datos medidos. Fíjense, **es como los laboratorios que hacemos en los cursos de ingeniería mecánica**.\n",
    "\n",
    "<img src='./img/curvas_reales.png' width='900' height='900' />\n",
    "\n",
    "Por último, recordemos que:\n",
    "\n",
    "$$\n",
    "Q = VA\n",
    "$$\n",
    "\n",
    "y\n",
    "\n",
    "$$\n",
    "A = \\frac{\\pi D^2}{4}\n",
    "$$\n",
    "\n",
    "Siendo $A$ el área transversal de la tubería.\n",
    "\n",
    "Dicho esto, ¡optimicemos un sistema de bombeo!"
   ]
  },
  {
   "cell_type": "markdown",
   "metadata": {},
   "source": [
    "## 2.2. Ejemplo 5\n",
    "\n",
    "Para las mediciones de los datos de caudal $Q$ y, sabiendo que la velocidad de rotación del eje de la bomba $w$ es 1170 rpm, optimicemos la eficiencia de la bomba $\\eta$. Asumimos $\\rho g = 1$. Para esto:\n",
    "\n",
    "$$\n",
    "\\begin{cases}\n",
    "  \\text{Maximizar} & \\eta = \\frac{P_w}{P_f} = \\frac{\\rho g Q H}{w T}\\\\ \n",
    "  \\\\\n",
    "  \\text{S.T.} & \\begin{cases}\n",
    "                  w = 1170\\\\\n",
    "                  \\\\\n",
    "                  0 \\leq Q \\leq 26\\\\\n",
    "                  \\\\\n",
    "                  460 \\leq H \\leq 655\\\\\n",
    "                  \\\\\n",
    "                  T \\geq 0\n",
    "                \\end{cases}\n",
    "\\end{cases} \n",
    "$$"
   ]
  },
  {
   "cell_type": "code",
   "execution_count": 16,
   "metadata": {},
   "outputs": [
    {
     "data": {
      "text/latex": [
       "$$ \\begin{aligned}\n",
       "\\max\\quad & (Q * H) / (w * T)\\\\\n",
       "\\text{Subject to} \\quad & w = 1170.0\\\\\n",
       " & η \\geq 0.0\\\\\n",
       " & Q \\geq 0.0\\\\\n",
       " & H \\geq 460.0\\\\\n",
       " & T \\geq 0.0\\\\\n",
       " & η \\leq 1.0\\\\\n",
       " & Q \\leq 26.0\\\\\n",
       " & H \\leq 655.0\\\\\n",
       " & T - (Q * H) / (w * η) = 0\\\\\n",
       "\\end{aligned} $$"
      ]
     },
     "metadata": {},
     "output_type": "display_data"
    },
    {
     "name": "stdout",
     "output_type": "stream",
     "text": [
      "This is Ipopt version 3.14.4, running with linear solver MUMPS 5.4.1.\n",
      "\n",
      "Number of nonzeros in equality constraint Jacobian...:        4\n",
      "Number of nonzeros in inequality constraint Jacobian.:        0\n",
      "Number of nonzeros in Lagrangian Hessian.............:       12\n",
      "\n",
      "Total number of variables............................:        4\n",
      "                     variables with only lower bounds:        1\n",
      "                variables with lower and upper bounds:        3\n",
      "                     variables with only upper bounds:        0\n",
      "Total number of equality constraints.................:        1\n",
      "Total number of inequality constraints...............:        0\n",
      "        inequality constraints with only lower bounds:        0\n",
      "   inequality constraints with lower and upper bounds:        0\n",
      "        inequality constraints with only upper bounds:        0\n",
      "\n",
      "iter    objective    inf_pr   inf_du lg(mu)  ||d||  lg(rg) alpha_du alpha_pr  ls\n",
      "   0  3.9482906e-01 3.85e-01 3.95e+01  -1.0 0.00e+00    -  0.00e+00 0.00e+00   0\n",
      "   1  4.0857459e+01 2.27e-01 4.09e+05  -1.0 1.31e-02   4.0 9.91e-01 7.56e-01f  1\n",
      "   2  2.2403396e+00 4.52e-02 4.34e+09  -1.0 7.75e-03  11.8 1.00e+00 1.00e+00h  1\n",
      "   3  1.9537713e-02 3.08e-05 6.43e+08  -1.7 2.77e-03  11.4 8.90e-01 9.26e-01h  1\n",
      "   4  2.0759170e-02 9.51e-10 1.06e+05  -3.8 1.62e-06  10.9 1.00e+00 1.00e+00f  1\n",
      "   5  2.0759208e-02 1.73e-18 1.29e+00  -5.7 4.99e-11  10.4 1.00e+00 1.00e+00f  1\n",
      "   6  2.0759208e-02 0.00e+00 1.00e+00  -8.6 1.16e-10   9.9 1.00e+00 1.00e+00f  1\n",
      "   7  2.0759209e-02 0.00e+00 1.00e+00  -8.6 3.48e-10   9.5 1.00e+00 1.00e+00f  1\n",
      "   8  2.0759210e-02 0.00e+00 1.00e+00  -8.6 1.04e-09   9.0 1.00e+00 1.00e+00f  1\n",
      "   9  2.0759213e-02 0.00e+00 1.00e+00  -8.6 3.13e-09   8.5 1.00e+00 1.00e+00f  1\n",
      "iter    objective    inf_pr   inf_du lg(mu)  ||d||  lg(rg) alpha_du alpha_pr  ls\n",
      "  10  2.0759222e-02 3.25e-19 1.00e+00  -8.6 9.39e-09   8.0 1.00e+00 1.00e+00f  1\n",
      "  11  2.0759250e-02 2.28e-18 1.00e+00  -8.6 2.82e-08   7.6 1.00e+00 1.00e+00f  1\n",
      "  12  2.0759335e-02 2.05e-17 1.00e+00  -8.6 8.45e-08   7.1 1.00e+00 1.00e+00f  1\n",
      "  13  2.0759588e-02 1.86e-16 1.00e+00  -8.6 2.53e-07   6.6 1.00e+00 1.00e+00f  1\n",
      "  14  2.0760348e-02 1.67e-15 1.00e+00  -8.6 7.60e-07   6.1 1.00e+00 1.00e+00f  1\n",
      "  15  2.0762629e-02 1.50e-14 1.00e+00  -8.6 2.28e-06   5.6 1.00e+00 1.00e+00f  1\n",
      "  16  2.0769471e-02 1.35e-13 1.00e+00  -8.6 6.84e-06   5.2 1.00e+00 1.00e+00f  1\n",
      "  17  2.0789997e-02 1.22e-12 1.00e+00  -8.6 2.05e-05   4.7 1.00e+00 1.00e+00f  1\n",
      "  18  2.0851577e-02 1.10e-11 1.00e+00  -8.6 6.16e-05   4.2 1.00e+00 1.00e+00f  1\n",
      "  19  2.1036316e-02 9.90e-11 1.00e+00  -8.6 1.85e-04   3.7 1.00e+00 1.00e+00f  1\n",
      "iter    objective    inf_pr   inf_du lg(mu)  ||d||  lg(rg) alpha_du alpha_pr  ls\n",
      "  20  2.1590558e-02 9.01e-10 1.00e+00  -8.6 5.54e-04   3.3 1.00e+00 1.00e+00f  1\n",
      "\n",
      "Number of Iterations....: 20\n",
      "\n",
      "                                   (scaled)                 (unscaled)\n",
      "Objective...............:  -2.1590558159920035e-02    2.1590558159920035e-02\n",
      "Dual infeasibility......:   9.9999847094067118e-01    9.9999847094067118e-01\n",
      "Constraint violation....:   9.0117724881825374e-18    9.0117724881825373e-10\n",
      "Variable bound violation:   0.0000000000000000e+00    0.0000000000000000e+00\n",
      "Complementarity.........:   2.5059035596800618e-09    2.5059035596800618e-09\n",
      "Overall NLP error.......:   1.9400854136812253e-07    9.9999847094067118e-01\n",
      "\n",
      "\n",
      "Number of objective function evaluations             = 21\n",
      "Number of objective gradient evaluations             = 21\n",
      "Number of equality constraint evaluations            = 21\n",
      "Number of inequality constraint evaluations          = 0\n",
      "Number of equality constraint Jacobian evaluations   = 21\n",
      "Number of inequality constraint Jacobian evaluations = 0\n",
      "Number of Lagrangian Hessian evaluations             = 20\n",
      "Total seconds in IPOPT                               = 0.935\n",
      "\n",
      "EXIT: Solved To Acceptable Level.\n",
      "objective_value(model) = 0.021590558159920035\n",
      "value(η) = 0.02159052099953954\n",
      "value(w) = 1170.0\n",
      "value(Q) = 2.863175373744548e-5\n",
      "value(H) = 461.9499992591397\n",
      "value(T) = 0.0005235922252472519\n"
     ]
    },
    {
     "data": {
      "text/plain": [
       "0.0005235922252472519"
      ]
     },
     "execution_count": 16,
     "metadata": {},
     "output_type": "execute_result"
    }
   ],
   "source": [
    "# Paso 1\n",
    "model = Model(Ipopt.Optimizer)\n",
    "\n",
    "# Paso 2\n",
    "@variable(model, 0 <= η <= 1)\n",
    "@variable(model, w == 1170)\n",
    "@variable(model, 0 <= Q <= 26)\n",
    "@variable(model, 460 <= H <= 655)\n",
    "@variable(model, T >= 0)\n",
    "\n",
    "# Paso 3\n",
    "@NLobjective(model, Max, (Q*H)/(w*T))\n",
    "\n",
    "# Paso 4\n",
    "@NLconstraint(model, c1, T == (Q*H) / (w * η))\n",
    "print(model)\n",
    "\n",
    "# Paso 5\n",
    "optimize!(model)\n",
    "\n",
    "# Paso 6\n",
    "@show objective_value(model)\n",
    "@show value(η)\n",
    "@show value(w)\n",
    "@show value(Q)\n",
    "@show value(H)\n",
    "@show value(T)"
   ]
  }
 ],
 "metadata": {
  "kernelspec": {
   "display_name": "Julia 1.7.2",
   "language": "julia",
   "name": "julia-1.7"
  },
  "language_info": {
   "file_extension": ".jl",
   "mimetype": "application/julia",
   "name": "julia",
   "version": "1.7.2"
  },
  "toc": {
   "base_numbering": 1,
   "nav_menu": {},
   "number_sections": false,
   "sideBar": true,
   "skip_h1_title": true,
   "title_cell": "Table of Contents",
   "title_sidebar": "Contents",
   "toc_cell": false,
   "toc_position": {},
   "toc_section_display": true,
   "toc_window_display": false
  }
 },
 "nbformat": 4,
 "nbformat_minor": 2
}
