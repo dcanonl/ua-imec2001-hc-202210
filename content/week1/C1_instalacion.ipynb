{
 "cells": [
  {
   "cell_type": "markdown",
   "metadata": {},
   "source": [
    "# IMEC2201 Herramientas Computacionales \n",
    "## Semana 1: Introducción\n",
    "### Clase 1: Configuración Espacio de Trabajo\n",
    "\n",
    "Universidad de los Andes — Marzo 28, 2022.\n",
    "\n",
    "---\n",
    "\n",
    "## TABLA DE CONTENIDO\n",
    "\n",
    "### Sección 1: Verificación Instalación Julia [→](#section1)\n",
    "- 1.1. Primer Código\n",
    "- 1.2. Un Poco Más Allá\n",
    "\n",
    "### Sección 2: Vistazo a la Clase 2 [→](#section2)\n",
    "- 2.1. Ayuda en Funciones\n",
    "- 2.2. Arreglos y Matrices\n",
    "- 2.3. Funciones\n",
    "- 2.4. Datos Tabulares\n",
    "- 2.5. Gráficas\n",
    "\n",
    "___"
   ]
  },
  {
   "cell_type": "markdown",
   "metadata": {},
   "source": [
    "<a id=\"section1\"></a>\n",
    "# Sección 1: Verificación Instalación Julia"
   ]
  },
  {
   "cell_type": "markdown",
   "metadata": {},
   "source": [
    "## 1.1. Primer Código"
   ]
  },
  {
   "cell_type": "code",
   "execution_count": null,
   "metadata": {},
   "outputs": [],
   "source": [
    "println(\"Hello World!\")"
   ]
  },
  {
   "cell_type": "markdown",
   "metadata": {},
   "source": [
    "## 1.2. Un Poco Más Allá"
   ]
  },
  {
   "cell_type": "code",
   "execution_count": null,
   "metadata": {},
   "outputs": [],
   "source": [
    "#= \n",
    "Definimos la función 'greet_to_IMEC2001' que\n",
    "pregunta por un nombre y devuelve un saludo\n",
    "con la bienvenida al curso\n",
    "=#\n",
    "\n",
    "function greet_to_IMEC2001()\n",
    "    print(\"¿Cuál es tu nombre?: \")\n",
    "    name = readline()\n",
    "    println(\"\\nHola, $name. ¡Bienvenido/a al curso IMEC2001!\")\n",
    "end\n",
    "\n",
    "greet_to_IMEC2001()"
   ]
  },
  {
   "cell_type": "markdown",
   "metadata": {},
   "source": [
    "# Sección 2: Vistazo a la Clase 2\n",
    "\n",
    "**¡Importante!** Note que la carpeta `week1` contiene dos archivos: `Project.toml` y `Manifest.toml`. Estos configuran el <font color=\"#FF5733\">*ambiente de trabajo*</font> y facilitan el manejo de <font color=\"#FF5733\">librerías</font>.\n",
    "\n",
    "Para inicializar el ambiente desde el terminal, ejecute lo siguiente:\n",
    "\n",
    "```shell\n",
    "$ (v1.7) pkg > activate .\n",
    "$ (week1) pkg> instantiate\n",
    "```\n",
    "\n",
    "**Nota:** Para acceder al Pkg REPL, escriba el corchete derecho `]` en el Julia REPL. Note que el REPL cambie de color de verde (Julia REPL) a azul (Pkg REPL). Una vez ejecutado el código `activate .`, el prefijo entre paréntesis que indica el ambiente activo, cambia de `v1.7`a `week1`.\n",
    "\n",
    "O, desde Jupyter Notebook, ejecute:\n",
    "\n",
    "```julia\n",
    "$ using Pkg\n",
    "$ Pkg.activate()\n",
    "$ Pkg.instantiate()\n",
    "```\n",
    "\n",
    "**Nota:** La activación del ambiente <font color=\"#FF5733\">*precompila*</font> las librerías por lo que puede tardar un momento su ejecución completa.\n",
    "\n",
    "<div class=\"alert alert-block alert-info\">\n",
    "    \n",
    "<i class=\"fa fa-info-circle\" aria-hidden=\"true\"></i>\n",
    "Puede obtener más información en la documentación oficial de la librería [`Pkg.jl`](https://pkgdocs.julialang.org/v1/environments/) y en el documento dando clic [aquí](https://towardsdatascience.com/how-to-setup-project-environments-in-julia-ec8ae73afe9c).\n",
    "</div>"
   ]
  },
  {
   "cell_type": "code",
   "execution_count": null,
   "metadata": {},
   "outputs": [],
   "source": [
    "using Pkg\n",
    "Pkg.activate(pwd())\n",
    "Pkg.instantiate()"
   ]
  },
  {
   "cell_type": "code",
   "execution_count": null,
   "metadata": {},
   "outputs": [],
   "source": [
    "Pkg.status()"
   ]
  },
  {
   "cell_type": "markdown",
   "metadata": {},
   "source": [
    "## 2.1. Ayuda en Funciones"
   ]
  },
  {
   "cell_type": "code",
   "execution_count": null,
   "metadata": {},
   "outputs": [],
   "source": [
    "? println # En general '? función'"
   ]
  },
  {
   "cell_type": "markdown",
   "metadata": {},
   "source": [
    "## 2.2. Arreglos y Matrices"
   ]
  },
  {
   "cell_type": "code",
   "execution_count": null,
   "metadata": {},
   "outputs": [],
   "source": [
    "#=\n",
    "Note las tres formas diferentes de presentar la información \n",
    "en la función 'println': \n",
    "    1. \"$a\"\n",
    "    2. \", ndims(a)\"\n",
    "    3. \"$(length(a))\"\n",
    "=#\n",
    "\n",
    "a = [1, 2, 3, 4, 5, 6, 7, 8, 9, 10] # Array\n",
    "\n",
    "println(\"a = $a\")\n",
    "println(\"La cantidad de filas es: \", ndims(a))\n",
    "println(\"La cantidad de elementos es $(length(a))\")"
   ]
  },
  {
   "cell_type": "code",
   "execution_count": null,
   "metadata": {},
   "outputs": [],
   "source": [
    "#=\n",
    "También se puede generar con 'collect(start:step:stop)'\n",
    "=#\n",
    "a = collect(1:1:10)\n",
    "\n",
    "println(\"a = $a\")\n",
    "println(\"La cantidad de filas es: \", ndims(a))\n",
    "println(\"La cantidad de elementos es $(length(a))\")"
   ]
  },
  {
   "cell_type": "code",
   "execution_count": null,
   "metadata": {},
   "outputs": [],
   "source": [
    "#=\n",
    "También podemos 'combinar' las dos expresiones previas\n",
    "=#\n",
    "\n",
    "a = [1:1:10 ...] # start:step:stop\n",
    "\n",
    "println(\"a = $a\")\n",
    "println(\"La cantidad de filas es: \", ndims(a))\n",
    "println(\"La cantidad de elementos es $(length(a))\")"
   ]
  },
  {
   "cell_type": "code",
   "execution_count": null,
   "metadata": {},
   "outputs": [],
   "source": [
    "#=\n",
    "Las matrices siguen la siguiente sintaxis\n",
    "=#\n",
    "b = [[1,2,3] [4,5,6] [7,8,9]]\n",
    "\n",
    "println(\"b = $b\")\n",
    "println(\"La cantidad de filas es: \", ndims(b))\n",
    "println(\"La cantidad de elementos es $(length(b))\")"
   ]
  },
  {
   "cell_type": "code",
   "execution_count": null,
   "metadata": {},
   "outputs": [],
   "source": [
    "#=\n",
    "Si chequeamos 'b' únicamente...\n",
    "=#\n",
    "\n",
    "b"
   ]
  },
  {
   "cell_type": "code",
   "execution_count": null,
   "metadata": {},
   "outputs": [],
   "source": [
    "#=\n",
    "O directamente el tipo con 'typeof()'\n",
    "=#\n",
    "\n",
    "typeof(b)"
   ]
  },
  {
   "cell_type": "markdown",
   "metadata": {},
   "source": [
    "## 2.3. Funciones"
   ]
  },
  {
   "cell_type": "code",
   "execution_count": null,
   "metadata": {},
   "outputs": [],
   "source": [
    "#= \n",
    "Promedio de tres números ingresados por el usuario\n",
    "=#\n",
    "\n",
    "function average3()\n",
    "    print(\"First number: \")\n",
    "    num1 = parse(Float64, readline())\n",
    "\n",
    "    print(\"Second number: \")\n",
    "    num2 = parse(Float64, readline())\n",
    "\n",
    "    print(\"Third number: \")\n",
    "    num3 = parse(Float64, readline())\n",
    "\n",
    "    avg = round((num1+num2+num3)/3, digits=2)\n",
    "    println(\"\\nThe average of $num1, $num2 and $num3 is $avg.\")\n",
    "end\n",
    "\n",
    "average3()"
   ]
  },
  {
   "cell_type": "markdown",
   "metadata": {},
   "source": [
    "## 2.4. Datos Tabulares\n",
    "En Julia podemos cargar archivos con datos estructurados desde Excel o CSV y trabajarlos en un formato equivalente denominado `DataFrame`. Para ello, debemos cargar las librerías correspondientes (i.e., `XLSX.jl`, `CSV.jl`y `DataFrames.jl`)."
   ]
  },
  {
   "cell_type": "code",
   "execution_count": null,
   "metadata": {},
   "outputs": [],
   "source": [
    "using Pkg\n",
    "Pkg.add(\"XLSX\")\n",
    "Pkg.add(\"CSV\")\n",
    "Pkg.add(\"DataFrames\")"
   ]
  },
  {
   "cell_type": "code",
   "execution_count": null,
   "metadata": {},
   "outputs": [],
   "source": [
    "Pkg.status()"
   ]
  },
  {
   "cell_type": "code",
   "execution_count": null,
   "metadata": {},
   "outputs": [],
   "source": [
    "using DataFrames, XLSX\n",
    "df1 = DataFrame(XLSX.readtable(\"./data/hc-users.xlsx\", \"Users\")...)\n",
    "\n",
    "println(\"El DataFrame tiene $(size(df1)[1]) filas y $(size(df1)[2]) columnas.\")\n",
    "\n",
    "first(df1, 5)"
   ]
  },
  {
   "cell_type": "markdown",
   "metadata": {},
   "source": [
    "Es posible trabajar con esta información para obtener métricas descriptivas interesantes. Por ejemplo, podemos analizar en qué\n",
    "año ingresaron a la Universidad los estudiantes del curso (asumiendo que esta información la da los cuatro primeros dígitos del código, es decir, de la columna `OrgDefinedId`)."
   ]
  },
  {
   "cell_type": "code",
   "execution_count": null,
   "metadata": {},
   "outputs": [],
   "source": [
    "# 1. Lista para almacenar los cuatro primeros dígitos del código (i.e., año)\n",
    "id_year = []\n",
    "\n",
    "# 2. Iteración para extraer el año del código y almacenarlo en la lista 'id_year'\n",
    "for i in df1.OrgDefinedId\n",
    "    push!(id_year, parse(Int64, i[1:4]))\n",
    "end\n",
    "\n",
    "println(id_year[1:5])\n",
    "println(\"\") # Línea en blanco para mejor visualización\n",
    "\n",
    "# 3. Agregar esta información en el DataFrame 'df1'\n",
    "df1[!, :Year] = id_year\n",
    "show(df1[1:5, [:Username, :Year]])\n",
    "\n",
    "# 4. Análisis del año\n",
    "describe(df1, cols=:Year)"
   ]
  },
  {
   "cell_type": "markdown",
   "metadata": {},
   "source": [
    "Para el caso de datos tabulares en formato CSV, usamos la correspondiente librería (i.e., `CSV`)."
   ]
  },
  {
   "cell_type": "code",
   "execution_count": null,
   "metadata": {},
   "outputs": [],
   "source": [
    "using CSV\n",
    "\n",
    "file = CSV.File(\"./data/hc-users.csv\", header=1, delim=';')\n",
    "df2 = DataFrame(file)\n",
    "\n",
    "first(df2, 5)"
   ]
  },
  {
   "cell_type": "markdown",
   "metadata": {},
   "source": [
    "## 2.5. Gráficas\n",
    "\n",
    "Julia dispone de diversas librerías para generar visualizaciones ([aquí](https://juliapackages.com/c/graphics)). En este caso, usaremos `Plots.jl`."
   ]
  },
  {
   "cell_type": "code",
   "execution_count": null,
   "metadata": {},
   "outputs": [],
   "source": [
    "using Plots\n",
    "\n",
    "plot(df1.Username, df1.Year,\n",
    "     seriestype = :bar, \n",
    "     title=\"Año Ingreso a Uniandes\", \n",
    "     xlabel=\"Usuario\", \n",
    "     ylabel=\"Año\",\n",
    "     xrotation=90,\n",
    "     ylims = (2008,2022),\n",
    "     legend=false,\n",
    "     xticks=(0.5:17, df1.Username))\n"
   ]
  }
 ],
 "metadata": {
  "kernelspec": {
   "display_name": "Julia 1.7.2",
   "language": "julia",
   "name": "julia-1.7"
  },
  "language_info": {
   "file_extension": ".jl",
   "mimetype": "application/julia",
   "name": "julia",
   "version": "1.7.2"
  },
  "toc": {
   "base_numbering": 1,
   "nav_menu": {},
   "number_sections": false,
   "sideBar": true,
   "skip_h1_title": true,
   "title_cell": "Table of Contents",
   "title_sidebar": "Contents",
   "toc_cell": false,
   "toc_position": {},
   "toc_section_display": true,
   "toc_window_display": false
  }
 },
 "nbformat": 4,
 "nbformat_minor": 2
}
