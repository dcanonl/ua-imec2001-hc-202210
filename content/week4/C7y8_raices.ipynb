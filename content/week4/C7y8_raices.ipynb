{
 "cells": [
  {
   "cell_type": "markdown",
   "metadata": {},
   "source": [
    "# IMEC2201 Herramientas Computacionales \n",
    "## Semana 4: Raíces de Ecuaciones\n",
    "### Clase 7-8:  Factor de Fricción de Darcy y Raíces\n",
    "\n",
    "Universidad de los Andes — Abril 25, 2022.\n",
    "\n",
    "---\n",
    "\n",
    "## TABLA DE CONTENIDO\n",
    "\n",
    "### Sección 1: Factor de Fricción de Darcy [→](#section1)\n",
    "- 1.1. Introducción\n",
    "- 1.2. Parámetros de Estudio\n",
    "- 1.3. Curvas Características\n",
    "\n",
    "### Sección 2: Raíces [→](#section2)\n",
    "- 1.1. Introducción\n",
    "- 1.2. Parámetros de Estudio\n",
    "- 1.3. Curvas Características\n",
    "___"
   ]
  },
  {
   "cell_type": "markdown",
   "metadata": {},
   "source": [
    "**¡Importante!** Note que la carpeta **week4** contiene dos archivos: `Project.toml` y `Manifest.toml`. Estos configuran el <font color=\"#FF5733\">*ambiente de trabajo*</font> y facilitan el manejo de <font color=\"#FF5733\">librerías</font>.\n",
    "\n",
    "Para inicializar el ambiente desde Julia REPL, dentro de la carpeta **week2**, ejecute lo siguiente:\n",
    "\n",
    "```shell\n",
    "$ (v1.7) pkg > activate .\n",
    "$ (week2) pkg> instantiate\n",
    "```\n",
    "\n",
    "**Nota:** Para acceder al Pkg REPL, escriba el corchete derecho `]` en el Julia REPL. Note que el REPL cambie de color de verde (Julia REPL) a azul (Pkg REPL). Una vez ejecutado el código `activate .`, el prefijo entre paréntesis indica el ambiente activo: cambia de `v1.7` a `week2`.\n",
    "\n",
    "O, desde Jupyter Notebook, ejecute:\n",
    "\n",
    "```julia\n",
    "$ using Pkg\n",
    "$ Pkg.activate()\n",
    "$ Pkg.instantiate()\n",
    "```\n",
    "\n",
    "**Nota:** La activación del ambiente <font color=\"#FF5733\">*precompila*</font> las librerías por lo que puede tardar un momento su ejecución completa.\n",
    "\n",
    "<div class=\"alert alert-block alert-info\">\n",
    "    \n",
    "<i class=\"fa fa-info-circle\" aria-hidden=\"true\"></i>\n",
    "Puede obtener más información en la documentación oficial de la librería [`Pkg.jl`](https://pkgdocs.julialang.org/v1/environments/) y en el documento dando clic [aquí](https://towardsdatascience.com/how-to-setup-project-environments-in-julia-ec8ae73afe9c).\n",
    "</div>"
   ]
  },
  {
   "cell_type": "code",
   "execution_count": null,
   "metadata": {},
   "outputs": [],
   "source": [
    "using Pkg\n",
    "Pkg.activate(pwd())\n",
    "Pkg.instantiate()"
   ]
  },
  {
   "cell_type": "code",
   "execution_count": null,
   "metadata": {},
   "outputs": [],
   "source": [
    "Pkg.status()"
   ]
  },
  {
   "cell_type": "markdown",
   "metadata": {},
   "source": [
    "<a id=\"section1\"></a>\n",
    "# Sección 1: Factor de Fricción de Darcy"
   ]
  },
  {
   "cell_type": "markdown",
   "metadata": {},
   "source": [
    "## 1.1. Introducción\n",
    "\n",
    "Esta semana consideramos la siguiente pregunta:\n",
    "\n",
    "> Dada una tubería cilíndrica y componentes adicionales como válvulas, codos y difusores, más el caudal de diseño (dado por la bomba centrífuga que vimos la semana anterior) y las propiedades del fluido, ¿qué diferencia de presiones se necesita para producir el flujo?\n",
    "\n",
    "\n",
    "Notemos una relación importante: **diferencia de presión** a causa del **flujo en un conducto**. Algunas variables que están presentes son:\n",
    "- Rugosidad de la pared.\n",
    "- Número de Reynolds que indica el tipo de flujo (laminar o turbulento).\n",
    "- Caudal."
   ]
  },
  {
   "cell_type": "markdown",
   "metadata": {},
   "source": [
    "## 1.2. Número de Reynolds\n",
    "\n",
    "Relación entre las *fuerzas de inercia* y las *fuerzas viscosas* de un fluido que permiten determinar si el flujo es laminar o turbulento.\n",
    "\n",
    "$$\n",
    "Re = \\frac{\\rho V D}{\\mu} = \\frac{V D}{\\nu}\n",
    "$$\n",
    "\n",
    "Siendo $\\rho$ la densidad del fluido, $V$ la velocidad de flujo, $D$ el diámetro interno de la tubería, $\\mu$ la viscosidad dinámica del fluido y $\\nu$ la viscosidad cinemática del fluido.\n",
    "\n",
    "Típicamente:\n",
    "- Flujo laminar cuando $Re <= 2300$\n",
    "- Flujo turbulento cuando $Re > 2300$\n",
    "\n",
    "Además, el flujo turbulento es más común que el laminar.\n",
    "\n",
    "<img src='./img/flows.gif' width='350' height='350' />"
   ]
  },
  {
   "cell_type": "markdown",
   "metadata": {},
   "source": [
    "## 1.3. Coeficiente de Fricción\n",
    "\n",
    "La fricción dada por las paredes del conducto causan una pérdida de carga $h_f$.\n",
    "\n",
    "$$\n",
    "h_f = f \\frac{L}{D} \\frac{V^2}{2g}\n",
    "$$\n",
    "\n",
    "Siendo $f$ el **coeficiente de fricción de Darcy** y $g$ la gravedad.\n",
    "\n",
    "En general, el coeficiente de fricción de Darcy es función de $Re$ y la rugosidad de la pared $\\varepsilon$.\n",
    "\n",
    "También, recordemos que:\n",
    "\n",
    "$$\n",
    "Q = VA\n",
    "$$\n",
    "\n",
    "y\n",
    "\n",
    "$$\n",
    "A = \\frac{\\pi D^2}{4}\n",
    "$$\n",
    "\n",
    "Siendo $A$ el área transversal de la tubería."
   ]
  },
  {
   "cell_type": "markdown",
   "metadata": {},
   "source": [
    "## 1.4. Flujo Laminar\n",
    "\n",
    "Recordemos que el flujo dentro de una tubería es *laminar* cuando $Re <= 2300$. Para este caso, el coeficiente de fricción de Darcy es:\n",
    "\n",
    "$$\n",
    "f = \\frac{64}{Re}\n",
    "$$\n",
    "\n",
    "**Nota:** La derivación de esta relación se presenta en la Sección 6.4 de la lectura White - Mecánica de Fluidos (Ch. 6) en la carpeta Enlaces de Interés."
   ]
  },
  {
   "cell_type": "markdown",
   "metadata": {},
   "source": [
    "## 1.5. Flujo Turbulento\n",
    "\n",
    "Recordemos que el flujo dentro de una tubería es *turbulento* cuando $Re > 2300$. Para este caso, el coeficiente de fricción de Darcy es:\n",
    "\n",
    "$$\n",
    "\\frac{1}{\\sqrt{f}} = -2 \\: \\text{log} \\left( \\frac{\\varepsilon / D}{3.7} + \\frac{2.51}{Re \\sqrt{f}} \\right)\n",
    "$$\n",
    "\n",
    "Esta ecuación es también conocida como la *ecuación de Colebrook*.\n",
    "\n",
    "**Nota:** La derivación de esta relación se presenta en la Sección 6.6 de la lectura White - Mecánica de Fluidos (Ch. 6) en la carpeta Enlaces de Interés."
   ]
  },
  {
   "cell_type": "markdown",
   "metadata": {},
   "source": [
    "## 1.6. Diagrama de Moody\n",
    "\n",
    "Aquí surge el concepto de *rugosidad relativa*, lo cual es la relación $\\varepsilon / D$.\n",
    "\n",
    "<img src='./img/moody2.png' width='800' height='800' />"
   ]
  },
  {
   "cell_type": "markdown",
   "metadata": {},
   "source": [
    "## 1.7. Ejemplo\n",
    "\n",
    "Calcule la pérdida de carga $h_f$ en un tubo horizontal de 6 in de diámetro  ($D$) y 200 ft ($L$) de longitud de hierro fundido asfáltico, por el que circula agua a una velocidad media de 6 ft/s ($V$). Considere $\\rho = 1.94 \\: slug/ft^3$, $\\mu = 2.09 · 10^{-5} \\: slug/ft·s$ y $\\varepsilon / D$. Tomar $\\varepsilon = 0.0004\\text{ ft}$."
   ]
  },
  {
   "cell_type": "code",
   "execution_count": null,
   "metadata": {},
   "outputs": [],
   "source": [
    "# Definimos las variables\n",
    "D = 6/12 # ft\n",
    "L = 200 # ft\n",
    "V = 6.0 # ft/s\n",
    "ρ = 1.94 # slug/ft3\n",
    "μ = ??? # slug/ft·s\n",
    "ε = ??? # ft"
   ]
  },
  {
   "cell_type": "markdown",
   "metadata": {},
   "source": [
    "### 1.7.1. Paso 1. Determinar el Número de Reynolds ($Re$)"
   ]
  },
  {
   "cell_type": "code",
   "execution_count": null,
   "metadata": {},
   "outputs": [],
   "source": [
    "function reynolds(densidad, velocidad, diametro, viscosidad)\n",
    "    _Re = ???\n",
    "    return round(_Re, digits=2)\n",
    "end    \n",
    "\n",
    "Re = reynolds(ρ, V, D, μ)\n",
    "    \n",
    "Re"
   ]
  },
  {
   "cell_type": "markdown",
   "metadata": {},
   "source": [
    "### 1.7.2. Paso 2. Determinar la Rugosidad Relativa ($\\varepsilon_{r}$)"
   ]
  },
  {
   "cell_type": "code",
   "execution_count": null,
   "metadata": {},
   "outputs": [],
   "source": [
    "εᵣ = ε / D\n",
    "εᵣ"
   ]
  },
  {
   "cell_type": "markdown",
   "metadata": {},
   "source": [
    "### 1.7.3. Paso 3. Determinar el Coeficiente de Fricción de Darcy ($f$)\n",
    "\n",
    "Este paso puede realizarse de dos formas:\n",
    "1. Analíticamente mediante iteraciones hasta alcanzar una convergencia.\n",
    "2. Diagrama de Moody.\n",
    "\n",
    "Para el primer método, asumimos un valor de $f$ inicial para luego comparar las dos partes de la igualdad. El valor de $f$ correcto será el que converja según el valor estipulado manualmente de umbral. Reordenando un poco:\n",
    "\n",
    "$$\n",
    "\\frac{1}{\\sqrt{f}} = -2 \\: \\text{log} \\left( \\frac{\\varepsilon / D}{3.7} + \\frac{2.51}{Re \\sqrt{f}} \\right)\n",
    "$$\n",
    "\n",
    "$$\n",
    "\\frac{1}{f} = \\left[ -2 \\: \\text{log} \\left( \\frac{\\varepsilon / D}{3.7} + \\frac{2.51}{Re \\sqrt{f}} \\right) \\right]^2\n",
    "$$\n",
    "\n",
    "$$\n",
    "f = \\frac{1}{\\left[ -2 \\: \\text{log} \\left( \\frac{\\varepsilon / D}{3.7} + \\frac{2.51}{Re \\sqrt{f}} \\right) \\right]^2}\n",
    "$$\n",
    "\n",
    "Con la segunda opción, el coeficiente de fricción de Darcy (~0.02) se determina así:\n",
    "\n",
    "<img src='./img/moody_e1.png' width='800' height='800' />\n",
    "\n",
    "**Nota:** Más información del método iterativo [aquí](https://www.youtube.com/watch?v=7LBmd4rqKGE)."
   ]
  },
  {
   "cell_type": "code",
   "execution_count": null,
   "metadata": {},
   "outputs": [],
   "source": [
    "# Lado Derecho Igualdad\n",
    "function factor_friccion(rug_relativa, reynolds, coef_friccion)\n",
    "    _ff = 1 / (-2 * log10( rug_relativa/3.7 + 2.51/(reynolds * sqrt(coef_friccion))))^2\n",
    "    return round(_ff, digits=6)\n",
    "end"
   ]
  },
  {
   "cell_type": "code",
   "execution_count": null,
   "metadata": {},
   "outputs": [],
   "source": [
    "# While Loop\n",
    "criterio_convergencia = 0.005\n",
    "\n",
    "dif = 100\n",
    "f_iter = 0.01\n",
    "f_estimado = 0\n",
    "\n",
    "i = 1\n",
    "while dif > criterio_convergencia\n",
    "    f_estimado = factor_friccion(εᵣ, Re, f_iter)\n",
    "    dif = round(abs(f_estimado - f_iter), digits=6)\n",
    "    \n",
    "    println(\"Iter $(i): $(f_iter) - Estimado: $(f_estimado) - Dif: $(dif)\")\n",
    "    \n",
    "    f_iter += 0.005\n",
    "    i += 1\n",
    "end\n",
    "\n",
    "f_estimado"
   ]
  },
  {
   "cell_type": "code",
   "execution_count": null,
   "metadata": {},
   "outputs": [],
   "source": [
    "# For Loop\n",
    "f = 0\n",
    "for cf in 0.01:0.005:0.03 # cf es el coeficiente de fricción\n",
    "    f_estimado = factor_friccion(εᵣ, Re, cf)\n",
    "    \n",
    "    dif = abs(f_estimado - cf)\n",
    "    \n",
    "    println(\"Iter: $(cf) - Estimado: $(f_estimado) - Dif: $(dif)\")\n",
    "    \n",
    "    if dif <= criterio_convergencia\n",
    "        f = cf\n",
    "    else\n",
    "        continue\n",
    "    end\n",
    "end\n",
    "\n",
    "f_estimado"
   ]
  },
  {
   "cell_type": "markdown",
   "metadata": {},
   "source": [
    "### 1.7.3. Paso 4. Determinar el la Pérdida de Carga ($h_f$)\n",
    "\n",
    "Recordemos la relación:\n",
    "\n",
    "$$\n",
    "h_f = f \\frac{L}{D} \\frac{V^2}{2g}\n",
    "$$"
   ]
  },
  {
   "cell_type": "code",
   "execution_count": null,
   "metadata": {},
   "outputs": [],
   "source": [
    "function perdida_carga(coef_friccion, long, dia, vel)\n",
    "   _hf = ???\n",
    "   return  round(_hf, digits=2)\n",
    "end\n",
    "\n",
    "hf = perdida_carga(f_estimado, L, D, V)\n",
    "hf"
   ]
  },
  {
   "cell_type": "markdown",
   "metadata": {},
   "source": [
    "<a id=\"section2\"></a>\n",
    "# Sección 2: Raíces"
   ]
  },
  {
   "cell_type": "markdown",
   "metadata": {},
   "source": [
    "## 2.1. Introducción\n",
    "\n",
    "Determinar las *raíces* (soluciones) de una ecuación hace referencia a calcular los valores de $x$ que cumplen $f(x) = 0$.\n",
    "\n",
    "Dependiendo de la función $f(x)$ con la que estemos trabajando, la determinación de las raíces puede llegar a ser complejo y laborioso si se realiza a mano. Por lo tanto, una solución efectiva es optar por métodos numéricos que computacionalmente son provechosos.\n",
    "\n",
    "Los métodos numéricos más utilizados son:\n",
    "- Newton-Raphson\n",
    "- Bisección\n",
    "- Trisección\n",
    "- Secante\n",
    "- Matriz por vector (más adelante lo veremos)\n",
    "- Gauss-Jordan\n",
    "- Falsa Posición\n",
    "\n",
    "El desarrollo manual de estos métodos los encuentran en Bloque Neón > Contenido > Semana 4 > Enlaces de Interés.\n",
    "\n",
    "Aquí veremos cómo sacarle provecho a los desarrollos realizados con las librerías `Roots.jl` y `NLsolve.jl`."
   ]
  },
  {
   "cell_type": "markdown",
   "metadata": {},
   "source": [
    "## 2.2. Cargar Librerías"
   ]
  },
  {
   "cell_type": "code",
   "execution_count": null,
   "metadata": {},
   "outputs": [],
   "source": [
    "using Plots\n",
    "using Roots\n",
    "using NLsolve"
   ]
  },
  {
   "cell_type": "markdown",
   "metadata": {},
   "source": [
    "## 2.3. Ecuaciones No Lineales\n",
    "\n",
    "Una **ecuación lineal** es aquella que involucra una o más variables de primer grado (es decir, a la primera potencia) y no contiene productos entre las variables. Entonces:\n",
    "\n",
    "> Una ecuación lineal es aquella que involucra solamente sumas y restas de una variable a la primera potencia.\n",
    "\n",
    "Un ejemplo de una ecuación no lineal y su solución, es el caso conocido de dela *fórmula cuadrática*:\n",
    "\n",
    "Para la ecuación:\n",
    "$$\n",
    "ax^2 + bx + c = 0\n",
    "$$\n",
    "\n",
    "La solución (*fórmula cuadrática*) es:\n",
    "\n",
    "$$\n",
    "x = \\frac{-b \\pm \\sqrt{b^2 - ac}}{2a}\n",
    "$$\n",
    "\n",
    "Utilizando números, tenemos lo siguiente:\n",
    "\n",
    "$$\n",
    "x^2 - 7x + 12 = 0\n",
    "$$\n",
    "\n",
    "Entonces: $a$ = 1, $b = -7$ y $c = 12$. Luego:\n",
    "\n",
    "$$\n",
    "x = \\frac{-(-7) \\pm \\sqrt{(-7)^2 - (1)(12)}}{2(1)} = \\frac{7 \\pm 1}{2}\n",
    "$$\n",
    "\n",
    "Finalmente, obtenemos dos soluciones: $x = 4$ y $x = 3$."
   ]
  },
  {
   "cell_type": "code",
   "execution_count": null,
   "metadata": {},
   "outputs": [],
   "source": [
    "# Fórmula Cuadrática\n",
    "function cuadratica(a, b, c)\n",
    "    sol_suma = (-b + sqrt(b^2 - 4a*c)) / (2a)\n",
    "    ???\n",
    "\n",
    "    return [sol_suma, sol_resta]\n",
    "end\n",
    "\n",
    "# Ejemplo\n",
    "ejm1 = cuadratica(1, -7, 12)\n",
    "ejm1"
   ]
  },
  {
   "cell_type": "markdown",
   "metadata": {},
   "source": [
    "Entendido. ¿Pero qué pasa si la ecuación es más compleja de trabajar? \n",
    "\n",
    "Por ejemplo:\n",
    "\n",
    "$$\n",
    "3x^3 + 3x^2 - x - 1 = 0\n",
    "$$\n",
    "\n",
    "Dado que manualmente es más dispendioso, saquémosle provecho a las librerías `Roots.jl` y `NLsolve.jl`."
   ]
  },
  {
   "cell_type": "markdown",
   "metadata": {},
   "source": [
    "## 2.4. Aplicación con `Roots.jl`\n",
    "\n",
    "Vamos a distinguir la **sintaxis** de la librería `Roots.jl` para dar solución a estos ejercicios.\n",
    "\n",
    "Para empezar, comentar que disponemos de los métodos comentados en la Sección 2.1. Según el tipo de método, podemos tener dos sintaxis principales:\n",
    "\n",
    "**1. Métodos Entre Intervalo**\n",
    "Para algunos casos, sabemos que la raíz ($f(x) = 0$) se encuentra contenida en un intervalo $[a, b]$; típicamente esto lo conocemos porque graficamos la función $f(x)$. Aquí, la sintaxis es:\n",
    "\n",
    "```julia\n",
    "# Paso 1. Importar librería\n",
    "using Roots\n",
    "\n",
    "# Paso 2. Definir la función\n",
    "f(x) = exp(x) - x^4 # **Importante:** Notemos que la ecuación debe estar igualada a cero\n",
    "\n",
    "# Paso 3. Emplear el solucionador 'find_zero()'\n",
    "solucion = find_zero(f, (a,b), Bisection()) # Sintaxis: 1. Función, 2. Intervalo, 3. Método\n",
    "```\n",
    "\n",
    "**Nota:** Más información de la librería `Roots.jl` [aquí](https://github.com/JuliaMath/Roots.jl) y [aquí](https://docs.juliahub.com/Roots/o0Xsi/2.0.0/)."
   ]
  },
  {
   "cell_type": "code",
   "execution_count": null,
   "metadata": {},
   "outputs": [],
   "source": [
    "# Paso 1. Importar librería\n",
    "using Plots\n",
    "using Roots\n",
    "\n",
    "# Paso 2. Definir la función\n",
    "f2(x) = exp(x) - x^4 # **Importante:** Notemos que la ecuación debe estar igualada a cero\n",
    "\n",
    "# Observemos el comportamiento para definir el intervalo\n",
    "plot(0:1:10, f2, seriestype=:line, ls=:dash, w=1, m=:circle, ms=5, label=\"f(x)\", legend=true)"
   ]
  },
  {
   "cell_type": "code",
   "execution_count": null,
   "metadata": {},
   "outputs": [],
   "source": [
    "# Paso 3. Emplear el solucionador 'find_zero()'\n",
    "a = 7.5\n",
    "b = 10\n",
    "\n",
    "solucion = find_zero(f2, (a,b), Bisection()) # Sintaxis: 1. Función, 2. Intervalo, 3. Método\n",
    "solucion"
   ]
  },
  {
   "cell_type": "markdown",
   "metadata": {},
   "source": [
    "**2. Métodos de Posición Inicial**\n",
    "A diferencia del primer método, solo debemos definir el punto inicial en el que el método numérico empezará a iterar hasta la convergencia. Aquí, la sintaxis es:\n",
    "\n",
    "```julia\n",
    "# Paso 1. Importar librería\n",
    "using Roots\n",
    "\n",
    "# Paso 2. Definir la función\n",
    "f(x) = exp(x) - x^4 # **Importante:** Notemos que la ecuación debe estar igualada a cero\n",
    "\n",
    "# Paso 3. Emplear el solucionador 'find_zero()'\n",
    "solucion = find_zero(f, a, Order1()) # Sintaxis: 1. Función, 2. Punto Inicial, 3. Método (Order1() es el Método de la Secante)\n",
    "```"
   ]
  },
  {
   "cell_type": "code",
   "execution_count": null,
   "metadata": {},
   "outputs": [],
   "source": [
    "a = 3\n",
    "solucion = find_zero(f2, a, Order1()) # Sintaxis: 1. Función, 2. Intervalo, 3. Método\n",
    "solucion"
   ]
  },
  {
   "cell_type": "markdown",
   "metadata": {},
   "source": [
    "**3. Múltiples Raíces**\n",
    "Si sabemos que la función a la que le queremos encontrar las raíces tiene varias soluciones, debemos utilizar la siguiente sintaxis:\n",
    "\n",
    "```julia\n",
    "# Paso 1. Importar librería\n",
    "using Roots\n",
    "\n",
    "# Paso 2. Definir la función\n",
    "f(x) = exp(x) - x^4 # **Importante:** Notemos que la ecuación debe estar igualada a cero\n",
    "\n",
    "# Paso 3. Emplear el solucionador 'find_zero()'\n",
    "solucion = find_zeros(f, a, b) # Sintaxis: 1. Función, 2. Punto Inicial Intervalo, 3. Punto Final Intervalo\n",
    "```\n",
    "\n",
    "**Importante:** Note que esta vez utilizamos `find_zeros()` en lugar de `find_zero()`."
   ]
  },
  {
   "cell_type": "code",
   "execution_count": null,
   "metadata": {},
   "outputs": [],
   "source": [
    "a = -10\n",
    "b = 10\n",
    "\n",
    "raices = find_zeros(f2, a, b)\n",
    "raices"
   ]
  },
  {
   "cell_type": "markdown",
   "metadata": {},
   "source": [
    "## 2.5. Aplicación con `NLsolve.jl`\n",
    "\n",
    "Vamos a distinguir la **sintaxis** de la librería `NLsolve.jl` para dar solución a estos ejercicios.\n",
    "\n",
    "Para empezar, veamos que, con sintaxis diferente (y seguramente diferente desarrollo del algoritmo), obtenemos soluciones aproximadas (quizá no la misma por lo que los métodos numéricos son iterativos).\n",
    "\n",
    "Para `NLsolve.jl` tenemos:\n",
    "\n",
    "```julia\n",
    "# Paso 1. Importar librería\n",
    "using NLsolve\n",
    "\n",
    "# Paso 2. Definir la función\n",
    "function f!(F, x) # Importante poner un \"!\" al final del nombre de la función \n",
    "    F[1] = exp(x[1]) - x[1]^4 # **Importante:** Notemos que la ecuación debe estar igualada a cero\n",
    "end\n",
    "\n",
    "# Paso 3. Emplear el solucionador 'nlsolve()'\n",
    "solucion = nlsolve(f!, [a]) # Sintaxis: 1. Función, 2. [Punto Inicial]\n",
    "\n",
    "# Paso 4. Llamar la solución directamente\n",
    "solucion.zero\n",
    "```\n",
    "\n",
    "Fíjense que el parámetro de punto inicial está entre corchetes `[]`, es decir, es un Array. ¿Por qué? Note que en la función `f!`, la variable la llamamos como entradas del Array (es decir, `x[1]`).\n",
    "\n",
    "La ventaja de esta librería es que podemos utilizar un sistema de ecuaciones; eso lo veremos en la Semana 5.\n",
    "\n",
    "**Nota:** Más información de la librería `NLsolve.jl` [aquí](https://github.com/JuliaNLSolvers/NLsolve.jl) y [aquí](https://morioh.com/p/367a415c21db)."
   ]
  },
  {
   "cell_type": "code",
   "execution_count": null,
   "metadata": {},
   "outputs": [],
   "source": [
    "# Paso 1. Importar librería\n",
    "using NLsolve\n",
    "\n",
    "# Paso 2. Definir la función\n",
    "function f3!(F, x) # Importante poner un \"!\" al final del nombre de la función \n",
    "    F[1] = exp(x[1]) - x[1]^4 # **Importante:** Notemos que la ecuación debe estar igualada a cero\n",
    "end\n",
    "\n",
    "# Paso 3. Emplear el solucionador 'nlsolve()'\n",
    "solucion = nlsolve(f3!, [7.5]) # Sintaxis: 1. Función, 2. [Punto Inicial]\n",
    "\n",
    "# Paso 4. Llamar la solución directamente\n",
    "solucion.zero"
   ]
  }
 ],
 "metadata": {
  "kernelspec": {
   "display_name": "Julia 1.7.2",
   "language": "julia",
   "name": "julia-1.7"
  },
  "language_info": {
   "file_extension": ".jl",
   "mimetype": "application/julia",
   "name": "julia",
   "version": "1.7.2"
  },
  "toc": {
   "base_numbering": 1,
   "nav_menu": {},
   "number_sections": false,
   "sideBar": true,
   "skip_h1_title": true,
   "title_cell": "Table of Contents",
   "title_sidebar": "Contents",
   "toc_cell": false,
   "toc_position": {},
   "toc_section_display": true,
   "toc_window_display": false
  }
 },
 "nbformat": 4,
 "nbformat_minor": 2
}
