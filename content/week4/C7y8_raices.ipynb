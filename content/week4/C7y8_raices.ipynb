{
 "cells": [
  {
   "cell_type": "markdown",
   "metadata": {},
   "source": [
    "# IMEC2201 Herramientas Computacionales \n",
    "## Semana 4: Raíces de Ecuaciones\n",
    "### Clase 7-8:  Factor de Fricción de Darcy y Raíces\n",
    "\n",
    "Universidad de los Andes — Abril 27, 2022.\n",
    "\n",
    "---\n",
    "\n",
    "## TABLA DE CONTENIDO\n",
    "\n",
    "### Sección 1: Factor de Fricción de Darcy [→](#section1)\n",
    "- 1.1. Introducción\n",
    "- 1.2. Número de Reynolds\n",
    "- 1.3. Coeficiente de Fricción\n",
    "- 1.4. Flujo Laminar\n",
    "- 1.5. Flujo Turbulento\n",
    "- 1.6. Diagrama de Moody\n",
    "- 1.7. Ejemplo\n",
    "    - 1.7.1. Paso 1. Determinar el Número de Reynolds ($Re$)\n",
    "    - 1.7.2. Paso 2. Determinar la Rugosidad Relativa ($\\varepsilon_r$)\n",
    "    - 1.7.3. Paso 3. Determinar el Coeficiente de Fricción de Darcy ($f$)\n",
    "    - 1.7.3. Paso 4. Determinar la Pérdida de Carga ($h_f$)\n",
    "\n",
    "### Sección 2: Raíces [→](#section2)\n",
    "- 2.1. Introducción\n",
    "- 2.2. Cargar Librerías\n",
    "- 2.3. Ecuaciones No Lineales\n",
    "- 2.4. Aplicación con `Roots.jl`\n",
    "- 2.5. Aplicación con `NLsolve.jl`\n",
    "- 2.6. Factor de Fricción de Darcy con Librerías\n",
    "    - 2.6.1. Empleando `Roots.jl`\n",
    "    - 2.6.2. Empleando `NLsolve.jl`\n",
    "___"
   ]
  },
  {
   "cell_type": "markdown",
   "metadata": {},
   "source": [
    "**¡Importante!** Note que la carpeta **week4** contiene dos archivos: `Project.toml` y `Manifest.toml`. Estos configuran el <font color=\"#FF5733\">*ambiente de trabajo*</font> y facilitan el manejo de <font color=\"#FF5733\">librerías</font>.\n",
    "\n",
    "Para inicializar el ambiente desde Julia REPL, dentro de la carpeta **week4**, ejecute lo siguiente:\n",
    "\n",
    "```shell\n",
    "$ (v1.7) pkg > activate .\n",
    "$ (week4) pkg> instantiate\n",
    "```\n",
    "\n",
    "**Nota:** Para acceder al Pkg REPL, escriba el corchete derecho `]` en el Julia REPL. Note que el REPL cambie de color de verde (Julia REPL) a azul (Pkg REPL). Una vez ejecutado el código `activate .`, el prefijo entre paréntesis indica el ambiente activo: cambia de `v1.7` a `week4`.\n",
    "\n",
    "O, desde Jupyter Notebook, ejecute:\n",
    "\n",
    "```julia\n",
    "$ using Pkg\n",
    "$ Pkg.activate()\n",
    "$ Pkg.instantiate()\n",
    "```\n",
    "\n",
    "**Nota:** La activación del ambiente <font color=\"#FF5733\">*precompila*</font> las librerías por lo que puede tardar un momento su ejecución completa.\n",
    "\n",
    "<div class=\"alert alert-block alert-info\">\n",
    "    \n",
    "<i class=\"fa fa-info-circle\" aria-hidden=\"true\"></i>\n",
    "Puede obtener más información en la documentación oficial de la librería [`Pkg.jl`](https://pkgdocs.julialang.org/v1/environments/) y en el documento dando clic [aquí](https://towardsdatascience.com/how-to-setup-project-environments-in-julia-ec8ae73afe9c).\n",
    "</div>"
   ]
  },
  {
   "cell_type": "code",
   "execution_count": 1,
   "metadata": {},
   "outputs": [
    {
     "name": "stderr",
     "output_type": "stream",
     "text": [
      "\u001b[32m\u001b[1m  Activating\u001b[22m\u001b[39m project at `~/Documents/GitHub/ua-imec2001-hc-202210/content/week4`\n"
     ]
    }
   ],
   "source": [
    "using Pkg\n",
    "Pkg.activate(pwd())\n",
    "Pkg.instantiate()"
   ]
  },
  {
   "cell_type": "code",
   "execution_count": 2,
   "metadata": {},
   "outputs": [
    {
     "name": "stdout",
     "output_type": "stream",
     "text": [
      "\u001b[32m\u001b[1m      Status\u001b[22m\u001b[39m `~/Documents/GitHub/ua-imec2001-hc-202210/content/week4/Project.toml`\n",
      " \u001b[90m [2774e3e8] \u001b[39mNLsolve v4.5.1\n",
      " \u001b[90m [91a5bcdd] \u001b[39mPlots v1.27.6\n",
      " \u001b[90m [f2b01f46] \u001b[39mRoots v2.0.0\n"
     ]
    }
   ],
   "source": [
    "Pkg.status()"
   ]
  },
  {
   "cell_type": "markdown",
   "metadata": {},
   "source": [
    "<a id=\"section1\"></a>\n",
    "# Sección 1: Factor de Fricción de Darcy"
   ]
  },
  {
   "cell_type": "markdown",
   "metadata": {},
   "source": [
    "## 1.1. Introducción\n",
    "\n",
    "Esta semana consideramos la siguiente pregunta:\n",
    "\n",
    "> Dada una tubería cilíndrica y componentes adicionales como válvulas, codos y difusores, más el caudal de diseño (dado por la bomba centrífuga que vimos la semana anterior) y las propiedades del fluido, ¿qué diferencia de presiones se necesita para producir el flujo?\n",
    "\n",
    "\n",
    "Notemos una relación importante: **diferencia de presión** a causa del **flujo en un conducto**. Algunas variables que están presentes son:\n",
    "- Rugosidad de la pared.\n",
    "- Número de Reynolds que indica el tipo de flujo (laminar o turbulento).\n",
    "- Caudal."
   ]
  },
  {
   "cell_type": "markdown",
   "metadata": {},
   "source": [
    "## 1.2. Número de Reynolds\n",
    "\n",
    "Relación entre las *fuerzas de inercia* y las *fuerzas viscosas* de un fluido que permiten determinar si el flujo es laminar o turbulento.\n",
    "\n",
    "$$\n",
    "Re = \\frac{\\rho V D}{\\mu} = \\frac{V D}{\\nu}\n",
    "$$\n",
    "\n",
    "Siendo $\\rho$ la densidad del fluido, $V$ la velocidad de flujo, $D$ el diámetro interno de la tubería, $\\mu$ la viscosidad dinámica del fluido y $\\nu$ la viscosidad cinemática del fluido.\n",
    "\n",
    "Típicamente:\n",
    "- Flujo laminar cuando $Re <= 2300$\n",
    "- Flujo turbulento cuando $Re > 2300$\n",
    "\n",
    "Además, el flujo turbulento es más común que el laminar.\n",
    "\n",
    "<img src='./img/flows.gif' width='350' height='350' />"
   ]
  },
  {
   "cell_type": "markdown",
   "metadata": {},
   "source": [
    "## 1.3. Coeficiente de Fricción\n",
    "\n",
    "La fricción dada por las paredes del conducto causan una pérdida de carga $h_f$.\n",
    "\n",
    "$$\n",
    "h_f = f \\frac{L}{D} \\frac{V^2}{2g}\n",
    "$$\n",
    "\n",
    "Siendo $f$ el **coeficiente de fricción de Darcy** y $g$ la gravedad.\n",
    "\n",
    "En general, el coeficiente de fricción de Darcy es función de $Re$ y la rugosidad de la pared $\\varepsilon$.\n",
    "\n",
    "También, recordemos que:\n",
    "\n",
    "$$\n",
    "Q = VA\n",
    "$$\n",
    "\n",
    "y\n",
    "\n",
    "$$\n",
    "A = \\frac{\\pi D^2}{4}\n",
    "$$\n",
    "\n",
    "Siendo $A$ el área transversal de la tubería."
   ]
  },
  {
   "cell_type": "markdown",
   "metadata": {},
   "source": [
    "## 1.4. Flujo Laminar\n",
    "\n",
    "Recordemos que el flujo dentro de una tubería es *laminar* cuando $Re <= 2300$. Para este caso, el coeficiente de fricción de Darcy es:\n",
    "\n",
    "$$\n",
    "f = \\frac{64}{Re}\n",
    "$$\n",
    "\n",
    "**Nota:** La derivación de esta relación se presenta en la Sección 6.4 de la lectura White - Mecánica de Fluidos (Ch. 6) en la carpeta Enlaces de Interés."
   ]
  },
  {
   "cell_type": "markdown",
   "metadata": {},
   "source": [
    "## 1.5. Flujo Turbulento\n",
    "\n",
    "Recordemos que el flujo dentro de una tubería es *turbulento* cuando $Re > 2300$. Para este caso, el coeficiente de fricción de Darcy es:\n",
    "\n",
    "$$\n",
    "\\frac{1}{\\sqrt{f}} = -2 \\: \\text{log} \\left( \\frac{\\varepsilon / D}{3.7} + \\frac{2.51}{Re \\sqrt{f}} \\right)\n",
    "$$\n",
    "\n",
    "Esta ecuación es también conocida como la *ecuación de Colebrook*.\n",
    "\n",
    "**Nota:** La derivación de esta relación se presenta en la Sección 6.6 de la lectura White - Mecánica de Fluidos (Ch. 6) en la carpeta Enlaces de Interés."
   ]
  },
  {
   "cell_type": "markdown",
   "metadata": {},
   "source": [
    "## 1.6. Diagrama de Moody\n",
    "\n",
    "Aquí surge el concepto de *rugosidad relativa*, lo cual es la relación $\\varepsilon / D$.\n",
    "\n",
    "<img src='./img/moody2.png' width='800' height='800' />"
   ]
  },
  {
   "cell_type": "markdown",
   "metadata": {},
   "source": [
    "## 1.7. Ejemplo\n",
    "\n",
    "Calcule la pérdida de carga $h_f$ en un tubo horizontal de 6 in de diámetro  ($D$) y 200 ft ($L$) de longitud de hierro fundido asfáltico, por el que circula agua a una velocidad media de 6 ft/s ($V$). Considere $\\rho = 1.94 \\: slug/ft^3$, $\\mu = 2.09 · 10^{-5} \\: slug/ft·s$ y $\\varepsilon / D$. Tomar $\\varepsilon = 0.0004\\text{ ft}$."
   ]
  },
  {
   "cell_type": "code",
   "execution_count": 3,
   "metadata": {},
   "outputs": [
    {
     "data": {
      "text/plain": [
       "0.0004"
      ]
     },
     "execution_count": 3,
     "metadata": {},
     "output_type": "execute_result"
    }
   ],
   "source": [
    "# Definimos las variables\n",
    "D = 6/12 # ft\n",
    "L = 200 # ft\n",
    "V = 6.0 # ft/s\n",
    "ρ = 1.94 # slug/ft3\n",
    "μ = 2.09e-5 # slug/ft·s\n",
    "ε = 0.0004 # ft"
   ]
  },
  {
   "cell_type": "markdown",
   "metadata": {},
   "source": [
    "### 1.7.1. Paso 1. Determinar el Número de Reynolds ($Re$)"
   ]
  },
  {
   "cell_type": "markdown",
   "metadata": {},
   "source": [
    "$$\n",
    "Re = \\frac{\\rho V D}{\\mu}\n",
    "$$"
   ]
  },
  {
   "cell_type": "code",
   "execution_count": 4,
   "metadata": {},
   "outputs": [
    {
     "data": {
      "text/plain": [
       "278468.9"
      ]
     },
     "execution_count": 4,
     "metadata": {},
     "output_type": "execute_result"
    }
   ],
   "source": [
    "function reynolds(densidad, velocidad, diametro, viscosidad)\n",
    "    _Re = densidad*velocidad*diametro / viscosidad # Juan Sabogal\n",
    "    return round(_Re, digits=2)\n",
    "end    \n",
    "\n",
    "Re = reynolds(ρ, V, D, μ)\n",
    "    \n",
    "Re"
   ]
  },
  {
   "cell_type": "markdown",
   "metadata": {},
   "source": [
    "### 1.7.2. Paso 2. Determinar la Rugosidad Relativa ($\\varepsilon_{r}$)"
   ]
  },
  {
   "cell_type": "code",
   "execution_count": 5,
   "metadata": {},
   "outputs": [
    {
     "data": {
      "text/plain": [
       "0.0008"
      ]
     },
     "execution_count": 5,
     "metadata": {},
     "output_type": "execute_result"
    }
   ],
   "source": [
    "εᵣ = ε / D\n",
    "εᵣ"
   ]
  },
  {
   "cell_type": "markdown",
   "metadata": {},
   "source": [
    "### 1.7.3. Paso 3. Determinar el Coeficiente de Fricción de Darcy ($f$)\n",
    "\n",
    "Este paso puede realizarse de dos formas:\n",
    "1. Analíticamente mediante iteraciones hasta alcanzar una convergencia.\n",
    "2. Diagrama de Moody.\n",
    "\n",
    "Para el primer método, asumimos un valor de $f$ inicial para luego comparar las dos partes de la igualdad. El valor de $f$ correcto será el que converja según el valor estipulado manualmente de umbral. Reordenando un poco:\n",
    "\n",
    "$$\n",
    "\\frac{1}{\\sqrt{f}} = -2 \\: \\text{log} \\left( \\frac{\\varepsilon / D}{3.7} + \\frac{2.51}{Re \\sqrt{f}} \\right)\n",
    "$$\n",
    "\n",
    "$$\n",
    "\\frac{1}{f} = \\left[ -2 \\: \\text{log} \\left( \\frac{\\varepsilon / D}{3.7} + \\frac{2.51}{Re \\sqrt{f}} \\right) \\right]^2\n",
    "$$\n",
    "\n",
    "$$\n",
    "f = \\frac{1}{\\left[ -2 \\: \\text{log} \\left( \\frac{\\varepsilon / D}{3.7} + \\frac{2.51}{Re \\sqrt{f}} \\right) \\right]^2}\n",
    "$$\n",
    "\n",
    "Con la segunda opción, el coeficiente de fricción de Darcy (~0.02) se determina así:\n",
    "\n",
    "<img src='./img/moody_e1.png' width='800' height='800' />\n",
    "\n",
    "**Nota:** Más información del método iterativo [aquí](https://www.youtube.com/watch?v=7LBmd4rqKGE)."
   ]
  },
  {
   "cell_type": "code",
   "execution_count": 6,
   "metadata": {},
   "outputs": [
    {
     "data": {
      "text/plain": [
       "factor_friccion (generic function with 1 method)"
      ]
     },
     "execution_count": 6,
     "metadata": {},
     "output_type": "execute_result"
    }
   ],
   "source": [
    "# Lado Derecho Igualdad\n",
    "function factor_friccion(rug_relativa, reynolds, coef_friccion)\n",
    "    _ff = 1 / (-2 * log10( rug_relativa/3.7 + 2.51/(reynolds * sqrt(coef_friccion))))^2\n",
    "    return round(_ff, digits=6)\n",
    "end\n"
   ]
  },
  {
   "cell_type": "code",
   "execution_count": 7,
   "metadata": {},
   "outputs": [
    {
     "name": "stdout",
     "output_type": "stream",
     "text": [
      "Iter 1: 0.01 - Estimado: 0.020248 - Dif: 0.010248\n",
      "Iter 2: 0.015 - Estimado: 0.019973 - Dif: 0.004973\n"
     ]
    },
    {
     "data": {
      "text/plain": [
       "0.019973"
      ]
     },
     "execution_count": 7,
     "metadata": {},
     "output_type": "execute_result"
    }
   ],
   "source": [
    "# While Loop\n",
    "criterio_convergencia = 0.005\n",
    "\n",
    "dif = 100\n",
    "f_iter = 0.01\n",
    "f_estimado = 0\n",
    "\n",
    "i = 1\n",
    "while dif > criterio_convergencia\n",
    "    f_estimado = factor_friccion(εᵣ, Re, f_iter)\n",
    "    dif = round(abs(f_estimado - f_iter), digits=6)\n",
    "    \n",
    "    println(\"Iter $(i): $(f_iter) - Estimado: $(f_estimado) - Dif: $(dif)\")\n",
    "    \n",
    "    f_iter += 0.005\n",
    "    i += 1\n",
    "end\n",
    "\n",
    "f_estimado"
   ]
  },
  {
   "cell_type": "code",
   "execution_count": 8,
   "metadata": {},
   "outputs": [
    {
     "name": "stdout",
     "output_type": "stream",
     "text": [
      "Iter: 0.01 - Estimado: 0.020248 - Dif: 0.010247999999999998\n",
      "Iter: 0.015 - Estimado: 0.019973 - Dif: 0.004973000000000002\n",
      "Iter: 0.02 - Estimado: 0.019805 - Dif: 0.00019500000000000073\n",
      "Iter: 0.025 - Estimado: 0.019688 - Dif: 0.005312000000000001\n",
      "Iter: 0.03 - Estimado: 0.0196 - Dif: 0.0104\n"
     ]
    },
    {
     "data": {
      "text/plain": [
       "0.0196"
      ]
     },
     "execution_count": 8,
     "metadata": {},
     "output_type": "execute_result"
    }
   ],
   "source": [
    "# For Loop\n",
    "f = 0\n",
    "for cf in 0.01:0.005:0.03 # cf es el coeficiente de fricción\n",
    "    f_estimado = factor_friccion(εᵣ, Re, cf)\n",
    "    \n",
    "    dif = abs(f_estimado - cf)\n",
    "    \n",
    "    println(\"Iter: $(cf) - Estimado: $(f_estimado) - Dif: $(dif)\")\n",
    "    \n",
    "    if dif <= criterio_convergencia\n",
    "        f = cf\n",
    "    else\n",
    "        continue\n",
    "    end\n",
    "end\n",
    "\n",
    "f_estimado"
   ]
  },
  {
   "cell_type": "markdown",
   "metadata": {},
   "source": [
    "### 1.7.3. Paso 4. Determinar la Pérdida de Carga ($h_f$)\n",
    "\n",
    "Recordemos la relación:\n",
    "\n",
    "$$\n",
    "h_f = f \\frac{L}{D} \\frac{V^2}{2g}\n",
    "$$"
   ]
  },
  {
   "cell_type": "code",
   "execution_count": 9,
   "metadata": {},
   "outputs": [
    {
     "data": {
      "text/plain": [
       "4.38"
      ]
     },
     "execution_count": 9,
     "metadata": {},
     "output_type": "execute_result"
    }
   ],
   "source": [
    "function perdida_carga(coef_friccion, long, dia, vel)\n",
    "   _hf = coef_friccion * (long/dia) * ((vel^2)/(2*32.2))\n",
    "   return  round(_hf, digits=2)\n",
    "end\n",
    "\n",
    "hf = perdida_carga(f_estimado, L, D, V)\n",
    "hf"
   ]
  },
  {
   "cell_type": "markdown",
   "metadata": {},
   "source": [
    "<a id=\"section2\"></a>\n",
    "# Sección 2: Raíces"
   ]
  },
  {
   "cell_type": "markdown",
   "metadata": {},
   "source": [
    "## 2.1. Introducción\n",
    "\n",
    "Determinar las *raíces* (soluciones) de una ecuación hace referencia a calcular los valores de $x$ que cumplen $f(x) = 0$.\n",
    "\n",
    "Dependiendo de la función $f(x)$ con la que estemos trabajando, la determinación de las raíces puede llegar a ser complejo y laborioso si se realiza a mano. Por lo tanto, una solución efectiva es optar por métodos numéricos que computacionalmente son provechosos.\n",
    "\n",
    "Los métodos numéricos más utilizados son:\n",
    "- Newton-Raphson\n",
    "- Bisección\n",
    "- Trisección\n",
    "- Secante\n",
    "- Matriz por vector (más adelante lo veremos)\n",
    "- Gauss-Jordan\n",
    "- Falsa Posición\n",
    "\n",
    "El desarrollo manual de estos métodos los encuentran en Bloque Neón > Contenido > Semana 4 > Enlaces de Interés.\n",
    "\n",
    "Aquí veremos cómo sacarle provecho a los desarrollos realizados con las librerías `Roots.jl` y `NLsolve.jl`."
   ]
  },
  {
   "cell_type": "markdown",
   "metadata": {},
   "source": [
    "## 2.2. Cargar Librerías"
   ]
  },
  {
   "cell_type": "code",
   "execution_count": 10,
   "metadata": {},
   "outputs": [],
   "source": [
    "using Plots\n",
    "using Roots\n",
    "using NLsolve"
   ]
  },
  {
   "cell_type": "markdown",
   "metadata": {},
   "source": [
    "## 2.3. Ecuaciones No Lineales\n",
    "\n",
    "Una **ecuación lineal** es aquella que involucra una o más variables de primer grado (es decir, a la primera potencia) y no contiene productos entre las variables. Entonces:\n",
    "\n",
    "> Una ecuación lineal es aquella que involucra solamente sumas y restas de una variable a la primera potencia.\n",
    "\n",
    "Un ejemplo de una ecuación no lineal y su solución, es el caso conocido de dela *fórmula cuadrática*:\n",
    "\n",
    "Para la ecuación:\n",
    "$$\n",
    "ax^2 + bx + c = 0\n",
    "$$\n",
    "\n",
    "La solución (*fórmula cuadrática*) es:\n",
    "\n",
    "$$\n",
    "x = \\frac{-b \\pm \\sqrt{b^2 - 4ac}}{2a}\n",
    "$$\n",
    "\n",
    "Utilizando números, tenemos lo siguiente:\n",
    "\n",
    "$$\n",
    "x^2 - 7x + 12 = 0\n",
    "$$\n",
    "\n",
    "Entonces: $a$ = 1, $b = -7$ y $c = 12$. Luego:\n",
    "\n",
    "$$\n",
    "x = \\frac{-(-7) \\pm \\sqrt{(-7)^2 - (1)(12)}}{2(1)} = \\frac{7 \\pm 1}{2}\n",
    "$$\n",
    "\n",
    "Finalmente, obtenemos dos soluciones: $x = 4$ y $x = 3$."
   ]
  },
  {
   "cell_type": "code",
   "execution_count": 11,
   "metadata": {},
   "outputs": [
    {
     "data": {
      "text/plain": [
       "2-element Vector{Float64}:\n",
       " 4.0\n",
       " 3.0"
      ]
     },
     "execution_count": 11,
     "metadata": {},
     "output_type": "execute_result"
    }
   ],
   "source": [
    "# Fórmula Cuadrática\n",
    "function cuadratica(a, b, c)\n",
    "    sol_suma = (-b + sqrt(b^2 - 4a*c)) / (2a)\n",
    "    sol_resta = (-b - sqrt(b^2 - 4a*c)) / (2a) # Juan Sabogal\n",
    "\n",
    "    return [sol_suma, sol_resta]\n",
    "end\n",
    "\n",
    "# Ejemplo\n",
    "ejm1 = cuadratica(1, -7, 12)\n",
    "ejm1"
   ]
  },
  {
   "cell_type": "markdown",
   "metadata": {},
   "source": [
    "Entendido. ¿Pero qué pasa si la ecuación es más compleja de trabajar? \n",
    "\n",
    "Por ejemplo:\n",
    "\n",
    "$$\n",
    "e^x - x^4 = 0\n",
    "$$\n",
    "\n",
    "Dado que manualmente es más dispendioso, saquémosle provecho a las librerías `Roots.jl` y `NLsolve.jl`."
   ]
  },
  {
   "cell_type": "markdown",
   "metadata": {},
   "source": [
    "## 2.4. Aplicación con `Roots.jl`\n",
    "\n",
    "Vamos a distinguir la **sintaxis** de la librería `Roots.jl` para dar solución a estos ejercicios.\n",
    "\n",
    "Para empezar, comentar que disponemos de los métodos comentados en la Sección 2.1. Según el tipo de método, podemos tener dos sintaxis principales:\n",
    "\n",
    "**1. Métodos Entre Intervalo**\n",
    "Para algunos casos, sabemos que la raíz ($f(x) = 0$) se encuentra contenida en un intervalo $[a, b]$; típicamente esto lo conocemos porque graficamos la función $f(x)$. Aquí, la sintaxis es:\n",
    "\n",
    "```julia\n",
    "# Paso 1. Importar librería\n",
    "using Roots\n",
    "\n",
    "# Paso 2. Definir la función\n",
    "f(x) = exp(x) - x^4 # **Importante:** Notemos que la ecuación debe estar igualada a cero\n",
    "\n",
    "# Paso 3. Emplear el solucionador 'find_zero()'\n",
    "solucion = find_zero(f, (a,b), Bisection()) # Sintaxis: 1. Función, 2. Intervalo, 3. Método\n",
    "```\n",
    "\n",
    "**Nota:** Más información de la librería `Roots.jl` [aquí](https://github.com/JuliaMath/Roots.jl) y [aquí](https://docs.juliahub.com/Roots/o0Xsi/2.0.0/)."
   ]
  },
  {
   "cell_type": "code",
   "execution_count": 12,
   "metadata": {},
   "outputs": [
    {
     "data": {
      "image/svg+xml": "<?xml version=\"1.0\" encoding=\"utf-8\"?>\n<svg xmlns=\"http://www.w3.org/2000/svg\" xmlns:xlink=\"http://www.w3.org/1999/xlink\" width=\"600\" height=\"400\" viewBox=\"0 0 2400 1600\">\n<defs>\n  <clipPath id=\"clip910\">\n    <rect x=\"0\" y=\"0\" width=\"2400\" height=\"1600\"/>\n  </clipPath>\n</defs>\n<path clip-path=\"url(#clip910)\" d=\"\nM0 1600 L2400 1600 L2400 0 L0 0  Z\n  \" fill=\"#ffffff\" fill-rule=\"evenodd\" fill-opacity=\"1\"/>\n<defs>\n  <clipPath id=\"clip911\">\n    <rect x=\"480\" y=\"0\" width=\"1681\" height=\"1600\"/>\n  </clipPath>\n</defs>\n<path clip-path=\"url(#clip910)\" d=\"\nM229.445 1486.45 L2352.76 1486.45 L2352.76 47.2441 L229.445 47.2441  Z\n  \" fill=\"#ffffff\" fill-rule=\"evenodd\" fill-opacity=\"1\"/>\n<defs>\n  <clipPath id=\"clip912\">\n    <rect x=\"229\" y=\"47\" width=\"2124\" height=\"1440\"/>\n  </clipPath>\n</defs>\n<polyline clip-path=\"url(#clip912)\" style=\"stroke:#000000; stroke-linecap:butt; stroke-linejoin:round; stroke-width:2; stroke-opacity:0.1; fill:none\" points=\"\n  289.539,1486.45 289.539,47.2441 \n  \"/>\n<polyline clip-path=\"url(#clip912)\" style=\"stroke:#000000; stroke-linecap:butt; stroke-linejoin:round; stroke-width:2; stroke-opacity:0.1; fill:none\" points=\"\n  790.32,1486.45 790.32,47.2441 \n  \"/>\n<polyline clip-path=\"url(#clip912)\" style=\"stroke:#000000; stroke-linecap:butt; stroke-linejoin:round; stroke-width:2; stroke-opacity:0.1; fill:none\" points=\"\n  1291.1,1486.45 1291.1,47.2441 \n  \"/>\n<polyline clip-path=\"url(#clip912)\" style=\"stroke:#000000; stroke-linecap:butt; stroke-linejoin:round; stroke-width:2; stroke-opacity:0.1; fill:none\" points=\"\n  1791.88,1486.45 1791.88,47.2441 \n  \"/>\n<polyline clip-path=\"url(#clip912)\" style=\"stroke:#000000; stroke-linecap:butt; stroke-linejoin:round; stroke-width:2; stroke-opacity:0.1; fill:none\" points=\"\n  2292.66,1486.45 2292.66,47.2441 \n  \"/>\n<polyline clip-path=\"url(#clip910)\" style=\"stroke:#000000; stroke-linecap:butt; stroke-linejoin:round; stroke-width:4; stroke-opacity:1; fill:none\" points=\"\n  229.445,1486.45 2352.76,1486.45 \n  \"/>\n<polyline clip-path=\"url(#clip910)\" style=\"stroke:#000000; stroke-linecap:butt; stroke-linejoin:round; stroke-width:4; stroke-opacity:1; fill:none\" points=\"\n  289.539,1486.45 289.539,1467.55 \n  \"/>\n<polyline clip-path=\"url(#clip910)\" style=\"stroke:#000000; stroke-linecap:butt; stroke-linejoin:round; stroke-width:4; stroke-opacity:1; fill:none\" points=\"\n  790.32,1486.45 790.32,1467.55 \n  \"/>\n<polyline clip-path=\"url(#clip910)\" style=\"stroke:#000000; stroke-linecap:butt; stroke-linejoin:round; stroke-width:4; stroke-opacity:1; fill:none\" points=\"\n  1291.1,1486.45 1291.1,1467.55 \n  \"/>\n<polyline clip-path=\"url(#clip910)\" style=\"stroke:#000000; stroke-linecap:butt; stroke-linejoin:round; stroke-width:4; stroke-opacity:1; fill:none\" points=\"\n  1791.88,1486.45 1791.88,1467.55 \n  \"/>\n<polyline clip-path=\"url(#clip910)\" style=\"stroke:#000000; stroke-linecap:butt; stroke-linejoin:round; stroke-width:4; stroke-opacity:1; fill:none\" points=\"\n  2292.66,1486.45 2292.66,1467.55 \n  \"/>\n<path clip-path=\"url(#clip910)\" d=\"M266.923 1517.37 Q263.312 1517.37 261.483 1520.93 Q259.678 1524.47 259.678 1531.6 Q259.678 1538.71 261.483 1542.27 Q263.312 1545.82 266.923 1545.82 Q270.557 1545.82 272.363 1542.27 Q274.192 1538.71 274.192 1531.6 Q274.192 1524.47 272.363 1520.93 Q270.557 1517.37 266.923 1517.37 M266.923 1513.66 Q272.733 1513.66 275.789 1518.27 Q278.868 1522.85 278.868 1531.6 Q278.868 1540.33 275.789 1544.94 Q272.733 1549.52 266.923 1549.52 Q261.113 1549.52 258.034 1544.94 Q254.979 1540.33 254.979 1531.6 Q254.979 1522.85 258.034 1518.27 Q261.113 1513.66 266.923 1513.66 Z\" fill=\"#000000\" fill-rule=\"evenodd\" fill-opacity=\"1\" /><path clip-path=\"url(#clip910)\" d=\"M287.085 1542.97 L291.969 1542.97 L291.969 1548.85 L287.085 1548.85 L287.085 1542.97 Z\" fill=\"#000000\" fill-rule=\"evenodd\" fill-opacity=\"1\" /><path clip-path=\"url(#clip910)\" d=\"M312.154 1517.37 Q308.543 1517.37 306.715 1520.93 Q304.909 1524.47 304.909 1531.6 Q304.909 1538.71 306.715 1542.27 Q308.543 1545.82 312.154 1545.82 Q315.789 1545.82 317.594 1542.27 Q319.423 1538.71 319.423 1531.6 Q319.423 1524.47 317.594 1520.93 Q315.789 1517.37 312.154 1517.37 M312.154 1513.66 Q317.965 1513.66 321.02 1518.27 Q324.099 1522.85 324.099 1531.6 Q324.099 1540.33 321.02 1544.94 Q317.965 1549.52 312.154 1549.52 Q306.344 1549.52 303.266 1544.94 Q300.21 1540.33 300.21 1531.6 Q300.21 1522.85 303.266 1518.27 Q306.344 1513.66 312.154 1513.66 Z\" fill=\"#000000\" fill-rule=\"evenodd\" fill-opacity=\"1\" /><path clip-path=\"url(#clip910)\" d=\"M762.056 1544.91 L778.375 1544.91 L778.375 1548.85 L756.431 1548.85 L756.431 1544.91 Q759.093 1542.16 763.676 1537.53 Q768.283 1532.88 769.463 1531.53 Q771.709 1529.01 772.588 1527.27 Q773.491 1525.51 773.491 1523.82 Q773.491 1521.07 771.547 1519.33 Q769.625 1517.6 766.523 1517.6 Q764.324 1517.6 761.871 1518.36 Q759.44 1519.13 756.662 1520.68 L756.662 1515.95 Q759.486 1514.82 761.94 1514.24 Q764.394 1513.66 766.431 1513.66 Q771.801 1513.66 774.996 1516.35 Q778.19 1519.03 778.19 1523.52 Q778.19 1525.65 777.38 1527.57 Q776.593 1529.47 774.486 1532.07 Q773.908 1532.74 770.806 1535.95 Q767.704 1539.15 762.056 1544.91 Z\" fill=\"#000000\" fill-rule=\"evenodd\" fill-opacity=\"1\" /><path clip-path=\"url(#clip910)\" d=\"M788.19 1542.97 L793.074 1542.97 L793.074 1548.85 L788.19 1548.85 L788.19 1542.97 Z\" fill=\"#000000\" fill-rule=\"evenodd\" fill-opacity=\"1\" /><path clip-path=\"url(#clip910)\" d=\"M803.306 1514.29 L821.662 1514.29 L821.662 1518.22 L807.588 1518.22 L807.588 1526.7 Q808.607 1526.35 809.625 1526.19 Q810.644 1526 811.662 1526 Q817.449 1526 820.829 1529.17 Q824.208 1532.34 824.208 1537.76 Q824.208 1543.34 820.736 1546.44 Q817.264 1549.52 810.945 1549.52 Q808.769 1549.52 806.5 1549.15 Q804.255 1548.78 801.847 1548.04 L801.847 1543.34 Q803.931 1544.47 806.153 1545.03 Q808.375 1545.58 810.852 1545.58 Q814.857 1545.58 817.194 1543.48 Q819.532 1541.37 819.532 1537.76 Q819.532 1534.15 817.194 1532.04 Q814.857 1529.94 810.852 1529.94 Q808.977 1529.94 807.102 1530.35 Q805.25 1530.77 803.306 1531.65 L803.306 1514.29 Z\" fill=\"#000000\" fill-rule=\"evenodd\" fill-opacity=\"1\" /><path clip-path=\"url(#clip910)\" d=\"M1258.27 1514.29 L1276.62 1514.29 L1276.62 1518.22 L1262.55 1518.22 L1262.55 1526.7 Q1263.57 1526.35 1264.58 1526.19 Q1265.6 1526 1266.62 1526 Q1272.41 1526 1275.79 1529.17 Q1279.17 1532.34 1279.17 1537.76 Q1279.17 1543.34 1275.7 1546.44 Q1272.22 1549.52 1265.9 1549.52 Q1263.73 1549.52 1261.46 1549.15 Q1259.21 1548.78 1256.81 1548.04 L1256.81 1543.34 Q1258.89 1544.47 1261.11 1545.03 Q1263.33 1545.58 1265.81 1545.58 Q1269.82 1545.58 1272.15 1543.48 Q1274.49 1541.37 1274.49 1537.76 Q1274.49 1534.15 1272.15 1532.04 Q1269.82 1529.94 1265.81 1529.94 Q1263.94 1529.94 1262.06 1530.35 Q1260.21 1530.77 1258.27 1531.65 L1258.27 1514.29 Z\" fill=\"#000000\" fill-rule=\"evenodd\" fill-opacity=\"1\" /><path clip-path=\"url(#clip910)\" d=\"M1288.38 1542.97 L1293.26 1542.97 L1293.26 1548.85 L1288.38 1548.85 L1288.38 1542.97 Z\" fill=\"#000000\" fill-rule=\"evenodd\" fill-opacity=\"1\" /><path clip-path=\"url(#clip910)\" d=\"M1313.45 1517.37 Q1309.84 1517.37 1308.01 1520.93 Q1306.2 1524.47 1306.2 1531.6 Q1306.2 1538.71 1308.01 1542.27 Q1309.84 1545.82 1313.45 1545.82 Q1317.08 1545.82 1318.89 1542.27 Q1320.72 1538.71 1320.72 1531.6 Q1320.72 1524.47 1318.89 1520.93 Q1317.08 1517.37 1313.45 1517.37 M1313.45 1513.66 Q1319.26 1513.66 1322.32 1518.27 Q1325.39 1522.85 1325.39 1531.6 Q1325.39 1540.33 1322.32 1544.94 Q1319.26 1549.52 1313.45 1549.52 Q1307.64 1549.52 1304.56 1544.94 Q1301.51 1540.33 1301.51 1531.6 Q1301.51 1522.85 1304.56 1518.27 Q1307.64 1513.66 1313.45 1513.66 Z\" fill=\"#000000\" fill-rule=\"evenodd\" fill-opacity=\"1\" /><path clip-path=\"url(#clip910)\" d=\"M1758.2 1514.29 L1780.42 1514.29 L1780.42 1516.28 L1767.88 1548.85 L1762.99 1548.85 L1774.8 1518.22 L1758.2 1518.22 L1758.2 1514.29 Z\" fill=\"#000000\" fill-rule=\"evenodd\" fill-opacity=\"1\" /><path clip-path=\"url(#clip910)\" d=\"M1789.54 1542.97 L1794.43 1542.97 L1794.43 1548.85 L1789.54 1548.85 L1789.54 1542.97 Z\" fill=\"#000000\" fill-rule=\"evenodd\" fill-opacity=\"1\" /><path clip-path=\"url(#clip910)\" d=\"M1804.66 1514.29 L1823.02 1514.29 L1823.02 1518.22 L1808.94 1518.22 L1808.94 1526.7 Q1809.96 1526.35 1810.98 1526.19 Q1812 1526 1813.02 1526 Q1818.8 1526 1822.18 1529.17 Q1825.56 1532.34 1825.56 1537.76 Q1825.56 1543.34 1822.09 1546.44 Q1818.62 1549.52 1812.3 1549.52 Q1810.12 1549.52 1807.85 1549.15 Q1805.61 1548.78 1803.2 1548.04 L1803.2 1543.34 Q1805.28 1544.47 1807.51 1545.03 Q1809.73 1545.58 1812.21 1545.58 Q1816.21 1545.58 1818.55 1543.48 Q1820.89 1541.37 1820.89 1537.76 Q1820.89 1534.15 1818.55 1532.04 Q1816.21 1529.94 1812.21 1529.94 Q1810.33 1529.94 1808.46 1530.35 Q1806.6 1530.77 1804.66 1531.65 L1804.66 1514.29 Z\" fill=\"#000000\" fill-rule=\"evenodd\" fill-opacity=\"1\" /><path clip-path=\"url(#clip910)\" d=\"M2244.73 1544.91 L2252.37 1544.91 L2252.37 1518.55 L2244.06 1520.21 L2244.06 1515.95 L2252.33 1514.29 L2257 1514.29 L2257 1544.91 L2264.64 1544.91 L2264.64 1548.85 L2244.73 1548.85 L2244.73 1544.91 Z\" fill=\"#000000\" fill-rule=\"evenodd\" fill-opacity=\"1\" /><path clip-path=\"url(#clip910)\" d=\"M2284.09 1517.37 Q2280.47 1517.37 2278.65 1520.93 Q2276.84 1524.47 2276.84 1531.6 Q2276.84 1538.71 2278.65 1542.27 Q2280.47 1545.82 2284.09 1545.82 Q2287.72 1545.82 2289.53 1542.27 Q2291.35 1538.71 2291.35 1531.6 Q2291.35 1524.47 2289.53 1520.93 Q2287.72 1517.37 2284.09 1517.37 M2284.09 1513.66 Q2289.9 1513.66 2292.95 1518.27 Q2296.03 1522.85 2296.03 1531.6 Q2296.03 1540.33 2292.95 1544.94 Q2289.9 1549.52 2284.09 1549.52 Q2278.28 1549.52 2275.2 1544.94 Q2272.14 1540.33 2272.14 1531.6 Q2272.14 1522.85 2275.2 1518.27 Q2278.28 1513.66 2284.09 1513.66 Z\" fill=\"#000000\" fill-rule=\"evenodd\" fill-opacity=\"1\" /><path clip-path=\"url(#clip910)\" d=\"M2304.25 1542.97 L2309.13 1542.97 L2309.13 1548.85 L2304.25 1548.85 L2304.25 1542.97 Z\" fill=\"#000000\" fill-rule=\"evenodd\" fill-opacity=\"1\" /><path clip-path=\"url(#clip910)\" d=\"M2329.32 1517.37 Q2325.71 1517.37 2323.88 1520.93 Q2322.07 1524.47 2322.07 1531.6 Q2322.07 1538.71 2323.88 1542.27 Q2325.71 1545.82 2329.32 1545.82 Q2332.95 1545.82 2334.76 1542.27 Q2336.59 1538.71 2336.59 1531.6 Q2336.59 1524.47 2334.76 1520.93 Q2332.95 1517.37 2329.32 1517.37 M2329.32 1513.66 Q2335.13 1513.66 2338.18 1518.27 Q2341.26 1522.85 2341.26 1531.6 Q2341.26 1540.33 2338.18 1544.94 Q2335.13 1549.52 2329.32 1549.52 Q2323.51 1549.52 2320.43 1544.94 Q2317.37 1540.33 2317.37 1531.6 Q2317.37 1522.85 2320.43 1518.27 Q2323.51 1513.66 2329.32 1513.66 Z\" fill=\"#000000\" fill-rule=\"evenodd\" fill-opacity=\"1\" /><polyline clip-path=\"url(#clip912)\" style=\"stroke:#000000; stroke-linecap:butt; stroke-linejoin:round; stroke-width:2; stroke-opacity:0.1; fill:none\" points=\"\n  229.445,1312.87 2352.76,1312.87 \n  \"/>\n<polyline clip-path=\"url(#clip912)\" style=\"stroke:#000000; stroke-linecap:butt; stroke-linejoin:round; stroke-width:2; stroke-opacity:0.1; fill:none\" points=\"\n  229.445,1058.24 2352.76,1058.24 \n  \"/>\n<polyline clip-path=\"url(#clip912)\" style=\"stroke:#000000; stroke-linecap:butt; stroke-linejoin:round; stroke-width:2; stroke-opacity:0.1; fill:none\" points=\"\n  229.445,803.619 2352.76,803.619 \n  \"/>\n<polyline clip-path=\"url(#clip912)\" style=\"stroke:#000000; stroke-linecap:butt; stroke-linejoin:round; stroke-width:2; stroke-opacity:0.1; fill:none\" points=\"\n  229.445,548.995 2352.76,548.995 \n  \"/>\n<polyline clip-path=\"url(#clip912)\" style=\"stroke:#000000; stroke-linecap:butt; stroke-linejoin:round; stroke-width:2; stroke-opacity:0.1; fill:none\" points=\"\n  229.445,294.371 2352.76,294.371 \n  \"/>\n<polyline clip-path=\"url(#clip910)\" style=\"stroke:#000000; stroke-linecap:butt; stroke-linejoin:round; stroke-width:4; stroke-opacity:1; fill:none\" points=\"\n  229.445,1486.45 229.445,47.2441 \n  \"/>\n<polyline clip-path=\"url(#clip910)\" style=\"stroke:#000000; stroke-linecap:butt; stroke-linejoin:round; stroke-width:4; stroke-opacity:1; fill:none\" points=\"\n  229.445,1312.87 248.343,1312.87 \n  \"/>\n<polyline clip-path=\"url(#clip910)\" style=\"stroke:#000000; stroke-linecap:butt; stroke-linejoin:round; stroke-width:4; stroke-opacity:1; fill:none\" points=\"\n  229.445,1058.24 248.343,1058.24 \n  \"/>\n<polyline clip-path=\"url(#clip910)\" style=\"stroke:#000000; stroke-linecap:butt; stroke-linejoin:round; stroke-width:4; stroke-opacity:1; fill:none\" points=\"\n  229.445,803.619 248.343,803.619 \n  \"/>\n<polyline clip-path=\"url(#clip910)\" style=\"stroke:#000000; stroke-linecap:butt; stroke-linejoin:round; stroke-width:4; stroke-opacity:1; fill:none\" points=\"\n  229.445,548.995 248.343,548.995 \n  \"/>\n<polyline clip-path=\"url(#clip910)\" style=\"stroke:#000000; stroke-linecap:butt; stroke-linejoin:round; stroke-width:4; stroke-opacity:1; fill:none\" points=\"\n  229.445,294.371 248.343,294.371 \n  \"/>\n<path clip-path=\"url(#clip910)\" d=\"M181.501 1298.67 Q177.89 1298.67 176.061 1302.23 Q174.255 1305.77 174.255 1312.9 Q174.255 1320.01 176.061 1323.57 Q177.89 1327.11 181.501 1327.11 Q185.135 1327.11 186.94 1323.57 Q188.769 1320.01 188.769 1312.9 Q188.769 1305.77 186.94 1302.23 Q185.135 1298.67 181.501 1298.67 M181.501 1294.96 Q187.311 1294.96 190.366 1299.57 Q193.445 1304.15 193.445 1312.9 Q193.445 1321.63 190.366 1326.23 Q187.311 1330.82 181.501 1330.82 Q175.691 1330.82 172.612 1326.23 Q169.556 1321.63 169.556 1312.9 Q169.556 1304.15 172.612 1299.57 Q175.691 1294.96 181.501 1294.96 Z\" fill=\"#000000\" fill-rule=\"evenodd\" fill-opacity=\"1\" /><path clip-path=\"url(#clip910)\" d=\"M85.0429 1071.59 L101.362 1071.59 L101.362 1075.52 L79.4179 1075.52 L79.4179 1071.59 Q82.0799 1068.83 86.6632 1064.2 Q91.2697 1059.55 92.4502 1058.21 Q94.6956 1055.68 95.5752 1053.95 Q96.478 1052.19 96.478 1050.5 Q96.478 1047.74 94.5336 1046.01 Q92.6123 1044.27 89.5104 1044.27 Q87.3114 1044.27 84.8577 1045.04 Q82.4271 1045.8 79.6494 1047.35 L79.6494 1042.63 Q82.4734 1041.5 84.9271 1040.92 Q87.3808 1040.34 89.4178 1040.34 Q94.7882 1040.34 97.9826 1043.02 Q101.177 1045.71 101.177 1050.2 Q101.177 1052.33 100.367 1054.25 Q99.5798 1056.15 97.4734 1058.74 Q96.8947 1059.41 93.7928 1062.63 Q90.691 1065.82 85.0429 1071.59 Z\" fill=\"#000000\" fill-rule=\"evenodd\" fill-opacity=\"1\" /><path clip-path=\"url(#clip910)\" d=\"M111.223 1040.96 L129.58 1040.96 L129.58 1044.9 L115.506 1044.9 L115.506 1053.37 Q116.524 1053.02 117.543 1052.86 Q118.561 1052.68 119.58 1052.68 Q125.367 1052.68 128.746 1055.85 Q132.126 1059.02 132.126 1064.43 Q132.126 1070.01 128.654 1073.12 Q125.182 1076.19 118.862 1076.19 Q116.686 1076.19 114.418 1075.82 Q112.172 1075.45 109.765 1074.71 L109.765 1070.01 Q111.848 1071.15 114.07 1071.7 Q116.293 1072.26 118.77 1072.26 Q122.774 1072.26 125.112 1070.15 Q127.45 1068.05 127.45 1064.43 Q127.45 1060.82 125.112 1058.72 Q122.774 1056.61 118.77 1056.61 Q116.895 1056.61 115.02 1057.03 Q113.168 1057.44 111.223 1058.32 L111.223 1040.96 Z\" fill=\"#000000\" fill-rule=\"evenodd\" fill-opacity=\"1\" /><path clip-path=\"url(#clip910)\" d=\"M151.339 1044.04 Q147.728 1044.04 145.899 1047.61 Q144.093 1051.15 144.093 1058.28 Q144.093 1065.38 145.899 1068.95 Q147.728 1072.49 151.339 1072.49 Q154.973 1072.49 156.779 1068.95 Q158.607 1065.38 158.607 1058.28 Q158.607 1051.15 156.779 1047.61 Q154.973 1044.04 151.339 1044.04 M151.339 1040.34 Q157.149 1040.34 160.205 1044.94 Q163.283 1049.53 163.283 1058.28 Q163.283 1067 160.205 1071.61 Q157.149 1076.19 151.339 1076.19 Q145.529 1076.19 142.45 1071.61 Q139.394 1067 139.394 1058.28 Q139.394 1049.53 142.45 1044.94 Q145.529 1040.34 151.339 1040.34 Z\" fill=\"#000000\" fill-rule=\"evenodd\" fill-opacity=\"1\" /><path clip-path=\"url(#clip910)\" d=\"M181.501 1044.04 Q177.89 1044.04 176.061 1047.61 Q174.255 1051.15 174.255 1058.28 Q174.255 1065.38 176.061 1068.95 Q177.89 1072.49 181.501 1072.49 Q185.135 1072.49 186.94 1068.95 Q188.769 1065.38 188.769 1058.28 Q188.769 1051.15 186.94 1047.61 Q185.135 1044.04 181.501 1044.04 M181.501 1040.34 Q187.311 1040.34 190.366 1044.94 Q193.445 1049.53 193.445 1058.28 Q193.445 1067 190.366 1071.61 Q187.311 1076.19 181.501 1076.19 Q175.691 1076.19 172.612 1071.61 Q169.556 1067 169.556 1058.28 Q169.556 1049.53 172.612 1044.94 Q175.691 1040.34 181.501 1040.34 Z\" fill=\"#000000\" fill-rule=\"evenodd\" fill-opacity=\"1\" /><path clip-path=\"url(#clip910)\" d=\"M81.0614 786.339 L99.4178 786.339 L99.4178 790.274 L85.3438 790.274 L85.3438 798.746 Q86.3623 798.399 87.3808 798.237 Q88.3993 798.052 89.4178 798.052 Q95.2049 798.052 98.5845 801.223 Q101.964 804.394 101.964 809.811 Q101.964 815.389 98.4919 818.491 Q95.0197 821.57 88.7003 821.57 Q86.5243 821.57 84.2558 821.2 Q82.0105 820.829 79.6031 820.089 L79.6031 815.389 Q81.6864 816.524 83.9086 817.079 Q86.1308 817.635 88.6077 817.635 Q92.6123 817.635 94.9502 815.528 Q97.2882 813.422 97.2882 809.811 Q97.2882 806.2 94.9502 804.093 Q92.6123 801.987 88.6077 801.987 Q86.7327 801.987 84.8577 802.403 Q83.0058 802.82 81.0614 803.7 L81.0614 786.339 Z\" fill=\"#000000\" fill-rule=\"evenodd\" fill-opacity=\"1\" /><path clip-path=\"url(#clip910)\" d=\"M121.177 789.417 Q117.566 789.417 115.737 792.982 Q113.932 796.524 113.932 803.653 Q113.932 810.76 115.737 814.325 Q117.566 817.866 121.177 817.866 Q124.811 817.866 126.617 814.325 Q128.445 810.76 128.445 803.653 Q128.445 796.524 126.617 792.982 Q124.811 789.417 121.177 789.417 M121.177 785.714 Q126.987 785.714 130.043 790.32 Q133.121 794.903 133.121 803.653 Q133.121 812.38 130.043 816.987 Q126.987 821.57 121.177 821.57 Q115.367 821.57 112.288 816.987 Q109.233 812.38 109.233 803.653 Q109.233 794.903 112.288 790.32 Q115.367 785.714 121.177 785.714 Z\" fill=\"#000000\" fill-rule=\"evenodd\" fill-opacity=\"1\" /><path clip-path=\"url(#clip910)\" d=\"M151.339 789.417 Q147.728 789.417 145.899 792.982 Q144.093 796.524 144.093 803.653 Q144.093 810.76 145.899 814.325 Q147.728 817.866 151.339 817.866 Q154.973 817.866 156.779 814.325 Q158.607 810.76 158.607 803.653 Q158.607 796.524 156.779 792.982 Q154.973 789.417 151.339 789.417 M151.339 785.714 Q157.149 785.714 160.205 790.32 Q163.283 794.903 163.283 803.653 Q163.283 812.38 160.205 816.987 Q157.149 821.57 151.339 821.57 Q145.529 821.57 142.45 816.987 Q139.394 812.38 139.394 803.653 Q139.394 794.903 142.45 790.32 Q145.529 785.714 151.339 785.714 Z\" fill=\"#000000\" fill-rule=\"evenodd\" fill-opacity=\"1\" /><path clip-path=\"url(#clip910)\" d=\"M181.501 789.417 Q177.89 789.417 176.061 792.982 Q174.255 796.524 174.255 803.653 Q174.255 810.76 176.061 814.325 Q177.89 817.866 181.501 817.866 Q185.135 817.866 186.94 814.325 Q188.769 810.76 188.769 803.653 Q188.769 796.524 186.94 792.982 Q185.135 789.417 181.501 789.417 M181.501 785.714 Q187.311 785.714 190.366 790.32 Q193.445 794.903 193.445 803.653 Q193.445 812.38 190.366 816.987 Q187.311 821.57 181.501 821.57 Q175.691 821.57 172.612 816.987 Q169.556 812.38 169.556 803.653 Q169.556 794.903 172.612 790.32 Q175.691 785.714 181.501 785.714 Z\" fill=\"#000000\" fill-rule=\"evenodd\" fill-opacity=\"1\" /><path clip-path=\"url(#clip910)\" d=\"M79.8346 531.715 L102.057 531.715 L102.057 533.706 L89.5104 566.275 L84.6262 566.275 L96.4317 535.65 L79.8346 535.65 L79.8346 531.715 Z\" fill=\"#000000\" fill-rule=\"evenodd\" fill-opacity=\"1\" /><path clip-path=\"url(#clip910)\" d=\"M111.223 531.715 L129.58 531.715 L129.58 535.65 L115.506 535.65 L115.506 544.122 Q116.524 543.775 117.543 543.613 Q118.561 543.428 119.58 543.428 Q125.367 543.428 128.746 546.599 Q132.126 549.77 132.126 555.187 Q132.126 560.766 128.654 563.867 Q125.182 566.946 118.862 566.946 Q116.686 566.946 114.418 566.576 Q112.172 566.205 109.765 565.465 L109.765 560.766 Q111.848 561.9 114.07 562.455 Q116.293 563.011 118.77 563.011 Q122.774 563.011 125.112 560.904 Q127.45 558.798 127.45 555.187 Q127.45 551.576 125.112 549.469 Q122.774 547.363 118.77 547.363 Q116.895 547.363 115.02 547.78 Q113.168 548.196 111.223 549.076 L111.223 531.715 Z\" fill=\"#000000\" fill-rule=\"evenodd\" fill-opacity=\"1\" /><path clip-path=\"url(#clip910)\" d=\"M151.339 534.794 Q147.728 534.794 145.899 538.358 Q144.093 541.9 144.093 549.03 Q144.093 556.136 145.899 559.701 Q147.728 563.242 151.339 563.242 Q154.973 563.242 156.779 559.701 Q158.607 556.136 158.607 549.03 Q158.607 541.9 156.779 538.358 Q154.973 534.794 151.339 534.794 M151.339 531.09 Q157.149 531.09 160.205 535.696 Q163.283 540.28 163.283 549.03 Q163.283 557.756 160.205 562.363 Q157.149 566.946 151.339 566.946 Q145.529 566.946 142.45 562.363 Q139.394 557.756 139.394 549.03 Q139.394 540.28 142.45 535.696 Q145.529 531.09 151.339 531.09 Z\" fill=\"#000000\" fill-rule=\"evenodd\" fill-opacity=\"1\" /><path clip-path=\"url(#clip910)\" d=\"M181.501 534.794 Q177.89 534.794 176.061 538.358 Q174.255 541.9 174.255 549.03 Q174.255 556.136 176.061 559.701 Q177.89 563.242 181.501 563.242 Q185.135 563.242 186.94 559.701 Q188.769 556.136 188.769 549.03 Q188.769 541.9 186.94 538.358 Q185.135 534.794 181.501 534.794 M181.501 531.09 Q187.311 531.09 190.366 535.696 Q193.445 540.28 193.445 549.03 Q193.445 557.756 190.366 562.363 Q187.311 566.946 181.501 566.946 Q175.691 566.946 172.612 562.363 Q169.556 557.756 169.556 549.03 Q169.556 540.28 172.612 535.696 Q175.691 531.09 181.501 531.09 Z\" fill=\"#000000\" fill-rule=\"evenodd\" fill-opacity=\"1\" /><path clip-path=\"url(#clip910)\" d=\"M51.6634 307.716 L59.3023 307.716 L59.3023 281.35 L50.9921 283.017 L50.9921 278.758 L59.256 277.091 L63.9319 277.091 L63.9319 307.716 L71.5707 307.716 L71.5707 311.651 L51.6634 311.651 L51.6634 307.716 Z\" fill=\"#000000\" fill-rule=\"evenodd\" fill-opacity=\"1\" /><path clip-path=\"url(#clip910)\" d=\"M91.0151 280.17 Q87.404 280.17 85.5753 283.734 Q83.7697 287.276 83.7697 294.406 Q83.7697 301.512 85.5753 305.077 Q87.404 308.619 91.0151 308.619 Q94.6493 308.619 96.4548 305.077 Q98.2835 301.512 98.2835 294.406 Q98.2835 287.276 96.4548 283.734 Q94.6493 280.17 91.0151 280.17 M91.0151 276.466 Q96.8252 276.466 99.8808 281.072 Q102.959 285.656 102.959 294.406 Q102.959 303.132 99.8808 307.739 Q96.8252 312.322 91.0151 312.322 Q85.2049 312.322 82.1262 307.739 Q79.0707 303.132 79.0707 294.406 Q79.0707 285.656 82.1262 281.072 Q85.2049 276.466 91.0151 276.466 Z\" fill=\"#000000\" fill-rule=\"evenodd\" fill-opacity=\"1\" /><path clip-path=\"url(#clip910)\" d=\"M121.177 280.17 Q117.566 280.17 115.737 283.734 Q113.932 287.276 113.932 294.406 Q113.932 301.512 115.737 305.077 Q117.566 308.619 121.177 308.619 Q124.811 308.619 126.617 305.077 Q128.445 301.512 128.445 294.406 Q128.445 287.276 126.617 283.734 Q124.811 280.17 121.177 280.17 M121.177 276.466 Q126.987 276.466 130.043 281.072 Q133.121 285.656 133.121 294.406 Q133.121 303.132 130.043 307.739 Q126.987 312.322 121.177 312.322 Q115.367 312.322 112.288 307.739 Q109.233 303.132 109.233 294.406 Q109.233 285.656 112.288 281.072 Q115.367 276.466 121.177 276.466 Z\" fill=\"#000000\" fill-rule=\"evenodd\" fill-opacity=\"1\" /><path clip-path=\"url(#clip910)\" d=\"M151.339 280.17 Q147.728 280.17 145.899 283.734 Q144.093 287.276 144.093 294.406 Q144.093 301.512 145.899 305.077 Q147.728 308.619 151.339 308.619 Q154.973 308.619 156.779 305.077 Q158.607 301.512 158.607 294.406 Q158.607 287.276 156.779 283.734 Q154.973 280.17 151.339 280.17 M151.339 276.466 Q157.149 276.466 160.205 281.072 Q163.283 285.656 163.283 294.406 Q163.283 303.132 160.205 307.739 Q157.149 312.322 151.339 312.322 Q145.529 312.322 142.45 307.739 Q139.394 303.132 139.394 294.406 Q139.394 285.656 142.45 281.072 Q145.529 276.466 151.339 276.466 Z\" fill=\"#000000\" fill-rule=\"evenodd\" fill-opacity=\"1\" /><path clip-path=\"url(#clip910)\" d=\"M181.501 280.17 Q177.89 280.17 176.061 283.734 Q174.255 287.276 174.255 294.406 Q174.255 301.512 176.061 305.077 Q177.89 308.619 181.501 308.619 Q185.135 308.619 186.94 305.077 Q188.769 301.512 188.769 294.406 Q188.769 287.276 186.94 283.734 Q185.135 280.17 181.501 280.17 M181.501 276.466 Q187.311 276.466 190.366 281.072 Q193.445 285.656 193.445 294.406 Q193.445 303.132 190.366 307.739 Q187.311 312.322 181.501 312.322 Q175.691 312.322 172.612 307.739 Q169.556 303.132 169.556 294.406 Q169.556 285.656 172.612 281.072 Q175.691 276.466 181.501 276.466 Z\" fill=\"#000000\" fill-rule=\"evenodd\" fill-opacity=\"1\" /><polyline clip-path=\"url(#clip912)\" style=\"stroke:#009af9; stroke-linecap:butt; stroke-linejoin:round; stroke-width:4; stroke-opacity:1; fill:none\" stroke-dasharray=\"16, 10\" points=\"\n  289.539,1312.76 489.851,1312.69 690.163,1313.74 890.476,1319.07 1090.79,1333.38 1291.1,1361.41 1491.41,1403.77 1691.73,1445.72 1892.04,1426.43 2092.35,1155.81 \n  2292.66,87.9763 \n  \"/>\n<circle clip-path=\"url(#clip912)\" cx=\"289.539\" cy=\"1312.76\" r=\"18\" fill=\"#009af9\" fill-rule=\"evenodd\" fill-opacity=\"1\" stroke=\"#000000\" stroke-opacity=\"1\" stroke-width=\"3.2\"/>\n<circle clip-path=\"url(#clip912)\" cx=\"489.851\" cy=\"1312.69\" r=\"18\" fill=\"#009af9\" fill-rule=\"evenodd\" fill-opacity=\"1\" stroke=\"#000000\" stroke-opacity=\"1\" stroke-width=\"3.2\"/>\n<circle clip-path=\"url(#clip912)\" cx=\"690.163\" cy=\"1313.74\" r=\"18\" fill=\"#009af9\" fill-rule=\"evenodd\" fill-opacity=\"1\" stroke=\"#000000\" stroke-opacity=\"1\" stroke-width=\"3.2\"/>\n<circle clip-path=\"url(#clip912)\" cx=\"890.476\" cy=\"1319.07\" r=\"18\" fill=\"#009af9\" fill-rule=\"evenodd\" fill-opacity=\"1\" stroke=\"#000000\" stroke-opacity=\"1\" stroke-width=\"3.2\"/>\n<circle clip-path=\"url(#clip912)\" cx=\"1090.79\" cy=\"1333.38\" r=\"18\" fill=\"#009af9\" fill-rule=\"evenodd\" fill-opacity=\"1\" stroke=\"#000000\" stroke-opacity=\"1\" stroke-width=\"3.2\"/>\n<circle clip-path=\"url(#clip912)\" cx=\"1291.1\" cy=\"1361.41\" r=\"18\" fill=\"#009af9\" fill-rule=\"evenodd\" fill-opacity=\"1\" stroke=\"#000000\" stroke-opacity=\"1\" stroke-width=\"3.2\"/>\n<circle clip-path=\"url(#clip912)\" cx=\"1491.41\" cy=\"1403.77\" r=\"18\" fill=\"#009af9\" fill-rule=\"evenodd\" fill-opacity=\"1\" stroke=\"#000000\" stroke-opacity=\"1\" stroke-width=\"3.2\"/>\n<circle clip-path=\"url(#clip912)\" cx=\"1691.73\" cy=\"1445.72\" r=\"18\" fill=\"#009af9\" fill-rule=\"evenodd\" fill-opacity=\"1\" stroke=\"#000000\" stroke-opacity=\"1\" stroke-width=\"3.2\"/>\n<circle clip-path=\"url(#clip912)\" cx=\"1892.04\" cy=\"1426.43\" r=\"18\" fill=\"#009af9\" fill-rule=\"evenodd\" fill-opacity=\"1\" stroke=\"#000000\" stroke-opacity=\"1\" stroke-width=\"3.2\"/>\n<circle clip-path=\"url(#clip912)\" cx=\"2092.35\" cy=\"1155.81\" r=\"18\" fill=\"#009af9\" fill-rule=\"evenodd\" fill-opacity=\"1\" stroke=\"#000000\" stroke-opacity=\"1\" stroke-width=\"3.2\"/>\n<circle clip-path=\"url(#clip912)\" cx=\"2292.66\" cy=\"87.9763\" r=\"18\" fill=\"#009af9\" fill-rule=\"evenodd\" fill-opacity=\"1\" stroke=\"#000000\" stroke-opacity=\"1\" stroke-width=\"3.2\"/>\n<path clip-path=\"url(#clip910)\" d=\"\nM1969.48 198.898 L2281.98 198.898 L2281.98 95.2176 L1969.48 95.2176  Z\n  \" fill=\"#ffffff\" fill-rule=\"evenodd\" fill-opacity=\"1\"/>\n<polyline clip-path=\"url(#clip910)\" style=\"stroke:#000000; stroke-linecap:butt; stroke-linejoin:round; stroke-width:4; stroke-opacity:1; fill:none\" points=\"\n  1969.48,198.898 2281.98,198.898 2281.98,95.2176 1969.48,95.2176 1969.48,198.898 \n  \"/>\n<polyline clip-path=\"url(#clip910)\" style=\"stroke:#009af9; stroke-linecap:butt; stroke-linejoin:round; stroke-width:4; stroke-opacity:1; fill:none\" stroke-dasharray=\"16, 10\" points=\"\n  1993.07,147.058 2134.63,147.058 \n  \"/>\n<circle clip-path=\"url(#clip910)\" cx=\"2063.85\" cy=\"147.058\" r=\"23\" fill=\"#009af9\" fill-rule=\"evenodd\" fill-opacity=\"1\" stroke=\"#000000\" stroke-opacity=\"1\" stroke-width=\"4.096\"/>\n<path clip-path=\"url(#clip910)\" d=\"M2174.73 128.319 L2174.73 131.861 L2170.65 131.861 Q2168.36 131.861 2167.46 132.787 Q2166.58 133.713 2166.58 136.12 L2166.58 138.412 L2173.59 138.412 L2173.59 141.722 L2166.58 141.722 L2166.58 164.338 L2162.29 164.338 L2162.29 141.722 L2158.22 141.722 L2158.22 138.412 L2162.29 138.412 L2162.29 136.606 Q2162.29 132.278 2164.31 130.31 Q2166.32 128.319 2170.7 128.319 L2174.73 128.319 Z\" fill=\"#000000\" fill-rule=\"evenodd\" fill-opacity=\"1\" /><path clip-path=\"url(#clip910)\" d=\"M2188.52 128.366 Q2185.42 133.69 2183.91 138.898 Q2182.41 144.106 2182.41 149.453 Q2182.41 154.801 2183.91 160.055 Q2185.44 165.287 2188.52 170.588 L2184.82 170.588 Q2181.35 165.148 2179.61 159.893 Q2177.9 154.639 2177.9 149.453 Q2177.9 144.291 2179.61 139.06 Q2181.32 133.828 2184.82 128.366 L2188.52 128.366 Z\" fill=\"#000000\" fill-rule=\"evenodd\" fill-opacity=\"1\" /><path clip-path=\"url(#clip910)\" d=\"M2218.34 138.412 L2208.96 151.027 L2218.82 164.338 L2213.8 164.338 L2206.25 154.152 L2198.71 164.338 L2193.68 164.338 L2203.75 150.773 L2194.54 138.412 L2199.56 138.412 L2206.44 147.648 L2213.31 138.412 L2218.34 138.412 Z\" fill=\"#000000\" fill-rule=\"evenodd\" fill-opacity=\"1\" /><path clip-path=\"url(#clip910)\" d=\"M2224.17 128.366 L2227.87 128.366 Q2231.35 133.828 2233.06 139.06 Q2234.79 144.291 2234.79 149.453 Q2234.79 154.639 2233.06 159.893 Q2231.35 165.148 2227.87 170.588 L2224.17 170.588 Q2227.25 165.287 2228.75 160.055 Q2230.28 154.801 2230.28 149.453 Q2230.28 144.106 2228.75 138.898 Q2227.25 133.69 2224.17 128.366 Z\" fill=\"#000000\" fill-rule=\"evenodd\" fill-opacity=\"1\" /></svg>\n"
     },
     "execution_count": 12,
     "metadata": {},
     "output_type": "execute_result"
    }
   ],
   "source": [
    "# Paso 1. Importar librería\n",
    "using Plots\n",
    "using Roots\n",
    "\n",
    "# Paso 2. Definir la función\n",
    "f2(x) = exp(x) - x^4 # **Importante:** Notemos que la ecuación debe estar igualada a cero\n",
    "\n",
    "# Observemos el comportamiento para definir el intervalo\n",
    "plot(0:1:10, f2, seriestype=:line, ls=:dash, w=1, m=:circle, ms=5, label=\"f(x)\", legend=true)"
   ]
  },
  {
   "cell_type": "code",
   "execution_count": 13,
   "metadata": {},
   "outputs": [
    {
     "data": {
      "text/plain": [
       "8.6131694564414"
      ]
     },
     "execution_count": 13,
     "metadata": {},
     "output_type": "execute_result"
    }
   ],
   "source": [
    "# Paso 3. Emplear el solucionador 'find_zero()'\n",
    "a = 7.5\n",
    "b = 10\n",
    "\n",
    "solucion = find_zero(f2, (a,b), Bisection()) # Sintaxis: 1. Función, 2. Intervalo, 3. Método\n",
    "solucion"
   ]
  },
  {
   "cell_type": "markdown",
   "metadata": {},
   "source": [
    "**2. Métodos de Posición Inicial**\n",
    "A diferencia del primer método, solo debemos definir el punto inicial en el que el método numérico empezará a iterar hasta la convergencia. Aquí, la sintaxis es:\n",
    "\n",
    "```julia\n",
    "# Paso 1. Importar librería\n",
    "using Roots\n",
    "\n",
    "# Paso 2. Definir la función\n",
    "f(x) = exp(x) - x^4 # **Importante:** Notemos que la ecuación debe estar igualada a cero\n",
    "\n",
    "# Paso 3. Emplear el solucionador 'find_zero()'\n",
    "solucion = find_zero(f, a, Order1()) # Sintaxis: 1. Función, 2. Punto Inicial, 3. Método (Order1() es el Método de la Secante)\n",
    "```"
   ]
  },
  {
   "cell_type": "code",
   "execution_count": 14,
   "metadata": {},
   "outputs": [
    {
     "data": {
      "text/plain": [
       "1.4296118247255556"
      ]
     },
     "execution_count": 14,
     "metadata": {},
     "output_type": "execute_result"
    }
   ],
   "source": [
    "a = 3\n",
    "solucion = find_zero(f2, a, Order1()) # Sintaxis: 1. Función, 2. Intervalo, 3. Método\n",
    "solucion"
   ]
  },
  {
   "cell_type": "markdown",
   "metadata": {},
   "source": [
    "**3. Múltiples Raíces**\n",
    "Si sabemos que la función a la que le queremos encontrar las raíces tiene varias soluciones, debemos utilizar la siguiente sintaxis:\n",
    "\n",
    "```julia\n",
    "# Paso 1. Importar librería\n",
    "using Roots\n",
    "\n",
    "# Paso 2. Definir la función\n",
    "f(x) = exp(x) - x^4 # **Importante:** Notemos que la ecuación debe estar igualada a cero\n",
    "\n",
    "# Paso 3. Emplear el solucionador 'find_zero()'\n",
    "solucion = find_zeros(f, a, b) # Sintaxis: 1. Función, 2. Punto Inicial Intervalo, 3. Punto Final Intervalo\n",
    "```\n",
    "\n",
    "**Importante:** Note que esta vez utilizamos `find_zeros()` en lugar de `find_zero()`."
   ]
  },
  {
   "cell_type": "code",
   "execution_count": 15,
   "metadata": {},
   "outputs": [
    {
     "data": {
      "text/plain": [
       "3-element Vector{Float64}:\n",
       " -0.8155534188089606\n",
       "  1.4296118247255556\n",
       "  8.613169456441398"
      ]
     },
     "execution_count": 15,
     "metadata": {},
     "output_type": "execute_result"
    }
   ],
   "source": [
    "a = -10\n",
    "b = 10\n",
    "\n",
    "raices = find_zeros(f2, a, b)\n",
    "raices"
   ]
  },
  {
   "cell_type": "markdown",
   "metadata": {},
   "source": [
    "## 2.5. Aplicación con `NLsolve.jl`\n",
    "\n",
    "Vamos a distinguir la **sintaxis** de la librería `NLsolve.jl` para dar solución a estos ejercicios.\n",
    "\n",
    "Para empezar, veamos que, con sintaxis diferente (y seguramente diferente desarrollo del algoritmo), obtenemos soluciones aproximadas (quizá no la misma por lo que los métodos numéricos son iterativos).\n",
    "\n",
    "Para `NLsolve.jl` tenemos:\n",
    "\n",
    "```julia\n",
    "# Paso 1. Importar librería\n",
    "using NLsolve\n",
    "\n",
    "# Paso 2. Definir la función\n",
    "function f!(F, x) # Importante poner un \"!\" al final del nombre de la función \n",
    "    F[1] = exp(x[1]) - x[1]^4 # **Importante:** Notemos que la ecuación debe estar igualada a cero\n",
    "end\n",
    "\n",
    "# Paso 3. Emplear el solucionador 'nlsolve()'\n",
    "solucion = nlsolve(f!, [a]) # Sintaxis: 1. Función, 2. [Punto Inicial]\n",
    "\n",
    "# Paso 4. Llamar la solución directamente\n",
    "solucion.zero\n",
    "```\n",
    "\n",
    "Fíjense que el parámetro de punto inicial está entre corchetes `[]`, es decir, es un Array. ¿Por qué? Note que en la función `f!`, la variable la llamamos como entradas del Array (es decir, `x[1]`).\n",
    "\n",
    "La ventaja de esta librería es que podemos utilizar un sistema de ecuaciones; eso lo veremos en la Semana 5.\n",
    "\n",
    "**Nota:** Más información de la librería `NLsolve.jl` [aquí](https://github.com/JuliaNLSolvers/NLsolve.jl) y [aquí](https://morioh.com/p/367a415c21db)."
   ]
  },
  {
   "cell_type": "code",
   "execution_count": 16,
   "metadata": {},
   "outputs": [
    {
     "data": {
      "text/plain": [
       "1-element Vector{Float64}:\n",
       " 8.613169456441463"
      ]
     },
     "execution_count": 16,
     "metadata": {},
     "output_type": "execute_result"
    }
   ],
   "source": [
    "# Paso 1. Importar librería\n",
    "using NLsolve\n",
    "\n",
    "# Paso 2. Definir la función\n",
    "function f3!(F, x) # Importante poner un \"!\" al final del nombre de la función \n",
    "    F[1] = exp(x[1]) - x[1]^4 # **Importante:** Notemos que la ecuación debe estar igualada a cero\n",
    "end\n",
    "\n",
    "# Paso 3. Emplear el solucionador 'nlsolve()'\n",
    "solucion = nlsolve(f3!, [7.5]) # Sintaxis: 1. Función, 2. [Punto Inicial]\n",
    "\n",
    "# Paso 4. Llamar la solución directamente\n",
    "solucion.zero"
   ]
  },
  {
   "cell_type": "markdown",
   "metadata": {},
   "source": [
    "## 2.6. Factor de Fricción de Darcy con Librerías"
   ]
  },
  {
   "cell_type": "markdown",
   "metadata": {},
   "source": [
    "### 2.6.1. Empleando `Roots.jl`"
   ]
  },
  {
   "cell_type": "code",
   "execution_count": 17,
   "metadata": {},
   "outputs": [],
   "source": [
    "# Disponible después de entregar Taller 4"
   ]
  },
  {
   "cell_type": "markdown",
   "metadata": {},
   "source": [
    "### 2.6.2. Empleando `NLsolve.jl`"
   ]
  },
  {
   "cell_type": "code",
   "execution_count": 18,
   "metadata": {},
   "outputs": [],
   "source": [
    "# Disponible después de entregar Taller 4"
   ]
  }
 ],
 "metadata": {
  "kernelspec": {
   "display_name": "Julia 1.7.2",
   "language": "julia",
   "name": "julia-1.7"
  },
  "language_info": {
   "file_extension": ".jl",
   "mimetype": "application/julia",
   "name": "julia",
   "version": "1.7.2"
  },
  "toc": {
   "base_numbering": 1,
   "nav_menu": {},
   "number_sections": false,
   "sideBar": true,
   "skip_h1_title": true,
   "title_cell": "Table of Contents",
   "title_sidebar": "Contents",
   "toc_cell": false,
   "toc_position": {},
   "toc_section_display": true,
   "toc_window_display": false
  }
 },
 "nbformat": 4,
 "nbformat_minor": 2
}
