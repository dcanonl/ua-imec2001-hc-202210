{
 "cells": [
  {
   "cell_type": "markdown",
   "metadata": {},
   "source": [
    "# IMEC2201 Herramientas Computacionales \n",
    "## Taller Semana 4: Raíces de Ecuaciones - Factor de Fricción de Darcy\n",
    "### Fecha Límite Entrega (Bloque Neón): <font color=\"#FF5733\">23.59h de Mayo 6, 2022</font>\n",
    "\n",
    "Universidad de los Andes — Abril 27, 2022.\n",
    "___\n",
    "### Tener en Cuenta\n",
    "La entrega del Taller 4 se puede realizar de tres maneras:\n",
    "1. Cargar la solución en su repositorio en GitHub y enviar el enlace del mismo vía Bloque Neón.\n",
    "2. Enviar vía Bloque Neón el archivo en Jupyter Notebook (extensión '.ipynb').\n",
    "3. Enviar vía Bloque Neón el archivo PDF del Jupyter Notebook.\n",
    "___\n",
    "\n",
    "# Semana 4: Solución de Ecuaciones no Lineales\n",
    "\n",
    "Esta semana se van a mostrar diferentes casos de soluciones de ecuaciones no lineales. En problemas de ingeniería, es importante conocer las diferentes herramientas que permiten solucionar ecuaciones que en el papel, pueden ser complejas o incluso imposibles de solucionar. \n",
    "\n",
    "Este módulo trabajará con el paquete `NLsolve.jl`, el cual se utiliza para resolver ecuaciones no lineales y también sistemas de ecuaciones no lineales. A continuación se explicará el procedimiento a seguir tanto para una ecuación como para un sistema de dos ecuaciones. Finalmente, se va a dejar un ejercicio práctico para el taller de esta semana.\n",
    "\n",
    "## Instalación del paquete\n",
    "\n",
    "De nuevo, este proceso se puede realizar mediante la consola de Julia de cualquiera de ambas maneras:\n",
    "\n",
    "\n",
    "* ``] add NLsolve``\n",
    "\n",
    "* ``using Pkg; Pkg.add(\"NLsolve\")``\n",
    "\n",
    "## Ejemplo con una ecuación no lineal\n",
    "\n",
    "En este ejemplo se va a solucionar la siguiente ecuación:\n",
    "\n",
    "$$ \\sin^2{(x - 3)} = \\cos{(2x)}$$\n",
    "\n",
    "Para solucionar las ecuación, se debe tener la expresión igualada a cero.\n",
    "\n",
    "Primero, se importa el paquete."
   ]
  },
  {
   "cell_type": "code",
   "execution_count": 1,
   "metadata": {},
   "outputs": [],
   "source": [
    "using NLsolve"
   ]
  },
  {
   "cell_type": "markdown",
   "metadata": {},
   "source": [
    "Se declara una función de esta manera, en la que el primer argumento es el vector de soluciones a cero y el segundo, el número de variables a resolver. En este caso, se usa ``x[1]`` porque sólo es una variable a resolver. "
   ]
  },
  {
   "cell_type": "code",
   "execution_count": 2,
   "metadata": {},
   "outputs": [
    {
     "data": {
      "text/plain": [
       "f! (generic function with 1 method)"
      ]
     },
     "execution_count": 2,
     "metadata": {},
     "output_type": "execute_result"
    }
   ],
   "source": [
    "function f!(F,x) # importante poner un \"!\" al final del nombre de la ecuacion \n",
    "    F[1] = sin(x[1]-3)^2 - cos(2x[1]) # ecuación igualada a cero\n",
    "end # Es recomendable no usar un \"return\""
   ]
  },
  {
   "cell_type": "markdown",
   "metadata": {},
   "source": [
    "Posteriormente, se declara el objeto solución usando la función ``nlsolve(eq,guess)`` donde los parámetros corresponden a la ecuación a resolver y un vector con los puntos iniciales de los cuales se empieza a iterar para buscar una solución. Es importante tener en cuenta la forma de la función a resolver, ya que si tiene más de una raíz, es recomendable usar diferentes puntos de partida para iteración.  "
   ]
  },
  {
   "cell_type": "code",
   "execution_count": 3,
   "metadata": {},
   "outputs": [
    {
     "data": {
      "text/plain": [
       "Results of Nonlinear Solver Algorithm\n",
       " * Algorithm: Trust-region with dogleg and autoscaling\n",
       " * Starting Point: [1.0]\n",
       " * Zero: [0.5668366475637803]\n",
       " * Inf-norm of residuals: 0.000000\n",
       " * Iterations: 4\n",
       " * Convergence: true\n",
       "   * |x - x'| < 0.0e+00: false\n",
       "   * |f(x)| < 1.0e-08: true\n",
       " * Function Calls (f): 5\n",
       " * Jacobian Calls (df/dx): 5"
      ]
     },
     "execution_count": 3,
     "metadata": {},
     "output_type": "execute_result"
    }
   ],
   "source": [
    "sol = nlsolve(f!, [1.0])"
   ]
  },
  {
   "cell_type": "markdown",
   "metadata": {},
   "source": [
    "Como se puede notar, el objeto solución tiene diferentes atributos, donde los que más tienen importancia son la convergencia y el cero. La convergencia es un booleano que confirma si se logró encontrar una solución, mientras que el cero es la solución que se encontro para cada ecuación. "
   ]
  },
  {
   "cell_type": "code",
   "execution_count": 4,
   "metadata": {},
   "outputs": [
    {
     "data": {
      "text/plain": [
       "true"
      ]
     },
     "execution_count": 4,
     "metadata": {},
     "output_type": "execute_result"
    }
   ],
   "source": [
    "# Convergencia de la solución\n",
    "sol.f_converged"
   ]
  },
  {
   "cell_type": "code",
   "execution_count": 5,
   "metadata": {},
   "outputs": [
    {
     "data": {
      "text/plain": [
       "1-element Vector{Float64}:\n",
       " 0.5668366475637803"
      ]
     },
     "execution_count": 5,
     "metadata": {},
     "output_type": "execute_result"
    }
   ],
   "source": [
    "# Solución de la ecuación\n",
    "sol.zero"
   ]
  },
  {
   "cell_type": "markdown",
   "metadata": {},
   "source": [
    "Nótese que el campo `sol.zero` es un vector, ya que en el caso de tener más de una ecuación se tendrían diferentes entradas.\n",
    "\n",
    "## Ejemplo con dos ecuaciones y dos variables\n",
    "\n",
    "En este caso se va a resolver el siguiente sistema:\n",
    "\n",
    "$$ (x_1 + 3)\\times (x_2^3 - 7) = -18 $$\n",
    "\n",
    "$$ \\sin{(x_2 e^{x_1} - 1)} = 0 $$"
   ]
  },
  {
   "cell_type": "code",
   "execution_count": 6,
   "metadata": {},
   "outputs": [
    {
     "data": {
      "text/plain": [
       "Results of Nonlinear Solver Algorithm\n",
       " * Algorithm: Trust-region with dogleg and autoscaling\n",
       " * Starting Point: [0.1, 1.2]\n",
       " * Zero: [-7.775548712324193e-17, 0.9999999999999999]\n",
       " * Inf-norm of residuals: 0.000000\n",
       " * Iterations: 4\n",
       " * Convergence: true\n",
       "   * |x - x'| < 0.0e+00: false\n",
       "   * |f(x)| < 1.0e-08: true\n",
       " * Function Calls (f): 5\n",
       " * Jacobian Calls (df/dx): 5"
      ]
     },
     "execution_count": 6,
     "metadata": {},
     "output_type": "execute_result"
    }
   ],
   "source": [
    "# Se declara la función:\n",
    "\n",
    "function f!(F, x)\n",
    "    F[1] = (x[1]+3)*(x[2]^3-7)+18 # El ultimo termino es +18 porque está igualado a cero\n",
    "    F[2] = sin(x[2]*exp(x[1])-1)\n",
    "end\n",
    "\n",
    "#Resolución del problema\n",
    "\n",
    "sol = nlsolve(f!, [ 0.1; 1.2])"
   ]
  },
  {
   "cell_type": "code",
   "execution_count": 7,
   "metadata": {},
   "outputs": [
    {
     "data": {
      "text/plain": [
       "2-element Vector{Float64}:\n",
       " -7.775548712324193e-17\n",
       "  0.9999999999999999"
      ]
     },
     "execution_count": 7,
     "metadata": {},
     "output_type": "execute_result"
    }
   ],
   "source": [
    "sol.zero"
   ]
  },
  {
   "cell_type": "markdown",
   "metadata": {},
   "source": [
    "Como se puede notar, los ceros del sistema de ecuaciones no lineales son un vector.\n",
    "\n",
    "## Solucion de ecuaciones no lineales con el paquete `Roots.jl`\n",
    "\n",
    "Algunas veces se pueden encontrar diferentes errores con algoritmos sofisticados, y en ocasiones lo mejor es aproximar la ecuación a una función y encontrar la raíz, tal como se realizó cuando se solucionaron las ecuaciones usando `nlsolve()`. El paquete `Roots.jl` puede realizar este procedimiento de una manera un poco más sencilla, usando la función `findzero(f, args..)` donde toma como parámetros la función y argumentos especiales para la resolución de la ecuación. Uno de los métodos más efectivos es el metodo de la bisección (usado por defecto), el cual busca una solución en el intervalo entre dos números. Para más información de este paquete se puede revisar la documentación en https://github.com/JuliaMath/Roots.jl. A continuación se va a realizar un ejemplo:"
   ]
  },
  {
   "cell_type": "code",
   "execution_count": 8,
   "metadata": {},
   "outputs": [
    {
     "data": {
      "text/plain": [
       "-1.1102230246251565e-16"
      ]
     },
     "execution_count": 8,
     "metadata": {},
     "output_type": "execute_result"
    }
   ],
   "source": [
    "using Roots\n",
    "eq(x) = exp(x) - x^4\n",
    "sol = find_zero(eq, (-1,1))\n",
    "# Evaluar la funcion en la solucion\n",
    "eq(sol)"
   ]
  },
  {
   "cell_type": "markdown",
   "metadata": {},
   "source": [
    "# Taller \n",
    "\n",
    "En este caso, se va aplicar el método de solucion de ecuaciones no lineales en un problema de mecánica de fluidos. Cuando se estudian casos de flujo interno (por ejemplo, tuberías y sistemas de bombeo) es importante tener en cuenta los valores de las pérdidas en la presión a causa de la fricción. Esta información pasa a ser relevante en los casos de diseño de sistemas y selección de equipos de bombeo. Esta pérdida puede ser expresada en términos de una cabeza $h_f$, cuya dimensión son unidades de longitud, y puede interpretarse como una distancia máxima que se está perdiendo a causa de la fricción. Se define esta cabeza de pérdidas como:\n",
    "\n",
    "$$ h_f = f \\frac{l}{d} \\frac{V^2}{2g} $$\n",
    "\n",
    "Donde $f$ es el factor de fricción, una cantidad adimensional que es función de la rugosidad relativa y de las variables dinámicas del sistema. Las cantidades $l$ y $d$ son respectivamente la longitud y el diámetro de la tubería y $V$ es la velocidad del fluido. \n",
    "\n",
    "## Factor de fricción\n",
    "\n",
    "Como mencionado anteriormente, el factor de fricción es un importante parámetro adimensional que depende de la rugosidad relativa de la tubería y del número de Reynolds $Re$. Este número relaciona las fuerzas por viscosidad con la inercia cinemática del flujo. Se define como:\n",
    "\n",
    "$$ Re = \\frac{V d}{\\nu} $$\n",
    "\n",
    "Donde $V$ es la velocidad del flujo, $d$ el diámetro de la tubería y $\\nu$ es la viscosidad cinemática del fluido. \n",
    "\n",
    "Los flujos se pueden clasificar de dos maneras, flujo turbulento y flujo laminar. El primero hace referencia a flujos desordenados donde la distrubución de presión y velocidades no son fáciles de modelar, y el segundo trata de líneas de corriente suaves, con distribuciones de presión un poco más uniformes. La clasificación de flujos laminares y turbulentos para flujos internos se puede encontrar con el número de Reynolds:\n",
    "\n",
    "* Laminar si $Re \\leq 2300$\n",
    "\n",
    "* Turbulento si $Re > 2300$\n",
    "\n",
    "El factor de fricción para flujos laminares se encuentra con la siguiente expresión:\n",
    "\n",
    "$$f_{lam} = \\frac{64}{Re}$$\n",
    "\n",
    "En cambio, para flujos turbulentos se tiene una ecuación no lineal, que debe ser encontrada con métodos iterativos, o con métodos computacionales. Esta ecuación se llama la ecuación de Colebrook:\n",
    "\n",
    "$$\\frac{1}{\\sqrt{f}} = -2 \\log_{10}{\\bigg( \\frac{\\epsilon/d}{3.7} + \\frac{2.51}{Re \\sqrt{f}}\\bigg)}$$\n",
    "\n",
    "## Resultados a entregar\n",
    "\n",
    "Para esta semana, se requiere realizar una gráfica que muestre cómo varía la cabeza de pérdidas de una tubería _lisa_, una de una rugosidad relativa de 0.01 y otra 0.02, todas con 10m de longitud con diámetros entre 10 y 20 centímetros, para una bomba que entrega un caudal de agua de $0.02 m^3/s$. Utilizar el valor de viscosidad cinemática del agua a 20 °C: $1.0035\\times 10 ^{-6} m^2/s$\n",
    "\n",
    "Recordar que el caudal se define como:\n",
    "\n",
    "$$ Q = VA$$\n",
    "\n",
    "Donde $V$ es la velocidad del fluido y $A$ es el área transversal de la tubería. \n",
    "\n",
    "**Nota**: Se recomienda verificar si el flujo es laminar o turbulento con el fin de usar la ecuación correcta de resolución para el factor de fricción. \n",
    "\n",
    "Se puede verificar el valor del factor de fricción encontrado usando el Diagrama de Moody, una gráfica que relaciona el número de reynolds con la rugosidad relativa y el factor de fricción:\n",
    "\n",
    "<img src=\"./img/Moody.png\" />"
   ]
  },
  {
   "cell_type": "code",
   "execution_count": 58,
   "id": "f377b2df",
   "metadata": {},
   "outputs": [
    {
     "data": {
      "text/plain": [
       "0.02"
      ]
     },
     "execution_count": 58,
     "metadata": {},
     "output_type": "execute_result"
    }
   ],
   "source": [
    "D = collect(Float64,0.10:0.001:0.20)\n",
    "L = 10 #m #longitud tuberia\n",
    "V = 0.02 #velocidad de flujo\n",
    "ρ = 1.94 # slug/ft3\n",
    "μ = 1.0035*10^-6 #m^2/s\n",
    "ε1 = 0.01 \n",
    "ε2 = 0.02\n"
   ]
  },
  {
   "cell_type": "code",
   "execution_count": null,
   "id": "f2358b4e",
   "metadata": {},
   "outputs": [],
   "source": [
    "using Pkg\n",
    "Pkg.activate(pwd())\n",
    "Pkg.instantiate()\n",
    "using Plots\n",
    "using NLsolve\n",
    "\n"
   ]
  },
  {
   "cell_type": "code",
   "execution_count": 66,
   "id": "9fcd3af0",
   "metadata": {},
   "outputs": [],
   "source": [
    "\n",
    "function reynolds(densidad, velocidad, diametro, viscosidad)\n",
    "    _Re = densidad*velocidad*diametro / viscosidad\n",
    "    return _Re\n",
    "end \n",
    "Re = reynolds(ρ,V,D,μ)\n",
    "εᵣ1 = []\n",
    "εᵣ2=[]\n",
    "for i in D\n",
    "    push!(εᵣ1,ε1/i)\n",
    "    push!(εᵣ2,ε2/i)\n",
    "end\n"
   ]
  },
  {
   "cell_type": "code",
   "execution_count": null,
   "id": "9e925b51",
   "metadata": {},
   "outputs": [],
   "source": [
    "#>Al evaluar los datos con la gradica nos dan un intervalo de Re ∈ [3866.46,7732.93] eso significa\n",
    "#que para el caso de εᵣ1 se tiene un coef_friccion ∈ 0.05\n",
    "#εᵣ1 coef_friccion = \n",
    "\n",
    "function factor_friccion(rug_relativa, reynolds)\n",
    "    _ff = 1 / (-2 * log10( rug_relativa/3.7 + 2.51/(reynolds * sqrt(0.05))))^2\n",
    "    return _ff\n",
    "end\n",
    "f = []\n",
    "for i in 1:size(Re)[1]\n",
    "    push!(f,factor_friccion(εᵣ1[i],Re[i]))\n",
    "end"
   ]
  },
  {
   "cell_type": "code",
   "execution_count": 87,
   "id": "71b385a2",
   "metadata": {},
   "outputs": [
    {
     "data": {
      "text/plain": [
       "0.1"
      ]
     },
     "execution_count": 87,
     "metadata": {},
     "output_type": "execute_result"
    }
   ],
   "source": [
    "D[1]"
   ]
  },
  {
   "cell_type": "code",
   "execution_count": null,
   "id": "8a74f317",
   "metadata": {},
   "outputs": [],
   "source": [
    "function perdida_carga(coef_friccion, long, dia, vel)\n",
    "    _hf = coef_friccion * (long/dia) * ((vel^2)/(2*9.81))\n",
    "    return  _hf\n",
    "end\n",
    "hf = []\n",
    "for i in 1:size(D)[1]\n",
    "    push!(hf,perdida_carga(f[i], L, D[i], V))\n",
    "end\n",
    "hf\n"
   ]
  },
  {
   "cell_type": "code",
   "execution_count": null,
   "id": "c997ea7e",
   "metadata": {},
   "outputs": [],
   "source": [
    "function caudal(Velocidad,diametro)\n",
    "    _Q = Velocidad*(pi*(diametro/2)^2)\n",
    "    return _Q\n",
    "end\n",
    "Q=[]\n",
    "for i in 1:size(hf)[1]\n",
    "    push!(Q,caudal(V,D[i]))\n",
    "end\n",
    "Q\n",
    "    "
   ]
  },
  {
   "cell_type": "code",
   "execution_count": 100,
   "id": "63ccecea",
   "metadata": {},
   "outputs": [
    {
     "data": {
      "image/svg+xml": "<?xml version=\"1.0\" encoding=\"utf-8\"?>\n<svg xmlns=\"http://www.w3.org/2000/svg\" xmlns:xlink=\"http://www.w3.org/1999/xlink\" width=\"600\" height=\"400\" viewBox=\"0 0 2400 1600\">\n<defs>\n  <clipPath id=\"clip390\">\n    <rect x=\"0\" y=\"0\" width=\"2400\" height=\"1600\"/>\n  </clipPath>\n</defs>\n<path clip-path=\"url(#clip390)\" d=\"\nM0 1600 L2400 1600 L2400 0 L0 0  Z\n  \" fill=\"#ffffff\" fill-rule=\"evenodd\" fill-opacity=\"1\"/>\n<defs>\n  <clipPath id=\"clip391\">\n    <rect x=\"480\" y=\"0\" width=\"1681\" height=\"1600\"/>\n  </clipPath>\n</defs>\n<path clip-path=\"url(#clip390)\" d=\"\nM310.352 1423.18 L2352.76 1423.18 L2352.76 123.472 L310.352 123.472  Z\n  \" fill=\"#ffffff\" fill-rule=\"evenodd\" fill-opacity=\"1\"/>\n<defs>\n  <clipPath id=\"clip392\">\n    <rect x=\"310\" y=\"123\" width=\"2043\" height=\"1301\"/>\n  </clipPath>\n</defs>\n<polyline clip-path=\"url(#clip392)\" style=\"stroke:#000000; stroke-linecap:butt; stroke-linejoin:round; stroke-width:2; stroke-opacity:0.1; fill:none\" points=\"\n  549.821,1423.18 549.821,123.472 \n  \"/>\n<polyline clip-path=\"url(#clip392)\" style=\"stroke:#000000; stroke-linecap:butt; stroke-linejoin:round; stroke-width:2; stroke-opacity:0.1; fill:none\" points=\"\n  954.163,1423.18 954.163,123.472 \n  \"/>\n<polyline clip-path=\"url(#clip392)\" style=\"stroke:#000000; stroke-linecap:butt; stroke-linejoin:round; stroke-width:2; stroke-opacity:0.1; fill:none\" points=\"\n  1358.5,1423.18 1358.5,123.472 \n  \"/>\n<polyline clip-path=\"url(#clip392)\" style=\"stroke:#000000; stroke-linecap:butt; stroke-linejoin:round; stroke-width:2; stroke-opacity:0.1; fill:none\" points=\"\n  1762.85,1423.18 1762.85,123.472 \n  \"/>\n<polyline clip-path=\"url(#clip392)\" style=\"stroke:#000000; stroke-linecap:butt; stroke-linejoin:round; stroke-width:2; stroke-opacity:0.1; fill:none\" points=\"\n  2167.19,1423.18 2167.19,123.472 \n  \"/>\n<polyline clip-path=\"url(#clip390)\" style=\"stroke:#000000; stroke-linecap:butt; stroke-linejoin:round; stroke-width:4; stroke-opacity:1; fill:none\" points=\"\n  310.352,1423.18 2352.76,1423.18 \n  \"/>\n<polyline clip-path=\"url(#clip390)\" style=\"stroke:#000000; stroke-linecap:butt; stroke-linejoin:round; stroke-width:4; stroke-opacity:1; fill:none\" points=\"\n  549.821,1423.18 549.821,1404.28 \n  \"/>\n<polyline clip-path=\"url(#clip390)\" style=\"stroke:#000000; stroke-linecap:butt; stroke-linejoin:round; stroke-width:4; stroke-opacity:1; fill:none\" points=\"\n  954.163,1423.18 954.163,1404.28 \n  \"/>\n<polyline clip-path=\"url(#clip390)\" style=\"stroke:#000000; stroke-linecap:butt; stroke-linejoin:round; stroke-width:4; stroke-opacity:1; fill:none\" points=\"\n  1358.5,1423.18 1358.5,1404.28 \n  \"/>\n<polyline clip-path=\"url(#clip390)\" style=\"stroke:#000000; stroke-linecap:butt; stroke-linejoin:round; stroke-width:4; stroke-opacity:1; fill:none\" points=\"\n  1762.85,1423.18 1762.85,1404.28 \n  \"/>\n<polyline clip-path=\"url(#clip390)\" style=\"stroke:#000000; stroke-linecap:butt; stroke-linejoin:round; stroke-width:4; stroke-opacity:1; fill:none\" points=\"\n  2167.19,1423.18 2167.19,1404.28 \n  \"/>\n<path clip-path=\"url(#clip390)\" d=\"M466.974 1454.1 Q463.363 1454.1 461.534 1457.66 Q459.728 1461.2 459.728 1468.33 Q459.728 1475.44 461.534 1479.01 Q463.363 1482.55 466.974 1482.55 Q470.608 1482.55 472.414 1479.01 Q474.242 1475.44 474.242 1468.33 Q474.242 1461.2 472.414 1457.66 Q470.608 1454.1 466.974 1454.1 M466.974 1450.39 Q472.784 1450.39 475.839 1455 Q478.918 1459.58 478.918 1468.33 Q478.918 1477.06 475.839 1481.67 Q472.784 1486.25 466.974 1486.25 Q461.164 1486.25 458.085 1481.67 Q455.029 1477.06 455.029 1468.33 Q455.029 1459.58 458.085 1455 Q461.164 1450.39 466.974 1450.39 Z\" fill=\"#000000\" fill-rule=\"evenodd\" fill-opacity=\"1\" /><path clip-path=\"url(#clip390)\" d=\"M487.136 1479.7 L492.02 1479.7 L492.02 1485.58 L487.136 1485.58 L487.136 1479.7 Z\" fill=\"#000000\" fill-rule=\"evenodd\" fill-opacity=\"1\" /><path clip-path=\"url(#clip390)\" d=\"M512.205 1454.1 Q508.594 1454.1 506.765 1457.66 Q504.96 1461.2 504.96 1468.33 Q504.96 1475.44 506.765 1479.01 Q508.594 1482.55 512.205 1482.55 Q515.839 1482.55 517.645 1479.01 Q519.473 1475.44 519.473 1468.33 Q519.473 1461.2 517.645 1457.66 Q515.839 1454.1 512.205 1454.1 M512.205 1450.39 Q518.015 1450.39 521.071 1455 Q524.149 1459.58 524.149 1468.33 Q524.149 1477.06 521.071 1481.67 Q518.015 1486.25 512.205 1486.25 Q506.395 1486.25 503.316 1481.67 Q500.261 1477.06 500.261 1468.33 Q500.261 1459.58 503.316 1455 Q506.395 1450.39 512.205 1450.39 Z\" fill=\"#000000\" fill-rule=\"evenodd\" fill-opacity=\"1\" /><path clip-path=\"url(#clip390)\" d=\"M542.367 1454.1 Q538.756 1454.1 536.927 1457.66 Q535.122 1461.2 535.122 1468.33 Q535.122 1475.44 536.927 1479.01 Q538.756 1482.55 542.367 1482.55 Q546.001 1482.55 547.807 1479.01 Q549.635 1475.44 549.635 1468.33 Q549.635 1461.2 547.807 1457.66 Q546.001 1454.1 542.367 1454.1 M542.367 1450.39 Q548.177 1450.39 551.233 1455 Q554.311 1459.58 554.311 1468.33 Q554.311 1477.06 551.233 1481.67 Q548.177 1486.25 542.367 1486.25 Q536.557 1486.25 533.478 1481.67 Q530.422 1477.06 530.422 1468.33 Q530.422 1459.58 533.478 1455 Q536.557 1450.39 542.367 1450.39 Z\" fill=\"#000000\" fill-rule=\"evenodd\" fill-opacity=\"1\" /><path clip-path=\"url(#clip390)\" d=\"M572.529 1454.1 Q568.918 1454.1 567.089 1457.66 Q565.283 1461.2 565.283 1468.33 Q565.283 1475.44 567.089 1479.01 Q568.918 1482.55 572.529 1482.55 Q576.163 1482.55 577.969 1479.01 Q579.797 1475.44 579.797 1468.33 Q579.797 1461.2 577.969 1457.66 Q576.163 1454.1 572.529 1454.1 M572.529 1450.39 Q578.339 1450.39 581.394 1455 Q584.473 1459.58 584.473 1468.33 Q584.473 1477.06 581.394 1481.67 Q578.339 1486.25 572.529 1486.25 Q566.719 1486.25 563.64 1481.67 Q560.584 1477.06 560.584 1468.33 Q560.584 1459.58 563.64 1455 Q566.719 1450.39 572.529 1450.39 Z\" fill=\"#000000\" fill-rule=\"evenodd\" fill-opacity=\"1\" /><path clip-path=\"url(#clip390)\" d=\"M602.691 1454.1 Q599.08 1454.1 597.251 1457.66 Q595.445 1461.2 595.445 1468.33 Q595.445 1475.44 597.251 1479.01 Q599.08 1482.55 602.691 1482.55 Q606.325 1482.55 608.13 1479.01 Q609.959 1475.44 609.959 1468.33 Q609.959 1461.2 608.13 1457.66 Q606.325 1454.1 602.691 1454.1 M602.691 1450.39 Q608.501 1450.39 611.556 1455 Q614.635 1459.58 614.635 1468.33 Q614.635 1477.06 611.556 1481.67 Q608.501 1486.25 602.691 1486.25 Q596.88 1486.25 593.802 1481.67 Q590.746 1477.06 590.746 1468.33 Q590.746 1459.58 593.802 1455 Q596.88 1450.39 602.691 1450.39 Z\" fill=\"#000000\" fill-rule=\"evenodd\" fill-opacity=\"1\" /><path clip-path=\"url(#clip390)\" d=\"M622.991 1484.86 L622.991 1480.6 Q624.751 1481.44 626.556 1481.88 Q628.362 1482.32 630.098 1482.32 Q634.727 1482.32 637.158 1479.21 Q639.612 1476.09 639.959 1469.75 Q638.616 1471.74 636.556 1472.8 Q634.496 1473.87 631.996 1473.87 Q626.811 1473.87 623.778 1470.74 Q620.769 1467.59 620.769 1462.15 Q620.769 1456.83 623.917 1453.61 Q627.065 1450.39 632.297 1450.39 Q638.292 1450.39 641.44 1455 Q644.612 1459.58 644.612 1468.33 Q644.612 1476.51 640.723 1481.39 Q636.857 1486.25 630.306 1486.25 Q628.547 1486.25 626.741 1485.9 Q624.936 1485.56 622.991 1484.86 M632.297 1470.21 Q635.445 1470.21 637.274 1468.06 Q639.126 1465.9 639.126 1462.15 Q639.126 1458.43 637.274 1456.27 Q635.445 1454.1 632.297 1454.1 Q629.149 1454.1 627.297 1456.27 Q625.468 1458.43 625.468 1462.15 Q625.468 1465.9 627.297 1468.06 Q629.149 1470.21 632.297 1470.21 Z\" fill=\"#000000\" fill-rule=\"evenodd\" fill-opacity=\"1\" /><path clip-path=\"url(#clip390)\" d=\"M872.022 1454.1 Q868.411 1454.1 866.582 1457.66 Q864.777 1461.2 864.777 1468.33 Q864.777 1475.44 866.582 1479.01 Q868.411 1482.55 872.022 1482.55 Q875.656 1482.55 877.462 1479.01 Q879.29 1475.44 879.29 1468.33 Q879.29 1461.2 877.462 1457.66 Q875.656 1454.1 872.022 1454.1 M872.022 1450.39 Q877.832 1450.39 880.888 1455 Q883.966 1459.58 883.966 1468.33 Q883.966 1477.06 880.888 1481.67 Q877.832 1486.25 872.022 1486.25 Q866.212 1486.25 863.133 1481.67 Q860.077 1477.06 860.077 1468.33 Q860.077 1459.58 863.133 1455 Q866.212 1450.39 872.022 1450.39 Z\" fill=\"#000000\" fill-rule=\"evenodd\" fill-opacity=\"1\" /><path clip-path=\"url(#clip390)\" d=\"M892.184 1479.7 L897.068 1479.7 L897.068 1485.58 L892.184 1485.58 L892.184 1479.7 Z\" fill=\"#000000\" fill-rule=\"evenodd\" fill-opacity=\"1\" /><path clip-path=\"url(#clip390)\" d=\"M917.253 1454.1 Q913.642 1454.1 911.813 1457.66 Q910.008 1461.2 910.008 1468.33 Q910.008 1475.44 911.813 1479.01 Q913.642 1482.55 917.253 1482.55 Q920.887 1482.55 922.693 1479.01 Q924.522 1475.44 924.522 1468.33 Q924.522 1461.2 922.693 1457.66 Q920.887 1454.1 917.253 1454.1 M917.253 1450.39 Q923.063 1450.39 926.119 1455 Q929.197 1459.58 929.197 1468.33 Q929.197 1477.06 926.119 1481.67 Q923.063 1486.25 917.253 1486.25 Q911.443 1486.25 908.364 1481.67 Q905.309 1477.06 905.309 1468.33 Q905.309 1459.58 908.364 1455 Q911.443 1450.39 917.253 1450.39 Z\" fill=\"#000000\" fill-rule=\"evenodd\" fill-opacity=\"1\" /><path clip-path=\"url(#clip390)\" d=\"M947.415 1454.1 Q943.804 1454.1 941.975 1457.66 Q940.17 1461.2 940.17 1468.33 Q940.17 1475.44 941.975 1479.01 Q943.804 1482.55 947.415 1482.55 Q951.049 1482.55 952.855 1479.01 Q954.683 1475.44 954.683 1468.33 Q954.683 1461.2 952.855 1457.66 Q951.049 1454.1 947.415 1454.1 M947.415 1450.39 Q953.225 1450.39 956.281 1455 Q959.359 1459.58 959.359 1468.33 Q959.359 1477.06 956.281 1481.67 Q953.225 1486.25 947.415 1486.25 Q941.605 1486.25 938.526 1481.67 Q935.471 1477.06 935.471 1468.33 Q935.471 1459.58 938.526 1455 Q941.605 1450.39 947.415 1450.39 Z\" fill=\"#000000\" fill-rule=\"evenodd\" fill-opacity=\"1\" /><path clip-path=\"url(#clip390)\" d=\"M977.577 1454.1 Q973.966 1454.1 972.137 1457.66 Q970.332 1461.2 970.332 1468.33 Q970.332 1475.44 972.137 1479.01 Q973.966 1482.55 977.577 1482.55 Q981.211 1482.55 983.017 1479.01 Q984.845 1475.44 984.845 1468.33 Q984.845 1461.2 983.017 1457.66 Q981.211 1454.1 977.577 1454.1 M977.577 1450.39 Q983.387 1450.39 986.443 1455 Q989.521 1459.58 989.521 1468.33 Q989.521 1477.06 986.443 1481.67 Q983.387 1486.25 977.577 1486.25 Q971.767 1486.25 968.688 1481.67 Q965.632 1477.06 965.632 1468.33 Q965.632 1459.58 968.688 1455 Q971.767 1450.39 977.577 1450.39 Z\" fill=\"#000000\" fill-rule=\"evenodd\" fill-opacity=\"1\" /><path clip-path=\"url(#clip390)\" d=\"M998.549 1481.64 L1006.19 1481.64 L1006.19 1455.28 L997.878 1456.95 L997.878 1452.69 L1006.14 1451.02 L1010.82 1451.02 L1010.82 1481.64 L1018.46 1481.64 L1018.46 1485.58 L998.549 1485.58 L998.549 1481.64 Z\" fill=\"#000000\" fill-rule=\"evenodd\" fill-opacity=\"1\" /><path clip-path=\"url(#clip390)\" d=\"M1031.93 1481.64 L1048.25 1481.64 L1048.25 1485.58 L1026.3 1485.58 L1026.3 1481.64 Q1028.97 1478.89 1033.55 1474.26 Q1038.16 1469.61 1039.34 1468.27 Q1041.58 1465.74 1042.46 1464.01 Q1043.36 1462.25 1043.36 1460.56 Q1043.36 1457.8 1041.42 1456.07 Q1039.5 1454.33 1036.4 1454.33 Q1034.2 1454.33 1031.74 1455.09 Q1029.31 1455.86 1026.53 1457.41 L1026.53 1452.69 Q1029.36 1451.55 1031.81 1450.97 Q1034.27 1450.39 1036.3 1450.39 Q1041.67 1450.39 1044.87 1453.08 Q1048.06 1455.77 1048.06 1460.26 Q1048.06 1462.39 1047.25 1464.31 Q1046.47 1466.2 1044.36 1468.8 Q1043.78 1469.47 1040.68 1472.69 Q1037.58 1475.88 1031.93 1481.64 Z\" fill=\"#000000\" fill-rule=\"evenodd\" fill-opacity=\"1\" /><path clip-path=\"url(#clip390)\" d=\"M1276.06 1454.1 Q1272.45 1454.1 1270.62 1457.66 Q1268.82 1461.2 1268.82 1468.33 Q1268.82 1475.44 1270.62 1479.01 Q1272.45 1482.55 1276.06 1482.55 Q1279.7 1482.55 1281.5 1479.01 Q1283.33 1475.44 1283.33 1468.33 Q1283.33 1461.2 1281.5 1457.66 Q1279.7 1454.1 1276.06 1454.1 M1276.06 1450.39 Q1281.87 1450.39 1284.93 1455 Q1288.01 1459.58 1288.01 1468.33 Q1288.01 1477.06 1284.93 1481.67 Q1281.87 1486.25 1276.06 1486.25 Q1270.25 1486.25 1267.17 1481.67 Q1264.12 1477.06 1264.12 1468.33 Q1264.12 1459.58 1267.17 1455 Q1270.25 1450.39 1276.06 1450.39 Z\" fill=\"#000000\" fill-rule=\"evenodd\" fill-opacity=\"1\" /><path clip-path=\"url(#clip390)\" d=\"M1296.22 1479.7 L1301.11 1479.7 L1301.11 1485.58 L1296.22 1485.58 L1296.22 1479.7 Z\" fill=\"#000000\" fill-rule=\"evenodd\" fill-opacity=\"1\" /><path clip-path=\"url(#clip390)\" d=\"M1321.29 1454.1 Q1317.68 1454.1 1315.85 1457.66 Q1314.05 1461.2 1314.05 1468.33 Q1314.05 1475.44 1315.85 1479.01 Q1317.68 1482.55 1321.29 1482.55 Q1324.93 1482.55 1326.73 1479.01 Q1328.56 1475.44 1328.56 1468.33 Q1328.56 1461.2 1326.73 1457.66 Q1324.93 1454.1 1321.29 1454.1 M1321.29 1450.39 Q1327.1 1450.39 1330.16 1455 Q1333.24 1459.58 1333.24 1468.33 Q1333.24 1477.06 1330.16 1481.67 Q1327.1 1486.25 1321.29 1486.25 Q1315.48 1486.25 1312.41 1481.67 Q1309.35 1477.06 1309.35 1468.33 Q1309.35 1459.58 1312.41 1455 Q1315.48 1450.39 1321.29 1450.39 Z\" fill=\"#000000\" fill-rule=\"evenodd\" fill-opacity=\"1\" /><path clip-path=\"url(#clip390)\" d=\"M1351.46 1454.1 Q1347.85 1454.1 1346.02 1457.66 Q1344.21 1461.2 1344.21 1468.33 Q1344.21 1475.44 1346.02 1479.01 Q1347.85 1482.55 1351.46 1482.55 Q1355.09 1482.55 1356.9 1479.01 Q1358.72 1475.44 1358.72 1468.33 Q1358.72 1461.2 1356.9 1457.66 Q1355.09 1454.1 1351.46 1454.1 M1351.46 1450.39 Q1357.27 1450.39 1360.32 1455 Q1363.4 1459.58 1363.4 1468.33 Q1363.4 1477.06 1360.32 1481.67 Q1357.27 1486.25 1351.46 1486.25 Q1345.65 1486.25 1342.57 1481.67 Q1339.51 1477.06 1339.51 1468.33 Q1339.51 1459.58 1342.57 1455 Q1345.65 1450.39 1351.46 1450.39 Z\" fill=\"#000000\" fill-rule=\"evenodd\" fill-opacity=\"1\" /><path clip-path=\"url(#clip390)\" d=\"M1381.62 1454.1 Q1378.01 1454.1 1376.18 1457.66 Q1374.37 1461.2 1374.37 1468.33 Q1374.37 1475.44 1376.18 1479.01 Q1378.01 1482.55 1381.62 1482.55 Q1385.25 1482.55 1387.06 1479.01 Q1388.89 1475.44 1388.89 1468.33 Q1388.89 1461.2 1387.06 1457.66 Q1385.25 1454.1 1381.62 1454.1 M1381.62 1450.39 Q1387.43 1450.39 1390.48 1455 Q1393.56 1459.58 1393.56 1468.33 Q1393.56 1477.06 1390.48 1481.67 Q1387.43 1486.25 1381.62 1486.25 Q1375.81 1486.25 1372.73 1481.67 Q1369.67 1477.06 1369.67 1468.33 Q1369.67 1459.58 1372.73 1455 Q1375.81 1450.39 1381.62 1450.39 Z\" fill=\"#000000\" fill-rule=\"evenodd\" fill-opacity=\"1\" /><path clip-path=\"url(#clip390)\" d=\"M1402.59 1481.64 L1410.23 1481.64 L1410.23 1455.28 L1401.92 1456.95 L1401.92 1452.69 L1410.18 1451.02 L1414.86 1451.02 L1414.86 1481.64 L1422.5 1481.64 L1422.5 1485.58 L1402.59 1485.58 L1402.59 1481.64 Z\" fill=\"#000000\" fill-rule=\"evenodd\" fill-opacity=\"1\" /><path clip-path=\"url(#clip390)\" d=\"M1431.99 1451.02 L1450.34 1451.02 L1450.34 1454.96 L1436.27 1454.96 L1436.27 1463.43 Q1437.29 1463.08 1438.31 1462.92 Q1439.33 1462.73 1440.34 1462.73 Q1446.13 1462.73 1449.51 1465.9 Q1452.89 1469.08 1452.89 1474.49 Q1452.89 1480.07 1449.42 1483.17 Q1445.95 1486.25 1439.63 1486.25 Q1437.45 1486.25 1435.18 1485.88 Q1432.94 1485.51 1430.53 1484.77 L1430.53 1480.07 Q1432.61 1481.2 1434.84 1481.76 Q1437.06 1482.32 1439.53 1482.32 Q1443.54 1482.32 1445.88 1480.21 Q1448.21 1478.1 1448.21 1474.49 Q1448.21 1470.88 1445.88 1468.77 Q1443.54 1466.67 1439.53 1466.67 Q1437.66 1466.67 1435.78 1467.08 Q1433.93 1467.5 1431.99 1468.38 L1431.99 1451.02 Z\" fill=\"#000000\" fill-rule=\"evenodd\" fill-opacity=\"1\" /><path clip-path=\"url(#clip390)\" d=\"M1679.95 1454.1 Q1676.34 1454.1 1674.51 1457.66 Q1672.71 1461.2 1672.71 1468.33 Q1672.71 1475.44 1674.51 1479.01 Q1676.34 1482.55 1679.95 1482.55 Q1683.59 1482.55 1685.39 1479.01 Q1687.22 1475.44 1687.22 1468.33 Q1687.22 1461.2 1685.39 1457.66 Q1683.59 1454.1 1679.95 1454.1 M1679.95 1450.39 Q1685.76 1450.39 1688.82 1455 Q1691.9 1459.58 1691.9 1468.33 Q1691.9 1477.06 1688.82 1481.67 Q1685.76 1486.25 1679.95 1486.25 Q1674.14 1486.25 1671.06 1481.67 Q1668.01 1477.06 1668.01 1468.33 Q1668.01 1459.58 1671.06 1455 Q1674.14 1450.39 1679.95 1450.39 Z\" fill=\"#000000\" fill-rule=\"evenodd\" fill-opacity=\"1\" /><path clip-path=\"url(#clip390)\" d=\"M1700.12 1479.7 L1705 1479.7 L1705 1485.58 L1700.12 1485.58 L1700.12 1479.7 Z\" fill=\"#000000\" fill-rule=\"evenodd\" fill-opacity=\"1\" /><path clip-path=\"url(#clip390)\" d=\"M1725.19 1454.1 Q1721.57 1454.1 1719.75 1457.66 Q1717.94 1461.2 1717.94 1468.33 Q1717.94 1475.44 1719.75 1479.01 Q1721.57 1482.55 1725.19 1482.55 Q1728.82 1482.55 1730.62 1479.01 Q1732.45 1475.44 1732.45 1468.33 Q1732.45 1461.2 1730.62 1457.66 Q1728.82 1454.1 1725.19 1454.1 M1725.19 1450.39 Q1731 1450.39 1734.05 1455 Q1737.13 1459.58 1737.13 1468.33 Q1737.13 1477.06 1734.05 1481.67 Q1731 1486.25 1725.19 1486.25 Q1719.37 1486.25 1716.3 1481.67 Q1713.24 1477.06 1713.24 1468.33 Q1713.24 1459.58 1716.3 1455 Q1719.37 1450.39 1725.19 1450.39 Z\" fill=\"#000000\" fill-rule=\"evenodd\" fill-opacity=\"1\" /><path clip-path=\"url(#clip390)\" d=\"M1755.35 1454.1 Q1751.74 1454.1 1749.91 1457.66 Q1748.1 1461.2 1748.1 1468.33 Q1748.1 1475.44 1749.91 1479.01 Q1751.74 1482.55 1755.35 1482.55 Q1758.98 1482.55 1760.79 1479.01 Q1762.62 1475.44 1762.62 1468.33 Q1762.62 1461.2 1760.79 1457.66 Q1758.98 1454.1 1755.35 1454.1 M1755.35 1450.39 Q1761.16 1450.39 1764.21 1455 Q1767.29 1459.58 1767.29 1468.33 Q1767.29 1477.06 1764.21 1481.67 Q1761.16 1486.25 1755.35 1486.25 Q1749.54 1486.25 1746.46 1481.67 Q1743.4 1477.06 1743.4 1468.33 Q1743.4 1459.58 1746.46 1455 Q1749.54 1450.39 1755.35 1450.39 Z\" fill=\"#000000\" fill-rule=\"evenodd\" fill-opacity=\"1\" /><path clip-path=\"url(#clip390)\" d=\"M1785.51 1454.1 Q1781.9 1454.1 1780.07 1457.66 Q1778.26 1461.2 1778.26 1468.33 Q1778.26 1475.44 1780.07 1479.01 Q1781.9 1482.55 1785.51 1482.55 Q1789.14 1482.55 1790.95 1479.01 Q1792.78 1475.44 1792.78 1468.33 Q1792.78 1461.2 1790.95 1457.66 Q1789.14 1454.1 1785.51 1454.1 M1785.51 1450.39 Q1791.32 1450.39 1794.37 1455 Q1797.45 1459.58 1797.45 1468.33 Q1797.45 1477.06 1794.37 1481.67 Q1791.32 1486.25 1785.51 1486.25 Q1779.7 1486.25 1776.62 1481.67 Q1773.56 1477.06 1773.56 1468.33 Q1773.56 1459.58 1776.62 1455 Q1779.7 1450.39 1785.51 1450.39 Z\" fill=\"#000000\" fill-rule=\"evenodd\" fill-opacity=\"1\" /><path clip-path=\"url(#clip390)\" d=\"M1806.48 1481.64 L1814.12 1481.64 L1814.12 1455.28 L1805.81 1456.95 L1805.81 1452.69 L1814.07 1451.02 L1818.75 1451.02 L1818.75 1481.64 L1826.39 1481.64 L1826.39 1485.58 L1806.48 1485.58 L1806.48 1481.64 Z\" fill=\"#000000\" fill-rule=\"evenodd\" fill-opacity=\"1\" /><path clip-path=\"url(#clip390)\" d=\"M1845.83 1469.17 Q1842.5 1469.17 1840.58 1470.95 Q1838.68 1472.73 1838.68 1475.86 Q1838.68 1478.98 1840.58 1480.77 Q1842.5 1482.55 1845.83 1482.55 Q1849.17 1482.55 1851.09 1480.77 Q1853.01 1478.96 1853.01 1475.86 Q1853.01 1472.73 1851.09 1470.95 Q1849.19 1469.17 1845.83 1469.17 M1841.16 1467.18 Q1838.15 1466.44 1836.46 1464.38 Q1834.79 1462.32 1834.79 1459.35 Q1834.79 1455.21 1837.73 1452.8 Q1840.69 1450.39 1845.83 1450.39 Q1850.99 1450.39 1853.93 1452.8 Q1856.87 1455.21 1856.87 1459.35 Q1856.87 1462.32 1855.18 1464.38 Q1853.52 1466.44 1850.53 1467.18 Q1853.91 1467.96 1855.79 1470.26 Q1857.68 1472.55 1857.68 1475.86 Q1857.68 1480.88 1854.61 1483.57 Q1851.55 1486.25 1845.83 1486.25 Q1840.11 1486.25 1837.04 1483.57 Q1833.98 1480.88 1833.98 1475.86 Q1833.98 1472.55 1835.88 1470.26 Q1837.78 1467.96 1841.16 1467.18 M1839.44 1459.79 Q1839.44 1462.48 1841.11 1463.98 Q1842.8 1465.49 1845.83 1465.49 Q1848.84 1465.49 1850.53 1463.98 Q1852.24 1462.48 1852.24 1459.79 Q1852.24 1457.11 1850.53 1455.6 Q1848.84 1454.1 1845.83 1454.1 Q1842.8 1454.1 1841.11 1455.6 Q1839.44 1457.11 1839.44 1459.79 Z\" fill=\"#000000\" fill-rule=\"evenodd\" fill-opacity=\"1\" /><path clip-path=\"url(#clip390)\" d=\"M2084.86 1454.1 Q2081.25 1454.1 2079.42 1457.66 Q2077.62 1461.2 2077.62 1468.33 Q2077.62 1475.44 2079.42 1479.01 Q2081.25 1482.55 2084.86 1482.55 Q2088.5 1482.55 2090.3 1479.01 Q2092.13 1475.44 2092.13 1468.33 Q2092.13 1461.2 2090.3 1457.66 Q2088.5 1454.1 2084.86 1454.1 M2084.86 1450.39 Q2090.67 1450.39 2093.73 1455 Q2096.81 1459.58 2096.81 1468.33 Q2096.81 1477.06 2093.73 1481.67 Q2090.67 1486.25 2084.86 1486.25 Q2079.05 1486.25 2075.97 1481.67 Q2072.92 1477.06 2072.92 1468.33 Q2072.92 1459.58 2075.97 1455 Q2079.05 1450.39 2084.86 1450.39 Z\" fill=\"#000000\" fill-rule=\"evenodd\" fill-opacity=\"1\" /><path clip-path=\"url(#clip390)\" d=\"M2105.02 1479.7 L2109.91 1479.7 L2109.91 1485.58 L2105.02 1485.58 L2105.02 1479.7 Z\" fill=\"#000000\" fill-rule=\"evenodd\" fill-opacity=\"1\" /><path clip-path=\"url(#clip390)\" d=\"M2130.09 1454.1 Q2126.48 1454.1 2124.65 1457.66 Q2122.85 1461.2 2122.85 1468.33 Q2122.85 1475.44 2124.65 1479.01 Q2126.48 1482.55 2130.09 1482.55 Q2133.73 1482.55 2135.53 1479.01 Q2137.36 1475.44 2137.36 1468.33 Q2137.36 1461.2 2135.53 1457.66 Q2133.73 1454.1 2130.09 1454.1 M2130.09 1450.39 Q2135.9 1450.39 2138.96 1455 Q2142.04 1459.58 2142.04 1468.33 Q2142.04 1477.06 2138.96 1481.67 Q2135.9 1486.25 2130.09 1486.25 Q2124.28 1486.25 2121.21 1481.67 Q2118.15 1477.06 2118.15 1468.33 Q2118.15 1459.58 2121.21 1455 Q2124.28 1450.39 2130.09 1450.39 Z\" fill=\"#000000\" fill-rule=\"evenodd\" fill-opacity=\"1\" /><path clip-path=\"url(#clip390)\" d=\"M2160.26 1454.1 Q2156.65 1454.1 2154.82 1457.66 Q2153.01 1461.2 2153.01 1468.33 Q2153.01 1475.44 2154.82 1479.01 Q2156.65 1482.55 2160.26 1482.55 Q2163.89 1482.55 2165.7 1479.01 Q2167.52 1475.44 2167.52 1468.33 Q2167.52 1461.2 2165.7 1457.66 Q2163.89 1454.1 2160.26 1454.1 M2160.26 1450.39 Q2166.07 1450.39 2169.12 1455 Q2172.2 1459.58 2172.2 1468.33 Q2172.2 1477.06 2169.12 1481.67 Q2166.07 1486.25 2160.26 1486.25 Q2154.45 1486.25 2151.37 1481.67 Q2148.31 1477.06 2148.31 1468.33 Q2148.31 1459.58 2151.37 1455 Q2154.45 1450.39 2160.26 1450.39 Z\" fill=\"#000000\" fill-rule=\"evenodd\" fill-opacity=\"1\" /><path clip-path=\"url(#clip390)\" d=\"M2190.42 1454.1 Q2186.81 1454.1 2184.98 1457.66 Q2183.17 1461.2 2183.17 1468.33 Q2183.17 1475.44 2184.98 1479.01 Q2186.81 1482.55 2190.42 1482.55 Q2194.05 1482.55 2195.86 1479.01 Q2197.69 1475.44 2197.69 1468.33 Q2197.69 1461.2 2195.86 1457.66 Q2194.05 1454.1 2190.42 1454.1 M2190.42 1450.39 Q2196.23 1450.39 2199.28 1455 Q2202.36 1459.58 2202.36 1468.33 Q2202.36 1477.06 2199.28 1481.67 Q2196.23 1486.25 2190.42 1486.25 Q2184.61 1486.25 2181.53 1481.67 Q2178.47 1477.06 2178.47 1468.33 Q2178.47 1459.58 2181.53 1455 Q2184.61 1450.39 2190.42 1450.39 Z\" fill=\"#000000\" fill-rule=\"evenodd\" fill-opacity=\"1\" /><path clip-path=\"url(#clip390)\" d=\"M2214.61 1481.64 L2230.93 1481.64 L2230.93 1485.58 L2208.98 1485.58 L2208.98 1481.64 Q2211.64 1478.89 2216.23 1474.26 Q2220.83 1469.61 2222.02 1468.27 Q2224.26 1465.74 2225.14 1464.01 Q2226.04 1462.25 2226.04 1460.56 Q2226.04 1457.8 2224.1 1456.07 Q2222.18 1454.33 2219.08 1454.33 Q2216.88 1454.33 2214.42 1455.09 Q2211.99 1455.86 2209.21 1457.41 L2209.21 1452.69 Q2212.04 1451.55 2214.49 1450.97 Q2216.95 1450.39 2218.98 1450.39 Q2224.35 1450.39 2227.55 1453.08 Q2230.74 1455.77 2230.74 1460.26 Q2230.74 1462.39 2229.93 1464.31 Q2229.14 1466.2 2227.04 1468.8 Q2226.46 1469.47 2223.36 1472.69 Q2220.26 1475.88 2214.61 1481.64 Z\" fill=\"#000000\" fill-rule=\"evenodd\" fill-opacity=\"1\" /><path clip-path=\"url(#clip390)\" d=\"M2241.55 1481.64 L2249.19 1481.64 L2249.19 1455.28 L2240.88 1456.95 L2240.88 1452.69 L2249.14 1451.02 L2253.82 1451.02 L2253.82 1481.64 L2261.46 1481.64 L2261.46 1485.58 L2241.55 1485.58 L2241.55 1481.64 Z\" fill=\"#000000\" fill-rule=\"evenodd\" fill-opacity=\"1\" /><path clip-path=\"url(#clip390)\" d=\"M1074.7 1524.18 L1074.7 1530.96 Q1071.45 1527.94 1067.76 1526.44 Q1064.1 1524.95 1059.96 1524.95 Q1051.81 1524.95 1047.48 1529.95 Q1043.16 1534.91 1043.16 1544.33 Q1043.16 1553.72 1047.48 1558.72 Q1051.81 1563.68 1059.96 1563.68 Q1064.1 1563.68 1067.76 1562.19 Q1071.45 1560.69 1074.7 1557.67 L1074.7 1564.38 Q1071.32 1566.68 1067.54 1567.82 Q1063.78 1568.97 1059.58 1568.97 Q1048.79 1568.97 1042.58 1562.38 Q1036.38 1555.76 1036.38 1544.33 Q1036.38 1532.87 1042.58 1526.28 Q1048.79 1519.66 1059.58 1519.66 Q1063.84 1519.66 1067.6 1520.81 Q1071.39 1521.92 1074.7 1524.18 Z\" fill=\"#000000\" fill-rule=\"evenodd\" fill-opacity=\"1\" /><path clip-path=\"url(#clip390)\" d=\"M1100.57 1550.12 Q1093.48 1550.12 1090.74 1551.75 Q1088 1553.37 1088 1557.29 Q1088 1560.4 1090.04 1562.25 Q1092.11 1564.07 1095.64 1564.07 Q1100.51 1564.07 1103.44 1560.63 Q1106.4 1557.16 1106.4 1551.43 L1106.4 1550.12 L1100.57 1550.12 M1112.26 1547.71 L1112.26 1568.04 L1106.4 1568.04 L1106.4 1562.63 Q1104.39 1565.88 1101.4 1567.44 Q1098.41 1568.97 1094.08 1568.97 Q1088.61 1568.97 1085.36 1565.91 Q1082.15 1562.82 1082.15 1557.67 Q1082.15 1551.65 1086.16 1548.6 Q1090.2 1545.54 1098.19 1545.54 L1106.4 1545.54 L1106.4 1544.97 Q1106.4 1540.93 1103.73 1538.73 Q1101.08 1536.5 1096.28 1536.5 Q1093.22 1536.5 1090.33 1537.23 Q1087.43 1537.97 1084.76 1539.43 L1084.76 1534.02 Q1087.97 1532.78 1090.99 1532.17 Q1094.02 1531.54 1096.88 1531.54 Q1104.62 1531.54 1108.44 1535.55 Q1112.26 1539.56 1112.26 1547.71 Z\" fill=\"#000000\" fill-rule=\"evenodd\" fill-opacity=\"1\" /><path clip-path=\"url(#clip390)\" d=\"M1149.91 1550.25 Q1149.91 1543.79 1147.23 1540.13 Q1144.59 1536.44 1139.95 1536.44 Q1135.3 1536.44 1132.63 1540.13 Q1129.98 1543.79 1129.98 1550.25 Q1129.98 1556.71 1132.63 1560.4 Q1135.3 1564.07 1139.95 1564.07 Q1144.59 1564.07 1147.23 1560.4 Q1149.91 1556.71 1149.91 1550.25 M1129.98 1537.81 Q1131.83 1534.62 1134.63 1533.1 Q1137.46 1531.54 1141.38 1531.54 Q1147.87 1531.54 1151.91 1536.69 Q1155.99 1541.85 1155.99 1550.25 Q1155.99 1558.65 1151.91 1563.81 Q1147.87 1568.97 1141.38 1568.97 Q1137.46 1568.97 1134.63 1567.44 Q1131.83 1565.88 1129.98 1562.7 L1129.98 1568.04 L1124.1 1568.04 L1124.1 1518.52 L1129.98 1518.52 L1129.98 1537.81 Z\" fill=\"#000000\" fill-rule=\"evenodd\" fill-opacity=\"1\" /><path clip-path=\"url(#clip390)\" d=\"M1196.19 1548.76 L1196.19 1551.62 L1169.26 1551.62 Q1169.64 1557.67 1172.89 1560.85 Q1176.17 1564 1181.99 1564 Q1185.37 1564 1188.52 1563.17 Q1191.7 1562.35 1194.82 1560.69 L1194.82 1566.23 Q1191.67 1567.57 1188.36 1568.27 Q1185.05 1568.97 1181.64 1568.97 Q1173.11 1568.97 1168.11 1564 Q1163.15 1559.04 1163.15 1550.57 Q1163.15 1541.82 1167.86 1536.69 Q1172.6 1531.54 1180.62 1531.54 Q1187.82 1531.54 1191.99 1536.18 Q1196.19 1540.8 1196.19 1548.76 M1190.33 1547.04 Q1190.27 1542.23 1187.63 1539.37 Q1185.02 1536.5 1180.69 1536.5 Q1175.79 1536.5 1172.83 1539.27 Q1169.9 1542.04 1169.45 1547.07 L1190.33 1547.04 Z\" fill=\"#000000\" fill-rule=\"evenodd\" fill-opacity=\"1\" /><path clip-path=\"url(#clip390)\" d=\"M1203.25 1532.4 L1231.07 1532.4 L1231.07 1537.74 L1209.05 1563.37 L1231.07 1563.37 L1231.07 1568.04 L1202.46 1568.04 L1202.46 1562.7 L1224.48 1537.07 L1203.25 1537.07 L1203.25 1532.4 Z\" fill=\"#000000\" fill-rule=\"evenodd\" fill-opacity=\"1\" /><path clip-path=\"url(#clip390)\" d=\"M1256.22 1550.12 Q1249.12 1550.12 1246.38 1551.75 Q1243.64 1553.37 1243.64 1557.29 Q1243.64 1560.4 1245.68 1562.25 Q1247.75 1564.07 1251.28 1564.07 Q1256.15 1564.07 1259.08 1560.63 Q1262.04 1557.16 1262.04 1551.43 L1262.04 1550.12 L1256.22 1550.12 M1267.9 1547.71 L1267.9 1568.04 L1262.04 1568.04 L1262.04 1562.63 Q1260.04 1565.88 1257.04 1567.44 Q1254.05 1568.97 1249.72 1568.97 Q1244.25 1568.97 1241 1565.91 Q1237.79 1562.82 1237.79 1557.67 Q1237.79 1551.65 1241.8 1548.6 Q1245.84 1545.54 1253.83 1545.54 L1262.04 1545.54 L1262.04 1544.97 Q1262.04 1540.93 1259.37 1538.73 Q1256.73 1536.5 1251.92 1536.5 Q1248.86 1536.5 1245.97 1537.23 Q1243.07 1537.97 1240.4 1539.43 L1240.4 1534.02 Q1243.61 1532.78 1246.64 1532.17 Q1249.66 1531.54 1252.52 1531.54 Q1260.26 1531.54 1264.08 1535.55 Q1267.9 1539.56 1267.9 1547.71 Z\" fill=\"#000000\" fill-rule=\"evenodd\" fill-opacity=\"1\" /><path clip-path=\"url(#clip390)\" d=\"M1302.69 1533.45 L1302.69 1538.98 Q1300.2 1537.71 1297.53 1537.07 Q1294.86 1536.44 1291.99 1536.44 Q1287.63 1536.44 1285.43 1537.77 Q1283.27 1539.11 1283.27 1541.79 Q1283.27 1543.82 1284.83 1545 Q1286.39 1546.15 1291.1 1547.2 L1293.11 1547.64 Q1299.34 1548.98 1301.95 1551.43 Q1304.6 1553.85 1304.6 1558.21 Q1304.6 1563.17 1300.65 1566.07 Q1296.73 1568.97 1289.86 1568.97 Q1286.99 1568.97 1283.87 1568.39 Q1280.79 1567.85 1277.35 1566.74 L1277.35 1560.69 Q1280.6 1562.38 1283.75 1563.24 Q1286.9 1564.07 1289.99 1564.07 Q1294.12 1564.07 1296.35 1562.66 Q1298.58 1561.23 1298.58 1558.65 Q1298.58 1556.27 1296.96 1554.99 Q1295.36 1553.72 1289.92 1552.54 L1287.89 1552.07 Q1282.44 1550.92 1280.02 1548.56 Q1277.6 1546.18 1277.6 1542.04 Q1277.6 1537.01 1281.17 1534.27 Q1284.73 1531.54 1291.29 1531.54 Q1294.54 1531.54 1297.4 1532.01 Q1300.27 1532.49 1302.69 1533.45 Z\" fill=\"#000000\" fill-rule=\"evenodd\" fill-opacity=\"1\" /><path clip-path=\"url(#clip390)\" d=\"M1341.33 1525.81 L1341.33 1543.66 L1349.41 1543.66 Q1353.9 1543.66 1356.35 1541.34 Q1358.8 1539.02 1358.8 1534.72 Q1358.8 1530.45 1356.35 1528.13 Q1353.9 1525.81 1349.41 1525.81 L1341.33 1525.81 M1334.9 1520.52 L1349.41 1520.52 Q1357.4 1520.52 1361.47 1524.15 Q1365.58 1527.75 1365.58 1534.72 Q1365.58 1541.75 1361.47 1545.35 Q1357.4 1548.95 1349.41 1548.95 L1341.33 1548.95 L1341.33 1568.04 L1334.9 1568.04 L1334.9 1520.52 Z\" fill=\"#000000\" fill-rule=\"evenodd\" fill-opacity=\"1\" /><path clip-path=\"url(#clip390)\" d=\"M1402.12 1548.76 L1402.12 1551.62 L1375.19 1551.62 Q1375.57 1557.67 1378.82 1560.85 Q1382.1 1564 1387.92 1564 Q1391.3 1564 1394.45 1563.17 Q1397.63 1562.35 1400.75 1560.69 L1400.75 1566.23 Q1397.6 1567.57 1394.29 1568.27 Q1390.98 1568.97 1387.57 1568.97 Q1379.04 1568.97 1374.04 1564 Q1369.08 1559.04 1369.08 1550.57 Q1369.08 1541.82 1373.79 1536.69 Q1378.53 1531.54 1386.55 1531.54 Q1393.75 1531.54 1397.92 1536.18 Q1402.12 1540.8 1402.12 1548.76 M1396.26 1547.04 Q1396.2 1542.23 1393.56 1539.37 Q1390.95 1536.5 1386.62 1536.5 Q1381.72 1536.5 1378.76 1539.27 Q1375.83 1542.04 1375.38 1547.07 L1396.26 1547.04 Z\" fill=\"#000000\" fill-rule=\"evenodd\" fill-opacity=\"1\" /><path clip-path=\"url(#clip390)\" d=\"M1432.39 1537.87 Q1431.4 1537.3 1430.22 1537.04 Q1429.08 1536.76 1427.68 1536.76 Q1422.71 1536.76 1420.04 1540 Q1417.4 1543.22 1417.4 1549.27 L1417.4 1568.04 L1411.51 1568.04 L1411.51 1532.4 L1417.4 1532.4 L1417.4 1537.93 Q1419.24 1534.69 1422.2 1533.13 Q1425.16 1531.54 1429.39 1531.54 Q1430 1531.54 1430.73 1531.63 Q1431.46 1531.7 1432.35 1531.85 L1432.39 1537.87 Z\" fill=\"#000000\" fill-rule=\"evenodd\" fill-opacity=\"1\" /><path clip-path=\"url(#clip390)\" d=\"M1460.84 1537.81 L1460.84 1518.52 L1466.7 1518.52 L1466.7 1568.04 L1460.84 1568.04 L1460.84 1562.7 Q1459 1565.88 1456.16 1567.44 Q1453.36 1568.97 1449.41 1568.97 Q1442.95 1568.97 1438.88 1563.81 Q1434.84 1558.65 1434.84 1550.25 Q1434.84 1541.85 1438.88 1536.69 Q1442.95 1531.54 1449.41 1531.54 Q1453.36 1531.54 1456.16 1533.1 Q1459 1534.62 1460.84 1537.81 M1440.88 1550.25 Q1440.88 1556.71 1443.53 1560.4 Q1446.2 1564.07 1450.85 1564.07 Q1455.49 1564.07 1458.17 1560.4 Q1460.84 1556.71 1460.84 1550.25 Q1460.84 1543.79 1458.17 1540.13 Q1455.49 1536.44 1450.85 1536.44 Q1446.2 1536.44 1443.53 1540.13 Q1440.88 1543.79 1440.88 1550.25 Z\" fill=\"#000000\" fill-rule=\"evenodd\" fill-opacity=\"1\" /><path clip-path=\"url(#clip390)\" d=\"M1478.76 1532.4 L1484.62 1532.4 L1484.62 1568.04 L1478.76 1568.04 L1478.76 1532.4 M1478.76 1518.52 L1484.62 1518.52 L1484.62 1525.93 L1478.76 1525.93 L1478.76 1518.52 Z\" fill=\"#000000\" fill-rule=\"evenodd\" fill-opacity=\"1\" /><path clip-path=\"url(#clip390)\" d=\"M1520.33 1537.81 L1520.33 1518.52 L1526.19 1518.52 L1526.19 1568.04 L1520.33 1568.04 L1520.33 1562.7 Q1518.48 1565.88 1515.65 1567.44 Q1512.85 1568.97 1508.9 1568.97 Q1502.44 1568.97 1498.37 1563.81 Q1494.33 1558.65 1494.33 1550.25 Q1494.33 1541.85 1498.37 1536.69 Q1502.44 1531.54 1508.9 1531.54 Q1512.85 1531.54 1515.65 1533.1 Q1518.48 1534.62 1520.33 1537.81 M1500.37 1550.25 Q1500.37 1556.71 1503.01 1560.4 Q1505.69 1564.07 1510.33 1564.07 Q1514.98 1564.07 1517.66 1560.4 Q1520.33 1556.71 1520.33 1550.25 Q1520.33 1543.79 1517.66 1540.13 Q1514.98 1536.44 1510.33 1536.44 Q1505.69 1536.44 1503.01 1540.13 Q1500.37 1543.79 1500.37 1550.25 Z\" fill=\"#000000\" fill-rule=\"evenodd\" fill-opacity=\"1\" /><path clip-path=\"url(#clip390)\" d=\"M1554.45 1550.12 Q1547.35 1550.12 1544.61 1551.75 Q1541.88 1553.37 1541.88 1557.29 Q1541.88 1560.4 1543.91 1562.25 Q1545.98 1564.07 1549.52 1564.07 Q1554.39 1564.07 1557.31 1560.63 Q1560.27 1557.16 1560.27 1551.43 L1560.27 1550.12 L1554.45 1550.12 M1566.13 1547.71 L1566.13 1568.04 L1560.27 1568.04 L1560.27 1562.63 Q1558.27 1565.88 1555.28 1567.44 Q1552.28 1568.97 1547.96 1568.97 Q1542.48 1568.97 1539.24 1565.91 Q1536.02 1562.82 1536.02 1557.67 Q1536.02 1551.65 1540.03 1548.6 Q1544.07 1545.54 1552.06 1545.54 L1560.27 1545.54 L1560.27 1544.97 Q1560.27 1540.93 1557.6 1538.73 Q1554.96 1536.5 1550.15 1536.5 Q1547.1 1536.5 1544.2 1537.23 Q1541.3 1537.97 1538.63 1539.43 L1538.63 1534.02 Q1541.85 1532.78 1544.87 1532.17 Q1547.89 1531.54 1550.76 1531.54 Q1558.49 1531.54 1562.31 1535.55 Q1566.13 1539.56 1566.13 1547.71 Z\" fill=\"#000000\" fill-rule=\"evenodd\" fill-opacity=\"1\" /><path clip-path=\"url(#clip390)\" d=\"M1600.92 1533.45 L1600.92 1538.98 Q1598.44 1537.71 1595.76 1537.07 Q1593.09 1536.44 1590.22 1536.44 Q1585.86 1536.44 1583.67 1537.77 Q1581.5 1539.11 1581.5 1541.79 Q1581.5 1543.82 1583.06 1545 Q1584.62 1546.15 1589.33 1547.2 L1591.34 1547.64 Q1597.58 1548.98 1600.19 1551.43 Q1602.83 1553.85 1602.83 1558.21 Q1602.83 1563.17 1598.88 1566.07 Q1594.97 1568.97 1588.09 1568.97 Q1585.23 1568.97 1582.11 1568.39 Q1579.02 1567.85 1575.58 1566.74 L1575.58 1560.69 Q1578.83 1562.38 1581.98 1563.24 Q1585.13 1564.07 1588.22 1564.07 Q1592.36 1564.07 1594.58 1562.66 Q1596.81 1561.23 1596.81 1558.65 Q1596.81 1556.27 1595.19 1554.99 Q1593.6 1553.72 1588.16 1552.54 L1586.12 1552.07 Q1580.68 1550.92 1578.26 1548.56 Q1575.84 1546.18 1575.84 1542.04 Q1575.84 1537.01 1579.4 1534.27 Q1582.97 1531.54 1589.52 1531.54 Q1592.77 1531.54 1595.64 1532.01 Q1598.5 1532.49 1600.92 1533.45 Z\" fill=\"#000000\" fill-rule=\"evenodd\" fill-opacity=\"1\" /><polyline clip-path=\"url(#clip392)\" style=\"stroke:#000000; stroke-linecap:butt; stroke-linejoin:round; stroke-width:2; stroke-opacity:0.1; fill:none\" points=\"\n  310.352,1274.72 2352.76,1274.72 \n  \"/>\n<polyline clip-path=\"url(#clip392)\" style=\"stroke:#000000; stroke-linecap:butt; stroke-linejoin:round; stroke-width:2; stroke-opacity:0.1; fill:none\" points=\"\n  310.352,1014.52 2352.76,1014.52 \n  \"/>\n<polyline clip-path=\"url(#clip392)\" style=\"stroke:#000000; stroke-linecap:butt; stroke-linejoin:round; stroke-width:2; stroke-opacity:0.1; fill:none\" points=\"\n  310.352,754.329 2352.76,754.329 \n  \"/>\n<polyline clip-path=\"url(#clip392)\" style=\"stroke:#000000; stroke-linecap:butt; stroke-linejoin:round; stroke-width:2; stroke-opacity:0.1; fill:none\" points=\"\n  310.352,494.135 2352.76,494.135 \n  \"/>\n<polyline clip-path=\"url(#clip392)\" style=\"stroke:#000000; stroke-linecap:butt; stroke-linejoin:round; stroke-width:2; stroke-opacity:0.1; fill:none\" points=\"\n  310.352,233.94 2352.76,233.94 \n  \"/>\n<polyline clip-path=\"url(#clip390)\" style=\"stroke:#000000; stroke-linecap:butt; stroke-linejoin:round; stroke-width:4; stroke-opacity:1; fill:none\" points=\"\n  310.352,1423.18 310.352,123.472 \n  \"/>\n<polyline clip-path=\"url(#clip390)\" style=\"stroke:#000000; stroke-linecap:butt; stroke-linejoin:round; stroke-width:4; stroke-opacity:1; fill:none\" points=\"\n  310.352,1274.72 329.25,1274.72 \n  \"/>\n<polyline clip-path=\"url(#clip390)\" style=\"stroke:#000000; stroke-linecap:butt; stroke-linejoin:round; stroke-width:4; stroke-opacity:1; fill:none\" points=\"\n  310.352,1014.52 329.25,1014.52 \n  \"/>\n<polyline clip-path=\"url(#clip390)\" style=\"stroke:#000000; stroke-linecap:butt; stroke-linejoin:round; stroke-width:4; stroke-opacity:1; fill:none\" points=\"\n  310.352,754.329 329.25,754.329 \n  \"/>\n<polyline clip-path=\"url(#clip390)\" style=\"stroke:#000000; stroke-linecap:butt; stroke-linejoin:round; stroke-width:4; stroke-opacity:1; fill:none\" points=\"\n  310.352,494.135 329.25,494.135 \n  \"/>\n<polyline clip-path=\"url(#clip390)\" style=\"stroke:#000000; stroke-linecap:butt; stroke-linejoin:round; stroke-width:4; stroke-opacity:1; fill:none\" points=\"\n  310.352,233.94 329.25,233.94 \n  \"/>\n<path clip-path=\"url(#clip390)\" d=\"M128.288 1260.52 Q124.677 1260.52 122.848 1264.08 Q121.043 1267.62 121.043 1274.75 Q121.043 1281.86 122.848 1285.43 Q124.677 1288.97 128.288 1288.97 Q131.922 1288.97 133.728 1285.43 Q135.556 1281.86 135.556 1274.75 Q135.556 1267.62 133.728 1264.08 Q131.922 1260.52 128.288 1260.52 M128.288 1256.81 Q134.098 1256.81 137.154 1261.42 Q140.232 1266 140.232 1274.75 Q140.232 1283.48 137.154 1288.09 Q134.098 1292.67 128.288 1292.67 Q122.478 1292.67 119.399 1288.09 Q116.343 1283.48 116.343 1274.75 Q116.343 1266 119.399 1261.42 Q122.478 1256.81 128.288 1256.81 Z\" fill=\"#000000\" fill-rule=\"evenodd\" fill-opacity=\"1\" /><path clip-path=\"url(#clip390)\" d=\"M148.45 1286.12 L153.334 1286.12 L153.334 1292 L148.45 1292 L148.45 1286.12 Z\" fill=\"#000000\" fill-rule=\"evenodd\" fill-opacity=\"1\" /><path clip-path=\"url(#clip390)\" d=\"M173.519 1260.52 Q169.908 1260.52 168.079 1264.08 Q166.274 1267.62 166.274 1274.75 Q166.274 1281.86 168.079 1285.43 Q169.908 1288.97 173.519 1288.97 Q177.153 1288.97 178.959 1285.43 Q180.788 1281.86 180.788 1274.75 Q180.788 1267.62 178.959 1264.08 Q177.153 1260.52 173.519 1260.52 M173.519 1256.81 Q179.329 1256.81 182.385 1261.42 Q185.463 1266 185.463 1274.75 Q185.463 1283.48 182.385 1288.09 Q179.329 1292.67 173.519 1292.67 Q167.709 1292.67 164.63 1288.09 Q161.575 1283.48 161.575 1274.75 Q161.575 1266 164.63 1261.42 Q167.709 1256.81 173.519 1256.81 Z\" fill=\"#000000\" fill-rule=\"evenodd\" fill-opacity=\"1\" /><path clip-path=\"url(#clip390)\" d=\"M203.681 1260.52 Q200.07 1260.52 198.241 1264.08 Q196.436 1267.62 196.436 1274.75 Q196.436 1281.86 198.241 1285.43 Q200.07 1288.97 203.681 1288.97 Q207.315 1288.97 209.121 1285.43 Q210.949 1281.86 210.949 1274.75 Q210.949 1267.62 209.121 1264.08 Q207.315 1260.52 203.681 1260.52 M203.681 1256.81 Q209.491 1256.81 212.547 1261.42 Q215.625 1266 215.625 1274.75 Q215.625 1283.48 212.547 1288.09 Q209.491 1292.67 203.681 1292.67 Q197.871 1292.67 194.792 1288.09 Q191.737 1283.48 191.737 1274.75 Q191.737 1266 194.792 1261.42 Q197.871 1256.81 203.681 1256.81 Z\" fill=\"#000000\" fill-rule=\"evenodd\" fill-opacity=\"1\" /><path clip-path=\"url(#clip390)\" d=\"M233.843 1260.52 Q230.232 1260.52 228.403 1264.08 Q226.598 1267.62 226.598 1274.75 Q226.598 1281.86 228.403 1285.43 Q230.232 1288.97 233.843 1288.97 Q237.477 1288.97 239.283 1285.43 Q241.111 1281.86 241.111 1274.75 Q241.111 1267.62 239.283 1264.08 Q237.477 1260.52 233.843 1260.52 M233.843 1256.81 Q239.653 1256.81 242.709 1261.42 Q245.787 1266 245.787 1274.75 Q245.787 1283.48 242.709 1288.09 Q239.653 1292.67 233.843 1292.67 Q228.033 1292.67 224.954 1288.09 Q221.898 1283.48 221.898 1274.75 Q221.898 1266 224.954 1261.42 Q228.033 1256.81 233.843 1256.81 Z\" fill=\"#000000\" fill-rule=\"evenodd\" fill-opacity=\"1\" /><path clip-path=\"url(#clip390)\" d=\"M258.033 1288.06 L274.352 1288.06 L274.352 1292 L252.408 1292 L252.408 1288.06 Q255.07 1285.31 259.653 1280.68 Q264.259 1276.03 265.44 1274.68 Q267.685 1272.16 268.565 1270.43 Q269.468 1268.67 269.468 1266.98 Q269.468 1264.22 267.523 1262.49 Q265.602 1260.75 262.5 1260.75 Q260.301 1260.75 257.847 1261.51 Q255.417 1262.28 252.639 1263.83 L252.639 1259.11 Q255.463 1257.97 257.917 1257.39 Q260.37 1256.81 262.408 1256.81 Q267.778 1256.81 270.972 1259.5 Q274.167 1262.18 274.167 1266.68 Q274.167 1268.8 273.357 1270.73 Q272.569 1272.62 270.463 1275.22 Q269.884 1275.89 266.782 1279.11 Q263.681 1282.3 258.033 1288.06 Z\" fill=\"#000000\" fill-rule=\"evenodd\" fill-opacity=\"1\" /><path clip-path=\"url(#clip390)\" d=\"M127.339 1000.32 Q123.728 1000.32 121.899 1003.89 Q120.093 1007.43 120.093 1014.56 Q120.093 1021.67 121.899 1025.23 Q123.728 1028.77 127.339 1028.77 Q130.973 1028.77 132.779 1025.23 Q134.607 1021.67 134.607 1014.56 Q134.607 1007.43 132.779 1003.89 Q130.973 1000.32 127.339 1000.32 M127.339 996.619 Q133.149 996.619 136.204 1001.23 Q139.283 1005.81 139.283 1014.56 Q139.283 1023.29 136.204 1027.89 Q133.149 1032.48 127.339 1032.48 Q121.529 1032.48 118.45 1027.89 Q115.394 1023.29 115.394 1014.56 Q115.394 1005.81 118.45 1001.23 Q121.529 996.619 127.339 996.619 Z\" fill=\"#000000\" fill-rule=\"evenodd\" fill-opacity=\"1\" /><path clip-path=\"url(#clip390)\" d=\"M147.501 1025.92 L152.385 1025.92 L152.385 1031.8 L147.501 1031.8 L147.501 1025.92 Z\" fill=\"#000000\" fill-rule=\"evenodd\" fill-opacity=\"1\" /><path clip-path=\"url(#clip390)\" d=\"M172.57 1000.32 Q168.959 1000.32 167.13 1003.89 Q165.325 1007.43 165.325 1014.56 Q165.325 1021.67 167.13 1025.23 Q168.959 1028.77 172.57 1028.77 Q176.204 1028.77 178.01 1025.23 Q179.839 1021.67 179.839 1014.56 Q179.839 1007.43 178.01 1003.89 Q176.204 1000.32 172.57 1000.32 M172.57 996.619 Q178.38 996.619 181.436 1001.23 Q184.514 1005.81 184.514 1014.56 Q184.514 1023.29 181.436 1027.89 Q178.38 1032.48 172.57 1032.48 Q166.76 1032.48 163.681 1027.89 Q160.626 1023.29 160.626 1014.56 Q160.626 1005.81 163.681 1001.23 Q166.76 996.619 172.57 996.619 Z\" fill=\"#000000\" fill-rule=\"evenodd\" fill-opacity=\"1\" /><path clip-path=\"url(#clip390)\" d=\"M202.732 1000.32 Q199.121 1000.32 197.292 1003.89 Q195.487 1007.43 195.487 1014.56 Q195.487 1021.67 197.292 1025.23 Q199.121 1028.77 202.732 1028.77 Q206.366 1028.77 208.172 1025.23 Q210 1021.67 210 1014.56 Q210 1007.43 208.172 1003.89 Q206.366 1000.32 202.732 1000.32 M202.732 996.619 Q208.542 996.619 211.598 1001.23 Q214.676 1005.81 214.676 1014.56 Q214.676 1023.29 211.598 1027.89 Q208.542 1032.48 202.732 1032.48 Q196.922 1032.48 193.843 1027.89 Q190.788 1023.29 190.788 1014.56 Q190.788 1005.81 193.843 1001.23 Q196.922 996.619 202.732 996.619 Z\" fill=\"#000000\" fill-rule=\"evenodd\" fill-opacity=\"1\" /><path clip-path=\"url(#clip390)\" d=\"M232.894 1000.32 Q229.283 1000.32 227.454 1003.89 Q225.648 1007.43 225.648 1014.56 Q225.648 1021.67 227.454 1025.23 Q229.283 1028.77 232.894 1028.77 Q236.528 1028.77 238.334 1025.23 Q240.162 1021.67 240.162 1014.56 Q240.162 1007.43 238.334 1003.89 Q236.528 1000.32 232.894 1000.32 M232.894 996.619 Q238.704 996.619 241.759 1001.23 Q244.838 1005.81 244.838 1014.56 Q244.838 1023.29 241.759 1027.89 Q238.704 1032.48 232.894 1032.48 Q227.084 1032.48 224.005 1027.89 Q220.949 1023.29 220.949 1014.56 Q220.949 1005.81 224.005 1001.23 Q227.084 996.619 232.894 996.619 Z\" fill=\"#000000\" fill-rule=\"evenodd\" fill-opacity=\"1\" /><path clip-path=\"url(#clip390)\" d=\"M267.222 1013.17 Q270.579 1013.89 272.454 1016.16 Q274.352 1018.42 274.352 1021.76 Q274.352 1026.87 270.833 1029.67 Q267.315 1032.48 260.833 1032.48 Q258.658 1032.48 256.343 1032.04 Q254.051 1031.62 251.597 1030.76 L251.597 1026.25 Q253.542 1027.38 255.857 1027.96 Q258.171 1028.54 260.695 1028.54 Q265.093 1028.54 267.384 1026.8 Q269.699 1025.07 269.699 1021.76 Q269.699 1018.7 267.546 1016.99 Q265.417 1015.25 261.597 1015.25 L257.57 1015.25 L257.57 1011.41 L261.783 1011.41 Q265.232 1011.41 267.06 1010.05 Q268.889 1008.66 268.889 1006.06 Q268.889 1003.4 266.991 1001.99 Q265.116 1000.55 261.597 1000.55 Q259.676 1000.55 257.477 1000.97 Q255.278 1001.39 252.639 1002.27 L252.639 998.101 Q255.301 997.36 257.616 996.99 Q259.954 996.619 262.014 996.619 Q267.338 996.619 270.44 999.05 Q273.542 1001.46 273.542 1005.58 Q273.542 1008.45 271.898 1010.44 Q270.255 1012.41 267.222 1013.17 Z\" fill=\"#000000\" fill-rule=\"evenodd\" fill-opacity=\"1\" /><path clip-path=\"url(#clip390)\" d=\"M126.205 740.128 Q122.593 740.128 120.765 743.693 Q118.959 747.235 118.959 754.364 Q118.959 761.471 120.765 765.035 Q122.593 768.577 126.205 768.577 Q129.839 768.577 131.644 765.035 Q133.473 761.471 133.473 754.364 Q133.473 747.235 131.644 743.693 Q129.839 740.128 126.205 740.128 M126.205 736.424 Q132.015 736.424 135.07 741.031 Q138.149 745.614 138.149 754.364 Q138.149 763.091 135.07 767.697 Q132.015 772.281 126.205 772.281 Q120.394 772.281 117.316 767.697 Q114.26 763.091 114.26 754.364 Q114.26 745.614 117.316 741.031 Q120.394 736.424 126.205 736.424 Z\" fill=\"#000000\" fill-rule=\"evenodd\" fill-opacity=\"1\" /><path clip-path=\"url(#clip390)\" d=\"M146.366 765.73 L151.251 765.73 L151.251 771.609 L146.366 771.609 L146.366 765.73 Z\" fill=\"#000000\" fill-rule=\"evenodd\" fill-opacity=\"1\" /><path clip-path=\"url(#clip390)\" d=\"M171.436 740.128 Q167.825 740.128 165.996 743.693 Q164.19 747.235 164.19 754.364 Q164.19 761.471 165.996 765.035 Q167.825 768.577 171.436 768.577 Q175.07 768.577 176.876 765.035 Q178.704 761.471 178.704 754.364 Q178.704 747.235 176.876 743.693 Q175.07 740.128 171.436 740.128 M171.436 736.424 Q177.246 736.424 180.301 741.031 Q183.38 745.614 183.38 754.364 Q183.38 763.091 180.301 767.697 Q177.246 772.281 171.436 772.281 Q165.626 772.281 162.547 767.697 Q159.491 763.091 159.491 754.364 Q159.491 745.614 162.547 741.031 Q165.626 736.424 171.436 736.424 Z\" fill=\"#000000\" fill-rule=\"evenodd\" fill-opacity=\"1\" /><path clip-path=\"url(#clip390)\" d=\"M201.598 740.128 Q197.987 740.128 196.158 743.693 Q194.352 747.235 194.352 754.364 Q194.352 761.471 196.158 765.035 Q197.987 768.577 201.598 768.577 Q205.232 768.577 207.037 765.035 Q208.866 761.471 208.866 754.364 Q208.866 747.235 207.037 743.693 Q205.232 740.128 201.598 740.128 M201.598 736.424 Q207.408 736.424 210.463 741.031 Q213.542 745.614 213.542 754.364 Q213.542 763.091 210.463 767.697 Q207.408 772.281 201.598 772.281 Q195.787 772.281 192.709 767.697 Q189.653 763.091 189.653 754.364 Q189.653 745.614 192.709 741.031 Q195.787 736.424 201.598 736.424 Z\" fill=\"#000000\" fill-rule=\"evenodd\" fill-opacity=\"1\" /><path clip-path=\"url(#clip390)\" d=\"M231.76 740.128 Q228.148 740.128 226.32 743.693 Q224.514 747.235 224.514 754.364 Q224.514 761.471 226.32 765.035 Q228.148 768.577 231.76 768.577 Q235.394 768.577 237.199 765.035 Q239.028 761.471 239.028 754.364 Q239.028 747.235 237.199 743.693 Q235.394 740.128 231.76 740.128 M231.76 736.424 Q237.57 736.424 240.625 741.031 Q243.704 745.614 243.704 754.364 Q243.704 763.091 240.625 767.697 Q237.57 772.281 231.76 772.281 Q225.949 772.281 222.871 767.697 Q219.815 763.091 219.815 754.364 Q219.815 745.614 222.871 741.031 Q225.949 736.424 231.76 736.424 Z\" fill=\"#000000\" fill-rule=\"evenodd\" fill-opacity=\"1\" /><path clip-path=\"url(#clip390)\" d=\"M264.769 741.123 L252.963 759.572 L264.769 759.572 L264.769 741.123 M263.542 737.049 L269.421 737.049 L269.421 759.572 L274.352 759.572 L274.352 763.461 L269.421 763.461 L269.421 771.609 L264.769 771.609 L264.769 763.461 L249.167 763.461 L249.167 758.947 L263.542 737.049 Z\" fill=\"#000000\" fill-rule=\"evenodd\" fill-opacity=\"1\" /><path clip-path=\"url(#clip390)\" d=\"M127.686 479.933 Q124.075 479.933 122.246 483.498 Q120.441 487.04 120.441 494.169 Q120.441 501.276 122.246 504.84 Q124.075 508.382 127.686 508.382 Q131.32 508.382 133.126 504.84 Q134.954 501.276 134.954 494.169 Q134.954 487.04 133.126 483.498 Q131.32 479.933 127.686 479.933 M127.686 476.23 Q133.496 476.23 136.552 480.836 Q139.63 485.419 139.63 494.169 Q139.63 502.896 136.552 507.503 Q133.496 512.086 127.686 512.086 Q121.876 512.086 118.797 507.503 Q115.742 502.896 115.742 494.169 Q115.742 485.419 118.797 480.836 Q121.876 476.23 127.686 476.23 Z\" fill=\"#000000\" fill-rule=\"evenodd\" fill-opacity=\"1\" /><path clip-path=\"url(#clip390)\" d=\"M147.848 505.535 L152.732 505.535 L152.732 511.415 L147.848 511.415 L147.848 505.535 Z\" fill=\"#000000\" fill-rule=\"evenodd\" fill-opacity=\"1\" /><path clip-path=\"url(#clip390)\" d=\"M172.917 479.933 Q169.306 479.933 167.477 483.498 Q165.672 487.04 165.672 494.169 Q165.672 501.276 167.477 504.84 Q169.306 508.382 172.917 508.382 Q176.551 508.382 178.357 504.84 Q180.186 501.276 180.186 494.169 Q180.186 487.04 178.357 483.498 Q176.551 479.933 172.917 479.933 M172.917 476.23 Q178.727 476.23 181.783 480.836 Q184.862 485.419 184.862 494.169 Q184.862 502.896 181.783 507.503 Q178.727 512.086 172.917 512.086 Q167.107 512.086 164.028 507.503 Q160.973 502.896 160.973 494.169 Q160.973 485.419 164.028 480.836 Q167.107 476.23 172.917 476.23 Z\" fill=\"#000000\" fill-rule=\"evenodd\" fill-opacity=\"1\" /><path clip-path=\"url(#clip390)\" d=\"M203.079 479.933 Q199.468 479.933 197.639 483.498 Q195.834 487.04 195.834 494.169 Q195.834 501.276 197.639 504.84 Q199.468 508.382 203.079 508.382 Q206.713 508.382 208.519 504.84 Q210.348 501.276 210.348 494.169 Q210.348 487.04 208.519 483.498 Q206.713 479.933 203.079 479.933 M203.079 476.23 Q208.889 476.23 211.945 480.836 Q215.024 485.419 215.024 494.169 Q215.024 502.896 211.945 507.503 Q208.889 512.086 203.079 512.086 Q197.269 512.086 194.19 507.503 Q191.135 502.896 191.135 494.169 Q191.135 485.419 194.19 480.836 Q197.269 476.23 203.079 476.23 Z\" fill=\"#000000\" fill-rule=\"evenodd\" fill-opacity=\"1\" /><path clip-path=\"url(#clip390)\" d=\"M233.241 479.933 Q229.63 479.933 227.801 483.498 Q225.996 487.04 225.996 494.169 Q225.996 501.276 227.801 504.84 Q229.63 508.382 233.241 508.382 Q236.875 508.382 238.681 504.84 Q240.509 501.276 240.509 494.169 Q240.509 487.04 238.681 483.498 Q236.875 479.933 233.241 479.933 M233.241 476.23 Q239.051 476.23 242.107 480.836 Q245.185 485.419 245.185 494.169 Q245.185 502.896 242.107 507.503 Q239.051 512.086 233.241 512.086 Q227.431 512.086 224.352 507.503 Q221.297 502.896 221.297 494.169 Q221.297 485.419 224.352 480.836 Q227.431 476.23 233.241 476.23 Z\" fill=\"#000000\" fill-rule=\"evenodd\" fill-opacity=\"1\" /><path clip-path=\"url(#clip390)\" d=\"M253.449 476.855 L271.806 476.855 L271.806 480.79 L257.732 480.79 L257.732 489.262 Q258.75 488.915 259.769 488.753 Q260.787 488.567 261.806 488.567 Q267.593 488.567 270.972 491.739 Q274.352 494.91 274.352 500.327 Q274.352 505.905 270.88 509.007 Q267.407 512.086 261.088 512.086 Q258.912 512.086 256.644 511.715 Q254.398 511.345 251.991 510.604 L251.991 505.905 Q254.074 507.04 256.296 507.595 Q258.519 508.151 260.995 508.151 Q265 508.151 267.338 506.044 Q269.676 503.938 269.676 500.327 Q269.676 496.716 267.338 494.609 Q265 492.503 260.995 492.503 Q259.12 492.503 257.246 492.919 Q255.394 493.336 253.449 494.216 L253.449 476.855 Z\" fill=\"#000000\" fill-rule=\"evenodd\" fill-opacity=\"1\" /><path clip-path=\"url(#clip390)\" d=\"M126.529 219.738 Q122.918 219.738 121.089 223.303 Q119.283 226.845 119.283 233.974 Q119.283 241.081 121.089 244.646 Q122.918 248.187 126.529 248.187 Q130.163 248.187 131.968 244.646 Q133.797 241.081 133.797 233.974 Q133.797 226.845 131.968 223.303 Q130.163 219.738 126.529 219.738 M126.529 216.035 Q132.339 216.035 135.394 220.641 Q138.473 225.224 138.473 233.974 Q138.473 242.701 135.394 247.308 Q132.339 251.891 126.529 251.891 Q120.718 251.891 117.64 247.308 Q114.584 242.701 114.584 233.974 Q114.584 225.224 117.64 220.641 Q120.718 216.035 126.529 216.035 Z\" fill=\"#000000\" fill-rule=\"evenodd\" fill-opacity=\"1\" /><path clip-path=\"url(#clip390)\" d=\"M146.691 245.34 L151.575 245.34 L151.575 251.22 L146.691 251.22 L146.691 245.34 Z\" fill=\"#000000\" fill-rule=\"evenodd\" fill-opacity=\"1\" /><path clip-path=\"url(#clip390)\" d=\"M171.76 219.738 Q168.149 219.738 166.32 223.303 Q164.515 226.845 164.515 233.974 Q164.515 241.081 166.32 244.646 Q168.149 248.187 171.76 248.187 Q175.394 248.187 177.2 244.646 Q179.028 241.081 179.028 233.974 Q179.028 226.845 177.2 223.303 Q175.394 219.738 171.76 219.738 M171.76 216.035 Q177.57 216.035 180.626 220.641 Q183.704 225.224 183.704 233.974 Q183.704 242.701 180.626 247.308 Q177.57 251.891 171.76 251.891 Q165.95 251.891 162.871 247.308 Q159.815 242.701 159.815 233.974 Q159.815 225.224 162.871 220.641 Q165.95 216.035 171.76 216.035 Z\" fill=\"#000000\" fill-rule=\"evenodd\" fill-opacity=\"1\" /><path clip-path=\"url(#clip390)\" d=\"M201.922 219.738 Q198.311 219.738 196.482 223.303 Q194.676 226.845 194.676 233.974 Q194.676 241.081 196.482 244.646 Q198.311 248.187 201.922 248.187 Q205.556 248.187 207.362 244.646 Q209.19 241.081 209.19 233.974 Q209.19 226.845 207.362 223.303 Q205.556 219.738 201.922 219.738 M201.922 216.035 Q207.732 216.035 210.787 220.641 Q213.866 225.224 213.866 233.974 Q213.866 242.701 210.787 247.308 Q207.732 251.891 201.922 251.891 Q196.112 251.891 193.033 247.308 Q189.977 242.701 189.977 233.974 Q189.977 225.224 193.033 220.641 Q196.112 216.035 201.922 216.035 Z\" fill=\"#000000\" fill-rule=\"evenodd\" fill-opacity=\"1\" /><path clip-path=\"url(#clip390)\" d=\"M232.084 219.738 Q228.473 219.738 226.644 223.303 Q224.838 226.845 224.838 233.974 Q224.838 241.081 226.644 244.646 Q228.473 248.187 232.084 248.187 Q235.718 248.187 237.523 244.646 Q239.352 241.081 239.352 233.974 Q239.352 226.845 237.523 223.303 Q235.718 219.738 232.084 219.738 M232.084 216.035 Q237.894 216.035 240.949 220.641 Q244.028 225.224 244.028 233.974 Q244.028 242.701 240.949 247.308 Q237.894 251.891 232.084 251.891 Q226.273 251.891 223.195 247.308 Q220.139 242.701 220.139 233.974 Q220.139 225.224 223.195 220.641 Q226.273 216.035 232.084 216.035 Z\" fill=\"#000000\" fill-rule=\"evenodd\" fill-opacity=\"1\" /><path clip-path=\"url(#clip390)\" d=\"M262.824 232.076 Q259.676 232.076 257.824 234.229 Q255.996 236.382 255.996 240.132 Q255.996 243.859 257.824 246.035 Q259.676 248.187 262.824 248.187 Q265.972 248.187 267.801 246.035 Q269.653 243.859 269.653 240.132 Q269.653 236.382 267.801 234.229 Q265.972 232.076 262.824 232.076 M272.107 217.424 L272.107 221.683 Q270.347 220.849 268.542 220.41 Q266.759 219.97 265 219.97 Q260.37 219.97 257.917 223.095 Q255.486 226.22 255.139 232.539 Q256.505 230.525 258.565 229.461 Q260.625 228.373 263.102 228.373 Q268.31 228.373 271.32 231.544 Q274.352 234.692 274.352 240.132 Q274.352 245.456 271.204 248.673 Q268.056 251.891 262.824 251.891 Q256.829 251.891 253.658 247.308 Q250.486 242.701 250.486 233.974 Q250.486 225.78 254.375 220.919 Q258.264 216.035 264.815 216.035 Q266.574 216.035 268.357 216.382 Q270.162 216.729 272.107 217.424 Z\" fill=\"#000000\" fill-rule=\"evenodd\" fill-opacity=\"1\" /><path clip-path=\"url(#clip390)\" d=\"M20.1444 987.023 L26.9239 987.023 Q23.9002 990.269 22.4043 993.961 Q20.9083 997.622 20.9083 1001.76 Q20.9083 1009.91 25.9054 1014.24 Q30.8707 1018.56 40.2919 1018.56 Q49.6813 1018.56 54.6784 1014.24 Q59.6436 1009.91 59.6436 1001.76 Q59.6436 997.622 58.1477 993.961 Q56.6518 990.269 53.6281 987.023 L60.3439 987.023 Q62.6355 990.397 63.7814 994.184 Q64.9272 997.94 64.9272 1002.14 Q64.9272 1012.93 58.3387 1019.14 Q51.7183 1025.34 40.2919 1025.34 Q28.8336 1025.34 22.2451 1019.14 Q15.6248 1012.93 15.6248 1002.14 Q15.6248 997.876 16.7706 994.121 Q17.8846 990.333 20.1444 987.023 Z\" fill=\"#000000\" fill-rule=\"evenodd\" fill-opacity=\"1\" /><path clip-path=\"url(#clip390)\" d=\"M46.0847 961.146 Q46.0847 968.244 47.7079 970.981 Q49.3312 973.718 53.2461 973.718 Q56.3653 973.718 58.2114 971.681 Q60.0256 969.613 60.0256 966.08 Q60.0256 961.21 56.5881 958.282 Q53.1188 955.322 47.3897 955.322 L46.0847 955.322 L46.0847 961.146 M43.6657 949.465 L64.0042 949.465 L64.0042 955.322 L58.5933 955.322 Q61.8398 957.327 63.3994 960.319 Q64.9272 963.31 64.9272 967.639 Q64.9272 973.114 61.8716 976.36 Q58.7843 979.575 53.6281 979.575 Q47.6125 979.575 44.5569 975.564 Q41.5014 971.522 41.5014 963.533 L41.5014 955.322 L40.9285 955.322 Q36.8862 955.322 34.6901 957.995 Q32.4621 960.637 32.4621 965.443 Q32.4621 968.499 33.1941 971.395 Q33.9262 974.291 35.3903 976.965 L29.9795 976.965 Q28.7381 973.75 28.1334 970.727 Q27.4968 967.703 27.4968 964.838 Q27.4968 957.104 31.5072 953.285 Q35.5176 949.465 43.6657 949.465 Z\" fill=\"#000000\" fill-rule=\"evenodd\" fill-opacity=\"1\" /><path clip-path=\"url(#clip390)\" d=\"M49.9359 938.007 L28.3562 938.007 L28.3562 932.15 L49.7131 932.15 Q54.7739 932.15 57.3202 930.177 Q59.8346 928.204 59.8346 924.257 Q59.8346 919.514 56.8109 916.777 Q53.7872 914.008 48.5673 914.008 L28.3562 914.008 L28.3562 908.152 L64.0042 908.152 L64.0042 914.008 L58.5296 914.008 Q61.7762 916.141 63.3676 918.973 Q64.9272 921.774 64.9272 925.498 Q64.9272 931.641 61.1078 934.824 Q57.2883 938.007 49.9359 938.007 M27.4968 923.27 L27.4968 923.27 Z\" fill=\"#000000\" fill-rule=\"evenodd\" fill-opacity=\"1\" /><path clip-path=\"url(#clip390)\" d=\"M33.7671 872.631 L14.479 872.631 L14.479 866.775 L64.0042 866.775 L64.0042 872.631 L58.657 872.631 Q61.8398 874.477 63.3994 877.31 Q64.9272 880.111 64.9272 884.057 Q64.9272 890.519 59.771 894.593 Q54.6147 898.635 46.212 898.635 Q37.8093 898.635 32.6531 894.593 Q27.4968 890.519 27.4968 884.057 Q27.4968 880.111 29.0564 877.31 Q30.5842 874.477 33.7671 872.631 M46.212 892.587 Q52.6732 892.587 56.3653 889.946 Q60.0256 887.272 60.0256 882.625 Q60.0256 877.978 56.3653 875.305 Q52.6732 872.631 46.212 872.631 Q39.7508 872.631 36.0905 875.305 Q32.3984 877.978 32.3984 882.625 Q32.3984 887.272 36.0905 889.946 Q39.7508 892.587 46.212 892.587 Z\" fill=\"#000000\" fill-rule=\"evenodd\" fill-opacity=\"1\" /><path clip-path=\"url(#clip390)\" d=\"M46.0847 838.511 Q46.0847 845.609 47.7079 848.346 Q49.3312 851.083 53.2461 851.083 Q56.3653 851.083 58.2114 849.046 Q60.0256 846.977 60.0256 843.444 Q60.0256 838.574 56.5881 835.646 Q53.1188 832.686 47.3897 832.686 L46.0847 832.686 L46.0847 838.511 M43.6657 826.83 L64.0042 826.83 L64.0042 832.686 L58.5933 832.686 Q61.8398 834.691 63.3994 837.683 Q64.9272 840.675 64.9272 845.004 Q64.9272 850.478 61.8716 853.725 Q58.7843 856.94 53.6281 856.94 Q47.6125 856.94 44.5569 852.929 Q41.5014 848.887 41.5014 840.898 L41.5014 832.686 L40.9285 832.686 Q36.8862 832.686 34.6901 835.36 Q32.4621 838.002 32.4621 842.808 Q32.4621 845.863 33.1941 848.76 Q33.9262 851.656 35.3903 854.33 L29.9795 854.33 Q28.7381 851.115 28.1334 848.091 Q27.4968 845.067 27.4968 842.203 Q27.4968 834.469 31.5072 830.649 Q35.5176 826.83 43.6657 826.83 Z\" fill=\"#000000\" fill-rule=\"evenodd\" fill-opacity=\"1\" /><path clip-path=\"url(#clip390)\" d=\"M14.479 814.767 L14.479 808.91 L64.0042 808.91 L64.0042 814.767 L14.479 814.767 Z\" fill=\"#000000\" fill-rule=\"evenodd\" fill-opacity=\"1\" /><path clip-path=\"url(#clip390)\" d=\"M14.479 776.477 L14.479 762.982 L19.0304 762.982 L19.0304 770.621 L68.0464 770.621 L68.0464 762.982 L72.5979 762.982 L72.5979 776.477 L14.479 776.477 Z\" fill=\"#000000\" fill-rule=\"evenodd\" fill-opacity=\"1\" /><path clip-path=\"url(#clip390)\" d=\"M35.1993 722.75 Q31.2526 720.554 29.3747 717.499 Q27.4968 714.443 27.4968 710.305 Q27.4968 704.735 31.4117 701.712 Q35.2948 698.688 42.4881 698.688 L64.0042 698.688 L64.0042 704.576 L42.679 704.576 Q37.5546 704.576 35.072 706.391 Q32.5894 708.205 32.5894 711.929 Q32.5894 716.48 35.6131 719.122 Q38.6368 721.764 43.8567 721.764 L64.0042 721.764 L64.0042 727.652 L42.679 727.652 Q37.5228 727.652 35.072 729.466 Q32.5894 731.28 32.5894 735.068 Q32.5894 739.556 35.6449 742.198 Q38.6686 744.839 43.8567 744.839 L64.0042 744.839 L64.0042 750.728 L28.3562 750.728 L28.3562 744.839 L33.8944 744.839 Q30.616 742.834 29.0564 740.033 Q27.4968 737.232 27.4968 733.381 Q27.4968 729.498 29.4702 726.793 Q31.4436 724.055 35.1993 722.75 Z\" fill=\"#000000\" fill-rule=\"evenodd\" fill-opacity=\"1\" /><path clip-path=\"url(#clip390)\" d=\"M16.4842 662.722 L34.2127 645.439 L34.2127 651.836 L21.6404 665.841 L34.2127 679.846 L34.2127 686.243 L16.4842 668.96 L16.4842 662.722 Z\" fill=\"#000000\" fill-rule=\"evenodd\" fill-opacity=\"1\" /><path clip-path=\"url(#clip390)\" d=\"M38.3822 612.083 Q39.3689 607.467 42.4881 604.889 Q45.6073 602.279 50.1906 602.279 Q57.2247 602.279 61.0759 607.117 Q64.9272 611.955 64.9272 620.867 Q64.9272 623.859 64.3224 627.042 Q63.7495 630.193 62.5719 633.567 L56.3653 633.567 Q57.9249 630.893 58.7206 627.71 Q59.5163 624.528 59.5163 621.058 Q59.5163 615.011 57.1292 611.86 Q54.7421 608.677 50.1906 608.677 Q45.9892 608.677 43.6339 611.637 Q41.2468 614.565 41.2468 619.817 L41.2468 625.355 L35.9632 625.355 L35.9632 619.562 Q35.9632 614.82 34.0853 612.305 Q32.1756 609.791 28.6108 609.791 Q24.9505 609.791 23.009 612.401 Q21.0356 614.979 21.0356 619.817 Q21.0356 622.459 21.6086 625.482 Q22.1815 628.506 23.3909 632.135 L17.6618 632.135 Q16.6433 628.474 16.134 625.291 Q15.6248 622.077 15.6248 619.244 Q15.6248 611.923 18.9668 607.658 Q22.277 603.393 27.9424 603.393 Q31.8892 603.393 34.6264 605.653 Q37.3318 607.913 38.3822 612.083 Z\" fill=\"#000000\" fill-rule=\"evenodd\" fill-opacity=\"1\" /><path clip-path=\"url(#clip390)\" d=\"M16.4842 580.509 L16.4842 575.098 L70.0516 591.649 L70.0516 597.06 L16.4842 580.509 Z\" fill=\"#000000\" fill-rule=\"evenodd\" fill-opacity=\"1\" /><path clip-path=\"url(#clip390)\" d=\"M29.4065 546.229 L34.9447 546.229 Q33.6716 548.712 33.035 551.386 Q32.3984 554.059 32.3984 556.924 Q32.3984 561.284 33.7352 563.48 Q35.072 565.645 37.7456 565.645 Q39.7826 565.645 40.9603 564.085 Q42.1061 562.526 43.1565 557.815 L43.6021 555.81 Q44.9389 549.571 47.3897 546.961 Q49.8086 544.32 54.1691 544.32 Q59.1344 544.32 62.0308 548.266 Q64.9272 552.181 64.9272 559.056 Q64.9272 561.921 64.3543 565.04 Q63.8132 568.127 62.6992 571.565 L56.6518 571.565 Q58.3387 568.318 59.198 565.167 Q60.0256 562.016 60.0256 558.929 Q60.0256 554.791 58.6251 552.563 Q57.1929 550.335 54.6147 550.335 Q52.2276 550.335 50.9545 551.959 Q49.6813 553.55 48.5037 558.993 L48.0262 561.03 Q46.8804 566.472 44.5251 568.891 Q42.138 571.31 38.0002 571.31 Q32.9713 571.31 30.2341 567.745 Q27.4968 564.181 27.4968 557.624 Q27.4968 554.378 27.9743 551.513 Q28.4517 548.648 29.4065 546.229 Z\" fill=\"#000000\" fill-rule=\"evenodd\" fill-opacity=\"1\" /><path clip-path=\"url(#clip390)\" d=\"M14.479 521.308 L72.5979 521.308 L72.5979 534.803 L68.0464 534.803 L68.0464 527.196 L19.0304 527.196 L19.0304 534.803 L14.479 534.803 L14.479 521.308 Z\" fill=\"#000000\" fill-rule=\"evenodd\" fill-opacity=\"1\" /><path clip-path=\"url(#clip390)\" d=\"M845.668 16.7545 L845.668 25.383 Q841.536 21.5346 836.837 19.6307 Q832.179 17.7268 826.913 17.7268 Q816.542 17.7268 811.033 24.0867 Q805.524 30.4061 805.524 42.3968 Q805.524 54.3469 811.033 60.7069 Q816.542 67.0263 826.913 67.0263 Q832.179 67.0263 836.837 65.1223 Q841.536 63.2184 845.668 59.3701 L845.668 67.9175 Q841.374 70.8341 836.554 72.2924 Q831.774 73.7508 826.426 73.7508 Q812.694 73.7508 804.795 65.3654 Q796.895 56.9395 796.895 42.3968 Q796.895 27.8135 804.795 19.4281 Q812.694 11.0023 826.426 11.0023 Q831.855 11.0023 836.635 12.4606 Q841.455 13.8784 845.668 16.7545 Z\" fill=\"#000000\" fill-rule=\"evenodd\" fill-opacity=\"1\" /><path clip-path=\"url(#clip390)\" d=\"M878.602 49.7694 Q869.569 49.7694 866.085 51.8354 Q862.601 53.9013 862.601 58.8839 Q862.601 62.8538 865.194 65.2034 Q867.827 67.5124 872.323 67.5124 Q878.521 67.5124 882.248 63.1374 Q886.015 58.7219 886.015 51.4303 L886.015 49.7694 L878.602 49.7694 M893.469 46.6907 L893.469 72.576 L886.015 72.576 L886.015 65.6895 Q883.463 69.8214 879.655 71.8063 Q875.847 73.7508 870.338 73.7508 Q863.371 73.7508 859.239 69.8619 Q855.147 65.9325 855.147 59.3701 Q855.147 51.7138 860.251 47.825 Q865.396 43.9361 875.564 43.9361 L886.015 43.9361 L886.015 43.2069 Q886.015 38.0623 882.612 35.2672 Q879.25 32.4315 873.133 32.4315 Q869.244 32.4315 865.558 33.3632 Q861.872 34.295 858.469 36.1584 L858.469 29.2718 Q862.56 27.692 866.409 26.9223 Q870.257 26.1121 873.903 26.1121 Q883.747 26.1121 888.608 31.2163 Q893.469 36.3204 893.469 46.6907 Z\" fill=\"#000000\" fill-rule=\"evenodd\" fill-opacity=\"1\" /><path clip-path=\"url(#clip390)\" d=\"M941.391 49.9314 Q941.391 41.7081 937.988 37.0496 Q934.626 32.3505 928.712 32.3505 Q922.797 32.3505 919.395 37.0496 Q916.032 41.7081 916.032 49.9314 Q916.032 58.1548 919.395 62.8538 Q922.797 67.5124 928.712 67.5124 Q934.626 67.5124 937.988 62.8538 Q941.391 58.1548 941.391 49.9314 M916.032 34.0924 Q918.382 30.0415 921.947 28.0971 Q925.552 26.1121 930.535 26.1121 Q938.798 26.1121 943.943 32.6746 Q949.128 39.2371 949.128 49.9314 Q949.128 60.6258 943.943 67.1883 Q938.798 73.7508 930.535 73.7508 Q925.552 73.7508 921.947 71.8063 Q918.382 69.8214 916.032 65.7705 L916.032 72.576 L908.538 72.576 L908.538 9.54393 L916.032 9.54393 L916.032 34.0924 Z\" fill=\"#000000\" fill-rule=\"evenodd\" fill-opacity=\"1\" /><path clip-path=\"url(#clip390)\" d=\"M1000.29 48.0275 L1000.29 51.6733 L966.021 51.6733 Q966.507 59.3701 970.639 63.421 Q974.811 67.4314 982.224 67.4314 Q986.518 67.4314 990.529 66.3781 Q994.579 65.3249 998.549 63.2184 L998.549 70.267 Q994.539 71.9684 990.326 72.8596 Q986.113 73.7508 981.779 73.7508 Q970.922 73.7508 964.562 67.4314 Q958.243 61.1119 958.243 50.3365 Q958.243 39.1965 964.238 32.6746 Q970.274 26.1121 980.482 26.1121 Q989.637 26.1121 994.944 32.0264 Q1000.29 37.9003 1000.29 48.0275 M992.838 45.84 Q992.757 39.7232 989.394 36.0774 Q986.073 32.4315 980.563 32.4315 Q974.325 32.4315 970.558 35.9558 Q966.831 39.4801 966.264 45.8805 L992.838 45.84 Z\" fill=\"#000000\" fill-rule=\"evenodd\" fill-opacity=\"1\" /><path clip-path=\"url(#clip390)\" d=\"M1009.28 27.2059 L1044.69 27.2059 L1044.69 34.0114 L1016.66 66.6212 L1044.69 66.6212 L1044.69 72.576 L1008.27 72.576 L1008.27 65.7705 L1036.3 33.1607 L1009.28 33.1607 L1009.28 27.2059 Z\" fill=\"#000000\" fill-rule=\"evenodd\" fill-opacity=\"1\" /><path clip-path=\"url(#clip390)\" d=\"M1076.69 49.7694 Q1067.66 49.7694 1064.17 51.8354 Q1060.69 53.9013 1060.69 58.8839 Q1060.69 62.8538 1063.28 65.2034 Q1065.92 67.5124 1070.41 67.5124 Q1076.61 67.5124 1080.34 63.1374 Q1084.1 58.7219 1084.1 51.4303 L1084.1 49.7694 L1076.69 49.7694 M1091.56 46.6907 L1091.56 72.576 L1084.1 72.576 L1084.1 65.6895 Q1081.55 69.8214 1077.74 71.8063 Q1073.94 73.7508 1068.43 73.7508 Q1061.46 73.7508 1057.33 69.8619 Q1053.24 65.9325 1053.24 59.3701 Q1053.24 51.7138 1058.34 47.825 Q1063.49 43.9361 1073.65 43.9361 L1084.1 43.9361 L1084.1 43.2069 Q1084.1 38.0623 1080.7 35.2672 Q1077.34 32.4315 1071.22 32.4315 Q1067.33 32.4315 1063.65 33.3632 Q1059.96 34.295 1056.56 36.1584 L1056.56 29.2718 Q1060.65 27.692 1064.5 26.9223 Q1068.35 26.1121 1071.99 26.1121 Q1081.84 26.1121 1086.7 31.2163 Q1091.56 36.3204 1091.56 46.6907 Z\" fill=\"#000000\" fill-rule=\"evenodd\" fill-opacity=\"1\" /><path clip-path=\"url(#clip390)\" d=\"M1140.49 65.7705 L1140.49 89.8329 L1133 89.8329 L1133 27.2059 L1140.49 27.2059 L1140.49 34.0924 Q1142.84 30.0415 1146.41 28.0971 Q1150.01 26.1121 1155 26.1121 Q1163.26 26.1121 1168.4 32.6746 Q1173.59 39.2371 1173.59 49.9314 Q1173.59 60.6258 1168.4 67.1883 Q1163.26 73.7508 1155 73.7508 Q1150.01 73.7508 1146.41 71.8063 Q1142.84 69.8214 1140.49 65.7705 M1165.85 49.9314 Q1165.85 41.7081 1162.45 37.0496 Q1159.09 32.3505 1153.17 32.3505 Q1147.26 32.3505 1143.86 37.0496 Q1140.49 41.7081 1140.49 49.9314 Q1140.49 58.1548 1143.86 62.8538 Q1147.26 67.5124 1153.17 67.5124 Q1159.09 67.5124 1162.45 62.8538 Q1165.85 58.1548 1165.85 49.9314 Z\" fill=\"#000000\" fill-rule=\"evenodd\" fill-opacity=\"1\" /><path clip-path=\"url(#clip390)\" d=\"M1224.75 48.0275 L1224.75 51.6733 L1190.48 51.6733 Q1190.97 59.3701 1195.1 63.421 Q1199.27 67.4314 1206.68 67.4314 Q1210.98 67.4314 1214.99 66.3781 Q1219.04 65.3249 1223.01 63.2184 L1223.01 70.267 Q1219 71.9684 1214.79 72.8596 Q1210.57 73.7508 1206.24 73.7508 Q1195.38 73.7508 1189.02 67.4314 Q1182.7 61.1119 1182.7 50.3365 Q1182.7 39.1965 1188.7 32.6746 Q1194.73 26.1121 1204.94 26.1121 Q1214.1 26.1121 1219.4 32.0264 Q1224.75 37.9003 1224.75 48.0275 M1217.3 45.84 Q1217.22 39.7232 1213.85 36.0774 Q1210.53 32.4315 1205.02 32.4315 Q1198.79 32.4315 1195.02 35.9558 Q1191.29 39.4801 1190.72 45.8805 L1217.3 45.84 Z\" fill=\"#000000\" fill-rule=\"evenodd\" fill-opacity=\"1\" /><path clip-path=\"url(#clip390)\" d=\"M1263.28 34.1734 Q1262.02 33.4443 1260.52 33.1202 Q1259.06 32.7556 1257.28 32.7556 Q1250.96 32.7556 1247.56 36.8875 Q1244.2 40.9789 1244.2 48.6757 L1244.2 72.576 L1236.7 72.576 L1236.7 27.2059 L1244.2 27.2059 L1244.2 34.2544 Q1246.55 30.1225 1250.31 28.1376 Q1254.08 26.1121 1259.47 26.1121 Q1260.24 26.1121 1261.17 26.2337 Q1262.1 26.3147 1263.24 26.5172 L1263.28 34.1734 Z\" fill=\"#000000\" fill-rule=\"evenodd\" fill-opacity=\"1\" /><path clip-path=\"url(#clip390)\" d=\"M1299.49 34.0924 L1299.49 9.54393 L1306.94 9.54393 L1306.94 72.576 L1299.49 72.576 L1299.49 65.7705 Q1297.14 69.8214 1293.54 71.8063 Q1289.97 73.7508 1284.95 73.7508 Q1276.72 73.7508 1271.54 67.1883 Q1266.4 60.6258 1266.4 49.9314 Q1266.4 39.2371 1271.54 32.6746 Q1276.72 26.1121 1284.95 26.1121 Q1289.97 26.1121 1293.54 28.0971 Q1297.14 30.0415 1299.49 34.0924 M1274.09 49.9314 Q1274.09 58.1548 1277.45 62.8538 Q1280.86 67.5124 1286.77 67.5124 Q1292.69 67.5124 1296.09 62.8538 Q1299.49 58.1548 1299.49 49.9314 Q1299.49 41.7081 1296.09 37.0496 Q1292.69 32.3505 1286.77 32.3505 Q1280.86 32.3505 1277.45 37.0496 Q1274.09 41.7081 1274.09 49.9314 Z\" fill=\"#000000\" fill-rule=\"evenodd\" fill-opacity=\"1\" /><path clip-path=\"url(#clip390)\" d=\"M1322.3 27.2059 L1329.75 27.2059 L1329.75 72.576 L1322.3 72.576 L1322.3 27.2059 M1322.3 9.54393 L1329.75 9.54393 L1329.75 18.9825 L1322.3 18.9825 L1322.3 9.54393 Z\" fill=\"#000000\" fill-rule=\"evenodd\" fill-opacity=\"1\" /><path clip-path=\"url(#clip390)\" d=\"M1375.2 34.0924 L1375.2 9.54393 L1382.66 9.54393 L1382.66 72.576 L1375.2 72.576 L1375.2 65.7705 Q1372.85 69.8214 1369.25 71.8063 Q1365.68 73.7508 1360.66 73.7508 Q1352.44 73.7508 1347.25 67.1883 Q1342.11 60.6258 1342.11 49.9314 Q1342.11 39.2371 1347.25 32.6746 Q1352.44 26.1121 1360.66 26.1121 Q1365.68 26.1121 1369.25 28.0971 Q1372.85 30.0415 1375.2 34.0924 M1349.8 49.9314 Q1349.8 58.1548 1353.17 62.8538 Q1356.57 67.5124 1362.48 67.5124 Q1368.4 67.5124 1371.8 62.8538 Q1375.2 58.1548 1375.2 49.9314 Q1375.2 41.7081 1371.8 37.0496 Q1368.4 32.3505 1362.48 32.3505 Q1356.57 32.3505 1353.17 37.0496 Q1349.8 41.7081 1349.8 49.9314 Z\" fill=\"#000000\" fill-rule=\"evenodd\" fill-opacity=\"1\" /><path clip-path=\"url(#clip390)\" d=\"M1418.63 49.7694 Q1409.59 49.7694 1406.11 51.8354 Q1402.63 53.9013 1402.63 58.8839 Q1402.63 62.8538 1405.22 65.2034 Q1407.85 67.5124 1412.35 67.5124 Q1418.55 67.5124 1422.27 63.1374 Q1426.04 58.7219 1426.04 51.4303 L1426.04 49.7694 L1418.63 49.7694 M1433.49 46.6907 L1433.49 72.576 L1426.04 72.576 L1426.04 65.6895 Q1423.49 69.8214 1419.68 71.8063 Q1415.87 73.7508 1410.36 73.7508 Q1403.4 73.7508 1399.26 69.8619 Q1395.17 65.9325 1395.17 59.3701 Q1395.17 51.7138 1400.28 47.825 Q1405.42 43.9361 1415.59 43.9361 L1426.04 43.9361 L1426.04 43.2069 Q1426.04 38.0623 1422.64 35.2672 Q1419.28 32.4315 1413.16 32.4315 Q1409.27 32.4315 1405.58 33.3632 Q1401.9 34.295 1398.5 36.1584 L1398.5 29.2718 Q1402.59 27.692 1406.43 26.9223 Q1410.28 26.1121 1413.93 26.1121 Q1423.77 26.1121 1428.63 31.2163 Q1433.49 36.3204 1433.49 46.6907 Z\" fill=\"#000000\" fill-rule=\"evenodd\" fill-opacity=\"1\" /><path clip-path=\"url(#clip390)\" d=\"M1469.87 27.2059 L1477.77 27.2059 L1491.95 65.2844 L1506.13 27.2059 L1514.03 27.2059 L1497.01 72.576 L1486.89 72.576 L1469.87 27.2059 Z\" fill=\"#000000\" fill-rule=\"evenodd\" fill-opacity=\"1\" /><path clip-path=\"url(#clip390)\" d=\"M1553.24 28.5427 L1553.24 35.5912 Q1550.08 33.9709 1546.68 33.1607 Q1543.27 32.3505 1539.63 32.3505 Q1534.08 32.3505 1531.28 34.0519 Q1528.53 35.7533 1528.53 39.156 Q1528.53 41.7486 1530.51 43.2475 Q1532.5 44.7058 1538.49 46.0426 L1541.05 46.6097 Q1548.99 48.3111 1552.31 51.4303 Q1555.67 54.509 1555.67 60.0587 Q1555.67 66.3781 1550.65 70.0644 Q1545.66 73.7508 1536.91 73.7508 Q1533.27 73.7508 1529.3 73.0216 Q1525.37 72.3329 1520.99 70.9151 L1520.99 63.2184 Q1525.13 65.3654 1529.14 66.4591 Q1533.15 67.5124 1537.08 67.5124 Q1542.34 67.5124 1545.18 65.73 Q1548.01 63.9071 1548.01 60.6258 Q1548.01 57.5877 1545.95 55.9673 Q1543.92 54.3469 1537 52.8481 L1534.4 52.2405 Q1527.48 50.7821 1524.4 47.7845 Q1521.32 44.7463 1521.32 39.4801 Q1521.32 33.0797 1525.86 29.5959 Q1530.39 26.1121 1538.74 26.1121 Q1542.87 26.1121 1546.52 26.7198 Q1550.16 27.3274 1553.24 28.5427 Z\" fill=\"#000000\" fill-rule=\"evenodd\" fill-opacity=\"1\" /><path clip-path=\"url(#clip390)\" d=\"M1639.52 16.7545 L1639.52 25.383 Q1635.39 21.5346 1630.69 19.6307 Q1626.03 17.7268 1620.77 17.7268 Q1610.4 17.7268 1604.89 24.0867 Q1599.38 30.4061 1599.38 42.3968 Q1599.38 54.3469 1604.89 60.7069 Q1610.4 67.0263 1620.77 67.0263 Q1626.03 67.0263 1630.69 65.1223 Q1635.39 63.2184 1639.52 59.3701 L1639.52 67.9175 Q1635.23 70.8341 1630.41 72.2924 Q1625.63 73.7508 1620.28 73.7508 Q1606.55 73.7508 1598.65 65.3654 Q1590.75 56.9395 1590.75 42.3968 Q1590.75 27.8135 1598.65 19.4281 Q1606.55 11.0023 1620.28 11.0023 Q1625.71 11.0023 1630.49 12.4606 Q1635.31 13.8784 1639.52 16.7545 Z\" fill=\"#000000\" fill-rule=\"evenodd\" fill-opacity=\"1\" /><path clip-path=\"url(#clip390)\" d=\"M1672.46 49.7694 Q1663.42 49.7694 1659.94 51.8354 Q1656.46 53.9013 1656.46 58.8839 Q1656.46 62.8538 1659.05 65.2034 Q1661.68 67.5124 1666.18 67.5124 Q1672.38 67.5124 1676.1 63.1374 Q1679.87 58.7219 1679.87 51.4303 L1679.87 49.7694 L1672.46 49.7694 M1687.32 46.6907 L1687.32 72.576 L1679.87 72.576 L1679.87 65.6895 Q1677.32 69.8214 1673.51 71.8063 Q1669.7 73.7508 1664.19 73.7508 Q1657.23 73.7508 1653.09 69.8619 Q1649 65.9325 1649 59.3701 Q1649 51.7138 1654.11 47.825 Q1659.25 43.9361 1669.42 43.9361 L1679.87 43.9361 L1679.87 43.2069 Q1679.87 38.0623 1676.47 35.2672 Q1673.11 32.4315 1666.99 32.4315 Q1663.1 32.4315 1659.41 33.3632 Q1655.73 34.295 1652.32 36.1584 L1652.32 29.2718 Q1656.42 27.692 1660.26 26.9223 Q1664.11 26.1121 1667.76 26.1121 Q1677.6 26.1121 1682.46 31.2163 Q1687.32 36.3204 1687.32 46.6907 Z\" fill=\"#000000\" fill-rule=\"evenodd\" fill-opacity=\"1\" /><path clip-path=\"url(#clip390)\" d=\"M1701.91 54.671 L1701.91 27.2059 L1709.36 27.2059 L1709.36 54.3874 Q1709.36 60.8284 1711.87 64.0691 Q1714.38 67.2693 1719.41 67.2693 Q1725.44 67.2693 1728.93 63.421 Q1732.45 59.5726 1732.45 52.9291 L1732.45 27.2059 L1739.91 27.2059 L1739.91 72.576 L1732.45 72.576 L1732.45 65.6084 Q1729.74 69.7404 1726.13 71.7658 Q1722.57 73.7508 1717.83 73.7508 Q1710.01 73.7508 1705.96 68.8897 Q1701.91 64.0286 1701.91 54.671 M1720.66 26.1121 L1720.66 26.1121 Z\" fill=\"#000000\" fill-rule=\"evenodd\" fill-opacity=\"1\" /><path clip-path=\"url(#clip390)\" d=\"M1785.11 34.0924 L1785.11 9.54393 L1792.57 9.54393 L1792.57 72.576 L1785.11 72.576 L1785.11 65.7705 Q1782.76 69.8214 1779.16 71.8063 Q1775.59 73.7508 1770.57 73.7508 Q1762.35 73.7508 1757.16 67.1883 Q1752.02 60.6258 1752.02 49.9314 Q1752.02 39.2371 1757.16 32.6746 Q1762.35 26.1121 1770.57 26.1121 Q1775.59 26.1121 1779.16 28.0971 Q1782.76 30.0415 1785.11 34.0924 M1759.71 49.9314 Q1759.71 58.1548 1763.08 62.8538 Q1766.48 67.5124 1772.39 67.5124 Q1778.31 67.5124 1781.71 62.8538 Q1785.11 58.1548 1785.11 49.9314 Q1785.11 41.7081 1781.71 37.0496 Q1778.31 32.3505 1772.39 32.3505 Q1766.48 32.3505 1763.08 37.0496 Q1759.71 41.7081 1759.71 49.9314 Z\" fill=\"#000000\" fill-rule=\"evenodd\" fill-opacity=\"1\" /><path clip-path=\"url(#clip390)\" d=\"M1828.54 49.7694 Q1819.51 49.7694 1816.02 51.8354 Q1812.54 53.9013 1812.54 58.8839 Q1812.54 62.8538 1815.13 65.2034 Q1817.76 67.5124 1822.26 67.5124 Q1828.46 67.5124 1832.18 63.1374 Q1835.95 58.7219 1835.95 51.4303 L1835.95 49.7694 L1828.54 49.7694 M1843.41 46.6907 L1843.41 72.576 L1835.95 72.576 L1835.95 65.6895 Q1833.4 69.8214 1829.59 71.8063 Q1825.78 73.7508 1820.28 73.7508 Q1813.31 73.7508 1809.18 69.8619 Q1805.08 65.9325 1805.08 59.3701 Q1805.08 51.7138 1810.19 47.825 Q1815.33 43.9361 1825.5 43.9361 L1835.95 43.9361 L1835.95 43.2069 Q1835.95 38.0623 1832.55 35.2672 Q1829.19 32.4315 1823.07 32.4315 Q1819.18 32.4315 1815.5 33.3632 Q1811.81 34.295 1808.41 36.1584 L1808.41 29.2718 Q1812.5 27.692 1816.35 26.9223 Q1820.19 26.1121 1823.84 26.1121 Q1833.68 26.1121 1838.54 31.2163 Q1843.41 36.3204 1843.41 46.6907 Z\" fill=\"#000000\" fill-rule=\"evenodd\" fill-opacity=\"1\" /><path clip-path=\"url(#clip390)\" d=\"M1858.76 9.54393 L1866.21 9.54393 L1866.21 72.576 L1858.76 72.576 L1858.76 9.54393 Z\" fill=\"#000000\" fill-rule=\"evenodd\" fill-opacity=\"1\" /><polyline clip-path=\"url(#clip392)\" style=\"stroke:#009af9; stroke-linecap:butt; stroke-linejoin:round; stroke-width:4; stroke-opacity:1; fill:none\" points=\"\n  2294.95,1386.4 2249.12,1378.18 2204.49,1369.88 2161.01,1361.51 2118.64,1353.04 2077.34,1344.5 2037.08,1335.88 1997.82,1327.17 1959.52,1318.39 1922.15,1309.52 \n  1885.68,1300.57 1850.08,1291.53 1815.32,1282.42 1781.37,1273.22 1748.21,1263.95 1715.81,1254.59 1684.15,1245.14 1653.2,1235.62 1622.95,1226.02 1593.36,1216.33 \n  1564.42,1206.56 1536.11,1196.71 1508.41,1186.78 1481.3,1176.77 1454.76,1166.67 1428.78,1156.49 1403.35,1146.24 1378.44,1135.9 1354.03,1125.47 1330.13,1114.97 \n  1306.7,1104.38 1283.74,1093.72 1261.24,1082.97 1239.18,1072.14 1217.55,1061.22 1196.34,1050.23 1175.53,1039.15 1155.12,1028 1135.1,1016.76 1115.45,1005.43 \n  1096.17,994.031 1077.24,982.546 1058.66,970.98 1040.42,959.331 1022.51,947.601 1004.92,935.789 987.638,923.896 970.664,911.921 953.989,899.864 937.604,887.725 \n  921.502,875.504 905.676,863.202 890.12,850.818 874.828,838.352 859.792,825.805 845.008,813.176 830.469,800.465 816.169,787.672 802.103,774.797 788.266,761.841 \n  774.653,748.803 761.257,735.684 748.075,722.482 735.102,709.199 722.332,695.834 709.763,682.387 697.388,668.859 685.204,655.249 673.207,641.557 661.393,627.783 \n  649.758,613.928 638.297,599.991 627.009,585.972 615.887,571.871 604.93,557.689 594.134,543.425 583.496,529.079 573.012,514.651 562.679,500.142 552.494,485.551 \n  542.454,470.878 532.557,456.124 522.799,441.287 513.177,426.369 503.69,411.37 494.334,396.288 485.106,381.125 476.005,365.88 467.028,350.553 458.172,335.145 \n  449.436,319.654 440.816,304.082 432.311,288.429 423.919,272.693 415.637,256.876 407.464,240.977 399.397,224.996 391.435,208.934 383.575,192.79 375.816,176.564 \n  368.156,160.256 \n  \"/>\n<path clip-path=\"url(#clip390)\" d=\"\nM2005.31 270.476 L2284.68 270.476 L2284.68 166.796 L2005.31 166.796  Z\n  \" fill=\"#ffffff\" fill-rule=\"evenodd\" fill-opacity=\"1\"/>\n<polyline clip-path=\"url(#clip390)\" style=\"stroke:#000000; stroke-linecap:butt; stroke-linejoin:round; stroke-width:4; stroke-opacity:1; fill:none\" points=\"\n  2005.31,270.476 2284.68,270.476 2284.68,166.796 2005.31,166.796 2005.31,270.476 \n  \"/>\n<polyline clip-path=\"url(#clip390)\" style=\"stroke:#009af9; stroke-linecap:butt; stroke-linejoin:round; stroke-width:4; stroke-opacity:1; fill:none\" points=\"\n  2028.01,218.636 2164.17,218.636 \n  \"/>\n<path clip-path=\"url(#clip390)\" d=\"M2200.7 238.323 Q2198.9 242.953 2197.18 244.365 Q2195.47 245.777 2192.6 245.777 L2189.2 245.777 L2189.2 242.212 L2191.7 242.212 Q2193.46 242.212 2194.43 241.379 Q2195.4 240.545 2196.58 237.443 L2197.34 235.499 L2186.86 209.99 L2191.37 209.99 L2199.47 230.268 L2207.58 209.99 L2212.09 209.99 L2200.7 238.323 Z\" fill=\"#000000\" fill-rule=\"evenodd\" fill-opacity=\"1\" /><path clip-path=\"url(#clip390)\" d=\"M2219.38 231.981 L2227.02 231.981 L2227.02 205.615 L2218.71 207.282 L2218.71 203.022 L2226.97 201.356 L2231.65 201.356 L2231.65 231.981 L2239.29 231.981 L2239.29 235.916 L2219.38 235.916 L2219.38 231.981 Z\" fill=\"#000000\" fill-rule=\"evenodd\" fill-opacity=\"1\" /></svg>\n"
     },
     "execution_count": 100,
     "metadata": {},
     "output_type": "execute_result"
    }
   ],
   "source": [
    "plot(hf,Q)\n",
    "ylabel!(\"Caudal [m^3/s]\")\n",
    "xlabel!(\"Cabezas Perdidas \")\n",
    "title!(\"Cabeza perdida vs Caudal\")"
   ]
  }
 ],
 "metadata": {
  "kernelspec": {
   "display_name": "Julia 1.7.2",
   "language": "julia",
   "name": "julia-1.7"
  },
  "language_info": {
   "file_extension": ".jl",
   "mimetype": "application/julia",
   "name": "julia",
   "version": "1.7.2"
  }
 },
 "nbformat": 4,
 "nbformat_minor": 5
}
