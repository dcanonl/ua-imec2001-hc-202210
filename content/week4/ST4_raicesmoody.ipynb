{
 "cells": [
  {
   "cell_type": "markdown",
   "metadata": {},
   "source": [
    "# IMEC2201 Herramientas Computacionales \n",
    "## Taller Semana 4: Raíces de Ecuaciones - Factor de Fricción de Darcy\n",
    "### Fecha Límite Entrega (Bloque Neón): <font color=\"#FF5733\">23.59h de Mayo 6, 2022</font>\n",
    "\n",
    "Universidad de los Andes — Abril 27, 2022.\n",
    "___\n",
    "### Tener en Cuenta\n",
    "La entrega del Taller 4 se puede realizar de tres maneras:\n",
    "1. Cargar la solución en su repositorio en GitHub y enviar el enlace del mismo vía Bloque Neón.\n",
    "2. Enviar vía Bloque Neón el archivo en Jupyter Notebook (extensión '.ipynb').\n",
    "3. Enviar vía Bloque Neón el archivo PDF del Jupyter Notebook.\n",
    "___\n",
    "\n",
    "\n",
    "# Semana 4: Solución de Ecuaciones no Lineales\n",
    "\n",
    "Esta semana se van a mostrar diferentes casos de soluciones de ecuaciones no lineales. En problemas de ingeniería, es importante conocer las diferentes herramientas que permiten solucionar ecuaciones que en el papel, pueden ser complejas o incluso imposibles de solucionar. \n",
    "\n",
    "Este módulo trabajará con el paquete `NLsolve.jl`, el cual se utiliza para resolver ecuaciones no lineales y también sistemas de ecuaciones no lineales. A continuación se explicará el procedimiento a seguir tanto para una ecuación como para un sistema de dos ecuaciones. Finalmente, se va a dejar un ejercicio práctico para el taller de esta semana.\n",
    "\n",
    "## Instalación del paquete\n",
    "\n",
    "De nuevo, este proceso se puede realizar mediante la consola de Julia de cualquiera de ambas maneras:\n",
    "\n",
    "\n",
    "* ``] add NLsolve``\n",
    "\n",
    "* ``using Pkg; Pkg.add(\"NLsolve\")``\n",
    "\n",
    "## Ejemplo con una ecuación no lineal\n",
    "\n",
    "En este ejemplo se va a solucionar la siguiente ecuación:\n",
    "\n",
    "$$ \\sin^2{(x - 3)} = \\cos{(2x)}$$\n",
    "\n",
    "Para solucionar las ecuación, se debe tener la expresión igualada a cero.\n",
    "\n",
    "Primero, se importa el paquete."
   ]
  },
  {
   "cell_type": "code",
   "execution_count": 1,
   "metadata": {},
   "outputs": [],
   "source": [
    "using NLsolve"
   ]
  },
  {
   "cell_type": "markdown",
   "metadata": {},
   "source": [
    "Se declara una función de esta manera, en la que el primer argumento es el vector de soluciones a cero y el segundo, el número de variables a resolver. En este caso, se usa ``x[1]`` porque sólo es una variable a resolver. "
   ]
  },
  {
   "cell_type": "code",
   "execution_count": 2,
   "metadata": {},
   "outputs": [
    {
     "data": {
      "text/plain": [
       "f! (generic function with 1 method)"
      ]
     },
     "execution_count": 2,
     "metadata": {},
     "output_type": "execute_result"
    }
   ],
   "source": [
    "function f!(F,x) # importante poner un \"!\" al final del nombre de la ecuacion \n",
    "    F[1] = sin(x[1]-3)^2 - cos(2x[1]) # ecuación igualada a cero\n",
    "end # Es recomendable no usar un \"return\""
   ]
  },
  {
   "cell_type": "markdown",
   "metadata": {},
   "source": [
    "Posteriormente, se declara el objeto solución usando la función ``nlsolve(eq,guess)`` donde los parámetros corresponden a la ecuación a resolver y un vector con los puntos iniciales de los cuales se empieza a iterar para buscar una solución. Es importante tener en cuenta la forma de la función a resolver, ya que si tiene más de una raíz, es recomendable usar diferentes puntos de partida para iteración.  "
   ]
  },
  {
   "cell_type": "code",
   "execution_count": 3,
   "metadata": {},
   "outputs": [
    {
     "data": {
      "text/plain": [
       "Results of Nonlinear Solver Algorithm\n",
       " * Algorithm: Trust-region with dogleg and autoscaling\n",
       " * Starting Point: [1.0]\n",
       " * Zero: [0.5668366475637803]\n",
       " * Inf-norm of residuals: 0.000000\n",
       " * Iterations: 4\n",
       " * Convergence: true\n",
       "   * |x - x'| < 0.0e+00: false\n",
       "   * |f(x)| < 1.0e-08: true\n",
       " * Function Calls (f): 5\n",
       " * Jacobian Calls (df/dx): 5"
      ]
     },
     "execution_count": 3,
     "metadata": {},
     "output_type": "execute_result"
    }
   ],
   "source": [
    "sol = nlsolve(f!, [1.0])"
   ]
  },
  {
   "cell_type": "markdown",
   "metadata": {},
   "source": [
    "Como se puede notar, el objeto solución tiene diferentes atributos, donde los que más tienen importancia son la convergencia y el cero. La convergencia es un booleano que confirma si se logró encontrar una solución, mientras que el cero es la solución que se encontro para cada ecuación. "
   ]
  },
  {
   "cell_type": "code",
   "execution_count": 4,
   "metadata": {},
   "outputs": [
    {
     "data": {
      "text/plain": [
       "true"
      ]
     },
     "execution_count": 4,
     "metadata": {},
     "output_type": "execute_result"
    }
   ],
   "source": [
    "# Convergencia de la solución\n",
    "sol.f_converged"
   ]
  },
  {
   "cell_type": "code",
   "execution_count": 5,
   "metadata": {},
   "outputs": [
    {
     "data": {
      "text/plain": [
       "1-element Vector{Float64}:\n",
       " 0.5668366475637803"
      ]
     },
     "execution_count": 5,
     "metadata": {},
     "output_type": "execute_result"
    }
   ],
   "source": [
    "# Solución de la ecuación\n",
    "sol.zero"
   ]
  },
  {
   "cell_type": "markdown",
   "metadata": {},
   "source": [
    "Nótese que el campo `sol.zero` es un vector, ya que en el caso de tener más de una ecuación se tendrían diferentes entradas.\n",
    "\n",
    "## Ejemplo con dos ecuaciones y dos variables\n",
    "\n",
    "En este caso se va a resolver el siguiente sistema:\n",
    "\n",
    "$$ (x_1 + 3)\\times (x_2^3 - 7) = -18 $$\n",
    "\n",
    "$$ \\sin{(x_2 e^{x_1} - 1)} = 0 $$"
   ]
  },
  {
   "cell_type": "code",
   "execution_count": 6,
   "metadata": {},
   "outputs": [
    {
     "data": {
      "text/plain": [
       "Results of Nonlinear Solver Algorithm\n",
       " * Algorithm: Trust-region with dogleg and autoscaling\n",
       " * Starting Point: [0.1, 1.2]\n",
       " * Zero: [-7.775548712324193e-17, 0.9999999999999999]\n",
       " * Inf-norm of residuals: 0.000000\n",
       " * Iterations: 4\n",
       " * Convergence: true\n",
       "   * |x - x'| < 0.0e+00: false\n",
       "   * |f(x)| < 1.0e-08: true\n",
       " * Function Calls (f): 5\n",
       " * Jacobian Calls (df/dx): 5"
      ]
     },
     "execution_count": 6,
     "metadata": {},
     "output_type": "execute_result"
    }
   ],
   "source": [
    "# Se declara la función:\n",
    "\n",
    "function f!(F, x)\n",
    "    F[1] = (x[1]+3)*(x[2]^3-7)+18 # El ultimo termino es +18 porque está igualado a cero\n",
    "    F[2] = sin(x[2]*exp(x[1])-1)\n",
    "end\n",
    "\n",
    "#Resolución del problema\n",
    "\n",
    "sol = nlsolve(f!, [ 0.1; 1.2])"
   ]
  },
  {
   "cell_type": "code",
   "execution_count": 7,
   "metadata": {},
   "outputs": [
    {
     "data": {
      "text/plain": [
       "2-element Vector{Float64}:\n",
       " -7.775548712324193e-17\n",
       "  0.9999999999999999"
      ]
     },
     "execution_count": 7,
     "metadata": {},
     "output_type": "execute_result"
    }
   ],
   "source": [
    "sol.zero"
   ]
  },
  {
   "cell_type": "markdown",
   "metadata": {},
   "source": [
    "Como se puede notar, los ceros del sistema de ecuaciones no lineales son un vector.\n",
    "\n",
    "## Solucion de ecuaciones no lineales con el paquete `Roots.jl`\n",
    "\n",
    "Algunas veces se pueden encontrar diferentes errores con algoritmos sofisticados, y en ocasiones lo mejor es aproximar la ecuación a una fuinción y encontrar la raiz, tal como se realizó cuando se solucionaron las ecuaciones usando `nlsolve()`. El paquete `Roots.jl` puede realizar este procedimiento de una manera un poco más sencilla, usando la función `findzero(f, args..)` donde toma como parámetros la función y argumentos especiales para la resolución de la ecuación. Uno de los métodos más efectivos es el metodo de la bisección (usado por defecto), el cual busca una solución en el intervalo entre dos números. Para más información de este paquete se puede revisar la documentación en https://github.com/JuliaMath/Roots.jl. A continuación se va a realizar un ejemplo:"
   ]
  },
  {
   "cell_type": "code",
   "execution_count": 8,
   "metadata": {},
   "outputs": [
    {
     "data": {
      "text/plain": [
       "-1.1102230246251565e-16"
      ]
     },
     "execution_count": 8,
     "metadata": {},
     "output_type": "execute_result"
    }
   ],
   "source": [
    "using Roots\n",
    "eq(x) = exp(x) - x^4\n",
    "sol = find_zero(eq, (-1,1))\n",
    "# Evaluar la funcion en la solucion\n",
    "eq(sol)"
   ]
  },
  {
   "cell_type": "markdown",
   "metadata": {},
   "source": [
    "# Taller \n",
    "\n",
    "En este caso, se va aplicar el método de solucion de ecuaciones no lineales en un problema de mecánica de fluidos. Cuando se estudian casos de flujo interno (por ejemplo, tuberías y sistemas de bombeo) es importante tener en cuenta los valores de las pérdidas en la presión a causa de la fricción. Esta información pasa a ser relevante en los casos de diseño de sistemas y selección de equipos de bombeo. Esta pérdida puede ser expresada en términos de una cabeza $h_f$, cuya dimensión son unidades de longitud, y puede interpretarse como una distancia máxima que se está perdiendo a causa de la fricción. Se define esta cabeza de pérdidas como:\n",
    "\n",
    "$$ h_f = f \\frac{l}{d} \\frac{V^2}{2g} $$\n",
    "\n",
    "Donde $f$ es el factor de fricción, una cantidad adimensional que es función de la rugosidad relativa y de las variables dinámicas del sistema. Las cantidades $l$ y $d$ son respectivamente la longitud y el diámetro de la tubería y $V$ es la velocidad del fluido. \n",
    "\n",
    "## Factor de fricción\n",
    "\n",
    "Como mencionado anteriormente, el factor de fricción es un importante parámetro adimensional que depende de la rugosidad relativa de la tubería y del número de Reynolds $Re$. Este número relaciona las fuerzas por viscosidad con la inercia cinemática del flujo. Se define como:\n",
    "\n",
    "$$ Re = \\frac{V d}{\\nu} $$\n",
    "\n",
    "Donde $V$ es la velocidad del flujo, $d$ el diámetro de la tubería y $\\nu$ es la viscosidad cinemática del fluido. \n",
    "\n",
    "Los flujos se pueden clasificar de dos maneras, flujo turbulento y flujo laminar. El primero hace referencia a flujos desordenados donde la distrubución de presión y velocidades no son fáciles de modelar, y el segundo trata de líneas de corriente suaves, con distribuciones de presión un poco más uniformes. La clasificación de flujos laminares y turbulentos para flujos internos se puede encontrar con el número de Reynolds:\n",
    "\n",
    "* Laminar si $Re \\leq 2300$\n",
    "\n",
    "* Turbulento si $Re > 2300$\n",
    "\n",
    "El factor de fricción para flujos laminares se encuentra con la siguiente expresión:\n",
    "\n",
    "$$f_{lam} = \\frac{64}{Re}$$\n",
    "\n",
    "En cambio, para flujos turbulentos se tiene una ecuación no lineal, que debe ser encontrada con métodos iterativos, o con métodos computacionales. Esta ecuación se llama la ecuación de Colebrook:\n",
    "\n",
    "$$\\frac{1}{\\sqrt{f}} = -2 \\log_{10}{\\bigg( \\frac{\\epsilon/d}{3.7} + \\frac{2.51}{Re \\sqrt{f}}\\bigg)}$$\n",
    "\n",
    "## Resultados a entregar\n",
    "\n",
    "Para esta semana, se requiere realizar una gráfica que muestre cómo varía la cabeza de pérdidas de una tubería _lisa_, una de una rugosidad relativa de 0.01 y otra 0.02, todas con 10m de longitud con diámetros entre 10 y 20 centímetros, para una bomba que entrega un caudal de agua de $0.02 m^3/s$. Utilizar el valor de viscosidad cinemática del agua a 20 °C: $1.0035\\times 10 ^{-6} m^2/s$\n",
    "\n",
    "Recordar que el caudal se define como:\n",
    "\n",
    "$$ Q = VA$$\n",
    "\n",
    "Donde $V$ es la velocidad del fluido y $A$ es el área transversal de la tubería. \n",
    "\n",
    "**Nota**: Se recomienda verificar si el flujo es laminar o turbulento con el fin de usar la ecuación correcta de resolución para el factor de fricción. \n",
    "\n",
    "Se puede verificar el valor del factor de fricción encontrado usando el Diagrama de Moody, una gráfica que relaciona el número de reynolds con la rugosidad relativa y el factor de fricción:\n",
    "\n",
    "<img src=\"Imagenes Semana 4/Moody.png\" />"
   ]
  },
  {
   "cell_type": "code",
   "execution_count": 9,
   "metadata": {},
   "outputs": [
    {
     "name": "stderr",
     "output_type": "stream",
     "text": [
      "┌ Info: Precompiling Plots [91a5bcdd-55d7-5caf-9e0b-520d859cae80]\n",
      "└ @ Base loading.jl:1423\n"
     ]
    },
    {
     "data": {
      "text/plain": [
       "cabeza_perdidas (generic function with 1 method)"
      ]
     },
     "execution_count": 9,
     "metadata": {},
     "output_type": "execute_result"
    }
   ],
   "source": [
    "using Plots\n",
    "function cabeza_perdidas()\n",
    "    # Escribir el código aquí\n",
    "    diametros = [i/100 for i in LinRange(10,20,10)]\n",
    "    l = 10\n",
    "    Q = 0.02\n",
    "    nu = 1.0035e-6\n",
    "    vel(d) = Q/(π/4*d^2)\n",
    "    reynolds(d) = vel(d)*d/nu\n",
    "    function f_solver(d,ϵ)\n",
    "        Re = reynolds(d)\n",
    "        func(x) = 1/sqrt(x) + 2*log10( (ϵ/d)/3.7 + 2.51/(Re*sqrt(x)) )\n",
    "        f = find_zero(func,(0,1))\n",
    "        return (f)\n",
    "    end\n",
    "    function hf(d,ϵ)\n",
    "        g = 9.81\n",
    "        Re = reynolds(d)\n",
    "        f = f_solver(d,ϵ)\n",
    "        v = vel(d)\n",
    "        h = f * (l/d) * v^2 *1/2g\n",
    "        return (h)\n",
    "    end\n",
    "    # Para la lisa\n",
    "    h_lisa = []\n",
    "    # Para la de 0.01\n",
    "    h_1 = []\n",
    "    # Para la de 0.02\n",
    "    h_2 = []\n",
    "    for di in diametros\n",
    "        append!(h_lisa,hf(di,0))\n",
    "        append!(h_1,hf(di,0.01))\n",
    "        append!(h_2,hf(di,0.02))\n",
    "    end\n",
    "    # Gráficas\n",
    "    plot(diametros*100,h_lisa, label = \"Tuberia lisa\")\n",
    "    plot!(diametros*100,h_1,label = \"ϵ = 0.01\")\n",
    "    plot!(diametros*100,h_2,label = \"ϵ = 0.02\")\n",
    "    title!(\"Cabezas de perdida para diferentes rugosidades\")\n",
    "    xlabel!(\"Diámetros [cm]\")\n",
    "    ylabel!(\"Cabezas de pérdidas [m]\")\n",
    "end"
   ]
  },
  {
   "cell_type": "code",
   "execution_count": 10,
   "metadata": {},
   "outputs": [
    {
     "data": {
      "image/svg+xml": [
       "<?xml version=\"1.0\" encoding=\"utf-8\"?>\n",
       "<svg xmlns=\"http://www.w3.org/2000/svg\" xmlns:xlink=\"http://www.w3.org/1999/xlink\" width=\"600\" height=\"400\" viewBox=\"0 0 2400 1600\">\n",
       "<defs>\n",
       "  <clipPath id=\"clip310\">\n",
       "    <rect x=\"0\" y=\"0\" width=\"2400\" height=\"1600\"/>\n",
       "  </clipPath>\n",
       "</defs>\n",
       "<path clip-path=\"url(#clip310)\" d=\"\n",
       "M0 1600 L2400 1600 L2400 0 L0 0  Z\n",
       "  \" fill=\"#ffffff\" fill-rule=\"evenodd\" fill-opacity=\"1\"/>\n",
       "<defs>\n",
       "  <clipPath id=\"clip311\">\n",
       "    <rect x=\"480\" y=\"0\" width=\"1681\" height=\"1600\"/>\n",
       "  </clipPath>\n",
       "</defs>\n",
       "<path clip-path=\"url(#clip310)\" d=\"\n",
       "M175.445 1423.18 L2352.76 1423.18 L2352.76 123.472 L175.445 123.472  Z\n",
       "  \" fill=\"#ffffff\" fill-rule=\"evenodd\" fill-opacity=\"1\"/>\n",
       "<defs>\n",
       "  <clipPath id=\"clip312\">\n",
       "    <rect x=\"175\" y=\"123\" width=\"2178\" height=\"1301\"/>\n",
       "  </clipPath>\n",
       "</defs>\n",
       "<polyline clip-path=\"url(#clip312)\" style=\"stroke:#000000; stroke-linecap:butt; stroke-linejoin:round; stroke-width:2; stroke-opacity:0.1; fill:none\" points=\"\n",
       "  237.067,1423.18 237.067,123.472 \n",
       "  \"/>\n",
       "<polyline clip-path=\"url(#clip312)\" style=\"stroke:#000000; stroke-linecap:butt; stroke-linejoin:round; stroke-width:2; stroke-opacity:0.1; fill:none\" points=\"\n",
       "  750.584,1423.18 750.584,123.472 \n",
       "  \"/>\n",
       "<polyline clip-path=\"url(#clip312)\" style=\"stroke:#000000; stroke-linecap:butt; stroke-linejoin:round; stroke-width:2; stroke-opacity:0.1; fill:none\" points=\"\n",
       "  1264.1,1423.18 1264.1,123.472 \n",
       "  \"/>\n",
       "<polyline clip-path=\"url(#clip312)\" style=\"stroke:#000000; stroke-linecap:butt; stroke-linejoin:round; stroke-width:2; stroke-opacity:0.1; fill:none\" points=\"\n",
       "  1777.62,1423.18 1777.62,123.472 \n",
       "  \"/>\n",
       "<polyline clip-path=\"url(#clip312)\" style=\"stroke:#000000; stroke-linecap:butt; stroke-linejoin:round; stroke-width:2; stroke-opacity:0.1; fill:none\" points=\"\n",
       "  2291.13,1423.18 2291.13,123.472 \n",
       "  \"/>\n",
       "<polyline clip-path=\"url(#clip310)\" style=\"stroke:#000000; stroke-linecap:butt; stroke-linejoin:round; stroke-width:4; stroke-opacity:1; fill:none\" points=\"\n",
       "  175.445,1423.18 2352.76,1423.18 \n",
       "  \"/>\n",
       "<polyline clip-path=\"url(#clip310)\" style=\"stroke:#000000; stroke-linecap:butt; stroke-linejoin:round; stroke-width:4; stroke-opacity:1; fill:none\" points=\"\n",
       "  237.067,1423.18 237.067,1404.28 \n",
       "  \"/>\n",
       "<polyline clip-path=\"url(#clip310)\" style=\"stroke:#000000; stroke-linecap:butt; stroke-linejoin:round; stroke-width:4; stroke-opacity:1; fill:none\" points=\"\n",
       "  750.584,1423.18 750.584,1404.28 \n",
       "  \"/>\n",
       "<polyline clip-path=\"url(#clip310)\" style=\"stroke:#000000; stroke-linecap:butt; stroke-linejoin:round; stroke-width:4; stroke-opacity:1; fill:none\" points=\"\n",
       "  1264.1,1423.18 1264.1,1404.28 \n",
       "  \"/>\n",
       "<polyline clip-path=\"url(#clip310)\" style=\"stroke:#000000; stroke-linecap:butt; stroke-linejoin:round; stroke-width:4; stroke-opacity:1; fill:none\" points=\"\n",
       "  1777.62,1423.18 1777.62,1404.28 \n",
       "  \"/>\n",
       "<polyline clip-path=\"url(#clip310)\" style=\"stroke:#000000; stroke-linecap:butt; stroke-linejoin:round; stroke-width:4; stroke-opacity:1; fill:none\" points=\"\n",
       "  2291.13,1423.18 2291.13,1404.28 \n",
       "  \"/>\n",
       "<path clip-path=\"url(#clip310)\" d=\"M189.139 1481.64 L196.778 1481.64 L196.778 1455.28 L188.468 1456.95 L188.468 1452.69 L196.732 1451.02 L201.408 1451.02 L201.408 1481.64 L209.047 1481.64 L209.047 1485.58 L189.139 1485.58 L189.139 1481.64 Z\" fill=\"#000000\" fill-rule=\"evenodd\" fill-opacity=\"1\" /><path clip-path=\"url(#clip310)\" d=\"M228.491 1454.1 Q224.88 1454.1 223.051 1457.66 Q221.246 1461.2 221.246 1468.33 Q221.246 1475.44 223.051 1479.01 Q224.88 1482.55 228.491 1482.55 Q232.125 1482.55 233.931 1479.01 Q235.759 1475.44 235.759 1468.33 Q235.759 1461.2 233.931 1457.66 Q232.125 1454.1 228.491 1454.1 M228.491 1450.39 Q234.301 1450.39 237.357 1455 Q240.435 1459.58 240.435 1468.33 Q240.435 1477.06 237.357 1481.67 Q234.301 1486.25 228.491 1486.25 Q222.681 1486.25 219.602 1481.67 Q216.546 1477.06 216.546 1468.33 Q216.546 1459.58 219.602 1455 Q222.681 1450.39 228.491 1450.39 Z\" fill=\"#000000\" fill-rule=\"evenodd\" fill-opacity=\"1\" /><path clip-path=\"url(#clip310)\" d=\"M248.653 1479.7 L253.537 1479.7 L253.537 1485.58 L248.653 1485.58 L248.653 1479.7 Z\" fill=\"#000000\" fill-rule=\"evenodd\" fill-opacity=\"1\" /><path clip-path=\"url(#clip310)\" d=\"M273.722 1454.1 Q270.111 1454.1 268.282 1457.66 Q266.477 1461.2 266.477 1468.33 Q266.477 1475.44 268.282 1479.01 Q270.111 1482.55 273.722 1482.55 Q277.356 1482.55 279.162 1479.01 Q280.991 1475.44 280.991 1468.33 Q280.991 1461.2 279.162 1457.66 Q277.356 1454.1 273.722 1454.1 M273.722 1450.39 Q279.532 1450.39 282.588 1455 Q285.666 1459.58 285.666 1468.33 Q285.666 1477.06 282.588 1481.67 Q279.532 1486.25 273.722 1486.25 Q267.912 1486.25 264.833 1481.67 Q261.778 1477.06 261.778 1468.33 Q261.778 1459.58 264.833 1455 Q267.912 1450.39 273.722 1450.39 Z\" fill=\"#000000\" fill-rule=\"evenodd\" fill-opacity=\"1\" /><path clip-path=\"url(#clip310)\" d=\"M703.154 1481.64 L710.792 1481.64 L710.792 1455.28 L702.482 1456.95 L702.482 1452.69 L710.746 1451.02 L715.422 1451.02 L715.422 1481.64 L723.061 1481.64 L723.061 1485.58 L703.154 1485.58 L703.154 1481.64 Z\" fill=\"#000000\" fill-rule=\"evenodd\" fill-opacity=\"1\" /><path clip-path=\"url(#clip310)\" d=\"M736.533 1481.64 L752.852 1481.64 L752.852 1485.58 L730.908 1485.58 L730.908 1481.64 Q733.57 1478.89 738.153 1474.26 Q742.76 1469.61 743.94 1468.27 Q746.186 1465.74 747.065 1464.01 Q747.968 1462.25 747.968 1460.56 Q747.968 1457.8 746.024 1456.07 Q744.102 1454.33 741.001 1454.33 Q738.802 1454.33 736.348 1455.09 Q733.917 1455.86 731.14 1457.41 L731.14 1452.69 Q733.964 1451.55 736.417 1450.97 Q738.871 1450.39 740.908 1450.39 Q746.278 1450.39 749.473 1453.08 Q752.667 1455.77 752.667 1460.26 Q752.667 1462.39 751.857 1464.31 Q751.07 1466.2 748.964 1468.8 Q748.385 1469.47 745.283 1472.69 Q742.181 1475.88 736.533 1481.64 Z\" fill=\"#000000\" fill-rule=\"evenodd\" fill-opacity=\"1\" /><path clip-path=\"url(#clip310)\" d=\"M762.667 1479.7 L767.551 1479.7 L767.551 1485.58 L762.667 1485.58 L762.667 1479.7 Z\" fill=\"#000000\" fill-rule=\"evenodd\" fill-opacity=\"1\" /><path clip-path=\"url(#clip310)\" d=\"M777.783 1451.02 L796.139 1451.02 L796.139 1454.96 L782.065 1454.96 L782.065 1463.43 Q783.084 1463.08 784.102 1462.92 Q785.121 1462.73 786.139 1462.73 Q791.926 1462.73 795.306 1465.9 Q798.685 1469.08 798.685 1474.49 Q798.685 1480.07 795.213 1483.17 Q791.741 1486.25 785.422 1486.25 Q783.246 1486.25 780.977 1485.88 Q778.732 1485.51 776.324 1484.77 L776.324 1480.07 Q778.408 1481.2 780.63 1481.76 Q782.852 1482.32 785.329 1482.32 Q789.334 1482.32 791.672 1480.21 Q794.01 1478.1 794.01 1474.49 Q794.01 1470.88 791.672 1468.77 Q789.334 1466.67 785.329 1466.67 Q783.454 1466.67 781.579 1467.08 Q779.727 1467.5 777.783 1468.38 L777.783 1451.02 Z\" fill=\"#000000\" fill-rule=\"evenodd\" fill-opacity=\"1\" /><path clip-path=\"url(#clip310)\" d=\"M1216.17 1481.64 L1223.81 1481.64 L1223.81 1455.28 L1215.5 1456.95 L1215.5 1452.69 L1223.77 1451.02 L1228.44 1451.02 L1228.44 1481.64 L1236.08 1481.64 L1236.08 1485.58 L1216.17 1485.58 L1216.17 1481.64 Z\" fill=\"#000000\" fill-rule=\"evenodd\" fill-opacity=\"1\" /><path clip-path=\"url(#clip310)\" d=\"M1245.57 1451.02 L1263.93 1451.02 L1263.93 1454.96 L1249.85 1454.96 L1249.85 1463.43 Q1250.87 1463.08 1251.89 1462.92 Q1252.91 1462.73 1253.93 1462.73 Q1259.71 1462.73 1263.09 1465.9 Q1266.47 1469.08 1266.47 1474.49 Q1266.47 1480.07 1263 1483.17 Q1259.53 1486.25 1253.21 1486.25 Q1251.03 1486.25 1248.76 1485.88 Q1246.52 1485.51 1244.11 1484.77 L1244.11 1480.07 Q1246.2 1481.2 1248.42 1481.76 Q1250.64 1482.32 1253.12 1482.32 Q1257.12 1482.32 1259.46 1480.21 Q1261.8 1478.1 1261.8 1474.49 Q1261.8 1470.88 1259.46 1468.77 Q1257.12 1466.67 1253.12 1466.67 Q1251.24 1466.67 1249.37 1467.08 Q1247.51 1467.5 1245.57 1468.38 L1245.57 1451.02 Z\" fill=\"#000000\" fill-rule=\"evenodd\" fill-opacity=\"1\" /><path clip-path=\"url(#clip310)\" d=\"M1275.69 1479.7 L1280.57 1479.7 L1280.57 1485.58 L1275.69 1485.58 L1275.69 1479.7 Z\" fill=\"#000000\" fill-rule=\"evenodd\" fill-opacity=\"1\" /><path clip-path=\"url(#clip310)\" d=\"M1300.76 1454.1 Q1297.14 1454.1 1295.32 1457.66 Q1293.51 1461.2 1293.51 1468.33 Q1293.51 1475.44 1295.32 1479.01 Q1297.14 1482.55 1300.76 1482.55 Q1304.39 1482.55 1306.2 1479.01 Q1308.02 1475.44 1308.02 1468.33 Q1308.02 1461.2 1306.2 1457.66 Q1304.39 1454.1 1300.76 1454.1 M1300.76 1450.39 Q1306.57 1450.39 1309.62 1455 Q1312.7 1459.58 1312.7 1468.33 Q1312.7 1477.06 1309.62 1481.67 Q1306.57 1486.25 1300.76 1486.25 Q1294.95 1486.25 1291.87 1481.67 Q1288.81 1477.06 1288.81 1468.33 Q1288.81 1459.58 1291.87 1455 Q1294.95 1450.39 1300.76 1450.39 Z\" fill=\"#000000\" fill-rule=\"evenodd\" fill-opacity=\"1\" /><path clip-path=\"url(#clip310)\" d=\"M1730.19 1481.64 L1737.83 1481.64 L1737.83 1455.28 L1729.52 1456.95 L1729.52 1452.69 L1737.78 1451.02 L1742.46 1451.02 L1742.46 1481.64 L1750.09 1481.64 L1750.09 1485.58 L1730.19 1485.58 L1730.19 1481.64 Z\" fill=\"#000000\" fill-rule=\"evenodd\" fill-opacity=\"1\" /><path clip-path=\"url(#clip310)\" d=\"M1758.36 1451.02 L1780.58 1451.02 L1780.58 1453.01 L1768.03 1485.58 L1763.15 1485.58 L1774.96 1454.96 L1758.36 1454.96 L1758.36 1451.02 Z\" fill=\"#000000\" fill-rule=\"evenodd\" fill-opacity=\"1\" /><path clip-path=\"url(#clip310)\" d=\"M1789.7 1479.7 L1794.58 1479.7 L1794.58 1485.58 L1789.7 1485.58 L1789.7 1479.7 Z\" fill=\"#000000\" fill-rule=\"evenodd\" fill-opacity=\"1\" /><path clip-path=\"url(#clip310)\" d=\"M1804.82 1451.02 L1823.17 1451.02 L1823.17 1454.96 L1809.1 1454.96 L1809.1 1463.43 Q1810.12 1463.08 1811.14 1462.92 Q1812.15 1462.73 1813.17 1462.73 Q1818.96 1462.73 1822.34 1465.9 Q1825.72 1469.08 1825.72 1474.49 Q1825.72 1480.07 1822.25 1483.17 Q1818.77 1486.25 1812.46 1486.25 Q1810.28 1486.25 1808.01 1485.88 Q1805.77 1485.51 1803.36 1484.77 L1803.36 1480.07 Q1805.44 1481.2 1807.66 1481.76 Q1809.89 1482.32 1812.36 1482.32 Q1816.37 1482.32 1818.7 1480.21 Q1821.04 1478.1 1821.04 1474.49 Q1821.04 1470.88 1818.7 1468.77 Q1816.37 1466.67 1812.36 1466.67 Q1810.49 1466.67 1808.61 1467.08 Q1806.76 1467.5 1804.82 1468.38 L1804.82 1451.02 Z\" fill=\"#000000\" fill-rule=\"evenodd\" fill-opacity=\"1\" /><path clip-path=\"url(#clip310)\" d=\"M2247.29 1481.64 L2263.61 1481.64 L2263.61 1485.58 L2241.67 1485.58 L2241.67 1481.64 Q2244.33 1478.89 2248.91 1474.26 Q2253.52 1469.61 2254.7 1468.27 Q2256.94 1465.74 2257.82 1464.01 Q2258.73 1462.25 2258.73 1460.56 Q2258.73 1457.8 2256.78 1456.07 Q2254.86 1454.33 2251.76 1454.33 Q2249.56 1454.33 2247.11 1455.09 Q2244.68 1455.86 2241.9 1457.41 L2241.9 1452.69 Q2244.72 1451.55 2247.18 1450.97 Q2249.63 1450.39 2251.67 1450.39 Q2257.04 1450.39 2260.23 1453.08 Q2263.43 1455.77 2263.43 1460.26 Q2263.43 1462.39 2262.62 1464.31 Q2261.83 1466.2 2259.72 1468.8 Q2259.14 1469.47 2256.04 1472.69 Q2252.94 1475.88 2247.29 1481.64 Z\" fill=\"#000000\" fill-rule=\"evenodd\" fill-opacity=\"1\" /><path clip-path=\"url(#clip310)\" d=\"M2283.43 1454.1 Q2279.81 1454.1 2277.99 1457.66 Q2276.18 1461.2 2276.18 1468.33 Q2276.18 1475.44 2277.99 1479.01 Q2279.81 1482.55 2283.43 1482.55 Q2287.06 1482.55 2288.87 1479.01 Q2290.69 1475.44 2290.69 1468.33 Q2290.69 1461.2 2288.87 1457.66 Q2287.06 1454.1 2283.43 1454.1 M2283.43 1450.39 Q2289.24 1450.39 2292.29 1455 Q2295.37 1459.58 2295.37 1468.33 Q2295.37 1477.06 2292.29 1481.67 Q2289.24 1486.25 2283.43 1486.25 Q2277.62 1486.25 2274.54 1481.67 Q2271.48 1477.06 2271.48 1468.33 Q2271.48 1459.58 2274.54 1455 Q2277.62 1450.39 2283.43 1450.39 Z\" fill=\"#000000\" fill-rule=\"evenodd\" fill-opacity=\"1\" /><path clip-path=\"url(#clip310)\" d=\"M2303.59 1479.7 L2308.47 1479.7 L2308.47 1485.58 L2303.59 1485.58 L2303.59 1479.7 Z\" fill=\"#000000\" fill-rule=\"evenodd\" fill-opacity=\"1\" /><path clip-path=\"url(#clip310)\" d=\"M2328.66 1454.1 Q2325.05 1454.1 2323.22 1457.66 Q2321.41 1461.2 2321.41 1468.33 Q2321.41 1475.44 2323.22 1479.01 Q2325.05 1482.55 2328.66 1482.55 Q2332.29 1482.55 2334.1 1479.01 Q2335.93 1475.44 2335.93 1468.33 Q2335.93 1461.2 2334.1 1457.66 Q2332.29 1454.1 2328.66 1454.1 M2328.66 1450.39 Q2334.47 1450.39 2337.52 1455 Q2340.6 1459.58 2340.6 1468.33 Q2340.6 1477.06 2337.52 1481.67 Q2334.47 1486.25 2328.66 1486.25 Q2322.85 1486.25 2319.77 1481.67 Q2316.71 1477.06 2316.71 1468.33 Q2316.71 1459.58 2319.77 1455 Q2322.85 1450.39 2328.66 1450.39 Z\" fill=\"#000000\" fill-rule=\"evenodd\" fill-opacity=\"1\" /><path clip-path=\"url(#clip310)\" d=\"M1022.76 1525.81 L1022.76 1562.76 L1030.53 1562.76 Q1040.36 1562.76 1044.91 1558.3 Q1049.5 1553.85 1049.5 1544.24 Q1049.5 1534.69 1044.91 1530.26 Q1040.36 1525.81 1030.53 1525.81 L1022.76 1525.81 M1016.33 1520.52 L1029.54 1520.52 Q1043.35 1520.52 1049.81 1526.28 Q1056.28 1532.01 1056.28 1544.24 Q1056.28 1556.52 1049.78 1562.28 Q1043.29 1568.04 1029.54 1568.04 L1016.33 1568.04 L1016.33 1520.52 Z\" fill=\"#000000\" fill-rule=\"evenodd\" fill-opacity=\"1\" /><path clip-path=\"url(#clip310)\" d=\"M1066.27 1532.4 L1072.13 1532.4 L1072.13 1568.04 L1066.27 1568.04 L1066.27 1532.4 M1066.27 1518.52 L1072.13 1518.52 L1072.13 1525.93 L1066.27 1525.93 L1066.27 1518.52 Z\" fill=\"#000000\" fill-rule=\"evenodd\" fill-opacity=\"1\" /><path clip-path=\"url(#clip310)\" d=\"M1100.58 1550.12 Q1093.48 1550.12 1090.75 1551.75 Q1088.01 1553.37 1088.01 1557.29 Q1088.01 1560.4 1090.05 1562.25 Q1092.12 1564.07 1095.65 1564.07 Q1100.52 1564.07 1103.45 1560.63 Q1106.41 1557.16 1106.41 1551.43 L1106.41 1550.12 L1100.58 1550.12 M1112.26 1547.71 L1112.26 1568.04 L1106.41 1568.04 L1106.41 1562.63 Q1104.4 1565.88 1101.41 1567.44 Q1098.42 1568.97 1094.09 1568.97 Q1088.61 1568.97 1085.37 1565.91 Q1082.15 1562.82 1082.15 1557.67 Q1082.15 1551.65 1086.16 1548.6 Q1090.21 1545.54 1098.19 1545.54 L1106.41 1545.54 L1106.41 1544.97 Q1106.41 1540.93 1103.73 1538.73 Q1101.09 1536.5 1096.28 1536.5 Q1093.23 1536.5 1090.33 1537.23 Q1087.44 1537.97 1084.76 1539.43 L1084.76 1534.02 Q1087.98 1532.78 1091 1532.17 Q1094.02 1531.54 1096.89 1531.54 Q1104.62 1531.54 1108.44 1535.55 Q1112.26 1539.56 1112.26 1547.71 M1101.57 1515.91 L1107.9 1515.91 L1097.53 1527.88 L1092.66 1527.88 L1101.57 1515.91 Z\" fill=\"#000000\" fill-rule=\"evenodd\" fill-opacity=\"1\" /><path clip-path=\"url(#clip310)\" d=\"M1152.08 1539.24 Q1154.28 1535.29 1157.33 1533.41 Q1160.39 1531.54 1164.52 1531.54 Q1170.09 1531.54 1173.12 1535.45 Q1176.14 1539.33 1176.14 1546.53 L1176.14 1568.04 L1170.25 1568.04 L1170.25 1546.72 Q1170.25 1541.59 1168.44 1539.11 Q1166.63 1536.63 1162.9 1536.63 Q1158.35 1536.63 1155.71 1539.65 Q1153.07 1542.68 1153.07 1547.9 L1153.07 1568.04 L1147.18 1568.04 L1147.18 1546.72 Q1147.18 1541.56 1145.36 1539.11 Q1143.55 1536.63 1139.76 1536.63 Q1135.27 1536.63 1132.63 1539.68 Q1129.99 1542.71 1129.99 1547.9 L1129.99 1568.04 L1124.1 1568.04 L1124.1 1532.4 L1129.99 1532.4 L1129.99 1537.93 Q1132 1534.66 1134.8 1533.1 Q1137.6 1531.54 1141.45 1531.54 Q1145.33 1531.54 1148.04 1533.51 Q1150.78 1535.48 1152.08 1539.24 Z\" fill=\"#000000\" fill-rule=\"evenodd\" fill-opacity=\"1\" /><path clip-path=\"url(#clip310)\" d=\"M1218.32 1548.76 L1218.32 1551.62 L1191.39 1551.62 Q1191.77 1557.67 1195.02 1560.85 Q1198.3 1564 1204.12 1564 Q1207.49 1564 1210.64 1563.17 Q1213.83 1562.35 1216.95 1560.69 L1216.95 1566.23 Q1213.8 1567.57 1210.49 1568.27 Q1207.18 1568.97 1203.77 1568.97 Q1195.24 1568.97 1190.24 1564 Q1185.28 1559.04 1185.28 1550.57 Q1185.28 1541.82 1189.99 1536.69 Q1194.73 1531.54 1202.75 1531.54 Q1209.94 1531.54 1214.11 1536.18 Q1218.32 1540.8 1218.32 1548.76 M1212.46 1547.04 Q1212.4 1542.23 1209.75 1539.37 Q1207.14 1536.5 1202.81 1536.5 Q1197.91 1536.5 1194.95 1539.27 Q1192.02 1542.04 1191.58 1547.07 L1212.46 1547.04 Z\" fill=\"#000000\" fill-rule=\"evenodd\" fill-opacity=\"1\" /><path clip-path=\"url(#clip310)\" d=\"M1233.72 1522.27 L1233.72 1532.4 L1245.78 1532.4 L1245.78 1536.95 L1233.72 1536.95 L1233.72 1556.3 Q1233.72 1560.66 1234.9 1561.9 Q1236.11 1563.14 1239.77 1563.14 L1245.78 1563.14 L1245.78 1568.04 L1239.77 1568.04 Q1232.99 1568.04 1230.41 1565.53 Q1227.83 1562.98 1227.83 1556.3 L1227.83 1536.95 L1223.54 1536.95 L1223.54 1532.4 L1227.83 1532.4 L1227.83 1522.27 L1233.72 1522.27 Z\" fill=\"#000000\" fill-rule=\"evenodd\" fill-opacity=\"1\" /><path clip-path=\"url(#clip310)\" d=\"M1274.14 1537.87 Q1273.16 1537.3 1271.98 1537.04 Q1270.83 1536.76 1269.43 1536.76 Q1264.47 1536.76 1261.79 1540 Q1259.15 1543.22 1259.15 1549.27 L1259.15 1568.04 L1253.26 1568.04 L1253.26 1532.4 L1259.15 1532.4 L1259.15 1537.93 Q1261 1534.69 1263.96 1533.13 Q1266.92 1531.54 1271.15 1531.54 Q1271.76 1531.54 1272.49 1531.63 Q1273.22 1531.7 1274.11 1531.85 L1274.14 1537.87 Z\" fill=\"#000000\" fill-rule=\"evenodd\" fill-opacity=\"1\" /><path clip-path=\"url(#clip310)\" d=\"M1292.67 1536.5 Q1287.96 1536.5 1285.22 1540.19 Q1282.48 1543.85 1282.48 1550.25 Q1282.48 1556.65 1285.19 1560.34 Q1287.92 1564 1292.67 1564 Q1297.35 1564 1300.08 1560.31 Q1302.82 1556.62 1302.82 1550.25 Q1302.82 1543.92 1300.08 1540.23 Q1297.35 1536.5 1292.67 1536.5 M1292.67 1531.54 Q1300.31 1531.54 1304.67 1536.5 Q1309.03 1541.47 1309.03 1550.25 Q1309.03 1559 1304.67 1564 Q1300.31 1568.97 1292.67 1568.97 Q1285 1568.97 1280.64 1564 Q1276.31 1559 1276.31 1550.25 Q1276.31 1541.47 1280.64 1536.5 Q1285 1531.54 1292.67 1531.54 Z\" fill=\"#000000\" fill-rule=\"evenodd\" fill-opacity=\"1\" /><path clip-path=\"url(#clip310)\" d=\"M1341.46 1533.45 L1341.46 1538.98 Q1338.98 1537.71 1336.3 1537.07 Q1333.63 1536.44 1330.77 1536.44 Q1326.4 1536.44 1324.21 1537.77 Q1322.04 1539.11 1322.04 1541.79 Q1322.04 1543.82 1323.6 1545 Q1325.16 1546.15 1329.87 1547.2 L1331.88 1547.64 Q1338.12 1548.98 1340.73 1551.43 Q1343.37 1553.85 1343.37 1558.21 Q1343.37 1563.17 1339.42 1566.07 Q1335.51 1568.97 1328.63 1568.97 Q1325.77 1568.97 1322.65 1568.39 Q1319.56 1567.85 1316.12 1566.74 L1316.12 1560.69 Q1319.37 1562.38 1322.52 1563.24 Q1325.67 1564.07 1328.76 1564.07 Q1332.9 1564.07 1335.13 1562.66 Q1337.35 1561.23 1337.35 1558.65 Q1337.35 1556.27 1335.73 1554.99 Q1334.14 1553.72 1328.7 1552.54 L1326.66 1552.07 Q1321.22 1550.92 1318.8 1548.56 Q1316.38 1546.18 1316.38 1542.04 Q1316.38 1537.01 1319.94 1534.27 Q1323.51 1531.54 1330.07 1531.54 Q1333.31 1531.54 1336.18 1532.01 Q1339.04 1532.49 1341.46 1533.45 Z\" fill=\"#000000\" fill-rule=\"evenodd\" fill-opacity=\"1\" /><path clip-path=\"url(#clip310)\" d=\"M1372.87 1518.52 L1386.37 1518.52 L1386.37 1523.07 L1378.73 1523.07 L1378.73 1572.09 L1386.37 1572.09 L1386.37 1576.64 L1372.87 1576.64 L1372.87 1518.52 Z\" fill=\"#000000\" fill-rule=\"evenodd\" fill-opacity=\"1\" /><path clip-path=\"url(#clip310)\" d=\"M1424.5 1533.76 L1424.5 1539.24 Q1422.02 1537.87 1419.5 1537.2 Q1417.02 1536.5 1414.47 1536.5 Q1408.78 1536.5 1405.63 1540.13 Q1402.48 1543.73 1402.48 1550.25 Q1402.48 1556.78 1405.63 1560.4 Q1408.78 1564 1414.47 1564 Q1417.02 1564 1419.5 1563.33 Q1422.02 1562.63 1424.5 1561.26 L1424.5 1566.68 Q1422.05 1567.82 1419.41 1568.39 Q1416.8 1568.97 1413.84 1568.97 Q1405.79 1568.97 1401.04 1563.91 Q1396.3 1558.85 1396.3 1550.25 Q1396.3 1541.53 1401.07 1536.53 Q1405.88 1531.54 1414.22 1531.54 Q1416.93 1531.54 1419.5 1532.11 Q1422.08 1532.65 1424.5 1533.76 Z\" fill=\"#000000\" fill-rule=\"evenodd\" fill-opacity=\"1\" /><path clip-path=\"url(#clip310)\" d=\"M1462.44 1539.24 Q1464.64 1535.29 1467.69 1533.41 Q1470.75 1531.54 1474.89 1531.54 Q1480.46 1531.54 1483.48 1535.45 Q1486.5 1539.33 1486.5 1546.53 L1486.5 1568.04 L1480.61 1568.04 L1480.61 1546.72 Q1480.61 1541.59 1478.8 1539.11 Q1476.99 1536.63 1473.26 1536.63 Q1468.71 1536.63 1466.07 1539.65 Q1463.43 1542.68 1463.43 1547.9 L1463.43 1568.04 L1457.54 1568.04 L1457.54 1546.72 Q1457.54 1541.56 1455.72 1539.11 Q1453.91 1536.63 1450.12 1536.63 Q1445.63 1536.63 1442.99 1539.68 Q1440.35 1542.71 1440.35 1547.9 L1440.35 1568.04 L1434.46 1568.04 L1434.46 1532.4 L1440.35 1532.4 L1440.35 1537.93 Q1442.36 1534.66 1445.16 1533.1 Q1447.96 1531.54 1451.81 1531.54 Q1455.69 1531.54 1458.4 1533.51 Q1461.14 1535.48 1462.44 1539.24 Z\" fill=\"#000000\" fill-rule=\"evenodd\" fill-opacity=\"1\" /><path clip-path=\"url(#clip310)\" d=\"M1511.87 1518.52 L1511.87 1576.64 L1498.37 1576.64 L1498.37 1572.09 L1505.98 1572.09 L1505.98 1523.07 L1498.37 1523.07 L1498.37 1518.52 L1511.87 1518.52 Z\" fill=\"#000000\" fill-rule=\"evenodd\" fill-opacity=\"1\" /><polyline clip-path=\"url(#clip312)\" style=\"stroke:#000000; stroke-linecap:butt; stroke-linejoin:round; stroke-width:2; stroke-opacity:0.1; fill:none\" points=\"\n",
       "  175.445,1390.62 2352.76,1390.62 \n",
       "  \"/>\n",
       "<polyline clip-path=\"url(#clip312)\" style=\"stroke:#000000; stroke-linecap:butt; stroke-linejoin:round; stroke-width:2; stroke-opacity:0.1; fill:none\" points=\"\n",
       "  175.445,1151.6 2352.76,1151.6 \n",
       "  \"/>\n",
       "<polyline clip-path=\"url(#clip312)\" style=\"stroke:#000000; stroke-linecap:butt; stroke-linejoin:round; stroke-width:2; stroke-opacity:0.1; fill:none\" points=\"\n",
       "  175.445,912.57 2352.76,912.57 \n",
       "  \"/>\n",
       "<polyline clip-path=\"url(#clip312)\" style=\"stroke:#000000; stroke-linecap:butt; stroke-linejoin:round; stroke-width:2; stroke-opacity:0.1; fill:none\" points=\"\n",
       "  175.445,673.544 2352.76,673.544 \n",
       "  \"/>\n",
       "<polyline clip-path=\"url(#clip312)\" style=\"stroke:#000000; stroke-linecap:butt; stroke-linejoin:round; stroke-width:2; stroke-opacity:0.1; fill:none\" points=\"\n",
       "  175.445,434.517 2352.76,434.517 \n",
       "  \"/>\n",
       "<polyline clip-path=\"url(#clip312)\" style=\"stroke:#000000; stroke-linecap:butt; stroke-linejoin:round; stroke-width:2; stroke-opacity:0.1; fill:none\" points=\"\n",
       "  175.445,195.49 2352.76,195.49 \n",
       "  \"/>\n",
       "<polyline clip-path=\"url(#clip310)\" style=\"stroke:#000000; stroke-linecap:butt; stroke-linejoin:round; stroke-width:4; stroke-opacity:1; fill:none\" points=\"\n",
       "  175.445,1423.18 175.445,123.472 \n",
       "  \"/>\n",
       "<polyline clip-path=\"url(#clip310)\" style=\"stroke:#000000; stroke-linecap:butt; stroke-linejoin:round; stroke-width:4; stroke-opacity:1; fill:none\" points=\"\n",
       "  175.445,1390.62 194.343,1390.62 \n",
       "  \"/>\n",
       "<polyline clip-path=\"url(#clip310)\" style=\"stroke:#000000; stroke-linecap:butt; stroke-linejoin:round; stroke-width:4; stroke-opacity:1; fill:none\" points=\"\n",
       "  175.445,1151.6 194.343,1151.6 \n",
       "  \"/>\n",
       "<polyline clip-path=\"url(#clip310)\" style=\"stroke:#000000; stroke-linecap:butt; stroke-linejoin:round; stroke-width:4; stroke-opacity:1; fill:none\" points=\"\n",
       "  175.445,912.57 194.343,912.57 \n",
       "  \"/>\n",
       "<polyline clip-path=\"url(#clip310)\" style=\"stroke:#000000; stroke-linecap:butt; stroke-linejoin:round; stroke-width:4; stroke-opacity:1; fill:none\" points=\"\n",
       "  175.445,673.544 194.343,673.544 \n",
       "  \"/>\n",
       "<polyline clip-path=\"url(#clip310)\" style=\"stroke:#000000; stroke-linecap:butt; stroke-linejoin:round; stroke-width:4; stroke-opacity:1; fill:none\" points=\"\n",
       "  175.445,434.517 194.343,434.517 \n",
       "  \"/>\n",
       "<polyline clip-path=\"url(#clip310)\" style=\"stroke:#000000; stroke-linecap:butt; stroke-linejoin:round; stroke-width:4; stroke-opacity:1; fill:none\" points=\"\n",
       "  175.445,195.49 194.343,195.49 \n",
       "  \"/>\n",
       "<path clip-path=\"url(#clip310)\" d=\"M127.501 1376.42 Q123.89 1376.42 122.061 1379.99 Q120.255 1383.53 120.255 1390.66 Q120.255 1397.77 122.061 1401.33 Q123.89 1404.87 127.501 1404.87 Q131.135 1404.87 132.941 1401.33 Q134.769 1397.77 134.769 1390.66 Q134.769 1383.53 132.941 1379.99 Q131.135 1376.42 127.501 1376.42 M127.501 1372.72 Q133.311 1372.72 136.367 1377.33 Q139.445 1381.91 139.445 1390.66 Q139.445 1399.39 136.367 1403.99 Q133.311 1408.58 127.501 1408.58 Q121.691 1408.58 118.612 1403.99 Q115.556 1399.39 115.556 1390.66 Q115.556 1381.91 118.612 1377.33 Q121.691 1372.72 127.501 1372.72 Z\" fill=\"#000000\" fill-rule=\"evenodd\" fill-opacity=\"1\" /><path clip-path=\"url(#clip310)\" d=\"M119.538 1164.94 L127.177 1164.94 L127.177 1138.58 L118.867 1140.24 L118.867 1135.98 L127.13 1134.32 L131.806 1134.32 L131.806 1164.94 L139.445 1164.94 L139.445 1168.88 L119.538 1168.88 L119.538 1164.94 Z\" fill=\"#000000\" fill-rule=\"evenodd\" fill-opacity=\"1\" /><path clip-path=\"url(#clip310)\" d=\"M123.126 925.915 L139.445 925.915 L139.445 929.85 L117.501 929.85 L117.501 925.915 Q120.163 923.161 124.746 918.531 Q129.353 913.878 130.533 912.536 Q132.779 910.012 133.658 908.276 Q134.561 906.517 134.561 904.827 Q134.561 902.073 132.617 900.337 Q130.695 898.601 127.593 898.601 Q125.394 898.601 122.941 899.364 Q120.51 900.128 117.732 901.679 L117.732 896.957 Q120.556 895.823 123.01 895.244 Q125.464 894.665 127.501 894.665 Q132.871 894.665 136.066 897.351 Q139.26 900.036 139.26 904.526 Q139.26 906.656 138.45 908.577 Q137.663 910.475 135.556 913.068 Q134.978 913.739 131.876 916.957 Q128.774 920.151 123.126 925.915 Z\" fill=\"#000000\" fill-rule=\"evenodd\" fill-opacity=\"1\" /><path clip-path=\"url(#clip310)\" d=\"M132.316 672.189 Q135.672 672.907 137.547 675.175 Q139.445 677.444 139.445 680.777 Q139.445 685.893 135.927 688.694 Q132.408 691.495 125.927 691.495 Q123.751 691.495 121.436 691.055 Q119.144 690.638 116.691 689.782 L116.691 685.268 Q118.635 686.402 120.95 686.981 Q123.265 687.56 125.788 687.56 Q130.186 687.56 132.478 685.824 Q134.792 684.087 134.792 680.777 Q134.792 677.722 132.64 676.009 Q130.51 674.273 126.691 674.273 L122.663 674.273 L122.663 670.43 L126.876 670.43 Q130.325 670.43 132.154 669.064 Q133.982 667.676 133.982 665.083 Q133.982 662.421 132.084 661.009 Q130.209 659.574 126.691 659.574 Q124.769 659.574 122.57 659.99 Q120.371 660.407 117.732 661.287 L117.732 657.12 Q120.394 656.379 122.709 656.009 Q125.047 655.639 127.107 655.639 Q132.431 655.639 135.533 658.069 Q138.635 660.476 138.635 664.597 Q138.635 667.467 136.992 669.458 Q135.348 671.425 132.316 672.189 Z\" fill=\"#000000\" fill-rule=\"evenodd\" fill-opacity=\"1\" /><path clip-path=\"url(#clip310)\" d=\"M129.862 421.311 L118.056 439.76 L129.862 439.76 L129.862 421.311 M128.635 417.237 L134.515 417.237 L134.515 439.76 L139.445 439.76 L139.445 443.649 L134.515 443.649 L134.515 451.797 L129.862 451.797 L129.862 443.649 L114.26 443.649 L114.26 439.135 L128.635 417.237 Z\" fill=\"#000000\" fill-rule=\"evenodd\" fill-opacity=\"1\" /><path clip-path=\"url(#clip310)\" d=\"M118.543 178.21 L136.899 178.21 L136.899 182.145 L122.825 182.145 L122.825 190.617 Q123.843 190.27 124.862 190.108 Q125.88 189.923 126.899 189.923 Q132.686 189.923 136.066 193.094 Q139.445 196.265 139.445 201.682 Q139.445 207.261 135.973 210.363 Q132.501 213.441 126.181 213.441 Q124.005 213.441 121.737 213.071 Q119.492 212.7 117.084 211.96 L117.084 207.261 Q119.168 208.395 121.39 208.951 Q123.612 209.506 126.089 209.506 Q130.093 209.506 132.431 207.4 Q134.769 205.293 134.769 201.682 Q134.769 198.071 132.431 195.964 Q130.093 193.858 126.089 193.858 Q124.214 193.858 122.339 194.275 Q120.487 194.691 118.543 195.571 L118.543 178.21 Z\" fill=\"#000000\" fill-rule=\"evenodd\" fill-opacity=\"1\" /><path clip-path=\"url(#clip310)\" d=\"M20.1444 1137.86 L26.9239 1137.86 Q23.9002 1141.1 22.4043 1144.8 Q20.9083 1148.46 20.9083 1152.59 Q20.9083 1160.74 25.9054 1165.07 Q30.8707 1169.4 40.2919 1169.4 Q49.6813 1169.4 54.6784 1165.07 Q59.6436 1160.74 59.6436 1152.59 Q59.6436 1148.46 58.1477 1144.8 Q56.6518 1141.1 53.6281 1137.86 L60.3439 1137.86 Q62.6355 1141.23 63.7814 1145.02 Q64.9272 1148.78 64.9272 1152.98 Q64.9272 1163.77 58.3387 1169.97 Q51.7183 1176.18 40.2919 1176.18 Q28.8336 1176.18 22.2451 1169.97 Q15.6248 1163.77 15.6248 1152.98 Q15.6248 1148.71 16.7706 1144.96 Q17.8846 1141.17 20.1444 1137.86 Z\" fill=\"#000000\" fill-rule=\"evenodd\" fill-opacity=\"1\" /><path clip-path=\"url(#clip310)\" d=\"M46.0847 1111.98 Q46.0847 1119.08 47.7079 1121.82 Q49.3312 1124.55 53.2461 1124.55 Q56.3653 1124.55 58.2114 1122.52 Q60.0256 1120.45 60.0256 1116.91 Q60.0256 1112.05 56.5881 1109.12 Q53.1188 1106.16 47.3897 1106.16 L46.0847 1106.16 L46.0847 1111.98 M43.6657 1100.3 L64.0042 1100.3 L64.0042 1106.16 L58.5933 1106.16 Q61.8398 1108.16 63.3994 1111.15 Q64.9272 1114.15 64.9272 1118.47 Q64.9272 1123.95 61.8716 1127.2 Q58.7843 1130.41 53.6281 1130.41 Q47.6125 1130.41 44.5569 1126.4 Q41.5014 1122.36 41.5014 1114.37 L41.5014 1106.16 L40.9285 1106.16 Q36.8862 1106.16 34.6901 1108.83 Q32.4621 1111.47 32.4621 1116.28 Q32.4621 1119.33 33.1941 1122.23 Q33.9262 1125.13 35.3903 1127.8 L29.9795 1127.8 Q28.7381 1124.59 28.1334 1121.56 Q27.4968 1118.54 27.4968 1115.67 Q27.4968 1107.94 31.5072 1104.12 Q35.5176 1100.3 43.6657 1100.3 Z\" fill=\"#000000\" fill-rule=\"evenodd\" fill-opacity=\"1\" /><path clip-path=\"url(#clip310)\" d=\"M46.212 1062.65 Q39.7508 1062.65 36.0905 1065.32 Q32.3984 1067.96 32.3984 1072.61 Q32.3984 1077.26 36.0905 1079.93 Q39.7508 1082.57 46.212 1082.57 Q52.6732 1082.57 56.3653 1079.93 Q60.0256 1077.26 60.0256 1072.61 Q60.0256 1067.96 56.3653 1065.32 Q52.6732 1062.65 46.212 1062.65 M33.7671 1082.57 Q30.5842 1080.73 29.0564 1077.93 Q27.4968 1075.09 27.4968 1071.18 Q27.4968 1064.68 32.6531 1060.64 Q37.8093 1056.57 46.212 1056.57 Q54.6147 1056.57 59.771 1060.64 Q64.9272 1064.68 64.9272 1071.18 Q64.9272 1075.09 63.3994 1077.93 Q61.8398 1080.73 58.657 1082.57 L64.0042 1082.57 L64.0042 1088.46 L14.479 1088.46 L14.479 1082.57 L33.7671 1082.57 Z\" fill=\"#000000\" fill-rule=\"evenodd\" fill-opacity=\"1\" /><path clip-path=\"url(#clip310)\" d=\"M44.7161 1016.37 L47.5806 1016.37 L47.5806 1043.3 Q53.6281 1042.91 56.8109 1039.67 Q59.9619 1036.39 59.9619 1030.56 Q59.9619 1027.19 59.1344 1024.04 Q58.3069 1020.86 56.6518 1017.74 L62.1899 1017.74 Q63.5267 1020.89 64.227 1024.2 Q64.9272 1027.51 64.9272 1030.91 Q64.9272 1039.44 59.9619 1044.44 Q54.9967 1049.41 46.5303 1049.41 Q37.7774 1049.41 32.6531 1044.7 Q27.4968 1039.95 27.4968 1031.93 Q27.4968 1024.74 32.1438 1020.57 Q36.7589 1016.37 44.7161 1016.37 M42.9973 1022.23 Q38.1912 1022.29 35.3266 1024.93 Q32.4621 1027.54 32.4621 1031.87 Q32.4621 1036.77 35.2312 1039.73 Q38.0002 1042.66 43.0292 1043.1 L42.9973 1022.23 Z\" fill=\"#000000\" fill-rule=\"evenodd\" fill-opacity=\"1\" /><path clip-path=\"url(#clip310)\" d=\"M28.3562 1009.3 L28.3562 981.485 L33.7034 981.485 L59.3254 1003.51 L59.3254 981.485 L64.0042 981.485 L64.0042 1010.1 L58.657 1010.1 L33.035 988.073 L33.035 1009.3 L28.3562 1009.3 Z\" fill=\"#000000\" fill-rule=\"evenodd\" fill-opacity=\"1\" /><path clip-path=\"url(#clip310)\" d=\"M46.0847 956.34 Q46.0847 963.438 47.7079 966.175 Q49.3312 968.912 53.2461 968.912 Q56.3653 968.912 58.2114 966.875 Q60.0256 964.806 60.0256 961.273 Q60.0256 956.404 56.5881 953.475 Q53.1188 950.515 47.3897 950.515 L46.0847 950.515 L46.0847 956.34 M43.6657 944.659 L64.0042 944.659 L64.0042 950.515 L58.5933 950.515 Q61.8398 952.521 63.3994 955.513 Q64.9272 958.504 64.9272 962.833 Q64.9272 968.308 61.8716 971.554 Q58.7843 974.769 53.6281 974.769 Q47.6125 974.769 44.5569 970.758 Q41.5014 966.716 41.5014 958.727 L41.5014 950.515 L40.9285 950.515 Q36.8862 950.515 34.6901 953.189 Q32.4621 955.831 32.4621 960.637 Q32.4621 963.692 33.1941 966.589 Q33.9262 969.485 35.3903 972.159 L29.9795 972.159 Q28.7381 968.944 28.1334 965.92 Q27.4968 962.897 27.4968 960.032 Q27.4968 952.298 31.5072 948.478 Q35.5176 944.659 43.6657 944.659 Z\" fill=\"#000000\" fill-rule=\"evenodd\" fill-opacity=\"1\" /><path clip-path=\"url(#clip310)\" d=\"M29.4065 909.87 L34.9447 909.87 Q33.6716 912.353 33.035 915.027 Q32.3984 917.7 32.3984 920.565 Q32.3984 924.925 33.7352 927.121 Q35.072 929.286 37.7456 929.286 Q39.7826 929.286 40.9603 927.726 Q42.1061 926.167 43.1565 921.456 L43.6021 919.451 Q44.9389 913.212 47.3897 910.602 Q49.8086 907.961 54.1691 907.961 Q59.1344 907.961 62.0308 911.907 Q64.9272 915.822 64.9272 922.697 Q64.9272 925.562 64.3543 928.681 Q63.8132 931.768 62.6992 935.206 L56.6518 935.206 Q58.3387 931.959 59.198 928.808 Q60.0256 925.657 60.0256 922.57 Q60.0256 918.432 58.6251 916.204 Q57.1929 913.976 54.6147 913.976 Q52.2276 913.976 50.9545 915.6 Q49.6813 917.191 48.5037 922.634 L48.0262 924.671 Q46.8804 930.113 44.5251 932.532 Q42.138 934.951 38.0002 934.951 Q32.9713 934.951 30.2341 931.386 Q27.4968 927.822 27.4968 921.265 Q27.4968 918.018 27.9743 915.154 Q28.4517 912.289 29.4065 909.87 Z\" fill=\"#000000\" fill-rule=\"evenodd\" fill-opacity=\"1\" /><path clip-path=\"url(#clip310)\" d=\"M33.7671 854.457 L14.479 854.457 L14.479 848.6 L64.0042 848.6 L64.0042 854.457 L58.657 854.457 Q61.8398 856.303 63.3994 859.136 Q64.9272 861.937 64.9272 865.883 Q64.9272 872.345 59.771 876.419 Q54.6147 880.461 46.212 880.461 Q37.8093 880.461 32.6531 876.419 Q27.4968 872.345 27.4968 865.883 Q27.4968 861.937 29.0564 859.136 Q30.5842 856.303 33.7671 854.457 M46.212 874.413 Q52.6732 874.413 56.3653 871.772 Q60.0256 869.098 60.0256 864.451 Q60.0256 859.804 56.3653 857.131 Q52.6732 854.457 46.212 854.457 Q39.7508 854.457 36.0905 857.131 Q32.3984 859.804 32.3984 864.451 Q32.3984 869.098 36.0905 871.772 Q39.7508 874.413 46.212 874.413 Z\" fill=\"#000000\" fill-rule=\"evenodd\" fill-opacity=\"1\" /><path clip-path=\"url(#clip310)\" d=\"M44.7161 806.046 L47.5806 806.046 L47.5806 832.973 Q53.6281 832.591 56.8109 829.344 Q59.9619 826.066 59.9619 820.241 Q59.9619 816.867 59.1344 813.716 Q58.3069 810.534 56.6518 807.414 L62.1899 807.414 Q63.5267 810.565 64.227 813.876 Q64.9272 817.186 64.9272 820.591 Q64.9272 829.121 59.9619 834.118 Q54.9967 839.084 46.5303 839.084 Q37.7774 839.084 32.6531 834.373 Q27.4968 829.631 27.4968 821.61 Q27.4968 814.417 32.1438 810.247 Q36.7589 806.046 44.7161 806.046 M42.9973 811.902 Q38.1912 811.966 35.3266 814.608 Q32.4621 817.218 32.4621 821.546 Q32.4621 826.448 35.2312 829.408 Q38.0002 832.336 43.0292 832.782 L42.9973 811.902 Z\" fill=\"#000000\" fill-rule=\"evenodd\" fill-opacity=\"1\" /><path clip-path=\"url(#clip310)\" d=\"M58.657 770.048 L77.5631 770.048 L77.5631 775.936 L28.3562 775.936 L28.3562 770.048 L33.7671 770.048 Q30.5842 768.202 29.0564 765.401 Q27.4968 762.568 27.4968 758.653 Q27.4968 752.16 32.6531 748.118 Q37.8093 744.044 46.212 744.044 Q54.6147 744.044 59.771 748.118 Q64.9272 752.16 64.9272 758.653 Q64.9272 762.568 63.3994 765.401 Q61.8398 768.202 58.657 770.048 M46.212 750.123 Q39.7508 750.123 36.0905 752.797 Q32.3984 755.438 32.3984 760.085 Q32.3984 764.732 36.0905 767.406 Q39.7508 770.048 46.212 770.048 Q52.6732 770.048 56.3653 767.406 Q60.0256 764.732 60.0256 760.085 Q60.0256 755.438 56.3653 752.797 Q52.6732 750.123 46.212 750.123 Z\" fill=\"#000000\" fill-rule=\"evenodd\" fill-opacity=\"1\" /><path clip-path=\"url(#clip310)\" d=\"M44.7161 703.844 L47.5806 703.844 L47.5806 730.771 Q53.6281 730.389 56.8109 727.143 Q59.9619 723.864 59.9619 718.04 Q59.9619 714.666 59.1344 711.515 Q58.3069 708.332 56.6518 705.213 L62.1899 705.213 Q63.5267 708.364 64.227 711.674 Q64.9272 714.984 64.9272 718.39 Q64.9272 726.92 59.9619 731.917 Q54.9967 736.882 46.5303 736.882 Q37.7774 736.882 32.6531 732.172 Q27.4968 727.429 27.4968 719.408 Q27.4968 712.215 32.1438 708.046 Q36.7589 703.844 44.7161 703.844 M42.9973 709.701 Q38.1912 709.764 35.3266 712.406 Q32.4621 715.016 32.4621 719.345 Q32.4621 724.246 35.2312 727.206 Q38.0002 730.135 43.0292 730.58 L42.9973 709.701 M11.869 715.334 L11.869 709.001 L23.8365 719.377 L23.8365 724.246 L11.869 715.334 Z\" fill=\"#000000\" fill-rule=\"evenodd\" fill-opacity=\"1\" /><path clip-path=\"url(#clip310)\" d=\"M33.8307 673.575 Q33.2578 674.562 33.0032 675.74 Q32.7167 676.886 32.7167 678.286 Q32.7167 683.251 35.9632 685.925 Q39.1779 688.567 45.2253 688.567 L64.0042 688.567 L64.0042 694.455 L28.3562 694.455 L28.3562 688.567 L33.8944 688.567 Q30.6479 686.721 29.0883 683.76 Q27.4968 680.8 27.4968 676.567 Q27.4968 675.963 27.5923 675.23 Q27.656 674.498 27.8151 673.607 L33.8307 673.575 Z\" fill=\"#000000\" fill-rule=\"evenodd\" fill-opacity=\"1\" /><path clip-path=\"url(#clip310)\" d=\"M33.7671 645.121 L14.479 645.121 L14.479 639.264 L64.0042 639.264 L64.0042 645.121 L58.657 645.121 Q61.8398 646.967 63.3994 649.799 Q64.9272 652.6 64.9272 656.547 Q64.9272 663.008 59.771 667.082 Q54.6147 671.125 46.212 671.125 Q37.8093 671.125 32.6531 667.082 Q27.4968 663.008 27.4968 656.547 Q27.4968 652.6 29.0564 649.799 Q30.5842 646.967 33.7671 645.121 M46.212 665.077 Q52.6732 665.077 56.3653 662.435 Q60.0256 659.762 60.0256 655.115 Q60.0256 650.468 56.3653 647.794 Q52.6732 645.121 46.212 645.121 Q39.7508 645.121 36.0905 647.794 Q32.3984 650.468 32.3984 655.115 Q32.3984 659.762 36.0905 662.435 Q39.7508 665.077 46.212 665.077 Z\" fill=\"#000000\" fill-rule=\"evenodd\" fill-opacity=\"1\" /><path clip-path=\"url(#clip310)\" d=\"M28.3562 627.201 L28.3562 621.345 L64.0042 621.345 L64.0042 627.201 L28.3562 627.201 M14.479 627.201 L14.479 621.345 L21.895 621.345 L21.895 627.201 L14.479 627.201 Z\" fill=\"#000000\" fill-rule=\"evenodd\" fill-opacity=\"1\" /><path clip-path=\"url(#clip310)\" d=\"M33.7671 585.633 L14.479 585.633 L14.479 579.777 L64.0042 579.777 L64.0042 585.633 L58.657 585.633 Q61.8398 587.479 63.3994 590.312 Q64.9272 593.113 64.9272 597.06 Q64.9272 603.521 59.771 607.595 Q54.6147 611.637 46.212 611.637 Q37.8093 611.637 32.6531 607.595 Q27.4968 603.521 27.4968 597.06 Q27.4968 593.113 29.0564 590.312 Q30.5842 587.479 33.7671 585.633 M46.212 605.59 Q52.6732 605.59 56.3653 602.948 Q60.0256 600.274 60.0256 595.627 Q60.0256 590.98 56.3653 588.307 Q52.6732 585.633 46.212 585.633 Q39.7508 585.633 36.0905 588.307 Q32.3984 590.98 32.3984 595.627 Q32.3984 600.274 36.0905 602.948 Q39.7508 605.59 46.212 605.59 Z\" fill=\"#000000\" fill-rule=\"evenodd\" fill-opacity=\"1\" /><path clip-path=\"url(#clip310)\" d=\"M46.0847 551.513 Q46.0847 558.611 47.7079 561.348 Q49.3312 564.085 53.2461 564.085 Q56.3653 564.085 58.2114 562.048 Q60.0256 559.979 60.0256 556.446 Q60.0256 551.577 56.5881 548.648 Q53.1188 545.688 47.3897 545.688 L46.0847 545.688 L46.0847 551.513 M43.6657 539.832 L64.0042 539.832 L64.0042 545.688 L58.5933 545.688 Q61.8398 547.694 63.3994 550.685 Q64.9272 553.677 64.9272 558.006 Q64.9272 563.48 61.8716 566.727 Q58.7843 569.942 53.6281 569.942 Q47.6125 569.942 44.5569 565.931 Q41.5014 561.889 41.5014 553.9 L41.5014 545.688 L40.9285 545.688 Q36.8862 545.688 34.6901 548.362 Q32.4621 551.004 32.4621 555.81 Q32.4621 558.865 33.1941 561.762 Q33.9262 564.658 35.3903 567.332 L29.9795 567.332 Q28.7381 564.117 28.1334 561.093 Q27.4968 558.07 27.4968 555.205 Q27.4968 547.471 31.5072 543.651 Q35.5176 539.832 43.6657 539.832 Z\" fill=\"#000000\" fill-rule=\"evenodd\" fill-opacity=\"1\" /><path clip-path=\"url(#clip310)\" d=\"M29.4065 505.043 L34.9447 505.043 Q33.6716 507.526 33.035 510.2 Q32.3984 512.873 32.3984 515.738 Q32.3984 520.098 33.7352 522.294 Q35.072 524.459 37.7456 524.459 Q39.7826 524.459 40.9603 522.899 Q42.1061 521.339 43.1565 516.629 L43.6021 514.624 Q44.9389 508.385 47.3897 505.775 Q49.8086 503.134 54.1691 503.134 Q59.1344 503.134 62.0308 507.08 Q64.9272 510.995 64.9272 517.87 Q64.9272 520.735 64.3543 523.854 Q63.8132 526.941 62.6992 530.379 L56.6518 530.379 Q58.3387 527.132 59.198 523.981 Q60.0256 520.83 60.0256 517.743 Q60.0256 513.605 58.6251 511.377 Q57.1929 509.149 54.6147 509.149 Q52.2276 509.149 50.9545 510.772 Q49.6813 512.364 48.5037 517.807 L48.0262 519.844 Q46.8804 525.286 44.5251 527.705 Q42.138 530.124 38.0002 530.124 Q32.9713 530.124 30.2341 526.559 Q27.4968 522.995 27.4968 516.438 Q27.4968 513.191 27.9743 510.327 Q28.4517 507.462 29.4065 505.043 Z\" fill=\"#000000\" fill-rule=\"evenodd\" fill-opacity=\"1\" /><path clip-path=\"url(#clip310)\" d=\"M14.479 473.629 L14.479 460.133 L19.0304 460.133 L19.0304 467.772 L68.0464 467.772 L68.0464 460.133 L72.5979 460.133 L72.5979 473.629 L14.479 473.629 Z\" fill=\"#000000\" fill-rule=\"evenodd\" fill-opacity=\"1\" /><path clip-path=\"url(#clip310)\" d=\"M35.1993 419.902 Q31.2526 417.706 29.3747 414.65 Q27.4968 411.595 27.4968 407.457 Q27.4968 401.887 31.4117 398.863 Q35.2948 395.84 42.4881 395.84 L64.0042 395.84 L64.0042 401.728 L42.679 401.728 Q37.5546 401.728 35.072 403.542 Q32.5894 405.356 32.5894 409.08 Q32.5894 413.632 35.6131 416.273 Q38.6368 418.915 43.8567 418.915 L64.0042 418.915 L64.0042 424.804 L42.679 424.804 Q37.5228 424.804 35.072 426.618 Q32.5894 428.432 32.5894 432.22 Q32.5894 436.707 35.6449 439.349 Q38.6686 441.991 43.8567 441.991 L64.0042 441.991 L64.0042 447.879 L28.3562 447.879 L28.3562 441.991 L33.8944 441.991 Q30.616 439.986 29.0564 437.185 Q27.4968 434.384 27.4968 430.533 Q27.4968 426.65 29.4702 423.944 Q31.4436 421.207 35.1993 419.902 Z\" fill=\"#000000\" fill-rule=\"evenodd\" fill-opacity=\"1\" /><path clip-path=\"url(#clip310)\" d=\"M14.479 370.472 L72.5979 370.472 L72.5979 383.968 L68.0464 383.968 L68.0464 376.361 L19.0304 376.361 L19.0304 383.968 L14.479 383.968 L14.479 370.472 Z\" fill=\"#000000\" fill-rule=\"evenodd\" fill-opacity=\"1\" /><path clip-path=\"url(#clip310)\" d=\"M309.667 16.7545 L309.667 25.383 Q305.535 21.5346 300.836 19.6307 Q296.178 17.7268 290.911 17.7268 Q280.541 17.7268 275.032 24.0867 Q269.523 30.4061 269.523 42.3968 Q269.523 54.3469 275.032 60.7069 Q280.541 67.0263 290.911 67.0263 Q296.178 67.0263 300.836 65.1223 Q305.535 63.2184 309.667 59.3701 L309.667 67.9175 Q305.373 70.8341 300.552 72.2924 Q295.772 73.7508 290.425 73.7508 Q276.693 73.7508 268.793 65.3654 Q260.894 56.9395 260.894 42.3968 Q260.894 27.8135 268.793 19.4281 Q276.693 11.0023 290.425 11.0023 Q295.853 11.0023 300.633 12.4606 Q305.454 13.8784 309.667 16.7545 Z\" fill=\"#000000\" fill-rule=\"evenodd\" fill-opacity=\"1\" /><path clip-path=\"url(#clip310)\" d=\"M342.601 49.7694 Q333.567 49.7694 330.084 51.8354 Q326.6 53.9013 326.6 58.8839 Q326.6 62.8538 329.192 65.2034 Q331.825 67.5124 336.322 67.5124 Q342.52 67.5124 346.247 63.1374 Q350.014 58.7219 350.014 51.4303 L350.014 49.7694 L342.601 49.7694 M357.468 46.6907 L357.468 72.576 L350.014 72.576 L350.014 65.6895 Q347.462 69.8214 343.654 71.8063 Q339.846 73.7508 334.337 73.7508 Q327.369 73.7508 323.238 69.8619 Q319.146 65.9325 319.146 59.3701 Q319.146 51.7138 324.25 47.825 Q329.395 43.9361 339.563 43.9361 L350.014 43.9361 L350.014 43.2069 Q350.014 38.0623 346.611 35.2672 Q343.249 32.4315 337.132 32.4315 Q333.243 32.4315 329.557 33.3632 Q325.871 34.295 322.468 36.1584 L322.468 29.2718 Q326.559 27.692 330.408 26.9223 Q334.256 26.1121 337.902 26.1121 Q347.746 26.1121 352.607 31.2163 Q357.468 36.3204 357.468 46.6907 Z\" fill=\"#000000\" fill-rule=\"evenodd\" fill-opacity=\"1\" /><path clip-path=\"url(#clip310)\" d=\"M405.39 49.9314 Q405.39 41.7081 401.987 37.0496 Q398.625 32.3505 392.711 32.3505 Q386.796 32.3505 383.393 37.0496 Q380.031 41.7081 380.031 49.9314 Q380.031 58.1548 383.393 62.8538 Q386.796 67.5124 392.711 67.5124 Q398.625 67.5124 401.987 62.8538 Q405.39 58.1548 405.39 49.9314 M380.031 34.0924 Q382.381 30.0415 385.946 28.0971 Q389.551 26.1121 394.533 26.1121 Q402.797 26.1121 407.942 32.6746 Q413.127 39.2371 413.127 49.9314 Q413.127 60.6258 407.942 67.1883 Q402.797 73.7508 394.533 73.7508 Q389.551 73.7508 385.946 71.8063 Q382.381 69.8214 380.031 65.7705 L380.031 72.576 L372.537 72.576 L372.537 9.54393 L380.031 9.54393 L380.031 34.0924 Z\" fill=\"#000000\" fill-rule=\"evenodd\" fill-opacity=\"1\" /><path clip-path=\"url(#clip310)\" d=\"M464.29 48.0275 L464.29 51.6733 L430.019 51.6733 Q430.505 59.3701 434.637 63.421 Q438.81 67.4314 446.223 67.4314 Q450.517 67.4314 454.527 66.3781 Q458.578 65.3249 462.548 63.2184 L462.548 70.267 Q458.538 71.9684 454.325 72.8596 Q450.112 73.7508 445.777 73.7508 Q434.921 73.7508 428.561 67.4314 Q422.242 61.1119 422.242 50.3365 Q422.242 39.1965 428.237 32.6746 Q434.273 26.1121 444.481 26.1121 Q453.636 26.1121 458.943 32.0264 Q464.29 37.9003 464.29 48.0275 M456.836 45.84 Q456.755 39.7232 453.393 36.0774 Q450.071 32.4315 444.562 32.4315 Q438.324 32.4315 434.556 35.9558 Q430.83 39.4801 430.262 45.8805 L456.836 45.84 Z\" fill=\"#000000\" fill-rule=\"evenodd\" fill-opacity=\"1\" /><path clip-path=\"url(#clip310)\" d=\"M473.283 27.2059 L508.688 27.2059 L508.688 34.0114 L480.656 66.6212 L508.688 66.6212 L508.688 72.576 L472.27 72.576 L472.27 65.7705 L500.303 33.1607 L473.283 33.1607 L473.283 27.2059 Z\" fill=\"#000000\" fill-rule=\"evenodd\" fill-opacity=\"1\" /><path clip-path=\"url(#clip310)\" d=\"M540.69 49.7694 Q531.657 49.7694 528.173 51.8354 Q524.689 53.9013 524.689 58.8839 Q524.689 62.8538 527.282 65.2034 Q529.915 67.5124 534.411 67.5124 Q540.609 67.5124 544.336 63.1374 Q548.103 58.7219 548.103 51.4303 L548.103 49.7694 L540.69 49.7694 M555.557 46.6907 L555.557 72.576 L548.103 72.576 L548.103 65.6895 Q545.551 69.8214 541.743 71.8063 Q537.935 73.7508 532.426 73.7508 Q525.459 73.7508 521.327 69.8619 Q517.235 65.9325 517.235 59.3701 Q517.235 51.7138 522.339 47.825 Q527.484 43.9361 537.652 43.9361 L548.103 43.9361 L548.103 43.2069 Q548.103 38.0623 544.7 35.2672 Q541.338 32.4315 535.221 32.4315 Q531.332 32.4315 527.646 33.3632 Q523.96 34.295 520.557 36.1584 L520.557 29.2718 Q524.649 27.692 528.497 26.9223 Q532.345 26.1121 535.991 26.1121 Q545.835 26.1121 550.696 31.2163 Q555.557 36.3204 555.557 46.6907 Z\" fill=\"#000000\" fill-rule=\"evenodd\" fill-opacity=\"1\" /><path clip-path=\"url(#clip310)\" d=\"M599.833 28.5427 L599.833 35.5912 Q596.674 33.9709 593.271 33.1607 Q589.868 32.3505 586.222 32.3505 Q580.673 32.3505 577.877 34.0519 Q575.123 35.7533 575.123 39.156 Q575.123 41.7486 577.108 43.2475 Q579.093 44.7058 585.088 46.0426 L587.64 46.6097 Q595.58 48.3111 598.902 51.4303 Q602.264 54.509 602.264 60.0587 Q602.264 66.3781 597.241 70.0644 Q592.258 73.7508 583.508 73.7508 Q579.862 73.7508 575.892 73.0216 Q571.963 72.3329 567.588 70.9151 L567.588 63.2184 Q571.72 65.3654 575.73 66.4591 Q579.741 67.5124 583.67 67.5124 Q588.936 67.5124 591.772 65.73 Q594.608 63.9071 594.608 60.6258 Q594.608 57.5877 592.542 55.9673 Q590.516 54.3469 583.589 52.8481 L580.997 52.2405 Q574.07 50.7821 570.991 47.7845 Q567.912 44.7463 567.912 39.4801 Q567.912 33.0797 572.449 29.5959 Q576.986 26.1121 585.331 26.1121 Q589.463 26.1121 593.109 26.7198 Q596.755 27.3274 599.833 28.5427 Z\" fill=\"#000000\" fill-rule=\"evenodd\" fill-opacity=\"1\" /><path clip-path=\"url(#clip310)\" d=\"M670.36 34.0924 L670.36 9.54393 L677.813 9.54393 L677.813 72.576 L670.36 72.576 L670.36 65.7705 Q668.01 69.8214 664.405 71.8063 Q660.84 73.7508 655.817 73.7508 Q647.593 73.7508 642.408 67.1883 Q637.264 60.6258 637.264 49.9314 Q637.264 39.2371 642.408 32.6746 Q647.593 26.1121 655.817 26.1121 Q660.84 26.1121 664.405 28.0971 Q668.01 30.0415 670.36 34.0924 M644.96 49.9314 Q644.96 58.1548 648.323 62.8538 Q651.725 67.5124 657.64 67.5124 Q663.554 67.5124 666.957 62.8538 Q670.36 58.1548 670.36 49.9314 Q670.36 41.7081 666.957 37.0496 Q663.554 32.3505 657.64 32.3505 Q651.725 32.3505 648.323 37.0496 Q644.96 41.7081 644.96 49.9314 Z\" fill=\"#000000\" fill-rule=\"evenodd\" fill-opacity=\"1\" /><path clip-path=\"url(#clip310)\" d=\"M731.974 48.0275 L731.974 51.6733 L697.703 51.6733 Q698.189 59.3701 702.321 63.421 Q706.494 67.4314 713.907 67.4314 Q718.201 67.4314 722.211 66.3781 Q726.262 65.3249 730.232 63.2184 L730.232 70.267 Q726.221 71.9684 722.009 72.8596 Q717.796 73.7508 713.461 73.7508 Q702.605 73.7508 696.245 67.4314 Q689.925 61.1119 689.925 50.3365 Q689.925 39.1965 695.921 32.6746 Q701.957 26.1121 712.165 26.1121 Q721.32 26.1121 726.627 32.0264 Q731.974 37.9003 731.974 48.0275 M724.52 45.84 Q724.439 39.7232 721.077 36.0774 Q717.755 32.4315 712.246 32.4315 Q706.007 32.4315 702.24 35.9558 Q698.513 39.4801 697.946 45.8805 L724.52 45.84 Z\" fill=\"#000000\" fill-rule=\"evenodd\" fill-opacity=\"1\" /><path clip-path=\"url(#clip310)\" d=\"M777.79 65.7705 L777.79 89.8329 L770.295 89.8329 L770.295 27.2059 L777.79 27.2059 L777.79 34.0924 Q780.139 30.0415 783.704 28.0971 Q787.309 26.1121 792.292 26.1121 Q800.556 26.1121 805.7 32.6746 Q810.885 39.2371 810.885 49.9314 Q810.885 60.6258 805.7 67.1883 Q800.556 73.7508 792.292 73.7508 Q787.309 73.7508 783.704 71.8063 Q780.139 69.8214 777.79 65.7705 M803.148 49.9314 Q803.148 41.7081 799.745 37.0496 Q796.383 32.3505 790.469 32.3505 Q784.555 32.3505 781.152 37.0496 Q777.79 41.7081 777.79 49.9314 Q777.79 58.1548 781.152 62.8538 Q784.555 67.5124 790.469 67.5124 Q796.383 67.5124 799.745 62.8538 Q803.148 58.1548 803.148 49.9314 Z\" fill=\"#000000\" fill-rule=\"evenodd\" fill-opacity=\"1\" /><path clip-path=\"url(#clip310)\" d=\"M862.048 48.0275 L862.048 51.6733 L827.778 51.6733 Q828.264 59.3701 832.396 63.421 Q836.568 67.4314 843.981 67.4314 Q848.275 67.4314 852.286 66.3781 Q856.337 65.3249 860.306 63.2184 L860.306 70.267 Q856.296 71.9684 852.083 72.8596 Q847.87 73.7508 843.536 73.7508 Q832.679 73.7508 826.319 67.4314 Q820 61.1119 820 50.3365 Q820 39.1965 825.995 32.6746 Q832.031 26.1121 842.239 26.1121 Q851.394 26.1121 856.701 32.0264 Q862.048 37.9003 862.048 48.0275 M854.595 45.84 Q854.514 39.7232 851.151 36.0774 Q847.83 32.4315 842.32 32.4315 Q836.082 32.4315 832.315 35.9558 Q828.588 39.4801 828.021 45.8805 L854.595 45.84 Z\" fill=\"#000000\" fill-rule=\"evenodd\" fill-opacity=\"1\" /><path clip-path=\"url(#clip310)\" d=\"M900.572 34.1734 Q899.317 33.4443 897.818 33.1202 Q896.359 32.7556 894.577 32.7556 Q888.258 32.7556 884.855 36.8875 Q881.493 40.9789 881.493 48.6757 L881.493 72.576 L873.998 72.576 L873.998 27.2059 L881.493 27.2059 L881.493 34.2544 Q883.842 30.1225 887.61 28.1376 Q891.377 26.1121 896.765 26.1121 Q897.534 26.1121 898.466 26.2337 Q899.398 26.3147 900.532 26.5172 L900.572 34.1734 Z\" fill=\"#000000\" fill-rule=\"evenodd\" fill-opacity=\"1\" /><path clip-path=\"url(#clip310)\" d=\"M936.787 34.0924 L936.787 9.54393 L944.241 9.54393 L944.241 72.576 L936.787 72.576 L936.787 65.7705 Q934.438 69.8214 930.833 71.8063 Q927.268 73.7508 922.245 73.7508 Q914.021 73.7508 908.836 67.1883 Q903.692 60.6258 903.692 49.9314 Q903.692 39.2371 908.836 32.6746 Q914.021 26.1121 922.245 26.1121 Q927.268 26.1121 930.833 28.0971 Q934.438 30.0415 936.787 34.0924 M911.388 49.9314 Q911.388 58.1548 914.751 62.8538 Q918.153 67.5124 924.068 67.5124 Q929.982 67.5124 933.385 62.8538 Q936.787 58.1548 936.787 49.9314 Q936.787 41.7081 933.385 37.0496 Q929.982 32.3505 924.068 32.3505 Q918.153 32.3505 914.751 37.0496 Q911.388 41.7081 911.388 49.9314 Z\" fill=\"#000000\" fill-rule=\"evenodd\" fill-opacity=\"1\" /><path clip-path=\"url(#clip310)\" d=\"M959.594 27.2059 L967.048 27.2059 L967.048 72.576 L959.594 72.576 L959.594 27.2059 M959.594 9.54393 L967.048 9.54393 L967.048 18.9825 L959.594 18.9825 L959.594 9.54393 Z\" fill=\"#000000\" fill-rule=\"evenodd\" fill-opacity=\"1\" /><path clip-path=\"url(#clip310)\" d=\"M1012.5 34.0924 L1012.5 9.54393 L1019.95 9.54393 L1019.95 72.576 L1012.5 72.576 L1012.5 65.7705 Q1010.15 69.8214 1006.54 71.8063 Q1002.98 73.7508 997.956 73.7508 Q989.733 73.7508 984.548 67.1883 Q979.403 60.6258 979.403 49.9314 Q979.403 39.2371 984.548 32.6746 Q989.733 26.1121 997.956 26.1121 Q1002.98 26.1121 1006.54 28.0971 Q1010.15 30.0415 1012.5 34.0924 M987.1 49.9314 Q987.1 58.1548 990.462 62.8538 Q993.865 67.5124 999.779 67.5124 Q1005.69 67.5124 1009.1 62.8538 Q1012.5 58.1548 1012.5 49.9314 Q1012.5 41.7081 1009.1 37.0496 Q1005.69 32.3505 999.779 32.3505 Q993.865 32.3505 990.462 37.0496 Q987.1 41.7081 987.1 49.9314 Z\" fill=\"#000000\" fill-rule=\"evenodd\" fill-opacity=\"1\" /><path clip-path=\"url(#clip310)\" d=\"M1055.92 49.7694 Q1046.89 49.7694 1043.41 51.8354 Q1039.92 53.9013 1039.92 58.8839 Q1039.92 62.8538 1042.52 65.2034 Q1045.15 67.5124 1049.65 67.5124 Q1055.84 67.5124 1059.57 63.1374 Q1063.34 58.7219 1063.34 51.4303 L1063.34 49.7694 L1055.92 49.7694 M1070.79 46.6907 L1070.79 72.576 L1063.34 72.576 L1063.34 65.6895 Q1060.79 69.8214 1056.98 71.8063 Q1053.17 73.7508 1047.66 73.7508 Q1040.69 73.7508 1036.56 69.8619 Q1032.47 65.9325 1032.47 59.3701 Q1032.47 51.7138 1037.57 47.825 Q1042.72 43.9361 1052.89 43.9361 L1063.34 43.9361 L1063.34 43.2069 Q1063.34 38.0623 1059.93 35.2672 Q1056.57 32.4315 1050.46 32.4315 Q1046.57 32.4315 1042.88 33.3632 Q1039.19 34.295 1035.79 36.1584 L1035.79 29.2718 Q1039.88 27.692 1043.73 26.9223 Q1047.58 26.1121 1051.23 26.1121 Q1061.07 26.1121 1065.93 31.2163 Q1070.79 36.3204 1070.79 46.6907 Z\" fill=\"#000000\" fill-rule=\"evenodd\" fill-opacity=\"1\" /><path clip-path=\"url(#clip310)\" d=\"M1119.73 65.7705 L1119.73 89.8329 L1112.23 89.8329 L1112.23 27.2059 L1119.73 27.2059 L1119.73 34.0924 Q1122.08 30.0415 1125.64 28.0971 Q1129.25 26.1121 1134.23 26.1121 Q1142.49 26.1121 1147.64 32.6746 Q1152.82 39.2371 1152.82 49.9314 Q1152.82 60.6258 1147.64 67.1883 Q1142.49 73.7508 1134.23 73.7508 Q1129.25 73.7508 1125.64 71.8063 Q1122.08 69.8214 1119.73 65.7705 M1145.08 49.9314 Q1145.08 41.7081 1141.68 37.0496 Q1138.32 32.3505 1132.41 32.3505 Q1126.49 32.3505 1123.09 37.0496 Q1119.73 41.7081 1119.73 49.9314 Q1119.73 58.1548 1123.09 62.8538 Q1126.49 67.5124 1132.41 67.5124 Q1138.32 67.5124 1141.68 62.8538 Q1145.08 58.1548 1145.08 49.9314 Z\" fill=\"#000000\" fill-rule=\"evenodd\" fill-opacity=\"1\" /><path clip-path=\"url(#clip310)\" d=\"M1185.8 49.7694 Q1176.76 49.7694 1173.28 51.8354 Q1169.8 53.9013 1169.8 58.8839 Q1169.8 62.8538 1172.39 65.2034 Q1175.02 67.5124 1179.52 67.5124 Q1185.72 67.5124 1189.44 63.1374 Q1193.21 58.7219 1193.21 51.4303 L1193.21 49.7694 L1185.8 49.7694 M1200.66 46.6907 L1200.66 72.576 L1193.21 72.576 L1193.21 65.6895 Q1190.66 69.8214 1186.85 71.8063 Q1183.04 73.7508 1177.53 73.7508 Q1170.57 73.7508 1166.43 69.8619 Q1162.34 65.9325 1162.34 59.3701 Q1162.34 51.7138 1167.45 47.825 Q1172.59 43.9361 1182.76 43.9361 L1193.21 43.9361 L1193.21 43.2069 Q1193.21 38.0623 1189.81 35.2672 Q1186.44 32.4315 1180.33 32.4315 Q1176.44 32.4315 1172.75 33.3632 Q1169.07 34.295 1165.66 36.1584 L1165.66 29.2718 Q1169.75 27.692 1173.6 26.9223 Q1177.45 26.1121 1181.1 26.1121 Q1190.94 26.1121 1195.8 31.2163 Q1200.66 36.3204 1200.66 46.6907 Z\" fill=\"#000000\" fill-rule=\"evenodd\" fill-opacity=\"1\" /><path clip-path=\"url(#clip310)\" d=\"M1242.31 34.1734 Q1241.05 33.4443 1239.55 33.1202 Q1238.09 32.7556 1236.31 32.7556 Q1229.99 32.7556 1226.59 36.8875 Q1223.23 40.9789 1223.23 48.6757 L1223.23 72.576 L1215.73 72.576 L1215.73 27.2059 L1223.23 27.2059 L1223.23 34.2544 Q1225.58 30.1225 1229.34 28.1376 Q1233.11 26.1121 1238.5 26.1121 Q1239.27 26.1121 1240.2 26.2337 Q1241.13 26.3147 1242.27 26.5172 L1242.31 34.1734 Z\" fill=\"#000000\" fill-rule=\"evenodd\" fill-opacity=\"1\" /><path clip-path=\"url(#clip310)\" d=\"M1270.74 49.7694 Q1261.71 49.7694 1258.23 51.8354 Q1254.74 53.9013 1254.74 58.8839 Q1254.74 62.8538 1257.34 65.2034 Q1259.97 67.5124 1264.47 67.5124 Q1270.66 67.5124 1274.39 63.1374 Q1278.16 58.7219 1278.16 51.4303 L1278.16 49.7694 L1270.74 49.7694 M1285.61 46.6907 L1285.61 72.576 L1278.16 72.576 L1278.16 65.6895 Q1275.61 69.8214 1271.8 71.8063 Q1267.99 73.7508 1262.48 73.7508 Q1255.51 73.7508 1251.38 69.8619 Q1247.29 65.9325 1247.29 59.3701 Q1247.29 51.7138 1252.39 47.825 Q1257.54 43.9361 1267.71 43.9361 L1278.16 43.9361 L1278.16 43.2069 Q1278.16 38.0623 1274.75 35.2672 Q1271.39 32.4315 1265.28 32.4315 Q1261.39 32.4315 1257.7 33.3632 Q1254.01 34.295 1250.61 36.1584 L1250.61 29.2718 Q1254.7 27.692 1258.55 26.9223 Q1262.4 26.1121 1266.04 26.1121 Q1275.89 26.1121 1280.75 31.2163 Q1285.61 36.3204 1285.61 46.6907 Z\" fill=\"#000000\" fill-rule=\"evenodd\" fill-opacity=\"1\" /><path clip-path=\"url(#clip310)\" d=\"M1357.19 34.0924 L1357.19 9.54393 L1364.64 9.54393 L1364.64 72.576 L1357.19 72.576 L1357.19 65.7705 Q1354.84 69.8214 1351.24 71.8063 Q1347.67 73.7508 1342.65 73.7508 Q1334.42 73.7508 1329.24 67.1883 Q1324.09 60.6258 1324.09 49.9314 Q1324.09 39.2371 1329.24 32.6746 Q1334.42 26.1121 1342.65 26.1121 Q1347.67 26.1121 1351.24 28.0971 Q1354.84 30.0415 1357.19 34.0924 M1331.79 49.9314 Q1331.79 58.1548 1335.15 62.8538 Q1338.56 67.5124 1344.47 67.5124 Q1350.38 67.5124 1353.79 62.8538 Q1357.19 58.1548 1357.19 49.9314 Q1357.19 41.7081 1353.79 37.0496 Q1350.38 32.3505 1344.47 32.3505 Q1338.56 32.3505 1335.15 37.0496 Q1331.79 41.7081 1331.79 49.9314 Z\" fill=\"#000000\" fill-rule=\"evenodd\" fill-opacity=\"1\" /><path clip-path=\"url(#clip310)\" d=\"M1380 27.2059 L1387.45 27.2059 L1387.45 72.576 L1380 72.576 L1380 27.2059 M1380 9.54393 L1387.45 9.54393 L1387.45 18.9825 L1380 18.9825 L1380 9.54393 Z\" fill=\"#000000\" fill-rule=\"evenodd\" fill-opacity=\"1\" /><path clip-path=\"url(#clip310)\" d=\"M1426.02 9.54393 L1426.02 15.7418 L1418.89 15.7418 Q1414.88 15.7418 1413.3 17.3622 Q1411.76 18.9825 1411.76 23.1955 L1411.76 27.2059 L1424.03 27.2059 L1424.03 32.9987 L1411.76 32.9987 L1411.76 72.576 L1404.26 72.576 L1404.26 32.9987 L1397.13 32.9987 L1397.13 27.2059 L1404.26 27.2059 L1404.26 24.0462 Q1404.26 16.471 1407.79 13.0277 Q1411.31 9.54393 1418.97 9.54393 L1426.02 9.54393 Z\" fill=\"#000000\" fill-rule=\"evenodd\" fill-opacity=\"1\" /><path clip-path=\"url(#clip310)\" d=\"M1471.06 48.0275 L1471.06 51.6733 L1436.79 51.6733 Q1437.28 59.3701 1441.41 63.421 Q1445.58 67.4314 1452.99 67.4314 Q1457.29 67.4314 1461.3 66.3781 Q1465.35 65.3249 1469.32 63.2184 L1469.32 70.267 Q1465.31 71.9684 1461.1 72.8596 Q1456.88 73.7508 1452.55 73.7508 Q1441.69 73.7508 1435.33 67.4314 Q1429.01 61.1119 1429.01 50.3365 Q1429.01 39.1965 1435.01 32.6746 Q1441.04 26.1121 1451.25 26.1121 Q1460.41 26.1121 1465.71 32.0264 Q1471.06 37.9003 1471.06 48.0275 M1463.61 45.84 Q1463.53 39.7232 1460.16 36.0774 Q1456.84 32.4315 1451.33 32.4315 Q1445.09 32.4315 1441.33 35.9558 Q1437.6 39.4801 1437.03 45.8805 L1463.61 45.84 Z\" fill=\"#000000\" fill-rule=\"evenodd\" fill-opacity=\"1\" /><path clip-path=\"url(#clip310)\" d=\"M1509.59 34.1734 Q1508.33 33.4443 1506.83 33.1202 Q1505.37 32.7556 1503.59 32.7556 Q1497.27 32.7556 1493.87 36.8875 Q1490.51 40.9789 1490.51 48.6757 L1490.51 72.576 L1483.01 72.576 L1483.01 27.2059 L1490.51 27.2059 L1490.51 34.2544 Q1492.86 30.1225 1496.62 28.1376 Q1500.39 26.1121 1505.78 26.1121 Q1506.55 26.1121 1507.48 26.2337 Q1508.41 26.3147 1509.54 26.5172 L1509.59 34.1734 Z\" fill=\"#000000\" fill-rule=\"evenodd\" fill-opacity=\"1\" /><path clip-path=\"url(#clip310)\" d=\"M1554.39 48.0275 L1554.39 51.6733 L1520.12 51.6733 Q1520.6 59.3701 1524.74 63.421 Q1528.91 67.4314 1536.32 67.4314 Q1540.62 67.4314 1544.63 66.3781 Q1548.68 65.3249 1552.65 63.2184 L1552.65 70.267 Q1548.64 71.9684 1544.42 72.8596 Q1540.21 73.7508 1535.88 73.7508 Q1525.02 73.7508 1518.66 67.4314 Q1512.34 61.1119 1512.34 50.3365 Q1512.34 39.1965 1518.34 32.6746 Q1524.37 26.1121 1534.58 26.1121 Q1543.73 26.1121 1549.04 32.0264 Q1554.39 37.9003 1554.39 48.0275 M1546.93 45.84 Q1546.85 39.7232 1543.49 36.0774 Q1540.17 32.4315 1534.66 32.4315 Q1528.42 32.4315 1524.65 35.9558 Q1520.93 39.4801 1520.36 45.8805 L1546.93 45.84 Z\" fill=\"#000000\" fill-rule=\"evenodd\" fill-opacity=\"1\" /><path clip-path=\"url(#clip310)\" d=\"M1604.34 45.1919 L1604.34 72.576 L1596.88 72.576 L1596.88 45.4349 Q1596.88 38.994 1594.37 35.7938 Q1591.86 32.5936 1586.84 32.5936 Q1580.8 32.5936 1577.32 36.4419 Q1573.83 40.2903 1573.83 46.9338 L1573.83 72.576 L1566.34 72.576 L1566.34 27.2059 L1573.83 27.2059 L1573.83 34.2544 Q1576.51 30.163 1580.11 28.1376 Q1583.76 26.1121 1588.5 26.1121 Q1596.32 26.1121 1600.33 30.9732 Q1604.34 35.7938 1604.34 45.1919 Z\" fill=\"#000000\" fill-rule=\"evenodd\" fill-opacity=\"1\" /><path clip-path=\"url(#clip310)\" d=\"M1626.58 14.324 L1626.58 27.2059 L1641.93 27.2059 L1641.93 32.9987 L1626.58 32.9987 L1626.58 57.6282 Q1626.58 63.1779 1628.07 64.7578 Q1629.61 66.3376 1634.27 66.3376 L1641.93 66.3376 L1641.93 72.576 L1634.27 72.576 Q1625.64 72.576 1622.36 69.3758 Q1619.08 66.1351 1619.08 57.6282 L1619.08 32.9987 L1613.61 32.9987 L1613.61 27.2059 L1619.08 27.2059 L1619.08 14.324 L1626.58 14.324 Z\" fill=\"#000000\" fill-rule=\"evenodd\" fill-opacity=\"1\" /><path clip-path=\"url(#clip310)\" d=\"M1690.54 48.0275 L1690.54 51.6733 L1656.27 51.6733 Q1656.75 59.3701 1660.89 63.421 Q1665.06 67.4314 1672.47 67.4314 Q1676.77 67.4314 1680.78 66.3781 Q1684.83 65.3249 1688.8 63.2184 L1688.8 70.267 Q1684.79 71.9684 1680.57 72.8596 Q1676.36 73.7508 1672.03 73.7508 Q1661.17 73.7508 1654.81 67.4314 Q1648.49 61.1119 1648.49 50.3365 Q1648.49 39.1965 1654.49 32.6746 Q1660.52 26.1121 1670.73 26.1121 Q1679.89 26.1121 1685.19 32.0264 Q1690.54 37.9003 1690.54 48.0275 M1683.09 45.84 Q1683 39.7232 1679.64 36.0774 Q1676.32 32.4315 1670.81 32.4315 Q1664.57 32.4315 1660.81 35.9558 Q1657.08 39.4801 1656.51 45.8805 L1683.09 45.84 Z\" fill=\"#000000\" fill-rule=\"evenodd\" fill-opacity=\"1\" /><path clip-path=\"url(#clip310)\" d=\"M1731.7 28.5427 L1731.7 35.5912 Q1728.54 33.9709 1725.13 33.1607 Q1721.73 32.3505 1718.09 32.3505 Q1712.54 32.3505 1709.74 34.0519 Q1706.99 35.7533 1706.99 39.156 Q1706.99 41.7486 1708.97 43.2475 Q1710.96 44.7058 1716.95 46.0426 L1719.5 46.6097 Q1727.44 48.3111 1730.76 51.4303 Q1734.13 54.509 1734.13 60.0587 Q1734.13 66.3781 1729.1 70.0644 Q1724.12 73.7508 1715.37 73.7508 Q1711.73 73.7508 1707.76 73.0216 Q1703.83 72.3329 1699.45 70.9151 L1699.45 63.2184 Q1703.58 65.3654 1707.59 66.4591 Q1711.6 67.5124 1715.53 67.5124 Q1720.8 67.5124 1723.64 65.73 Q1726.47 63.9071 1726.47 60.6258 Q1726.47 57.5877 1724.4 55.9673 Q1722.38 54.3469 1715.45 52.8481 L1712.86 52.2405 Q1705.93 50.7821 1702.85 47.7845 Q1699.78 44.7463 1699.78 39.4801 Q1699.78 33.0797 1704.31 29.5959 Q1708.85 26.1121 1717.19 26.1121 Q1721.33 26.1121 1724.97 26.7198 Q1728.62 27.3274 1731.7 28.5427 Z\" fill=\"#000000\" fill-rule=\"evenodd\" fill-opacity=\"1\" /><path clip-path=\"url(#clip310)\" d=\"M1798.66 34.1734 Q1797.4 33.4443 1795.9 33.1202 Q1794.44 32.7556 1792.66 32.7556 Q1786.34 32.7556 1782.94 36.8875 Q1779.58 40.9789 1779.58 48.6757 L1779.58 72.576 L1772.08 72.576 L1772.08 27.2059 L1779.58 27.2059 L1779.58 34.2544 Q1781.93 30.1225 1785.69 28.1376 Q1789.46 26.1121 1794.85 26.1121 Q1795.62 26.1121 1796.55 26.2337 Q1797.48 26.3147 1798.62 26.5172 L1798.66 34.1734 Z\" fill=\"#000000\" fill-rule=\"evenodd\" fill-opacity=\"1\" /><path clip-path=\"url(#clip310)\" d=\"M1805.71 54.671 L1805.71 27.2059 L1813.16 27.2059 L1813.16 54.3874 Q1813.16 60.8284 1815.67 64.0691 Q1818.18 67.2693 1823.21 67.2693 Q1829.24 67.2693 1832.73 63.421 Q1836.25 59.5726 1836.25 52.9291 L1836.25 27.2059 L1843.7 27.2059 L1843.7 72.576 L1836.25 72.576 L1836.25 65.6084 Q1833.54 69.7404 1829.93 71.7658 Q1826.37 73.7508 1821.63 73.7508 Q1813.81 73.7508 1809.76 68.8897 Q1805.71 64.0286 1805.71 54.671 M1824.46 26.1121 L1824.46 26.1121 Z\" fill=\"#000000\" fill-rule=\"evenodd\" fill-opacity=\"1\" /><path clip-path=\"url(#clip310)\" d=\"M1888.91 49.3643 Q1888.91 41.2625 1885.55 36.8065 Q1882.23 32.3505 1876.19 32.3505 Q1870.2 32.3505 1866.83 36.8065 Q1863.51 41.2625 1863.51 49.3643 Q1863.51 57.4256 1866.83 61.8816 Q1870.2 66.3376 1876.19 66.3376 Q1882.23 66.3376 1885.55 61.8816 Q1888.91 57.4256 1888.91 49.3643 M1896.37 66.9452 Q1896.37 78.5308 1891.22 84.1616 Q1886.08 89.8329 1875.46 89.8329 Q1871.53 89.8329 1868.05 89.2252 Q1864.57 88.6581 1861.28 87.4428 L1861.28 80.1917 Q1864.57 81.9741 1867.77 82.8248 Q1870.97 83.6755 1874.29 83.6755 Q1881.62 83.6755 1885.27 79.8271 Q1888.91 76.0193 1888.91 68.282 L1888.91 64.5957 Q1886.6 68.6061 1883 70.5911 Q1879.39 72.576 1874.37 72.576 Q1866.02 72.576 1860.92 66.2161 Q1855.82 59.8562 1855.82 49.3643 Q1855.82 38.832 1860.92 32.472 Q1866.02 26.1121 1874.37 26.1121 Q1879.39 26.1121 1883 28.0971 Q1886.6 30.082 1888.91 34.0924 L1888.91 27.2059 L1896.37 27.2059 L1896.37 66.9452 Z\" fill=\"#000000\" fill-rule=\"evenodd\" fill-opacity=\"1\" /><path clip-path=\"url(#clip310)\" d=\"M1929.3 32.4315 Q1923.3 32.4315 1919.82 37.1306 Q1916.34 41.7891 1916.34 49.9314 Q1916.34 58.0738 1919.78 62.7728 Q1923.26 67.4314 1929.3 67.4314 Q1935.25 67.4314 1938.74 62.7323 Q1942.22 58.0333 1942.22 49.9314 Q1942.22 41.8701 1938.74 37.1711 Q1935.25 32.4315 1929.3 32.4315 M1929.3 26.1121 Q1939.02 26.1121 1944.57 32.4315 Q1950.12 38.7509 1950.12 49.9314 Q1950.12 61.0714 1944.57 67.4314 Q1939.02 73.7508 1929.3 73.7508 Q1919.54 73.7508 1913.99 67.4314 Q1908.48 61.0714 1908.48 49.9314 Q1908.48 38.7509 1913.99 32.4315 Q1919.54 26.1121 1929.3 26.1121 Z\" fill=\"#000000\" fill-rule=\"evenodd\" fill-opacity=\"1\" /><path clip-path=\"url(#clip310)\" d=\"M1991.4 28.5427 L1991.4 35.5912 Q1988.24 33.9709 1984.84 33.1607 Q1981.43 32.3505 1977.79 32.3505 Q1972.24 32.3505 1969.44 34.0519 Q1966.69 35.7533 1966.69 39.156 Q1966.69 41.7486 1968.67 43.2475 Q1970.66 44.7058 1976.65 46.0426 L1979.21 46.6097 Q1987.15 48.3111 1990.47 51.4303 Q1993.83 54.509 1993.83 60.0587 Q1993.83 66.3781 1988.81 70.0644 Q1983.82 73.7508 1975.07 73.7508 Q1971.43 73.7508 1967.46 73.0216 Q1963.53 72.3329 1959.15 70.9151 L1959.15 63.2184 Q1963.29 65.3654 1967.3 66.4591 Q1971.31 67.5124 1975.24 67.5124 Q1980.5 67.5124 1983.34 65.73 Q1986.17 63.9071 1986.17 60.6258 Q1986.17 57.5877 1984.11 55.9673 Q1982.08 54.3469 1975.16 52.8481 L1972.56 52.2405 Q1965.64 50.7821 1962.56 47.7845 Q1959.48 44.7463 1959.48 39.4801 Q1959.48 33.0797 1964.02 29.5959 Q1968.55 26.1121 1976.9 26.1121 Q1981.03 26.1121 1984.68 26.7198 Q1988.32 27.3274 1991.4 28.5427 Z\" fill=\"#000000\" fill-rule=\"evenodd\" fill-opacity=\"1\" /><path clip-path=\"url(#clip310)\" d=\"M2005.7 27.2059 L2013.15 27.2059 L2013.15 72.576 L2005.7 72.576 L2005.7 27.2059 M2005.7 9.54393 L2013.15 9.54393 L2013.15 18.9825 L2005.7 18.9825 L2005.7 9.54393 Z\" fill=\"#000000\" fill-rule=\"evenodd\" fill-opacity=\"1\" /><path clip-path=\"url(#clip310)\" d=\"M2058.6 34.0924 L2058.6 9.54393 L2066.06 9.54393 L2066.06 72.576 L2058.6 72.576 L2058.6 65.7705 Q2056.25 69.8214 2052.65 71.8063 Q2049.08 73.7508 2044.06 73.7508 Q2035.84 73.7508 2030.65 67.1883 Q2025.51 60.6258 2025.51 49.9314 Q2025.51 39.2371 2030.65 32.6746 Q2035.84 26.1121 2044.06 26.1121 Q2049.08 26.1121 2052.65 28.0971 Q2056.25 30.0415 2058.6 34.0924 M2033.21 49.9314 Q2033.21 58.1548 2036.57 62.8538 Q2039.97 67.5124 2045.88 67.5124 Q2051.8 67.5124 2055.2 62.8538 Q2058.6 58.1548 2058.6 49.9314 Q2058.6 41.7081 2055.2 37.0496 Q2051.8 32.3505 2045.88 32.3505 Q2039.97 32.3505 2036.57 37.0496 Q2033.21 41.7081 2033.21 49.9314 Z\" fill=\"#000000\" fill-rule=\"evenodd\" fill-opacity=\"1\" /><path clip-path=\"url(#clip310)\" d=\"M2102.03 49.7694 Q2093 49.7694 2089.51 51.8354 Q2086.03 53.9013 2086.03 58.8839 Q2086.03 62.8538 2088.62 65.2034 Q2091.25 67.5124 2095.75 67.5124 Q2101.95 67.5124 2105.68 63.1374 Q2109.44 58.7219 2109.44 51.4303 L2109.44 49.7694 L2102.03 49.7694 M2116.9 46.6907 L2116.9 72.576 L2109.44 72.576 L2109.44 65.6895 Q2106.89 69.8214 2103.08 71.8063 Q2099.28 73.7508 2093.77 73.7508 Q2086.8 73.7508 2082.67 69.8619 Q2078.58 65.9325 2078.58 59.3701 Q2078.58 51.7138 2083.68 47.825 Q2088.82 43.9361 2098.99 43.9361 L2109.44 43.9361 L2109.44 43.2069 Q2109.44 38.0623 2106.04 35.2672 Q2102.68 32.4315 2096.56 32.4315 Q2092.67 32.4315 2088.99 33.3632 Q2085.3 34.295 2081.9 36.1584 L2081.9 29.2718 Q2085.99 27.692 2089.84 26.9223 Q2093.69 26.1121 2097.33 26.1121 Q2107.17 26.1121 2112.04 31.2163 Q2116.9 36.3204 2116.9 46.6907 Z\" fill=\"#000000\" fill-rule=\"evenodd\" fill-opacity=\"1\" /><path clip-path=\"url(#clip310)\" d=\"M2162.11 34.0924 L2162.11 9.54393 L2169.56 9.54393 L2169.56 72.576 L2162.11 72.576 L2162.11 65.7705 Q2159.76 69.8214 2156.15 71.8063 Q2152.59 73.7508 2147.56 73.7508 Q2139.34 73.7508 2134.15 67.1883 Q2129.01 60.6258 2129.01 49.9314 Q2129.01 39.2371 2134.15 32.6746 Q2139.34 26.1121 2147.56 26.1121 Q2152.59 26.1121 2156.15 28.0971 Q2159.76 30.0415 2162.11 34.0924 M2136.71 49.9314 Q2136.71 58.1548 2140.07 62.8538 Q2143.47 67.5124 2149.39 67.5124 Q2155.3 67.5124 2158.7 62.8538 Q2162.11 58.1548 2162.11 49.9314 Q2162.11 41.7081 2158.7 37.0496 Q2155.3 32.3505 2149.39 32.3505 Q2143.47 32.3505 2140.07 37.0496 Q2136.71 41.7081 2136.71 49.9314 Z\" fill=\"#000000\" fill-rule=\"evenodd\" fill-opacity=\"1\" /><path clip-path=\"url(#clip310)\" d=\"M2223.72 48.0275 L2223.72 51.6733 L2189.45 51.6733 Q2189.93 59.3701 2194.07 63.421 Q2198.24 67.4314 2205.65 67.4314 Q2209.95 67.4314 2213.96 66.3781 Q2218.01 65.3249 2221.98 63.2184 L2221.98 70.267 Q2217.97 71.9684 2213.75 72.8596 Q2209.54 73.7508 2205.21 73.7508 Q2194.35 73.7508 2187.99 67.4314 Q2181.67 61.1119 2181.67 50.3365 Q2181.67 39.1965 2187.67 32.6746 Q2193.7 26.1121 2203.91 26.1121 Q2213.07 26.1121 2218.37 32.0264 Q2223.72 37.9003 2223.72 48.0275 M2216.27 45.84 Q2216.18 39.7232 2212.82 36.0774 Q2209.5 32.4315 2203.99 32.4315 Q2197.75 32.4315 2193.99 35.9558 Q2190.26 39.4801 2189.69 45.8805 L2216.27 45.84 Z\" fill=\"#000000\" fill-rule=\"evenodd\" fill-opacity=\"1\" /><path clip-path=\"url(#clip310)\" d=\"M2264.88 28.5427 L2264.88 35.5912 Q2261.72 33.9709 2258.31 33.1607 Q2254.91 32.3505 2251.27 32.3505 Q2245.72 32.3505 2242.92 34.0519 Q2240.17 35.7533 2240.17 39.156 Q2240.17 41.7486 2242.15 43.2475 Q2244.14 44.7058 2250.13 46.0426 L2252.68 46.6097 Q2260.62 48.3111 2263.94 51.4303 Q2267.31 54.509 2267.31 60.0587 Q2267.31 66.3781 2262.28 70.0644 Q2257.3 73.7508 2248.55 73.7508 Q2244.91 73.7508 2240.94 73.0216 Q2237.01 72.3329 2232.63 70.9151 L2232.63 63.2184 Q2236.76 65.3654 2240.77 66.4591 Q2244.78 67.5124 2248.71 67.5124 Q2253.98 67.5124 2256.82 65.73 Q2259.65 63.9071 2259.65 60.6258 Q2259.65 57.5877 2257.58 55.9673 Q2255.56 54.3469 2248.63 52.8481 L2246.04 52.2405 Q2239.11 50.7821 2236.03 47.7845 Q2232.96 44.7463 2232.96 39.4801 Q2232.96 33.0797 2237.49 29.5959 Q2242.03 26.1121 2250.37 26.1121 Q2254.51 26.1121 2258.15 26.7198 Q2261.8 27.3274 2264.88 28.5427 Z\" fill=\"#000000\" fill-rule=\"evenodd\" fill-opacity=\"1\" /><polyline clip-path=\"url(#clip312)\" style=\"stroke:#009af9; stroke-linecap:butt; stroke-linejoin:round; stroke-width:4; stroke-opacity:1; fill:none\" points=\"\n",
       "  237.067,1272.66 465.297,1319.54 693.526,1345.66 921.756,1361.02 1149.99,1370.47 1378.22,1376.5 1606.45,1380.48 1834.67,1383.18 2062.9,1385.06 2291.13,1386.4 \n",
       "  \n",
       "  \"/>\n",
       "<polyline clip-path=\"url(#clip312)\" style=\"stroke:#e26f46; stroke-linecap:butt; stroke-linejoin:round; stroke-width:4; stroke-opacity:1; fill:none\" points=\"\n",
       "  237.067,587.024 465.297,942.564 693.526,1126.11 921.756,1226.95 1149.99,1285.28 1378.22,1320.52 1606.45,1342.61 1834.67,1356.91 2062.9,1366.42 2291.13,1372.92 \n",
       "  \n",
       "  \"/>\n",
       "<polyline clip-path=\"url(#clip312)\" style=\"stroke:#3da44d; stroke-linecap:butt; stroke-linejoin:round; stroke-width:4; stroke-opacity:1; fill:none\" points=\"\n",
       "  237.067,160.256 465.297,713.812 693.526,995.64 921.756,1148.65 1149.99,1236.25 1378.22,1288.69 1606.45,1321.3 1834.67,1342.25 2062.9,1356.1 2291.13,1365.5 \n",
       "  \n",
       "  \"/>\n",
       "<path clip-path=\"url(#clip310)\" d=\"\n",
       "M1774.48 374.156 L2280.18 374.156 L2280.18 166.796 L1774.48 166.796  Z\n",
       "  \" fill=\"#ffffff\" fill-rule=\"evenodd\" fill-opacity=\"1\"/>\n",
       "<polyline clip-path=\"url(#clip310)\" style=\"stroke:#000000; stroke-linecap:butt; stroke-linejoin:round; stroke-width:4; stroke-opacity:1; fill:none\" points=\"\n",
       "  1774.48,374.156 2280.18,374.156 2280.18,166.796 1774.48,166.796 1774.48,374.156 \n",
       "  \"/>\n",
       "<polyline clip-path=\"url(#clip310)\" style=\"stroke:#009af9; stroke-linecap:butt; stroke-linejoin:round; stroke-width:4; stroke-opacity:1; fill:none\" points=\"\n",
       "  1798.68,218.636 1943.83,218.636 \n",
       "  \"/>\n",
       "<path clip-path=\"url(#clip310)\" d=\"M1968.02 201.356 L1997.26 201.356 L1997.26 205.291 L1984.99 205.291 L1984.99 235.916 L1980.29 235.916 L1980.29 205.291 L1968.02 205.291 L1968.02 201.356 Z\" fill=\"#000000\" fill-rule=\"evenodd\" fill-opacity=\"1\" /><path clip-path=\"url(#clip310)\" d=\"M1993.95 225.684 L1993.95 209.99 L1998.21 209.99 L1998.21 225.522 Q1998.21 229.203 1999.64 231.055 Q2001.08 232.883 2003.95 232.883 Q2007.4 232.883 2009.39 230.684 Q2011.4 228.485 2011.4 224.689 L2011.4 209.99 L2015.66 209.99 L2015.66 235.916 L2011.4 235.916 L2011.4 231.934 Q2009.85 234.295 2007.79 235.453 Q2005.75 236.587 2003.05 236.587 Q1998.58 236.587 1996.26 233.809 Q1993.95 231.031 1993.95 225.684 M2004.67 209.365 L2004.67 209.365 Z\" fill=\"#000000\" fill-rule=\"evenodd\" fill-opacity=\"1\" /><path clip-path=\"url(#clip310)\" d=\"M2043.05 222.976 Q2043.05 218.277 2041.1 215.615 Q2039.18 212.93 2035.8 212.93 Q2032.42 212.93 2030.48 215.615 Q2028.55 218.277 2028.55 222.976 Q2028.55 227.675 2030.48 230.36 Q2032.42 233.022 2035.8 233.022 Q2039.18 233.022 2041.1 230.36 Q2043.05 227.675 2043.05 222.976 M2028.55 213.925 Q2029.9 211.61 2031.93 210.499 Q2033.99 209.365 2036.84 209.365 Q2041.56 209.365 2044.5 213.115 Q2047.47 216.865 2047.47 222.976 Q2047.47 229.087 2044.5 232.837 Q2041.56 236.587 2036.84 236.587 Q2033.99 236.587 2031.93 235.476 Q2029.9 234.342 2028.55 232.027 L2028.55 235.916 L2024.27 235.916 L2024.27 199.897 L2028.55 199.897 L2028.55 213.925 Z\" fill=\"#000000\" fill-rule=\"evenodd\" fill-opacity=\"1\" /><path clip-path=\"url(#clip310)\" d=\"M2076.7 221.888 L2076.7 223.971 L2057.12 223.971 Q2057.4 228.369 2059.76 230.684 Q2062.14 232.976 2066.38 232.976 Q2068.83 232.976 2071.12 232.374 Q2073.44 231.772 2075.71 230.569 L2075.71 234.596 Q2073.42 235.568 2071.01 236.078 Q2068.6 236.587 2066.12 236.587 Q2059.92 236.587 2056.29 232.976 Q2052.67 229.365 2052.67 223.207 Q2052.67 216.842 2056.1 213.115 Q2059.55 209.365 2065.38 209.365 Q2070.61 209.365 2073.65 212.745 Q2076.7 216.101 2076.7 221.888 M2072.44 220.638 Q2072.4 217.143 2070.48 215.059 Q2068.58 212.976 2065.43 212.976 Q2061.86 212.976 2059.71 214.99 Q2057.58 217.004 2057.26 220.661 L2072.44 220.638 Z\" fill=\"#000000\" fill-rule=\"evenodd\" fill-opacity=\"1\" /><path clip-path=\"url(#clip310)\" d=\"M2098.72 213.971 Q2098 213.555 2097.14 213.37 Q2096.31 213.161 2095.29 213.161 Q2091.68 213.161 2089.73 215.522 Q2087.81 217.86 2087.81 222.258 L2087.81 235.916 L2083.53 235.916 L2083.53 209.99 L2087.81 209.99 L2087.81 214.018 Q2089.16 211.657 2091.31 210.522 Q2093.46 209.365 2096.54 209.365 Q2096.98 209.365 2097.51 209.434 Q2098.04 209.481 2098.69 209.596 L2098.72 213.971 Z\" fill=\"#000000\" fill-rule=\"evenodd\" fill-opacity=\"1\" /><path clip-path=\"url(#clip310)\" d=\"M2103.18 209.99 L2107.44 209.99 L2107.44 235.916 L2103.18 235.916 L2103.18 209.99 M2103.18 199.897 L2107.44 199.897 L2107.44 205.291 L2103.18 205.291 L2103.18 199.897 Z\" fill=\"#000000\" fill-rule=\"evenodd\" fill-opacity=\"1\" /><path clip-path=\"url(#clip310)\" d=\"M2128.14 222.883 Q2122.98 222.883 2120.98 224.064 Q2118.99 225.244 2118.99 228.092 Q2118.99 230.36 2120.48 231.703 Q2121.98 233.022 2124.55 233.022 Q2128.09 233.022 2130.22 230.522 Q2132.37 227.999 2132.37 223.832 L2132.37 222.883 L2128.14 222.883 M2136.63 221.124 L2136.63 235.916 L2132.37 235.916 L2132.37 231.981 Q2130.92 234.342 2128.74 235.476 Q2126.56 236.587 2123.42 236.587 Q2119.43 236.587 2117.07 234.365 Q2114.73 232.119 2114.73 228.369 Q2114.73 223.994 2117.65 221.772 Q2120.59 219.55 2126.4 219.55 L2132.37 219.55 L2132.37 219.133 Q2132.37 216.194 2130.43 214.596 Q2128.51 212.976 2125.01 212.976 Q2122.79 212.976 2120.68 213.508 Q2118.58 214.041 2116.63 215.106 L2116.63 211.17 Q2118.97 210.268 2121.17 209.828 Q2123.37 209.365 2125.45 209.365 Q2131.08 209.365 2133.85 212.282 Q2136.63 215.198 2136.63 221.124 Z\" fill=\"#000000\" fill-rule=\"evenodd\" fill-opacity=\"1\" /><path clip-path=\"url(#clip310)\" d=\"M2160.48 199.897 L2164.73 199.897 L2164.73 235.916 L2160.48 235.916 L2160.48 199.897 Z\" fill=\"#000000\" fill-rule=\"evenodd\" fill-opacity=\"1\" /><path clip-path=\"url(#clip310)\" d=\"M2173.65 209.99 L2177.91 209.99 L2177.91 235.916 L2173.65 235.916 L2173.65 209.99 M2173.65 199.897 L2177.91 199.897 L2177.91 205.291 L2173.65 205.291 L2173.65 199.897 Z\" fill=\"#000000\" fill-rule=\"evenodd\" fill-opacity=\"1\" /><path clip-path=\"url(#clip310)\" d=\"M2203.35 210.754 L2203.35 214.782 Q2201.54 213.856 2199.6 213.393 Q2197.65 212.93 2195.57 212.93 Q2192.4 212.93 2190.8 213.902 Q2189.22 214.874 2189.22 216.819 Q2189.22 218.3 2190.36 219.157 Q2191.49 219.99 2194.92 220.754 L2196.38 221.078 Q2200.91 222.05 2202.81 223.832 Q2204.73 225.592 2204.73 228.763 Q2204.73 232.374 2201.86 234.481 Q2199.02 236.587 2194.02 236.587 Q2191.93 236.587 2189.66 236.17 Q2187.42 235.777 2184.92 234.967 L2184.92 230.569 Q2187.28 231.795 2189.57 232.42 Q2191.86 233.022 2194.11 233.022 Q2197.12 233.022 2198.74 232.004 Q2200.36 230.962 2200.36 229.087 Q2200.36 227.351 2199.18 226.425 Q2198.02 225.499 2194.06 224.643 L2192.58 224.295 Q2188.62 223.462 2186.86 221.749 Q2185.1 220.013 2185.1 217.004 Q2185.1 213.346 2187.7 211.356 Q2190.29 209.365 2195.06 209.365 Q2197.42 209.365 2199.5 209.712 Q2201.59 210.059 2203.35 210.754 Z\" fill=\"#000000\" fill-rule=\"evenodd\" fill-opacity=\"1\" /><path clip-path=\"url(#clip310)\" d=\"M2223.3 222.883 Q2218.14 222.883 2216.15 224.064 Q2214.16 225.244 2214.16 228.092 Q2214.16 230.36 2215.64 231.703 Q2217.14 233.022 2219.71 233.022 Q2223.25 233.022 2225.38 230.522 Q2227.53 227.999 2227.53 223.832 L2227.53 222.883 L2223.3 222.883 M2231.79 221.124 L2231.79 235.916 L2227.53 235.916 L2227.53 231.981 Q2226.08 234.342 2223.9 235.476 Q2221.72 236.587 2218.58 236.587 Q2214.6 236.587 2212.23 234.365 Q2209.9 232.119 2209.9 228.369 Q2209.9 223.994 2212.81 221.772 Q2215.75 219.55 2221.56 219.55 L2227.53 219.55 L2227.53 219.133 Q2227.53 216.194 2225.59 214.596 Q2223.67 212.976 2220.17 212.976 Q2217.95 212.976 2215.85 213.508 Q2213.74 214.041 2211.79 215.106 L2211.79 211.17 Q2214.13 210.268 2216.33 209.828 Q2218.53 209.365 2220.61 209.365 Q2226.24 209.365 2229.02 212.282 Q2231.79 215.198 2231.79 221.124 Z\" fill=\"#000000\" fill-rule=\"evenodd\" fill-opacity=\"1\" /><polyline clip-path=\"url(#clip310)\" style=\"stroke:#e26f46; stroke-linecap:butt; stroke-linejoin:round; stroke-width:4; stroke-opacity:1; fill:none\" points=\"\n",
       "  1798.68,270.476 1943.83,270.476 \n",
       "  \"/>\n",
       "<path clip-path=\"url(#clip310)\" d=\"M1988.18 265.95 Q1987.33 265.649 1986.47 265.418 Q1984.18 264.816 1981.73 264.816 Q1977.49 264.816 1975.13 267.108 Q1972.93 269.237 1972.51 273.149 L1988.18 273.149 L1988.18 276.483 L1972.51 276.483 Q1972.93 280.395 1975.13 282.524 Q1977.49 284.816 1981.73 284.816 Q1984.69 284.816 1986.47 284.214 L1988.18 283.635 L1988.18 287.501 L1986.36 287.918 Q1983.95 288.427 1981.47 288.427 Q1975.27 288.427 1971.66 284.816 Q1968.02 281.205 1968.02 274.816 Q1968.02 268.427 1971.66 264.816 Q1975.27 261.205 1981.47 261.205 Q1983.81 261.205 1986.36 261.714 Q1987.28 261.899 1988.18 262.177 L1988.18 265.95 Z\" fill=\"#000000\" fill-rule=\"evenodd\" fill-opacity=\"1\" /><path clip-path=\"url(#clip310)\" d=\"M2014.67 266.228 L2044.34 266.228 L2044.34 270.117 L2014.67 270.117 L2014.67 266.228 M2014.67 275.672 L2044.34 275.672 L2044.34 279.608 L2014.67 279.608 L2014.67 275.672 Z\" fill=\"#000000\" fill-rule=\"evenodd\" fill-opacity=\"1\" /><path clip-path=\"url(#clip310)\" d=\"M2079.5 256.274 Q2075.89 256.274 2074.06 259.839 Q2072.26 263.381 2072.26 270.51 Q2072.26 277.617 2074.06 281.182 Q2075.89 284.723 2079.5 284.723 Q2083.14 284.723 2084.94 281.182 Q2086.77 277.617 2086.77 270.51 Q2086.77 263.381 2084.94 259.839 Q2083.14 256.274 2079.5 256.274 M2079.5 252.571 Q2085.31 252.571 2088.37 257.177 Q2091.45 261.76 2091.45 270.51 Q2091.45 279.237 2088.37 283.844 Q2085.31 288.427 2079.5 288.427 Q2073.69 288.427 2070.61 283.844 Q2067.56 279.237 2067.56 270.51 Q2067.56 261.76 2070.61 257.177 Q2073.69 252.571 2079.5 252.571 Z\" fill=\"#000000\" fill-rule=\"evenodd\" fill-opacity=\"1\" /><path clip-path=\"url(#clip310)\" d=\"M2099.67 281.876 L2104.55 281.876 L2104.55 287.756 L2099.67 287.756 L2099.67 281.876 Z\" fill=\"#000000\" fill-rule=\"evenodd\" fill-opacity=\"1\" /><path clip-path=\"url(#clip310)\" d=\"M2124.73 256.274 Q2121.12 256.274 2119.29 259.839 Q2117.49 263.381 2117.49 270.51 Q2117.49 277.617 2119.29 281.182 Q2121.12 284.723 2124.73 284.723 Q2128.37 284.723 2130.17 281.182 Q2132 277.617 2132 270.51 Q2132 263.381 2130.17 259.839 Q2128.37 256.274 2124.73 256.274 M2124.73 252.571 Q2130.54 252.571 2133.6 257.177 Q2136.68 261.76 2136.68 270.51 Q2136.68 279.237 2133.6 283.844 Q2130.54 288.427 2124.73 288.427 Q2118.92 288.427 2115.85 283.844 Q2112.79 279.237 2112.79 270.51 Q2112.79 261.76 2115.85 257.177 Q2118.92 252.571 2124.73 252.571 Z\" fill=\"#000000\" fill-rule=\"evenodd\" fill-opacity=\"1\" /><path clip-path=\"url(#clip310)\" d=\"M2145.71 283.821 L2153.35 283.821 L2153.35 257.455 L2145.04 259.122 L2145.04 254.862 L2153.3 253.196 L2157.98 253.196 L2157.98 283.821 L2165.61 283.821 L2165.61 287.756 L2145.71 287.756 L2145.71 283.821 Z\" fill=\"#000000\" fill-rule=\"evenodd\" fill-opacity=\"1\" /><polyline clip-path=\"url(#clip310)\" style=\"stroke:#3da44d; stroke-linecap:butt; stroke-linejoin:round; stroke-width:4; stroke-opacity:1; fill:none\" points=\"\n",
       "  1798.68,322.316 1943.83,322.316 \n",
       "  \"/>\n",
       "<path clip-path=\"url(#clip310)\" d=\"M1988.18 317.79 Q1987.33 317.489 1986.47 317.258 Q1984.18 316.656 1981.73 316.656 Q1977.49 316.656 1975.13 318.948 Q1972.93 321.077 1972.51 324.989 L1988.18 324.989 L1988.18 328.323 L1972.51 328.323 Q1972.93 332.235 1975.13 334.364 Q1977.49 336.656 1981.73 336.656 Q1984.69 336.656 1986.47 336.054 L1988.18 335.475 L1988.18 339.341 L1986.36 339.758 Q1983.95 340.267 1981.47 340.267 Q1975.27 340.267 1971.66 336.656 Q1968.02 333.045 1968.02 326.656 Q1968.02 320.267 1971.66 316.656 Q1975.27 313.045 1981.47 313.045 Q1983.81 313.045 1986.36 313.554 Q1987.28 313.739 1988.18 314.017 L1988.18 317.79 Z\" fill=\"#000000\" fill-rule=\"evenodd\" fill-opacity=\"1\" /><path clip-path=\"url(#clip310)\" d=\"M2014.67 318.068 L2044.34 318.068 L2044.34 321.957 L2014.67 321.957 L2014.67 318.068 M2014.67 327.512 L2044.34 327.512 L2044.34 331.448 L2014.67 331.448 L2014.67 327.512 Z\" fill=\"#000000\" fill-rule=\"evenodd\" fill-opacity=\"1\" /><path clip-path=\"url(#clip310)\" d=\"M2079.5 308.114 Q2075.89 308.114 2074.06 311.679 Q2072.26 315.221 2072.26 322.35 Q2072.26 329.457 2074.06 333.022 Q2075.89 336.563 2079.5 336.563 Q2083.14 336.563 2084.94 333.022 Q2086.77 329.457 2086.77 322.35 Q2086.77 315.221 2084.94 311.679 Q2083.14 308.114 2079.5 308.114 M2079.5 304.411 Q2085.31 304.411 2088.37 309.017 Q2091.45 313.6 2091.45 322.35 Q2091.45 331.077 2088.37 335.684 Q2085.31 340.267 2079.5 340.267 Q2073.69 340.267 2070.61 335.684 Q2067.56 331.077 2067.56 322.35 Q2067.56 313.6 2070.61 309.017 Q2073.69 304.411 2079.5 304.411 Z\" fill=\"#000000\" fill-rule=\"evenodd\" fill-opacity=\"1\" /><path clip-path=\"url(#clip310)\" d=\"M2099.67 333.716 L2104.55 333.716 L2104.55 339.596 L2099.67 339.596 L2099.67 333.716 Z\" fill=\"#000000\" fill-rule=\"evenodd\" fill-opacity=\"1\" /><path clip-path=\"url(#clip310)\" d=\"M2124.73 308.114 Q2121.12 308.114 2119.29 311.679 Q2117.49 315.221 2117.49 322.35 Q2117.49 329.457 2119.29 333.022 Q2121.12 336.563 2124.73 336.563 Q2128.37 336.563 2130.17 333.022 Q2132 329.457 2132 322.35 Q2132 315.221 2130.17 311.679 Q2128.37 308.114 2124.73 308.114 M2124.73 304.411 Q2130.54 304.411 2133.6 309.017 Q2136.68 313.6 2136.68 322.35 Q2136.68 331.077 2133.6 335.684 Q2130.54 340.267 2124.73 340.267 Q2118.92 340.267 2115.85 335.684 Q2112.79 331.077 2112.79 322.35 Q2112.79 313.6 2115.85 309.017 Q2118.92 304.411 2124.73 304.411 Z\" fill=\"#000000\" fill-rule=\"evenodd\" fill-opacity=\"1\" /><path clip-path=\"url(#clip310)\" d=\"M2148.92 335.661 L2165.24 335.661 L2165.24 339.596 L2143.3 339.596 L2143.3 335.661 Q2145.96 332.906 2150.54 328.276 Q2155.15 323.624 2156.33 322.281 Q2158.58 319.758 2159.46 318.022 Q2160.36 316.263 2160.36 314.573 Q2160.36 311.818 2158.41 310.082 Q2156.49 308.346 2153.39 308.346 Q2151.19 308.346 2148.74 309.11 Q2146.31 309.874 2143.53 311.425 L2143.53 306.702 Q2146.35 305.568 2148.81 304.989 Q2151.26 304.411 2153.3 304.411 Q2158.67 304.411 2161.86 307.096 Q2165.06 309.781 2165.06 314.272 Q2165.06 316.401 2164.25 318.323 Q2163.46 320.221 2161.35 322.813 Q2160.78 323.485 2157.67 326.702 Q2154.57 329.897 2148.92 335.661 Z\" fill=\"#000000\" fill-rule=\"evenodd\" fill-opacity=\"1\" /></svg>\n"
      ]
     },
     "execution_count": 10,
     "metadata": {},
     "output_type": "execute_result"
    }
   ],
   "source": [
    "cabeza_perdidas()"
   ]
  }
 ],
 "metadata": {
  "kernelspec": {
   "display_name": "Julia 1.7.2",
   "language": "julia",
   "name": "julia-1.7"
  },
  "language_info": {
   "file_extension": ".jl",
   "mimetype": "application/julia",
   "name": "julia",
   "version": "1.7.2"
  }
 },
 "nbformat": 4,
 "nbformat_minor": 5
}
